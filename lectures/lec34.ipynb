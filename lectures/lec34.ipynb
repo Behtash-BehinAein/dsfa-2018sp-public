{
 "cells": [
  {
   "cell_type": "markdown",
   "metadata": {},
   "source": [
    "# Lecture 34: Classification"
   ]
  },
  {
   "cell_type": "code",
   "execution_count": 1,
   "metadata": {},
   "outputs": [],
   "source": [
    "from datascience import *\n",
    "import numpy as np\n",
    "\n",
    "import matplotlib.pyplot as plots\n",
    "plots.style.use('fivethirtyeight')\n",
    "%matplotlib inline\n",
    "np.set_printoptions(legacy='1.13')"
   ]
  },
  {
   "cell_type": "markdown",
   "metadata": {},
   "source": [
    "## Chronic kidney disease"
   ]
  },
  {
   "cell_type": "code",
   "execution_count": 2,
   "metadata": {},
   "outputs": [
    {
     "data": {
      "text/html": [
       "<table border=\"1\" class=\"dataframe\">\n",
       "    <thead>\n",
       "        <tr>\n",
       "            <th>Age</th> <th>Blood Pressure</th> <th>Specific Gravity</th> <th>Albumin</th> <th>Sugar</th> <th>Red Blood Cells</th> <th>Pus Cell</th> <th>Pus Cell clumps</th> <th>Bacteria</th> <th>Glucose</th> <th>Blood Urea</th> <th>Serum Creatinine</th> <th>Sodium</th> <th>Potassium</th> <th>Hemoglobin</th> <th>Packed Cell Volume</th> <th>White Blood Cell Count</th> <th>Red Blood Cell Count</th> <th>Hypertension</th> <th>Diabetes Mellitus</th> <th>Coronary Artery Disease</th> <th>Appetite</th> <th>Pedal Edema</th> <th>Anemia</th> <th>Class</th>\n",
       "        </tr>\n",
       "    </thead>\n",
       "    <tbody>\n",
       "        <tr>\n",
       "            <td>48  </td> <td>70            </td> <td>1.005           </td> <td>4      </td> <td>0    </td> <td>normal         </td> <td>abnormal</td> <td>present        </td> <td>notpresent</td> <td>117    </td> <td>56        </td> <td>3.8             </td> <td>111   </td> <td>2.5      </td> <td>11.2      </td> <td>32                </td> <td>6700                  </td> <td>3.9                 </td> <td>yes         </td> <td>no               </td> <td>no                     </td> <td>poor    </td> <td>yes        </td> <td>yes   </td> <td>ckd  </td>\n",
       "        </tr>\n",
       "    </tbody>\n",
       "        <tr>\n",
       "            <td>53  </td> <td>90            </td> <td>1.02            </td> <td>2      </td> <td>0    </td> <td>abnormal       </td> <td>abnormal</td> <td>present        </td> <td>notpresent</td> <td>70     </td> <td>107       </td> <td>7.2             </td> <td>114   </td> <td>3.7      </td> <td>9.5       </td> <td>29                </td> <td>12100                 </td> <td>3.7                 </td> <td>yes         </td> <td>yes              </td> <td>no                     </td> <td>poor    </td> <td>no         </td> <td>yes   </td> <td>ckd  </td>\n",
       "        </tr>\n",
       "    </tbody>\n",
       "        <tr>\n",
       "            <td>63  </td> <td>70            </td> <td>1.01            </td> <td>3      </td> <td>0    </td> <td>abnormal       </td> <td>abnormal</td> <td>present        </td> <td>notpresent</td> <td>380    </td> <td>60        </td> <td>2.7             </td> <td>131   </td> <td>4.2      </td> <td>10.8      </td> <td>32                </td> <td>4500                  </td> <td>3.8                 </td> <td>yes         </td> <td>yes              </td> <td>no                     </td> <td>poor    </td> <td>yes        </td> <td>no    </td> <td>ckd  </td>\n",
       "        </tr>\n",
       "    </tbody>\n",
       "</table>\n",
       "<p>... (155 rows omitted)</p>"
      ],
      "text/plain": [
       "<IPython.core.display.HTML object>"
      ]
     },
     "metadata": {},
     "output_type": "display_data"
    }
   ],
   "source": [
    "# Source: https://archive.ics.uci.edu/ml/datasets/chronic_kidney_disease\n",
    "ckd = Table.read_table('ckd.csv').relabeled('Blood Glucose Random', 'Glucose')\n",
    "    \n",
    "def ckd_label(number):\n",
    "    if number == 0:\n",
    "        return \"notckd\"\n",
    "    elif number == 1:\n",
    "        return \"ckd\"\n",
    "    else:\n",
    "        return \"unknown\"\n",
    "  \n",
    "ckd = ckd.with_column(\n",
    "    'Class', ckd.apply(ckd_label, 'Class')\n",
    ")    \n",
    "ckd.show(3)"
   ]
  },
  {
   "cell_type": "code",
   "execution_count": 3,
   "metadata": {},
   "outputs": [
    {
     "data": {
      "text/html": [
       "<table border=\"1\" class=\"dataframe\">\n",
       "    <thead>\n",
       "        <tr>\n",
       "            <th>Class</th> <th>count</th>\n",
       "        </tr>\n",
       "    </thead>\n",
       "    <tbody>\n",
       "        <tr>\n",
       "            <td>ckd   </td> <td>43   </td>\n",
       "        </tr>\n",
       "    </tbody>\n",
       "        <tr>\n",
       "            <td>notckd</td> <td>115  </td>\n",
       "        </tr>\n",
       "    </tbody>\n",
       "</table>"
      ],
      "text/plain": [
       "Class  | count\n",
       "ckd    | 43\n",
       "notckd | 115"
      ]
     },
     "execution_count": 3,
     "metadata": {},
     "output_type": "execute_result"
    }
   ],
   "source": [
    "ckd.group('Class')"
   ]
  },
  {
   "cell_type": "code",
   "execution_count": 4,
   "metadata": {},
   "outputs": [
    {
     "data": {
      "image/png": "[encoded data removed]",
      "text/plain": [
       "<matplotlib.figure.Figure at 0x11577e780>"
      ]
     },
     "metadata": {},
     "output_type": "display_data"
    }
   ],
   "source": [
    "ckd.scatter('White Blood Cell Count', 'Glucose', colors='Class')"
   ]
  },
  {
   "cell_type": "markdown",
   "metadata": {},
   "source": [
    "**Q:** As a human, how would you classify based on Glucose and White Blood Cell Count? \n",
    "\n",
    "<br/><br/><br/><br/><br/>"
   ]
  },
  {
   "cell_type": "code",
   "execution_count": 5,
   "metadata": {},
   "outputs": [],
   "source": [
    "def my_classifier(wbc, glc):\n",
    "    if wbc <= 12000 and glc <= 140:\n",
    "        return 'notckd'\n",
    "    else:\n",
    "        return 'ckd'"
   ]
  },
  {
   "cell_type": "code",
   "execution_count": 6,
   "metadata": {},
   "outputs": [
    {
     "data": {
      "text/plain": [
       "'notckd'"
      ]
     },
     "execution_count": 6,
     "metadata": {},
     "output_type": "execute_result"
    }
   ],
   "source": [
    "my_classifier(8000, 100)"
   ]
  },
  {
   "cell_type": "code",
   "execution_count": 7,
   "metadata": {},
   "outputs": [
    {
     "data": {
      "text/html": [
       "<table border=\"1\" class=\"dataframe\">\n",
       "    <thead>\n",
       "        <tr>\n",
       "            <th>Age</th> <th>Blood Pressure</th> <th>Specific Gravity</th> <th>Albumin</th> <th>Sugar</th> <th>Red Blood Cells</th> <th>Pus Cell</th> <th>Pus Cell clumps</th> <th>Bacteria</th> <th>Glucose</th> <th>Blood Urea</th> <th>Serum Creatinine</th> <th>Sodium</th> <th>Potassium</th> <th>Hemoglobin</th> <th>Packed Cell Volume</th> <th>White Blood Cell Count</th> <th>Red Blood Cell Count</th> <th>Hypertension</th> <th>Diabetes Mellitus</th> <th>Coronary Artery Disease</th> <th>Appetite</th> <th>Pedal Edema</th> <th>Anemia</th> <th>Class</th> <th>My Class</th>\n",
       "        </tr>\n",
       "    </thead>\n",
       "    <tbody>\n",
       "        <tr>\n",
       "            <td>48  </td> <td>70            </td> <td>1.005           </td> <td>4      </td> <td>0    </td> <td>normal         </td> <td>abnormal</td> <td>present        </td> <td>notpresent</td> <td>117    </td> <td>56        </td> <td>3.8             </td> <td>111   </td> <td>2.5      </td> <td>11.2      </td> <td>32                </td> <td>6700                  </td> <td>3.9                 </td> <td>yes         </td> <td>no               </td> <td>no                     </td> <td>poor    </td> <td>yes        </td> <td>yes   </td> <td>ckd  </td> <td>notckd  </td>\n",
       "        </tr>\n",
       "    </tbody>\n",
       "        <tr>\n",
       "            <td>53  </td> <td>90            </td> <td>1.02            </td> <td>2      </td> <td>0    </td> <td>abnormal       </td> <td>abnormal</td> <td>present        </td> <td>notpresent</td> <td>70     </td> <td>107       </td> <td>7.2             </td> <td>114   </td> <td>3.7      </td> <td>9.5       </td> <td>29                </td> <td>12100                 </td> <td>3.7                 </td> <td>yes         </td> <td>yes              </td> <td>no                     </td> <td>poor    </td> <td>no         </td> <td>yes   </td> <td>ckd  </td> <td>ckd     </td>\n",
       "        </tr>\n",
       "    </tbody>\n",
       "        <tr>\n",
       "            <td>63  </td> <td>70            </td> <td>1.01            </td> <td>3      </td> <td>0    </td> <td>abnormal       </td> <td>abnormal</td> <td>present        </td> <td>notpresent</td> <td>380    </td> <td>60        </td> <td>2.7             </td> <td>131   </td> <td>4.2      </td> <td>10.8      </td> <td>32                </td> <td>4500                  </td> <td>3.8                 </td> <td>yes         </td> <td>yes              </td> <td>no                     </td> <td>poor    </td> <td>yes        </td> <td>no    </td> <td>ckd  </td> <td>ckd     </td>\n",
       "        </tr>\n",
       "    </tbody>\n",
       "</table>\n",
       "<p>... (155 rows omitted)</p>"
      ],
      "text/plain": [
       "<IPython.core.display.HTML object>"
      ]
     },
     "metadata": {},
     "output_type": "display_data"
    }
   ],
   "source": [
    "ckd_classified = ckd.with_column(\n",
    "    'My Class', ckd.apply(my_classifier, \n",
    "                         'White Blood Cell Count',\n",
    "                         'Glucose' )\n",
    ")\n",
    "ckd_classified.show(3)"
   ]
  },
  {
   "cell_type": "markdown",
   "metadata": {},
   "source": [
    "**Q:** How would you assess whether `my_classifier` is doing a good job?\n",
    "\n",
    "<br/><br/><br/><br/><br/>"
   ]
  },
  {
   "cell_type": "code",
   "execution_count": 8,
   "metadata": {},
   "outputs": [
    {
     "data": {
      "text/plain": [
       "array([False,  True,  True,  True,  True, False,  True,  True,  True,\n",
       "        True, False, False, False,  True,  True,  True,  True,  True,\n",
       "        True,  True, False, False,  True,  True, False,  True,  True,\n",
       "        True,  True,  True,  True, False,  True,  True,  True,  True,\n",
       "        True,  True,  True,  True, False,  True,  True,  True,  True,\n",
       "        True,  True,  True,  True,  True,  True,  True,  True,  True,\n",
       "        True,  True,  True,  True,  True,  True,  True,  True,  True,\n",
       "        True,  True,  True,  True,  True,  True,  True,  True,  True,\n",
       "        True,  True,  True,  True,  True,  True,  True,  True,  True,\n",
       "        True,  True,  True,  True,  True,  True,  True,  True,  True,\n",
       "        True,  True,  True,  True,  True,  True,  True,  True,  True,\n",
       "        True,  True,  True,  True,  True,  True,  True,  True,  True,\n",
       "        True,  True,  True,  True,  True,  True,  True,  True,  True,\n",
       "        True,  True,  True,  True,  True,  True,  True,  True,  True,\n",
       "        True,  True,  True,  True,  True,  True,  True,  True,  True,\n",
       "        True,  True,  True,  True,  True,  True,  True,  True,  True,\n",
       "        True,  True,  True,  True,  True,  True,  True,  True,  True,\n",
       "        True,  True,  True,  True,  True], dtype=bool)"
      ]
     },
     "execution_count": 8,
     "metadata": {},
     "output_type": "execute_result"
    }
   ],
   "source": [
    "correct = ckd_classified.column('Class')\\\n",
    "  == ckd_classified.column('My Class')\n",
    "correct"
   ]
  },
  {
   "cell_type": "code",
   "execution_count": 9,
   "metadata": {},
   "outputs": [
    {
     "data": {
      "text/plain": [
       "0.93670886075949367"
      ]
     },
     "execution_count": 9,
     "metadata": {},
     "output_type": "execute_result"
    }
   ],
   "source": [
    "np.sum(correct) / ckd_classified.num_rows"
   ]
  },
  {
   "cell_type": "code",
   "execution_count": 10,
   "metadata": {},
   "outputs": [
    {
     "data": {
      "text/plain": [
       "0.93670886075949367"
      ]
     },
     "execution_count": 10,
     "metadata": {},
     "output_type": "execute_result"
    }
   ],
   "source": [
    "np.mean(correct)"
   ]
  },
  {
   "cell_type": "markdown",
   "metadata": {},
   "source": [
    "**Problem:** we are misclassifying.  (We'll come back to this next lecture.)  What if we try another pair of variables?"
   ]
  },
  {
   "cell_type": "code",
   "execution_count": 11,
   "metadata": {},
   "outputs": [
    {
     "data": {
      "image/png": "[encoded data removed]",
      "text/plain": [
       "<matplotlib.figure.Figure at 0x1a1eefd5f8>"
      ]
     },
     "metadata": {},
     "output_type": "display_data"
    }
   ],
   "source": [
    "ckd.scatter('Hemoglobin', 'Glucose', colors='Class')"
   ]
  },
  {
   "cell_type": "code",
   "execution_count": 12,
   "metadata": {},
   "outputs": [
    {
     "data": {
      "text/plain": [
       "1.0"
      ]
     },
     "execution_count": 12,
     "metadata": {},
     "output_type": "execute_result"
    }
   ],
   "source": [
    "def another_classifier(hgb, glc):\n",
    "    if glc <= 140 and hgb >= 13:\n",
    "        return 'notckd'\n",
    "    else:\n",
    "        return 'ckd'\n",
    "\n",
    "ckd_reclassified = ckd.with_column(\n",
    "    'My Class', ckd.apply(another_classifier, \n",
    "                          'Hemoglobin', \n",
    "                          'Glucose')\n",
    ")\n",
    "\n",
    "np.mean(ckd_reclassified.column('Class') \n",
    "        == ckd_reclassified.column('My Class'))\n"
   ]
  },
  {
   "cell_type": "markdown",
   "metadata": {},
   "source": [
    "**Problem:** What if we get a new individual to classify?"
   ]
  },
  {
   "cell_type": "code",
   "execution_count": 13,
   "metadata": {},
   "outputs": [
    {
     "data": {
      "image/png": "[encoded data removed]",
      "text/plain": [
       "<matplotlib.figure.Figure at 0x1a1f02f0f0>"
      ]
     },
     "metadata": {},
     "output_type": "display_data"
    }
   ],
   "source": [
    "ckd.scatter('Hemoglobin', 'Glucose', colors='Class')\n",
    "plots.scatter([13,13,13], [150,200,250], color='red');"
   ]
  },
  {
   "cell_type": "markdown",
   "metadata": {},
   "source": [
    "**Q:** How would you label the bottom red point?\n",
    "\n",
    "A. ckd  \n",
    "B. notckd  \n"
   ]
  },
  {
   "cell_type": "markdown",
   "metadata": {},
   "source": [
    "**Q:** How would you label the middle red point?\n",
    "\n",
    "A. ckd  \n",
    "B. notckd  \n"
   ]
  },
  {
   "cell_type": "markdown",
   "metadata": {},
   "source": [
    "## Nearest Neighbor"
   ]
  },
  {
   "cell_type": "markdown",
   "metadata": {},
   "source": [
    "**Distance between points.**"
   ]
  },
  {
   "cell_type": "code",
   "execution_count": 14,
   "metadata": {},
   "outputs": [
    {
     "data": {
      "image/png": "[encoded data removed]",
      "text/plain": [
       "<matplotlib.figure.Figure at 0x1a1f11c128>"
      ]
     },
     "metadata": {},
     "output_type": "display_data"
    }
   ],
   "source": [
    "plots.scatter([0,4], [0,3], color='red', s=80);\n",
    "plots.plot([0,4], [0,3], linestyle='dashed');"
   ]
  },
  {
   "cell_type": "code",
   "execution_count": 15,
   "metadata": {},
   "outputs": [],
   "source": [
    "def distance(a, b):\n",
    "    \"\"\"Returns the distance between a and b, where a and b\n",
    "    are both arrays representing points.\"\"\"\n",
    "    return np.sqrt(np.sum((a - b)**2))"
   ]
  },
  {
   "cell_type": "code",
   "execution_count": 16,
   "metadata": {},
   "outputs": [
    {
     "data": {
      "text/plain": [
       "5.0"
      ]
     },
     "execution_count": 16,
     "metadata": {},
     "output_type": "execute_result"
    }
   ],
   "source": [
    "distance(make_array(0,0), make_array(4,3))"
   ]
  },
  {
   "cell_type": "markdown",
   "metadata": {},
   "source": [
    "**Classifying a new individual.**"
   ]
  },
  {
   "cell_type": "code",
   "execution_count": 17,
   "metadata": {},
   "outputs": [
    {
     "data": {
      "text/html": [
       "<table border=\"1\" class=\"dataframe\">\n",
       "    <thead>\n",
       "        <tr>\n",
       "            <th>Hemoglobin</th> <th>Glucose</th> <th>Class</th>\n",
       "        </tr>\n",
       "    </thead>\n",
       "    <tbody>\n",
       "        <tr>\n",
       "            <td>11.2      </td> <td>117    </td> <td>ckd  </td>\n",
       "        </tr>\n",
       "    </tbody>\n",
       "        <tr>\n",
       "            <td>9.5       </td> <td>70     </td> <td>ckd  </td>\n",
       "        </tr>\n",
       "    </tbody>\n",
       "        <tr>\n",
       "            <td>10.8      </td> <td>380    </td> <td>ckd  </td>\n",
       "        </tr>\n",
       "    </tbody>\n",
       "        <tr>\n",
       "            <td>5.6       </td> <td>157    </td> <td>ckd  </td>\n",
       "        </tr>\n",
       "    </tbody>\n",
       "        <tr>\n",
       "            <td>7.7       </td> <td>173    </td> <td>ckd  </td>\n",
       "        </tr>\n",
       "    </tbody>\n",
       "        <tr>\n",
       "            <td>9.8       </td> <td>95     </td> <td>ckd  </td>\n",
       "        </tr>\n",
       "    </tbody>\n",
       "        <tr>\n",
       "            <td>12.5      </td> <td>264    </td> <td>ckd  </td>\n",
       "        </tr>\n",
       "    </tbody>\n",
       "        <tr>\n",
       "            <td>10        </td> <td>70     </td> <td>ckd  </td>\n",
       "        </tr>\n",
       "    </tbody>\n",
       "        <tr>\n",
       "            <td>10.5      </td> <td>253    </td> <td>ckd  </td>\n",
       "        </tr>\n",
       "    </tbody>\n",
       "        <tr>\n",
       "            <td>9.8       </td> <td>163    </td> <td>ckd  </td>\n",
       "        </tr>\n",
       "    </tbody>\n",
       "</table>\n",
       "<p>... (148 rows omitted)</p>"
      ],
      "text/plain": [
       "Hemoglobin | Glucose | Class\n",
       "11.2       | 117     | ckd\n",
       "9.5        | 70      | ckd\n",
       "10.8       | 380     | ckd\n",
       "5.6        | 157     | ckd\n",
       "7.7        | 173     | ckd\n",
       "9.8        | 95      | ckd\n",
       "12.5       | 264     | ckd\n",
       "10         | 70      | ckd\n",
       "10.5       | 253     | ckd\n",
       "9.8        | 163     | ckd\n",
       "... (148 rows omitted)"
      ]
     },
     "execution_count": 17,
     "metadata": {},
     "output_type": "execute_result"
    }
   ],
   "source": [
    "hgb_glc = ckd.select('Hemoglobin', 'Glucose', 'Class')\n",
    "hgb_glc    "
   ]
  },
  {
   "cell_type": "code",
   "execution_count": 18,
   "metadata": {},
   "outputs": [
    {
     "data": {
      "image/png": "[encoded data removed]",
      "text/plain": [
       "<matplotlib.figure.Figure at 0x1a1f14af98>"
      ]
     },
     "metadata": {},
     "output_type": "display_data"
    }
   ],
   "source": [
    "hgb_glc.scatter('Hemoglobin', 'Glucose', colors='Class')\n",
    "plots.scatter([13], [150], color='red');"
   ]
  },
  {
   "cell_type": "markdown",
   "metadata": {},
   "source": [
    "**Aside: Rows.**"
   ]
  },
  {
   "cell_type": "code",
   "execution_count": 19,
   "metadata": {},
   "outputs": [
    {
     "data": {
      "text/plain": [
       "Row(Hemoglobin=11.199999999999999, Glucose=117, Class='ckd')"
      ]
     },
     "execution_count": 19,
     "metadata": {},
     "output_type": "execute_result"
    }
   ],
   "source": [
    "hgb_glc.row(0)"
   ]
  },
  {
   "cell_type": "code",
   "execution_count": 20,
   "metadata": {},
   "outputs": [
    {
     "data": {
      "text/plain": [
       "array(['11.2', '117', 'ckd'],\n",
       "      dtype='<U32')"
      ]
     },
     "execution_count": 20,
     "metadata": {},
     "output_type": "execute_result"
    }
   ],
   "source": [
    "np.array(hgb_glc.row(0))"
   ]
  },
  {
   "cell_type": "code",
   "execution_count": 21,
   "metadata": {},
   "outputs": [
    {
     "data": {
      "text/plain": [
       "array([  11.2,  117. ])"
      ]
     },
     "execution_count": 21,
     "metadata": {},
     "output_type": "execute_result"
    }
   ],
   "source": [
    "np.array(hgb_glc.drop('Class').row(0))"
   ]
  },
  {
   "cell_type": "code",
   "execution_count": 22,
   "metadata": {},
   "outputs": [
    {
     "data": {
      "text/plain": [
       "array([[  11.2,  117. ],\n",
       "       [   9.5,   70. ],\n",
       "       [  10.8,  380. ],\n",
       "       [   5.6,  157. ],\n",
       "       [   7.7,  173. ],\n",
       "       [   9.8,   95. ],\n",
       "       [  12.5,  264. ],\n",
       "       [  10. ,   70. ],\n",
       "       [  10.5,  253. ],\n",
       "       [   9.8,  163. ],\n",
       "       [   9.1,  129. ],\n",
       "       [  10.3,  133. ],\n",
       "       [   7.1,   76. ],\n",
       "       [  13. ,  280. ],\n",
       "       [  16.1,  210. ],\n",
       "       [  10.4,  219. ],\n",
       "       [   9.2,  295. ],\n",
       "       [  11.4,  118. ],\n",
       "       [   8.1,  224. ],\n",
       "       [   8.2,  128. ],\n",
       "       [  12. ,  118. ],\n",
       "       [  11.1,  105. ],\n",
       "       [   7.9,  288. ],\n",
       "       [   8.3,  273. ],\n",
       "       [  12.6,  122. ],\n",
       "       [  10.4,  303. ],\n",
       "       [   8.7,  102. ],\n",
       "       [   8.3,  107. ],\n",
       "       [  10. ,  117. ],\n",
       "       [   9.5,  239. ],\n",
       "       [   9.9,   94. ],\n",
       "       [   8.1,  129. ],\n",
       "       [  11.2,  252. ],\n",
       "       [   7.3,  255. ],\n",
       "       [  10.9,  253. ],\n",
       "       [  10.9,  214. ],\n",
       "       [  11.5,  490. ],\n",
       "       [   7.9,  163. ],\n",
       "       [   9.6,  241. ],\n",
       "       [   9.4,  214. ],\n",
       "       [   8.6,  106. ],\n",
       "       [  12.6,  424. ],\n",
       "       [   3.1,  176. ],\n",
       "       [  15. ,  140. ],\n",
       "       [  17. ,   70. ],\n",
       "       [  15.9,   82. ],\n",
       "       [  15.4,  119. ],\n",
       "       [  13. ,   99. ],\n",
       "       [  13.6,  121. ],\n",
       "       [  14.5,  131. ],\n",
       "       [  14. ,   91. ],\n",
       "       [  13.9,   98. ],\n",
       "       [  16.1,  104. ],\n",
       "       [  14.1,  131. ],\n",
       "       [  17. ,  122. ],\n",
       "       [  15.5,  118. ],\n",
       "       [  16.2,  117. ],\n",
       "       [  14.4,  132. ],\n",
       "       [  14.2,   97. ],\n",
       "       [  13.2,  133. ],\n",
       "       [  13.9,  122. ],\n",
       "       [  15. ,  121. ],\n",
       "       [  14.3,  111. ],\n",
       "       [  13.8,   96. ],\n",
       "       [  14.8,  139. ],\n",
       "       [  16.5,  125. ],\n",
       "       [  15.7,  123. ],\n",
       "       [  14.5,  112. ],\n",
       "       [  16.3,  140. ],\n",
       "       [  15.5,  130. ],\n",
       "       [  14.6,  123. ],\n",
       "       [  16.9,  100. ],\n",
       "       [  16. ,   94. ],\n",
       "       [  14.7,   81. ],\n",
       "       [  16.6,   93. ],\n",
       "       [  14.9,  124. ],\n",
       "       [  16.7,   89. ],\n",
       "       [  16.8,  125. ],\n",
       "       [  13.5,   91. ],\n",
       "       [  15.1,  127. ],\n",
       "       [  16.9,   96. ],\n",
       "       [  13.1,  128. ],\n",
       "       [  17.1,  122. ],\n",
       "       [  15.2,  128. ],\n",
       "       [  13.6,  137. ],\n",
       "       [  13.9,   81. ],\n",
       "       [  13.2,  102. ],\n",
       "       [  13.7,  132. ],\n",
       "       [  17.3,  104. ],\n",
       "       [  15.6,  131. ],\n",
       "       [  15. ,  102. ],\n",
       "       [  17.4,  120. ],\n",
       "       [  15.7,  105. ],\n",
       "       [  13.9,  109. ],\n",
       "       [  15.9,  130. ],\n",
       "       [  14. ,  100. ],\n",
       "       [  15.8,  109. ],\n",
       "       [  13.4,  120. ],\n",
       "       [  14.1,   80. ],\n",
       "       [  13.5,  130. ],\n",
       "       [  17.7,   99. ],\n",
       "       [  14.2,  134. ],\n",
       "       [  14. ,   92. ],\n",
       "       [  17.8,  132. ],\n",
       "       [  13.3,   88. ],\n",
       "       [  14.3,  100. ],\n",
       "       [  13.4,  130. ],\n",
       "       [  15. ,   95. ],\n",
       "       [  16.2,  111. ],\n",
       "       [  14.4,  106. ],\n",
       "       [  13.5,   97. ],\n",
       "       [  17.8,  108. ],\n",
       "       [  13.6,   99. ],\n",
       "       [  17.5,   83. ],\n",
       "       [  15. ,  109. ],\n",
       "       [  13.6,   86. ],\n",
       "       [  14.6,  102. ],\n",
       "       [  15. ,   95. ],\n",
       "       [  17.1,   87. ],\n",
       "       [  13.6,  107. ],\n",
       "       [  13. ,  117. ],\n",
       "       [  17.2,   88. ],\n",
       "       [  14.7,  105. ],\n",
       "       [  13.7,   70. ],\n",
       "       [  15. ,   89. ],\n",
       "       [  14.8,  118. ],\n",
       "       [  15. ,   81. ],\n",
       "       [  17.4,  125. ],\n",
       "       [  14.9,   82. ],\n",
       "       [  13.6,  107. ],\n",
       "       [  16.2,   83. ],\n",
       "       [  17.6,   79. ],\n",
       "       [  15. ,  109. ],\n",
       "       [  13.7,  133. ],\n",
       "       [  16.3,  111. ],\n",
       "       [  15.1,   74. ],\n",
       "       [  16.4,   88. ],\n",
       "       [  13.8,   97. ],\n",
       "       [  16.1,   78. ],\n",
       "       [  15.3,  113. ],\n",
       "       [  16.8,   75. ],\n",
       "       [  13.9,  119. ],\n",
       "       [  15.4,  132. ],\n",
       "       [  16.5,  113. ],\n",
       "       [  16.4,  100. ],\n",
       "       [  16.7,   93. ],\n",
       "       [  15.5,   94. ],\n",
       "       [  17. ,  112. ],\n",
       "       [  15. ,   99. ],\n",
       "       [  15.6,   85. ],\n",
       "       [  14.8,  133. ],\n",
       "       [  13. ,  117. ],\n",
       "       [  14.1,  137. ],\n",
       "       [  15.7,  140. ],\n",
       "       [  16.5,   75. ],\n",
       "       [  15.8,  100. ],\n",
       "       [  14.2,  114. ],\n",
       "       [  15.8,  131. ]])"
      ]
     },
     "execution_count": 22,
     "metadata": {},
     "output_type": "execute_result"
    }
   ],
   "source": [
    "hgb_glc.drop('Class').apply(np.array)"
   ]
  },
  {
   "cell_type": "code",
   "execution_count": 23,
   "metadata": {},
   "outputs": [
    {
     "data": {
      "text/html": [
       "<table border=\"1\" class=\"dataframe\">\n",
       "    <thead>\n",
       "        <tr>\n",
       "            <th>Hemoglobin</th> <th>Glucose</th> <th>Class</th> <th>Mean of row</th>\n",
       "        </tr>\n",
       "    </thead>\n",
       "    <tbody>\n",
       "        <tr>\n",
       "            <td>11.2      </td> <td>117    </td> <td>ckd  </td> <td>64.1       </td>\n",
       "        </tr>\n",
       "    </tbody>\n",
       "        <tr>\n",
       "            <td>9.5       </td> <td>70     </td> <td>ckd  </td> <td>39.75      </td>\n",
       "        </tr>\n",
       "    </tbody>\n",
       "        <tr>\n",
       "            <td>10.8      </td> <td>380    </td> <td>ckd  </td> <td>195.4      </td>\n",
       "        </tr>\n",
       "    </tbody>\n",
       "        <tr>\n",
       "            <td>5.6       </td> <td>157    </td> <td>ckd  </td> <td>81.3       </td>\n",
       "        </tr>\n",
       "    </tbody>\n",
       "        <tr>\n",
       "            <td>7.7       </td> <td>173    </td> <td>ckd  </td> <td>90.35      </td>\n",
       "        </tr>\n",
       "    </tbody>\n",
       "        <tr>\n",
       "            <td>9.8       </td> <td>95     </td> <td>ckd  </td> <td>52.4       </td>\n",
       "        </tr>\n",
       "    </tbody>\n",
       "        <tr>\n",
       "            <td>12.5      </td> <td>264    </td> <td>ckd  </td> <td>138.25     </td>\n",
       "        </tr>\n",
       "    </tbody>\n",
       "        <tr>\n",
       "            <td>10        </td> <td>70     </td> <td>ckd  </td> <td>40         </td>\n",
       "        </tr>\n",
       "    </tbody>\n",
       "        <tr>\n",
       "            <td>10.5      </td> <td>253    </td> <td>ckd  </td> <td>131.75     </td>\n",
       "        </tr>\n",
       "    </tbody>\n",
       "        <tr>\n",
       "            <td>9.8       </td> <td>163    </td> <td>ckd  </td> <td>86.4       </td>\n",
       "        </tr>\n",
       "    </tbody>\n",
       "</table>\n",
       "<p>... (148 rows omitted)</p>"
      ],
      "text/plain": [
       "Hemoglobin | Glucose | Class | Mean of row\n",
       "11.2       | 117     | ckd   | 64.1\n",
       "9.5        | 70      | ckd   | 39.75\n",
       "10.8       | 380     | ckd   | 195.4\n",
       "5.6        | 157     | ckd   | 81.3\n",
       "7.7        | 173     | ckd   | 90.35\n",
       "9.8        | 95      | ckd   | 52.4\n",
       "12.5       | 264     | ckd   | 138.25\n",
       "10         | 70      | ckd   | 40\n",
       "10.5       | 253     | ckd   | 131.75\n",
       "9.8        | 163     | ckd   | 86.4\n",
       "... (148 rows omitted)"
      ]
     },
     "execution_count": 23,
     "metadata": {},
     "output_type": "execute_result"
    }
   ],
   "source": [
    "def mean_of_row(row):\n",
    "    row_as_array = np.array(row)\n",
    "    return np.mean(row_as_array)\n",
    "\n",
    "hgb_glc.with_column(\n",
    "    'Mean of row', hgb_glc.drop('Class').apply(mean_of_row)\n",
    ")"
   ]
  },
  {
   "cell_type": "markdown",
   "metadata": {},
   "source": [
    "**End Aside, back to classifying**"
   ]
  },
  {
   "cell_type": "code",
   "execution_count": 24,
   "metadata": {},
   "outputs": [
    {
     "data": {
      "text/html": [
       "<table border=\"1\" class=\"dataframe\">\n",
       "    <thead>\n",
       "        <tr>\n",
       "            <th>Hemoglobin</th> <th>Glucose</th> <th>Class</th> <th>Distance</th>\n",
       "        </tr>\n",
       "    </thead>\n",
       "    <tbody>\n",
       "        <tr>\n",
       "            <td>5.6       </td> <td>157    </td> <td>ckd   </td> <td>10.1863 </td>\n",
       "        </tr>\n",
       "    </tbody>\n",
       "        <tr>\n",
       "            <td>15        </td> <td>140    </td> <td>notckd</td> <td>10.198  </td>\n",
       "        </tr>\n",
       "    </tbody>\n",
       "        <tr>\n",
       "            <td>15.7      </td> <td>140    </td> <td>notckd</td> <td>10.3581 </td>\n",
       "        </tr>\n",
       "    </tbody>\n",
       "        <tr>\n",
       "            <td>16.3      </td> <td>140    </td> <td>notckd</td> <td>10.5304 </td>\n",
       "        </tr>\n",
       "    </tbody>\n",
       "        <tr>\n",
       "            <td>14.8      </td> <td>139    </td> <td>notckd</td> <td>11.1463 </td>\n",
       "        </tr>\n",
       "    </tbody>\n",
       "        <tr>\n",
       "            <td>13.6      </td> <td>137    </td> <td>notckd</td> <td>13.0138 </td>\n",
       "        </tr>\n",
       "    </tbody>\n",
       "        <tr>\n",
       "            <td>14.1      </td> <td>137    </td> <td>notckd</td> <td>13.0465 </td>\n",
       "        </tr>\n",
       "    </tbody>\n",
       "        <tr>\n",
       "            <td>9.8       </td> <td>163    </td> <td>ckd   </td> <td>13.3881 </td>\n",
       "        </tr>\n",
       "    </tbody>\n",
       "        <tr>\n",
       "            <td>7.9       </td> <td>163    </td> <td>ckd   </td> <td>13.9646 </td>\n",
       "        </tr>\n",
       "    </tbody>\n",
       "        <tr>\n",
       "            <td>14.2      </td> <td>134    </td> <td>notckd</td> <td>16.0449 </td>\n",
       "        </tr>\n",
       "    </tbody>\n",
       "</table>\n",
       "<p>... (148 rows omitted)</p>"
      ],
      "text/plain": [
       "Hemoglobin | Glucose | Class  | Distance\n",
       "5.6        | 157     | ckd    | 10.1863\n",
       "15         | 140     | notckd | 10.198\n",
       "15.7       | 140     | notckd | 10.3581\n",
       "16.3       | 140     | notckd | 10.5304\n",
       "14.8       | 139     | notckd | 11.1463\n",
       "13.6       | 137     | notckd | 13.0138\n",
       "14.1       | 137     | notckd | 13.0465\n",
       "9.8        | 163     | ckd    | 13.3881\n",
       "7.9        | 163     | ckd    | 13.9646\n",
       "14.2       | 134     | notckd | 16.0449\n",
       "... (148 rows omitted)"
      ]
     },
     "execution_count": 24,
     "metadata": {},
     "output_type": "execute_result"
    }
   ],
   "source": [
    "new_point = make_array(13, 150)\n",
    "\n",
    "def distance_from_new(row):\n",
    "    \"\"\"Return the distance between row and new_point.\n",
    "    Row is an input to the function and can change every\n",
    "    time the function is called.  new_point is the same\n",
    "    every time, though.\"\"\"\n",
    "    return distance(np.array(row), new_point)\n",
    "    \n",
    "distances = hgb_glc.with_column(\n",
    "    'Distance', hgb_glc.drop('Class').apply(distance_from_new)\n",
    ").sort('Distance')\n",
    "\n",
    "distances"
   ]
  },
  {
   "cell_type": "markdown",
   "metadata": {},
   "source": [
    "**Note:** What we just did with `distance_from_new` is incredibly important to understand."
   ]
  },
  {
   "cell_type": "code",
   "execution_count": 25,
   "metadata": {},
   "outputs": [
    {
     "data": {
      "image/png": "[encoded data removed]",
      "text/plain": [
       "<matplotlib.figure.Figure at 0x1a1f216f60>"
      ]
     },
     "metadata": {},
     "output_type": "display_data"
    }
   ],
   "source": [
    "hgb_glc.scatter('Hemoglobin', 'Glucose', colors='Class')\n",
    "plots.scatter([13, 5.6], [150, 157], color='red');"
   ]
  },
  {
   "cell_type": "markdown",
   "metadata": {},
   "source": [
    "**Q:** What's wrong with my classifier?\n",
    "\n",
    "A.  Nothing.  \n",
    "B.  I must have coded the `distance` function wrong.  \n",
    "C.  Something else is wrong."
   ]
  },
  {
   "cell_type": "code",
   "execution_count": 26,
   "metadata": {},
   "outputs": [
    {
     "data": {
      "image/png": "[encoded data removed]",
      "text/plain": [
       "<matplotlib.figure.Figure at 0x1a1f2164a8>"
      ]
     },
     "metadata": {},
     "output_type": "display_data"
    }
   ],
   "source": [
    "hgb_glc.scatter('Hemoglobin', 'Glucose', colors='Class')\n",
    "plots.scatter([13, 5.6], [150, 157], color='red');\n",
    "plots.xlim(0,500);\n",
    "plots.ylim(0,500);"
   ]
  },
  {
   "cell_type": "code",
   "execution_count": 27,
   "metadata": {},
   "outputs": [
    {
     "data": {
      "image/png": "[encoded data removed]",
      "text/plain": [
       "<matplotlib.figure.Figure at 0x1a1f421048>"
      ]
     },
     "metadata": {},
     "output_type": "display_data"
    }
   ],
   "source": [
    "hgb_glc.scatter('Hemoglobin', 'Glucose', colors='Class')\n",
    "plots.scatter([13, 5.6], [150, 157], color='red');\n",
    "plots.xlim(0,50);\n",
    "plots.ylim(125,175);"
   ]
  }
 ],
 "metadata": {
  "anaconda-cloud": {},
  "kernelspec": {
   "display_name": "Python 3",
   "language": "python",
   "name": "python3"
  },
  "language_info": {
   "codemirror_mode": {
    "name": "ipython",
    "version": 3
   },
   "file_extension": ".py",
   "mimetype": "text/x-python",
   "name": "python",
   "nbconvert_exporter": "python",
   "pygments_lexer": "ipython3",
   "version": "3.6.4"
  }
 },
 "nbformat": 4,
 "nbformat_minor": 1
}
