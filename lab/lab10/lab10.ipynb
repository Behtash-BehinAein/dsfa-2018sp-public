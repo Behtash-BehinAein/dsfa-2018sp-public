{
    "cells": [
        {
            "cell_type": "markdown",
            "metadata": {},
            "source": [
                "# Lab 10\n",
                "\n",
                "Welcome to the final lab of the semester!  \n",
                "\n",
                "This lab is about multiple regression, which is covered in [Section 15.6](http:\/\/www.cs.cornell.edu\/courses\/cs1380\/2018sp\/textbook\/chapters\/15\/6\/multiple-regression.html) of the textbook.\n",
                "\n",
                "We're going to predict the price of diamonds in three ways:\n",
                "\n",
                "1. With single linear regression.\n",
                "2. With multiple linear regression.\n",
                "3. With multiple linear regression, incorporating not just quantitative attributes, but also categorical attributes.  That will use a new technique called *dummy coding* that we haven't seen before.\n",
                "\n",
                "Let's get started!\n",
                "\n",
                "<img src=\"diamond.gif\">"
            ]
        },
        {
            "cell_type": "code",
            "execution_count": null,
            "metadata": {},
            "outputs": [],
            "source": [
                "import numpy as np\n",
                "from datascience import *\n",
                "\n",
                "import matplotlib\n",
                "%matplotlib inline\n",
                "import matplotlib.pyplot as plt\n",
                "plt.style.use('fivethirtyeight')\n",
                "import warnings\n",
                "warnings.simplefilter('ignore', FutureWarning)\n",
                "np.set_printoptions(legacy='1.13')\n",
                "import time\n",
                "\n",
                "from test import *"
            ]
        },
        {
            "cell_type": "markdown",
            "metadata": {},
            "source": [
                "The data for this lab come from [Kaggle](https:\/\/www.kaggle.com\/shivam2503\/diamonds) and describe the prices and other attributes of almost 54,000 diamonds.\n",
                "\n",
                "Let's start by loading and examining the data."
            ]
        },
        {
            "cell_type": "code",
            "execution_count": null,
            "metadata": {},
            "outputs": [],
            "source": [
                "diamonds = Table.read_table('diamonds.csv.zip',sep=',').drop('serial_number','x','y','z')\n",
                "diamonds "
            ]
        },
        {
            "cell_type": "markdown",
            "metadata": {},
            "source": [
                "Diamonds are weighed in carats, and are graded on three other C's:  cut, color, and clarity.  \n",
                "\n",
                "* The *carat* is a unit of mass.  Today, 1 carat is 200 mg, though historically other definitions have been used.\n",
                "\n",
                "* The quality of the *cut* is graded by an expert on the scale Fair, Good, Very Good, Premium, Ideal.\n",
                "\n",
                "* The *color* is graded from J (worst) to D (best).  A D-graded diamond is completely colorless.\n",
                "\n",
                "* The *clarity* is a measure of how clear and free of blemishes the diamond is, on the scale I1 (worst), SI2, SI1, VS2, VS1, VVS2, VVS1, to IF (best).\n",
                "\n",
                "* The *depth* and *table* describe the shape of the diamond, and are a measure of its height and width."
            ]
        },
        {
            "cell_type": "markdown",
            "metadata": {},
            "source": [
                "## Simple Linear Regression"
            ]
        },
        {
            "cell_type": "markdown",
            "metadata": {},
            "source": [
                "Run the following cell, which makes some of our usual simple linear regression functions available."
            ]
        },
        {
            "cell_type": "code",
            "execution_count": null,
            "metadata": {},
            "outputs": [],
            "source": [
                "def standard_units(any_numbers):\n",
                "    \"\"\"Convert any array of numbers to standard units.\"\"\"\n",
                "    return (any_numbers - np.mean(any_numbers)) \/ np.std(any_numbers)  \n",
                "\n",
                "def correlation(t, x, y):\n",
                "    \"\"\"The correlation between x and y in table t.\"\"\"\n",
                "    return np.mean(standard_units(t.column(x)) * standard_units(t.column(y)))\n",
                "\n",
                "def slope(t, x, y):\n",
                "    \"\"\"The slope of the regression line in table t for variables x and y.\"\"\"\n",
                "    r = correlation(t, x, y)\n",
                "    return r * np.std(t.column(y)) \/ np.std(t.column(x))\n",
                "\n",
                "def intercept(t, x, y):\n",
                "    \"\"\"The intercept of the regression line in table t for variables x and y.\"\"\"    \n",
                "    return np.mean(t.column(y)) - slope(t, x, y) * np.mean(t.column(x))\n",
                "\n",
                "def predict(t, x, y, new_x):\n",
                "    return slope(t, x, y) * new_x + intercept(t, x, y)\n",
                "\n",
                "def rmse(t, x, y):\n",
                "    \"\"\"The RMSE of predicting y based on x with linear regression.\"\"\"\n",
                "    r = correlation(t, x, y)\n",
                "    return np.std(t.column(y)) * np.sqrt(1 - r**2)"
            ]
        },
        {
            "cell_type": "markdown",
            "metadata": {},
            "source": [
                "**Question 1.** \n",
                "\n",
                "There are three quantitative attributes in the data set that we could attempt to use to predict price.  So, draw three scatter plots: (i) price vs. carat, (ii) price vs. depth, and (iii) price vs. table.  Also compute the correlation of each pair.  One of the three attributes appears to be by far the best candidate for simple linear regression of price.  Which one is it?  Assign `best_attribute` to either `'carat'`, `'depth'`, or `'table'` to give your answer."
            ]
        },
        {
            "cell_type": "code",
            "execution_count": null,
            "metadata": {},
            "outputs": [],
            "source": [
                "# Use this cell to experiment with drawing your scatter plots\n",
                "# and computing correlations\n",
                "...\n",
                "\n"
            ]
        },
        {
            "cell_type": "code",
            "execution_count": null,
            "metadata": {},
            "outputs": [],
            "source": [
                "best_attribute = ...\n"
            ]
        },
        {
            "cell_type": "code",
            "execution_count": null,
            "metadata": {},
            "outputs": [],
            "source": [
                "check1(best_attribute)"
            ]
        },
        {
            "cell_type": "code",
            "execution_count": null,
            "metadata": {
                "nbgrader": {
                    "grade": true,
                    "grade_id": "test1",
                    "locked": true,
                    "points": 1,
                    "schema_version": 1,
                    "solution": false
                }
            },
            "outputs": [],
            "source": [
                "#\n",
                "# AUTOGRADER TEST - DO NOT REMOVE\n",
                "#\n"
            ]
        },
        {
            "cell_type": "markdown",
            "metadata": {},
            "source": [
                "Run the following cell to compute the RMSE for the regression predictions based on the attribute you chose:"
            ]
        },
        {
            "cell_type": "code",
            "execution_count": null,
            "metadata": {},
            "outputs": [],
            "source": [
                "best_attribute_rmse = rmse(diamonds, best_attribute, 'price')\n",
                "best_attribute_rmse"
            ]
        },
        {
            "cell_type": "markdown",
            "metadata": {},
            "source": [
                "You should get an answer that is close to \\$1549.  Compared to the price of many of the diamonds in the data set, that's not too big of an error."
            ]
        },
        {
            "cell_type": "markdown",
            "metadata": {},
            "source": [
                "## Multiple Linear Regression"
            ]
        },
        {
            "cell_type": "markdown",
            "metadata": {},
            "source": [
                "Now let's try using multiple linear regression on all three quantitative attributes, hoping that we can reduce the RMSE of the predictions.\n",
                "\n",
                "Doing this for all 54,000 diamonds in the data set would be computationally prohibitive for the amount of time we have in recitation.  So let's look at just a random sample of 1000 diamonds from the table."
            ]
        },
        {
            "cell_type": "markdown",
            "metadata": {},
            "source": [
                "**Question 2.**\n",
                "\n",
                "Assign `diamonds_1000` to a random sample of 1000 diamonds from the `diamonds` table.  Then assign `diamonds_mlr` to be the same as `diamonds_1000`, except that `diamonds_mlr` contains only the columns we will use for our multiple linear regression (MLR), and make sure the columns are in the same order as the original table.\n",
                "\n",
                "*Hint:* there are three attributes and one response variable that should be in `diamonds_mlr`."
            ]
        },
        {
            "cell_type": "code",
            "execution_count": null,
            "metadata": {},
            "outputs": [],
            "source": [
                "diamonds_1000 = ...\n",
                "diamonds_mlr = ...\n",
                "\n",
                "\n",
                "diamonds_mlr"
            ]
        },
        {
            "cell_type": "code",
            "execution_count": null,
            "metadata": {},
            "outputs": [],
            "source": [
                "check2(diamonds_1000, diamonds_mlr, diamonds)"
            ]
        },
        {
            "cell_type": "code",
            "execution_count": null,
            "metadata": {
                "nbgrader": {
                    "grade": true,
                    "grade_id": "test2",
                    "locked": true,
                    "points": 1,
                    "schema_version": 1,
                    "solution": false
                }
            },
            "outputs": [],
            "source": [
                "#\n",
                "# AUTOGRADER TEST - DO NOT REMOVE\n",
                "#\n"
            ]
        },
        {
            "cell_type": "markdown",
            "metadata": {},
            "source": [
                "**Question 3.**\n",
                "\n",
                "Let's use multiple linear regression (MLR) to predict the price of just the first diamond in `diamonds_mlr`.  Assign `my_weights` to an array of any weights of your choice.  Assign `first_row_attributes` to an array containing just the attributes of that first diamond.  And assign `first_row_prediction` to the predicted price, given your weights and the diamond's attributes.\n",
                "\n",
                "Then, **adjust the weights you have chosen**, such that your prediction error for that first diamond is no more than \\$100.\n",
                "\n",
                "Recall that the prediction equation for MLR is as follows:\n",
                "\n",
                "$$ y = a_1 \\cdot x_1 + a_2 \\cdot x_2 + \\ldots + a_n \\cdot x_n + b $$"
            ]
        },
        {
            "cell_type": "code",
            "execution_count": null,
            "metadata": {},
            "outputs": [],
            "source": [
                "my_weights = ...\n",
                "first_row_attributes = ...\n",
                "first_row_prediction = ...\n",
                "\n",
                "\n",
                "# should be within $100 of the actual price\n",
                "first_row_prediction"
            ]
        },
        {
            "cell_type": "code",
            "execution_count": null,
            "metadata": {},
            "outputs": [],
            "source": [
                "check3(my_weights, first_row_attributes, first_row_prediction, diamonds_mlr)"
            ]
        },
        {
            "cell_type": "code",
            "execution_count": null,
            "metadata": {
                "nbgrader": {
                    "grade": true,
                    "grade_id": "test3",
                    "locked": true,
                    "points": 1,
                    "schema_version": 1,
                    "solution": false
                }
            },
            "outputs": [],
            "source": [
                "#\n",
                "# AUTOGRADER TEST - DO NOT REMOVE\n",
                "#\n"
            ]
        },
        {
            "cell_type": "markdown",
            "metadata": {},
            "source": [
                "**Question 4.**\n",
                "\n",
                "Let's use your weights to predict the prices for all the diamonds in `diamonds_mlr`.  Complete the following code to do that.  The final result\n",
                "of the cell should be a table that is the same as `diamonds_mlr`, but with an additional column containing your predictions."
            ]
        },
        {
            "cell_type": "code",
            "execution_count": null,
            "metadata": {},
            "outputs": [],
            "source": [
                "def predict(weights, attributes):\n",
                "    \"\"\"Computes the MLR prediction, y = a1*x1+...+an*xn+b.\n",
                "    The weights input should contain the coeffecients\n",
                "    a1...an and b.  The attributes input should contain\n",
                "    x1...xn.  Returns y.\n",
                "    \"\"\"\n",
                "    return ...\n",
                "\n",
                "def table_with_mlr_predictions(table, response, weights):\n",
                "    \"\"\"Computes the MLR prediction for every row in the\n",
                "    input table, using the weights provided in that input.\n",
                "    The response input should be a string that is the\n",
                "    label of the response variable column.  Returns the\n",
                "    input table augmented with a columning containing \n",
                "    the predictions.  The label of that column\n",
                "    is the label of the response variable, prefixed\n",
                "    with 'predicted '.\n",
                "    \"\"\"\n",
                "    def predict_row(row):\n",
                "        \"\"\"Return the predicted value for a single row.\"\"\"\n",
                "        return predict(..., ...)\n",
                "    predicted = ...  # hint: apply\n",
                "    label_for_predicted_column = 'predicted ' + response\n",
                "    return ...\n",
                "\n",
                "my_predictions = table_with_mlr_predictions(..., '...', my_weights)\n",
                "\n",
                "\n",
                "my_predictions"
            ]
        },
        {
            "cell_type": "code",
            "execution_count": null,
            "metadata": {},
            "outputs": [],
            "source": [
                "check4(predict, table_with_mlr_predictions, my_predictions, my_weights)    "
            ]
        },
        {
            "cell_type": "code",
            "execution_count": null,
            "metadata": {
                "nbgrader": {
                    "grade": true,
                    "grade_id": "test4",
                    "locked": true,
                    "points": 1,
                    "schema_version": 1,
                    "solution": false
                }
            },
            "outputs": [],
            "source": [
                "#\n",
                "# AUTOGRADER TEST - DO NOT REMOVE\n",
                "#\n"
            ]
        },
        {
            "cell_type": "markdown",
            "metadata": {},
            "source": [
                "**Question 5.**\n",
                "\n",
                "Compute the RMSE for your predictions."
            ]
        },
        {
            "cell_type": "code",
            "execution_count": null,
            "metadata": {},
            "outputs": [],
            "source": [
                "# Tip: the staff solution first computes an array of residuals.\n",
                "my_rmse = ...\n",
                "\n",
                "\n",
                "my_rmse"
            ]
        },
        {
            "cell_type": "code",
            "execution_count": null,
            "metadata": {},
            "outputs": [],
            "source": [
                "check5(my_rmse, my_predictions)"
            ]
        },
        {
            "cell_type": "code",
            "execution_count": null,
            "metadata": {
                "nbgrader": {
                    "grade": true,
                    "grade_id": "test5",
                    "locked": true,
                    "points": 1,
                    "schema_version": 1,
                    "solution": false
                }
            },
            "outputs": [],
            "source": [
                "#\n",
                "# AUTOGRADER TEST - DO NOT REMOVE\n",
                "#\n"
            ]
        },
        {
            "cell_type": "markdown",
            "metadata": {},
            "source": [
                "Unless you got really lucky in choosing your weights, the RMSE for your multiple linear regression is probably much worse than the RMSE computed above for the entire table.  Let's find out:"
            ]
        },
        {
            "cell_type": "code",
            "execution_count": null,
            "metadata": {},
            "outputs": [],
            "source": [
                "if my_rmse < best_attribute_rmse:\n",
                "    print('Wow!  You picked some really great weights.')\n",
                "else:\n",
                "    print('Sorry, you didn\\'t get lucky.  That\\'s ok!  Continue on with the next question.')"
            ]
        },
        {
            "cell_type": "markdown",
            "metadata": {},
            "source": [
                "Let's use minimization to find the best weights for `diamonds_mlr`.  Recall that we want to minimize the RMSE.  We can do that as follows:\n",
                "\n",
                "1. Write a function `diamonds_mlr_rse` that takes an array of weights as input, computes the predicted price of every diamond using those weights, and returns the RMSE of those predictions as output.\n",
                "\n",
                "2. Use the `minimize` function on `diamonds_mlr_rse`.  It will return the array of weights that minimizes the RMSE."
            ]
        },
        {
            "cell_type": "markdown",
            "metadata": {},
            "source": [
                "**Question 6.**\n",
                "\n",
                "Complete the function `diamonds_mlr_rmse`.  Try running it on `my_weights`; you should get the same RMSE you did for the previous question."
            ]
        },
        {
            "cell_type": "code",
            "execution_count": null,
            "metadata": {},
            "outputs": [],
            "source": [
                "def diamonds_mlr_rmse(weights):\n",
                "    \"\"\"Returns the RMSE that results from using the weights\n",
                "    array to predict the price of all the diamonds in\n",
                "    the diamonds_mlr table.\n",
                "    \"\"\"\n",
                "    predictions_table = ... # hint: table_with_mlr_predictions\n",
                "    residuals = ...\n",
                "    return ...\n",
                "\n",
                "\n",
                "diamonds_mlr_rmse(my_weights)"
            ]
        },
        {
            "cell_type": "code",
            "execution_count": null,
            "metadata": {},
            "outputs": [],
            "source": [
                "check6(diamonds_mlr_rmse, my_weights, my_rmse, diamonds_mlr)"
            ]
        },
        {
            "cell_type": "code",
            "execution_count": null,
            "metadata": {
                "nbgrader": {
                    "grade": true,
                    "grade_id": "test6",
                    "locked": true,
                    "points": 1,
                    "schema_version": 1,
                    "solution": false
                }
            },
            "outputs": [],
            "source": [
                "#\n",
                "# AUTOGRADER TEST - DO NOT REMOVE\n",
                "#\n"
            ]
        },
        {
            "cell_type": "markdown",
            "metadata": {},
            "source": [
                "**Question 7.**\n",
                "\n",
                "Use `minimize` to find the best weights&mdash;that is, the weights that result in the minimum RMSE.\n",
                "\n",
                "Recall that you will need to pass two additional arguments to `minimize`, because `diamonds_mlr_rmse` itself takes an array (rather than just a number) as an argument:\n",
                "\n",
                "* The first additional argument is `array=True`, which tells `minimize` that the function it is minimizing takes an array argument.\n",
                "\n",
                "* The second additional argument is an array, which is a guess as to the best weights.  The exact guess you make doesn't matter too much, and it would be fine, for example, to use all 1's, or all 0's.  What's important is that your guess is an array of the same length as the array expected by `diamonds_mlr_rmse` as input.\n",
                "\n",
                "It will likely take several seconds for the minimization to complete.  If it takes significantly longer, make sure that your `diamonds_mlr_rmse` function is using the small `diamonds_mlr` table,\n",
                "not the large `diamond` table."
            ]
        },
        {
            "cell_type": "code",
            "execution_count": null,
            "metadata": {},
            "outputs": [],
            "source": [
                "guess_weights = ...\n",
                "best_weights_mlr = ... # hint: minimize\n",
                "\n",
                "best_weights_mlr"
            ]
        },
        {
            "cell_type": "code",
            "execution_count": null,
            "metadata": {},
            "outputs": [],
            "source": [
                "check7(best_weights_mlr, diamonds_mlr, diamonds_mlr_rmse)"
            ]
        },
        {
            "cell_type": "code",
            "execution_count": null,
            "metadata": {
                "nbgrader": {
                    "grade": true,
                    "grade_id": "test7",
                    "locked": true,
                    "points": 1,
                    "schema_version": 1,
                    "solution": false
                }
            },
            "outputs": [],
            "source": [
                "#\n",
                "# AUTOGRADER TEST - DO NOT REMOVE\n",
                "#\n"
            ]
        },
        {
            "cell_type": "markdown",
            "metadata": {},
            "source": [
                "Run the following cell to see what the minimum RMSE is:"
            ]
        },
        {
            "cell_type": "code",
            "execution_count": null,
            "metadata": {},
            "outputs": [],
            "source": [
                "minimum_mlr_rmse = diamonds_mlr_rmse(best_weights_mlr)\n",
                "minimum_mlr_rmse"
            ]
        },
        {
            "cell_type": "markdown",
            "metadata": {},
            "source": [
                "You should get an RMSE that is as good or better than just using the single attribute you chose in Question 1 on the 1000 diamonds you sampled.  Run the following cell to find out:"
            ]
        },
        {
            "cell_type": "code",
            "execution_count": null,
            "metadata": {},
            "outputs": [],
            "source": [
                "best_attribute_rmse_1000 = rmse(diamonds_1000, best_attribute, 'price')\n",
                "\n",
                "print('Minimum RMSE from multiple regression:        ', minimum_mlr_rmse)\n",
                "print('RMSE from simple regression on best attribute:', best_attribute_rmse_1000)\n",
                "\n",
                "if best_attribute_rmse_1000 - minimum_mlr_rmse >= 1:\n",
                "    print('Yay!  Using multiple attributes improved your predictions.')\n",
                "elif np.abs(best_attribute_rmse_1000 - minimum_mlr_rmse) < 1:\n",
                "    print('Meh.  Using multiple attributes was about the same as using your single best attribute.')\n",
                "else:\n",
                "    print('Hmm.  Something is probably wrong with your predictor.  Confer with a TA or classmate.')"
            ]
        },
        {
            "cell_type": "markdown",
            "metadata": {},
            "source": [
                "The staff used bootstrap estimation (with 1000 repetitions) to compute a 95% confidence interval for the improvement.  The result we got was (0.06, 3.09).  That's not a big improvement.  Can we do better?"
            ]
        },
        {
            "cell_type": "markdown",
            "metadata": {},
            "source": [
                "## Regression with categorical attributes"
            ]
        },
        {
            "cell_type": "markdown",
            "metadata": {},
            "source": [
                "So far in this lab, we've discovered that the weight of a diamond in carats is a good predictor of its price.  We've also discovered that additionally using the size of the diamond, as measured by depth and table, doesn't improve predictions very much.\n",
                "\n",
                "Diamond vendors are fond of saying that the value of a diamond depends on 4 C's:  carat, cut, color, and clarity.  So far with our regression predictions we've only used 1 of the C's, carat, because the other 3 C's are categorical rather than quantitative.  Run the following cell to observe that fact."
            ]
        },
        {
            "cell_type": "code",
            "execution_count": null,
            "metadata": {},
            "outputs": [],
            "source": [
                "diamonds.select('cut', 'color', 'clarity')"
            ]
        },
        {
            "cell_type": "markdown",
            "metadata": {},
            "source": [
                "Let's investigate whether these other 3 C's can be used to improve our regression predictions.  The immediate challenge is how to transform them into quantitative data that is suitable for use with multiple linear regression.\n",
                "\n",
                "The technique we will use is called *dummy coding*.  It replaces a single categorical variable with several binary variables.  A *binary* variable has a value that is either 0 or 1.  Since 0 and 1 are numbers, they are suitable for regression.\n",
                "\n",
                "Let's start by dummy coding the cut attribute.  Run the following cell to see the various values it can take:"
            ]
        },
        {
            "cell_type": "code",
            "execution_count": null,
            "metadata": {},
            "outputs": [],
            "source": [
                "diamonds.group('cut')"
            ]
        },
        {
            "cell_type": "markdown",
            "metadata": {},
            "source": [
                "You should see five different values:  Fair, Good, Ideal, Premium, and Very Good.  Every diamond is catagorized as one of those five.\n",
                "\n",
                "The dummy coding technique expands the `cut` variable into five new variables, one for each of the five different values that `cut` can have.  If a diamond is categorized as Fair, the new variable representing Fair will have the value 1 for that diamond, and the other 4 new variables will have the value 0.\n",
                "\n",
                "In other words, we will add five new columns to the table.  Let's make their labels be `Fair`, `Good`, `Ideal`, `Premium`, and `Very Good`.  For each row of the table, all but one of those columns will be set to 0.  The column that is set to 1 corresponds to the value of the `cut` variable for that row.\n",
                "\n",
                "Let's see what that would look like for the first diamond in our full table."
            ]
        },
        {
            "cell_type": "code",
            "execution_count": null,
            "metadata": {},
            "outputs": [],
            "source": [
                "diamonds.take(0)"
            ]
        },
        {
            "cell_type": "markdown",
            "metadata": {},
            "source": [
                "That diamond's cut is Ideal, which we can dummy code as follows:"
            ]
        },
        {
            "cell_type": "code",
            "execution_count": null,
            "metadata": {},
            "outputs": [],
            "source": [
                "diamonds.take(0).with_columns(\n",
                "    'Fair', 0,\n",
                "    'Good', 0,\n",
                "    'Ideal', 1,\n",
                "    'Premium', 0,\n",
                "    'Very Good', 0\n",
                ")"
            ]
        },
        {
            "cell_type": "markdown",
            "metadata": {},
            "source": [
                "Notice how the `Ideal` column has the value 1, and the other four new columns have the value 0.\n",
                "\n",
                "Let's write some functions to help us dummy code categorical variables."
            ]
        },
        {
            "cell_type": "markdown",
            "metadata": {},
            "source": [
                "**Question 8.**\n",
                "\n",
                "Complete the following function.  Its purpose is to find out what all the possible distinct values of a categorical variable are.  For example, `categories(diamonds, cut)` should return an 5-element array containing the strings `'Fair'`, `'Good'`, `'Ideal'`, `'Premium'`, and `'Very Good'`, and those strings may be in any order in the array."
            ]
        },
        {
            "cell_type": "code",
            "execution_count": null,
            "metadata": {},
            "outputs": [],
            "source": [
                "def categories(table, label):\n",
                "    \"\"\"Returns an array containing the values that appear in \n",
                "    the column of the table named label.  Each distinct value\n",
                "    should occur only once in the array.  The order of values\n",
                "    in the array is not important.\n",
                "    \"\"\"\n",
                "    return ...\n",
                "\n",
                "\n",
                "categories(diamonds, 'cut')"
            ]
        },
        {
            "cell_type": "code",
            "execution_count": null,
            "metadata": {},
            "outputs": [],
            "source": [
                "check8(categories)"
            ]
        },
        {
            "cell_type": "code",
            "execution_count": null,
            "metadata": {
                "nbgrader": {
                    "grade": true,
                    "grade_id": "test8",
                    "locked": true,
                    "points": 1,
                    "schema_version": 1,
                    "solution": false
                }
            },
            "outputs": [],
            "source": [
                "#\n",
                "# AUTOGRADER TEST - DO NOT REMOVE\n",
                "#\n"
            ]
        },
        {
            "cell_type": "markdown",
            "metadata": {},
            "source": [
                "**Question 9.**\n",
                "\n",
                "Complete the following function, which determines the dummy coding for one particular value of a categorical variable.  That is, this function produces one column of 0\/1 values. \n",
                "\n",
                "*Hint*: multiplying `False` by 1 will transform it to 0, and multiplying `True` by 1 will transform it to 1.  So multiplying an array of Booleans by 1 will transform that array to 0\/1 values."
            ]
        },
        {
            "cell_type": "code",
            "execution_count": null,
            "metadata": {},
            "outputs": [],
            "source": [
                "def coding_of_value(array, value):\n",
                "    \"\"\"Dummy code the values in the array.  Returns a new array\n",
                "    in which item i is:\n",
                "      * 1 if item i of the original array is equal to value, or\n",
                "      * 0 if item i of the original array is not equal to value.\n",
                "    \"\"\"\n",
                "    return ...\n",
                "\n",
                "\n",
                "coding_of_value(diamonds.column('cut'), 'Fair')"
            ]
        },
        {
            "cell_type": "code",
            "execution_count": null,
            "metadata": {},
            "outputs": [],
            "source": [
                "check9(coding_of_value)"
            ]
        },
        {
            "cell_type": "code",
            "execution_count": null,
            "metadata": {
                "nbgrader": {
                    "grade": true,
                    "grade_id": "test9",
                    "locked": true,
                    "points": 1,
                    "schema_version": 1,
                    "solution": false
                }
            },
            "outputs": [],
            "source": [
                "#\n",
                "# AUTOGRADER TEST - DO NOT REMOVE\n",
                "#\n"
            ]
        },
        {
            "cell_type": "markdown",
            "metadata": {},
            "source": [
                "**Question 10.**\n",
                "\n",
                "Complete the following function, which dummy codes a categorical variable by adding columns to a table.  For example, `dummy_code(diamonds, 'cut')` should add five new columns to the `diamonds` table, and the values of those columns should all be either 1 or 0."
            ]
        },
        {
            "cell_type": "code",
            "execution_count": null,
            "metadata": {},
            "outputs": [],
            "source": [
                "def dummy_code(table, label):\n",
                "    \"\"\"Dummy code the column named label in the table.\n",
                "    Returns a new table containing N new columns, where\n",
                "    N is the number of distinct values the column contains.\n",
                "    The labels of the new columns are those values.\n",
                "    \"\"\"\n",
                "    distinct_values = make_array()  \n",
                "    # hint: replace make_array() above with a call to categories\n",
                "    for v in distinct_values:\n",
                "        table = table.with_column(\n",
                "            v, ...  # hint: coding_of_value\n",
                "        )\n",
                "    return table\n",
                "\n",
                "\n",
                "dummy_code(diamonds, 'cut')"
            ]
        },
        {
            "cell_type": "code",
            "execution_count": null,
            "metadata": {},
            "outputs": [],
            "source": [
                "check10(dummy_code)"
            ]
        },
        {
            "cell_type": "code",
            "execution_count": null,
            "metadata": {
                "nbgrader": {
                    "grade": true,
                    "grade_id": "test10",
                    "locked": true,
                    "points": 1,
                    "schema_version": 1,
                    "solution": false
                }
            },
            "outputs": [],
            "source": [
                "#\n",
                "# AUTOGRADER TEST - DO NOT REMOVE\n",
                "#\n"
            ]
        },
        {
            "cell_type": "markdown",
            "metadata": {},
            "source": [
                "**Question 11.**\n",
                "\n",
                "Produce a table `diamonds_1000_dummy` that contains the same diamonds as `diamonds_1000`, as well as dummy-coded columns for cut, clarity, and color."
            ]
        },
        {
            "cell_type": "code",
            "execution_count": null,
            "metadata": {},
            "outputs": [],
            "source": [
                "# The staff solution used three lines and three calls to dummy_code.\n",
                "diamonds_1000_dummy = ...\n",
                "\n",
                "\n",
                "diamonds_1000_dummy"
            ]
        },
        {
            "cell_type": "code",
            "execution_count": null,
            "metadata": {},
            "outputs": [],
            "source": [
                "check11(diamonds_1000_dummy)"
            ]
        },
        {
            "cell_type": "code",
            "execution_count": null,
            "metadata": {
                "nbgrader": {
                    "grade": true,
                    "grade_id": "test11",
                    "locked": true,
                    "points": 1,
                    "schema_version": 1,
                    "solution": false
                }
            },
            "outputs": [],
            "source": [
                "#\n",
                "# AUTOGRADER TEST - DO NOT REMOVE\n",
                "#\n"
            ]
        },
        {
            "cell_type": "markdown",
            "metadata": {},
            "source": [
                "Run the following cell, which removes several columns from the table you just created.  The reason for dropping them is that we want to produce a table that contains only the columns necessary for regression on the 4 C's.\n",
                "\n",
                "* We don't need depth and table, since those aren't part of the 4 C's.\n",
                "* We don't need the original cut, color, or clarity columns, because we have now dummy coded them."
            ]
        },
        {
            "cell_type": "code",
            "execution_count": null,
            "metadata": {},
            "outputs": [],
            "source": [
                "columns_to_drop = make_array('depth', 'table', 'cut', 'color', 'clarity')\n",
                "diamonds_4cs = diamonds_1000_dummy.drop(columns_to_drop)\n",
                "diamonds_4cs"
            ]
        },
        {
            "cell_type": "markdown",
            "metadata": {},
            "source": [
                "**Question 12.**\n",
                "\n",
                "Complete the following function, which computes the RMSE for the `diamonds_4cs` table you just created.\n",
                "\n",
                "*Hint:* the solution is almost identical to Question 6."
            ]
        },
        {
            "cell_type": "code",
            "execution_count": null,
            "metadata": {},
            "outputs": [],
            "source": [
                "def diamonds_4cs_rmse(weights):\n",
                "    \"\"\"Returns the RMSE that results from using the weights\n",
                "    array to predict the price of all the diamonds in\n",
                "    the diamonds_4cs table.\n",
                "    \"\"\"\n",
                "    return ...\n",
                "\n",
                "\n",
                "# Here's an example usage of your function, on some \n",
                "# meaningless weights that will likely produce a very\n",
                "# high RMSE.\n",
                "some_arbitrary_weights = np.ones(diamonds_4cs.num_columns)\n",
                "diamonds_4cs_rmse(some_arbitrary_weights)"
            ]
        },
        {
            "cell_type": "code",
            "execution_count": null,
            "metadata": {},
            "outputs": [],
            "source": [
                "check12(diamonds_4cs_rmse, some_arbitrary_weights, diamonds_4cs)"
            ]
        },
        {
            "cell_type": "code",
            "execution_count": null,
            "metadata": {
                "nbgrader": {
                    "grade": true,
                    "grade_id": "test12",
                    "locked": true,
                    "points": 1,
                    "schema_version": 1,
                    "solution": false
                }
            },
            "outputs": [],
            "source": [
                "#\n",
                "# AUTOGRADER TEST - DO NOT REMOVE\n",
                "#\n"
            ]
        },
        {
            "cell_type": "markdown",
            "metadata": {},
            "source": [
                "**Question 13.**\n",
                "\n",
                "Use `minimize` to find the best weights&mdash;that is, the weights that result in the minimum RMSE.\n",
                "\n",
                "*Hint:* the solution is almost identical to Question 7.  But it will take longer to run, because there are many more columns in the table.  The staff solution took about 1 minute to run."
            ]
        },
        {
            "cell_type": "code",
            "execution_count": null,
            "metadata": {},
            "outputs": [],
            "source": [
                "best_weights_4cs = ...\n",
                "\n",
                "\n",
                "best_weights_4cs"
            ]
        },
        {
            "cell_type": "code",
            "execution_count": null,
            "metadata": {},
            "outputs": [],
            "source": [
                "check13(best_weights_4cs, diamonds_4cs, diamonds_4cs_rmse)"
            ]
        },
        {
            "cell_type": "code",
            "execution_count": null,
            "metadata": {
                "nbgrader": {
                    "grade": true,
                    "grade_id": "test13",
                    "locked": true,
                    "points": 1,
                    "schema_version": 1,
                    "solution": false
                }
            },
            "outputs": [],
            "source": [
                "#\n",
                "# AUTOGRADER TEST - DO NOT REMOVE\n",
                "#\n"
            ]
        },
        {
            "cell_type": "markdown",
            "metadata": {},
            "source": [
                "Run the following cell to see what the minimum RMSE is:"
            ]
        },
        {
            "cell_type": "code",
            "execution_count": null,
            "metadata": {},
            "outputs": [],
            "source": [
                "minimum_4cs_rmse = diamonds_4cs_rmse(best_weights_4cs)\n",
                "minimum_4cs_rmse"
            ]
        },
        {
            "cell_type": "markdown",
            "metadata": {},
            "source": [
                "You should get an RMSE that is considerably better than your original attempt at multiple regression (using carat, depth, and table).  Run the following cell to find out:"
            ]
        },
        {
            "cell_type": "code",
            "execution_count": null,
            "metadata": {},
            "outputs": [],
            "source": [
                "print('Minimum RMSE from carat, depth, and table:', minimum_mlr_rmse)\n",
                "print('Minimum RMSE from 4 C\\'s:                  ', minimum_4cs_rmse)\n",
                "\n",
                "if minimum_4cs_rmse < minimum_mlr_rmse:\n",
                "    print('Yay!  Dummy coding the 3 categorical C\\'s improved your predictions.')\n",
                "else:\n",
                "    print('Boo.  Something might be wrong with your code.')"
            ]
        },
        {
            "cell_type": "markdown",
            "metadata": {},
            "source": [
                "## 2. Submit\n",
                "\n",
                "Great job; you're done with this lab, and all the labs in this course!\n",
                "\n",
                "Before submitting, we recommend that you use the menu item Kernel -> Restart & Run All. That will re-run all your cells from scratch, just to make sure they all work as you are expecting.  Take a close look to make sure all your cells are still passing the checks.  Then, if they are, click the red Submit button."
            ]
        }
    ],
    "metadata": {
        "anaconda-cloud": [],
        "celltoolbar": "Create Assignment",
        "kernelspec": {
            "display_name": "Python 3",
            "language": "python",
            "name": "python3"
        },
        "language_info": {
            "codemirror_mode": {
                "name": "ipython",
                "version": 3
            },
            "file_extension": ".py",
            "mimetype": "text\/x-python",
            "name": "python",
            "nbconvert_exporter": "python",
            "pygments_lexer": "ipython3",
            "version": "3.6.4"
        },
        "widgets": {
            "state": {
                "06c7ff8fdbe04a6cae95bdebed4edfc2": {
                    "views": [
                        {
                            "cell_index": 3
                        }
                    ]
                },
                "8f7c2163c3e8413da5f76db8e8e634e8": {
                    "views": [
                        {
                            "cell_index": 9
                        }
                    ]
                }
            },
            "version": "1.2.0"
        }
    },
    "nbformat": 4,
    "nbformat_minor": 1
}