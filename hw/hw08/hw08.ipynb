{
    "cells": [
        {
            "cell_type": "markdown",
            "metadata": {},
            "source": [
                "# Homework 08: Regression Inference, Diagnostics, and Classification\n",
                "\n",
                "Reading:\n",
                "- Textbook chapter [13](http:\/\/www.cs.cornell.edu\/courses\/cs1380\/2018sp\/textbook\/chapters\/13\/prediction.html)\n",
                "- Textbook chapter [14](http:\/\/www.cs.cornell.edu\/courses\/cs1380\/2018sp\/textbook\/chapters\/14\/inference-for-regression.html)"
            ]
        },
        {
            "cell_type": "markdown",
            "metadata": {},
            "source": [
                "Run the cell below to prepare the notebook."
            ]
        },
        {
            "cell_type": "code",
            "execution_count": null,
            "metadata": {
                "collapsed": true
            },
            "outputs": [],
            "source": [
                "# Run this cell to set up the notebook, but please don't change it.\n",
                "import numpy as np\n",
                "from datascience import *\n",
                "\n",
                "# These lines do some fancy plotting magic.\n",
                "import matplotlib\n",
                "%matplotlib inline\n",
                "import matplotlib.pyplot as plt\n",
                "plt.style.use('fivethirtyeight')\n",
                "import warnings\n",
                "warnings.simplefilter('ignore', FutureWarning)\n",
                "from matplotlib import patches\n",
                "from ipywidgets import interact, interactive, fixed\n",
                "import ipywidgets as widgets\n",
                "\n",
                "from test import *"
            ]
        },
        {
            "cell_type": "markdown",
            "metadata": {},
            "source": [
                "## Quantifying Sampling Errors in Regression"
            ]
        },
        {
            "cell_type": "markdown",
            "metadata": {},
            "source": [
                "Previously, in this class we've used confidence intervals to quantify uncertainty about estimates as well as to test predictions. To run a hypothesis test using a confidence interval, we use the following procedure:\n",
                "1. Formulate a null hypothesis\n",
                "2. Formulate an alternative hypothesis \n",
                "3. Choose a test statistic and compute the observed value for the test statistic\n",
                "4. Bootstrap, finding a value of the test stat for each resample\n",
                "5. Generate a 95% confidence interval from those resampled test stats\n",
                "6. Based on whether your value is in an interval, make a conclusion\n",
                "\n",
                "Another thing we've covered recently is the use of linear regression to make predictions, using correlated variables. An example is, say, predicting the height of children based on the heights of their parents.\n",
                "\n",
                "Some important formulas for regression follow:\n",
                "\n",
                "- $r = \\text{mean}(x_{su} * y_{su})$\n",
                "- $\\text{slope} = r * \\frac{\\text{SD of }y}{\\text{SD of }x}$\n",
                "- $\\text{intercept} = \\text{average of }y \u2212 \\text{slope}\\cdot\\text{average of }x$\n",
                "\n",
                "We can combine these two topics together in order to make even more powerful statements about our population given just a sample as before. We can use the following techniques to do so:\n",
                "- Bootstrapped interval for the true slope\n",
                "- Bootstrapped prediction interval for y (given a particular value of x)\n",
                "\n",
                "This homework further explores these two advanced methods."
            ]
        },
        {
            "cell_type": "markdown",
            "metadata": {},
            "source": [
                "Recall the Old Faithful dataset from our lab on regression. The table contains two pieces of information about each eruption of the Old Faithful geyser in Yellowstone National Park:\n",
                "1. The duration of the eruption, in minutes.\n",
                "2. The time between this eruption and the next eruption (the \"waiting time\"), in minutes.\n",
                "\n",
                "The dataset is plotted below along with its line of best fit."
            ]
        },
        {
            "cell_type": "code",
            "execution_count": null,
            "metadata": {},
            "outputs": [],
            "source": [
                "faithful = Table.read_table('faithful_inference.csv')\n",
                "faithful.scatter('duration', fit_line=True)\n",
                "faithful"
            ]
        },
        {
            "cell_type": "markdown",
            "metadata": {},
            "source": [
                "Two quick questions:\n",
                "\n",
                "1. What variable are we trying to predict? What variable are we given?\n",
                "\n",
                "    We are trying to predict waiting time. We are given duration.\n",
                "\n",
                "\n",
                "2. Given the regression line above and that the wait time before that was 60 minutes, can we say that the eruption likely to have lasted 2.5 minutes? \n",
                "\n",
                "    No. This regression line predicts y using x. To go from x to y we would need to create a different regression line.\n"
            ]
        },
        {
            "cell_type": "markdown",
            "metadata": {
                "for_assignment_type": "student"
            },
            "source": [
                "### Finding the Bootstrap Confidence Interval for the True Slope\n",
                "\n",
                "Last time we looked at this dataset, we noticed the apparent linear relationship betwen duration and wait, and we decided to use regression to predict wait in terms of duration. However, our data are just a sample of all the eruptions that have happened at Old Faithful. As we know, relationships can appear in a sample that don't really exist in the population from which the sample was taken.\n",
                "\n",
                "Before we move forward using our linear model, we would like to know whether or not there truly exists a relationship between duration and wait time. If there is no relationship between the two, then we'd expect a correlation of 0, which would give us a slope of 0. Now, write in null and alternative hypotheses, based on your knowledge of hypothesis tests you've conducted in the past.\n",
                "\n",
                "- **Null Hypothesis:** [*Your solution goes here*]\n",
                "- **Alternate Hypothesis:** [*Your solution goes here*]\n",
                "\n",
                "We will use the method of confidence intervals to test this hypothesis."
            ]
        },
        {
            "cell_type": "markdown",
            "metadata": {},
            "source": [
                "<div class=\"hide\">\\pagebreak<\/div>\n",
                "#### Question 1\n",
                "We'll warm up by implementing some familiar functions. You may use these functions throughout this assignment. Start by defining these two functions:\n",
                "\n",
                "1. `standard_units` should take in an array of numbers and return an array containing those numbers converted to standard units.\n",
                "2. `correlation` should take in a table with 2 columns and return the correlation between these columns. Hint: you may want to use the `standard_units` function you defined above."
            ]
        },
        {
            "cell_type": "code",
            "execution_count": null,
            "metadata": {
                "collapsed": true
            },
            "outputs": [],
            "source": [
                "def standard_units(arr):\n",
                "    ...\n",
                "\n",
                "\n",
                "def correlation(tbl):\n",
                "    ...\n",
                "    \n"
            ]
        },
        {
            "cell_type": "code",
            "execution_count": null,
            "metadata": {},
            "outputs": [],
            "source": [
                "check1_1(standard_units, correlation)"
            ]
        },
        {
            "cell_type": "code",
            "execution_count": null,
            "metadata": {
                "collapsed": true,
                "nbgrader": {
                    "grade": true,
                    "grade_id": "test1_1",
                    "locked": true,
                    "points": 1,
                    "schema_version": 1,
                    "solution": false
                }
            },
            "outputs": [],
            "source": [
                "#\n",
                "# AUTOGRADER TEST - DO NOT REMOVE\n",
                "#\n"
            ]
        },
        {
            "cell_type": "markdown",
            "metadata": {},
            "source": [
                "<div class=\"hide\">\\pagebreak<\/div>\n",
                "#### Question 2\n",
                "Using the functions you just implemented, create a function called `fit_line`.  It should take a table as its argument.  It should return an array containing the slope and intercept of the regression line that predicts the second column in the table using the first."
            ]
        },
        {
            "cell_type": "code",
            "execution_count": null,
            "metadata": {
                "for_assignment_type": "student"
            },
            "outputs": [],
            "source": [
                "def fit_line(tbl):\n",
                "    ...\n",
                "    slope = ...\n",
                "    intercept = ...\n",
                "    return make_array(slope, intercept)\n",
                "\n",
                "\n",
                "# This should compute the slope and intercept of the regression\n",
                "# line predicting wait time from duration in the faithful dataset.\n",
                "fit_line(faithful)"
            ]
        },
        {
            "cell_type": "code",
            "execution_count": null,
            "metadata": {
                "collapsed": true
            },
            "outputs": [],
            "source": [
                "# Ensure your fit_line function fits a reasonable line \n",
                "# to the data in faithful, using the plot below\n",
                "# Pleae uncomment the following code once you have implemented the [fit_line] function\n",
                "\n",
                "# slope, intercept = fit_line(faithful)\n",
                "# faithful.scatter(0)\n",
                "# plt.plot([min(faithful[0]), max(faithful[0])], \n",
                "#          [slope*min(faithful[0])+intercept, slope*max(faithful[0])+intercept])\n",
                "# plt.show()"
            ]
        },
        {
            "cell_type": "code",
            "execution_count": null,
            "metadata": {},
            "outputs": [],
            "source": [
                "check1_2(fit_line)"
            ]
        },
        {
            "cell_type": "code",
            "execution_count": null,
            "metadata": {
                "collapsed": true,
                "nbgrader": {
                    "grade": true,
                    "grade_id": "test1_2",
                    "locked": true,
                    "points": 1,
                    "schema_version": 1,
                    "solution": false
                }
            },
            "outputs": [],
            "source": [
                "#\n",
                "# AUTOGRADER TEST - DO NOT REMOVE\n",
                "#\n"
            ]
        },
        {
            "cell_type": "markdown",
            "metadata": {},
            "source": [
                "Now we have all the tools we need in order to create a confidence interval quantifying our uncertainty about the true relationship between duration and wait time."
            ]
        },
        {
            "cell_type": "markdown",
            "metadata": {},
            "source": [
                "<div class=\"hide\">\\pagebreak<\/div>\n",
                "#### Question 3\n",
                "Use the bootstrap to compute 1000 resamples from our dataset. For each resample, compute the slope of the best fit line. Put these slopes in the array `resample_slopes`, giving you the empirical distribution of regression line slopes in resamples."
            ]
        },
        {
            "cell_type": "code",
            "execution_count": null,
            "metadata": {
                "collapsed": true
            },
            "outputs": [],
            "source": [
                "resample_slopes = make_array()\n",
                "for i in np.arange(1000):\n",
                "    sample = ...\n",
                "    resample_line = ...\n",
                "    resample_slope = ...\n",
                "    resample_slopes = ...\n",
                "\n",
                "\n",
                "# Please uncomment the code below once you have completed the code above. \n",
                "# Table().with_column(\"Slope estimate\", resample_slopes).hist() # DO NOT CHANGE THIS LINE"
            ]
        },
        {
            "cell_type": "code",
            "execution_count": null,
            "metadata": {},
            "outputs": [],
            "source": [
                "check1_3(resample_slopes)"
            ]
        },
        {
            "cell_type": "code",
            "execution_count": null,
            "metadata": {
                "collapsed": true,
                "nbgrader": {
                    "grade": true,
                    "grade_id": "test1_3",
                    "locked": true,
                    "points": 1,
                    "schema_version": 1,
                    "solution": false
                }
            },
            "outputs": [],
            "source": [
                "#\n",
                "# AUTOGRADER TEST - DO NOT REMOVE\n",
                "#\n"
            ]
        },
        {
            "cell_type": "markdown",
            "metadata": {},
            "source": [
                "<div class=\"hide\">\\pagebreak<\/div>\n",
                "#### Question 4\n",
                "Use your resampled slopes to construct an approximate 95% confidence interval for the true value of the slope."
            ]
        },
        {
            "cell_type": "code",
            "execution_count": null,
            "metadata": {},
            "outputs": [],
            "source": [
                "lower_end = ...\n",
                "lower_end\n",
                "\n",
                "upper_end = ...\n",
                "upper_end\n",
                "\n",
                "# Please uncomment the code below once you have completed the code above. \n",
                "# print(\"95% confidence interval for slope: [{:g}, {:g}]\".format(lower_end, upper_end))"
            ]
        },
        {
            "cell_type": "code",
            "execution_count": null,
            "metadata": {},
            "outputs": [],
            "source": [
                "check1_4(lower_end, upper_end)"
            ]
        },
        {
            "cell_type": "code",
            "execution_count": null,
            "metadata": {
                "collapsed": true,
                "nbgrader": {
                    "grade": true,
                    "grade_id": "test1_4",
                    "locked": true,
                    "points": 1,
                    "schema_version": 1,
                    "solution": false
                }
            },
            "outputs": [],
            "source": [
                "#\n",
                "# AUTOGRADER TEST - DO NOT REMOVE\n",
                "#\n"
            ]
        },
        {
            "cell_type": "markdown",
            "metadata": {},
            "source": [
                "<div class=\"hide\">\\pagebreak<\/div>\n",
                "#### Question 5\n",
                "Based on your confidence interval, would you accept or reject the null hypothesis that the true slope is 0?  Why?  What P-value cutoff are you using? Choose one of the choices below and set the variable interpret_interval equal to that value.\n",
                "\n",
                "1. We would reject the null, since 0 is not within the 95% confidence interval. If we use a 95% confidence interval, we're using a 5% cutoff.\n",
                "2. We would accept the null, since 0 is within the 95% confidence interval. If we use a 95% confidence interval, we're using a 5% cutoff.\n",
                "3. We would reject the null, since 0 is not within the 95% confidence interval. If we use a 95% confidence interval, we're using a 2.5% cutoff."
            ]
        },
        {
            "cell_type": "code",
            "execution_count": null,
            "metadata": {},
            "outputs": [],
            "source": [
                "interpret_interval = ...\n",
                "interpret_interval"
            ]
        },
        {
            "cell_type": "code",
            "execution_count": null,
            "metadata": {},
            "outputs": [],
            "source": [
                "check1_5(interpret_interval)"
            ]
        },
        {
            "cell_type": "code",
            "execution_count": null,
            "metadata": {
                "collapsed": true,
                "nbgrader": {
                    "grade": true,
                    "grade_id": "test1_5",
                    "locked": true,
                    "points": 1,
                    "schema_version": 1,
                    "solution": false
                }
            },
            "outputs": [],
            "source": [
                "#\n",
                "# AUTOGRADER TEST - DO NOT REMOVE\n",
                "#\n"
            ]
        },
        {
            "cell_type": "markdown",
            "metadata": {},
            "source": [
                "### Finding the Bootstrap Prediction Interval"
            ]
        },
        {
            "cell_type": "markdown",
            "metadata": {},
            "source": [
                "Suppose we're tourists at Yellowstone, and we'd like to know how long we'll have to wait for the next Old Faithful eruption.  We decide to use our regression line to make some predictions for the waiting times.  But just as we're uncertain about the slope of the true regression line, we're also uncertain about the predictions we'd make based on the true regression line."
            ]
        },
        {
            "cell_type": "markdown",
            "metadata": {},
            "source": [
                "<div class=\"hide\">\\pagebreak<\/div>\n",
                "#### Question 6\n",
                "Define the function `fitted_value`.  It should take 2 arguments:\n",
                "\n",
                "1. A table with 2 columns.  We'll be predicting the values in the second column using the first.\n",
                "2. A number, the value of the predictor variable for which we'd like to make a prediction.\n",
                "\n",
                "Make sure to use your `fit_line` function. "
            ]
        },
        {
            "cell_type": "code",
            "execution_count": null,
            "metadata": {
                "for_assignment_type": "student"
            },
            "outputs": [],
            "source": [
                "def fitted_value(table, given_x):\n",
                "    # The staff solution took 4 lines of code.\n",
                "    ...\n",
                "    \n",
                "    \n",
                "\n",
                "# Here's an example of how fitted_value is used.  This should\n",
                "# compute the prediction for the wait time of an eruption that lasts \n",
                "# two minutes .\n",
                "two_minutes_wait = fitted_value(faithful, 2)\n",
                "two_minutes_wait"
            ]
        },
        {
            "cell_type": "code",
            "execution_count": null,
            "metadata": {},
            "outputs": [],
            "source": [
                "check1_6(two_minutes_wait) "
            ]
        },
        {
            "cell_type": "code",
            "execution_count": null,
            "metadata": {
                "collapsed": true,
                "nbgrader": {
                    "grade": true,
                    "grade_id": "test1_6",
                    "locked": true,
                    "points": 1,
                    "schema_version": 1,
                    "solution": false
                }
            },
            "outputs": [],
            "source": [
                "#\n",
                "# AUTOGRADER TEST - DO NOT REMOVE\n",
                "#\n"
            ]
        },
        {
            "cell_type": "markdown",
            "metadata": {},
            "source": [
                "<div class=\"hide\">\\pagebreak<\/div>\n",
                "#### Question 7\n",
                "The park ranger tells us that the most recent eruption lasted 5 minutes. Using your function above, assign the variable `five_minutes_wait` to the predicted wait time. "
            ]
        },
        {
            "cell_type": "code",
            "execution_count": null,
            "metadata": {},
            "outputs": [],
            "source": [
                "five_minutes_wait = ...\n",
                "five_minutes_wait"
            ]
        },
        {
            "cell_type": "code",
            "execution_count": null,
            "metadata": {},
            "outputs": [],
            "source": [
                "check1_7(five_minutes_wait) "
            ]
        },
        {
            "cell_type": "code",
            "execution_count": null,
            "metadata": {
                "collapsed": true,
                "nbgrader": {
                    "grade": true,
                    "grade_id": "test1_7",
                    "locked": true,
                    "points": 1,
                    "schema_version": 1,
                    "solution": false
                }
            },
            "outputs": [],
            "source": [
                "#\n",
                "# AUTOGRADER TEST - DO NOT REMOVE\n",
                "#\n"
            ]
        },
        {
            "cell_type": "markdown",
            "metadata": {},
            "source": [
                "Juan, a fellow tourist, raises the following objection to your prediction:\n",
                "\n",
                "> \"Your prediction depends on your sample of 272 eruptions.  Couldn't your prediction have been different if you had happened to have a different sample of eruptions?\"\n",
                "\n",
                "Having read [section 14.3](http:\/\/www.cs.cornell.edu\/courses\/cs1380\/2018sp\/textbook\/chapters\/14\/3\/prediction-intervals.html) of the textbook, you know just the response!"
            ]
        },
        {
            "cell_type": "markdown",
            "metadata": {},
            "source": [
                "<div class=\"hide\">\\pagebreak<\/div>\n",
                "#### Question 8\n",
                "Define the function `bootstrap_lines`.  It should take two arguments:\n",
                "1. A table with two columns.  As usual, we'll be predicting the second column using the first.\n",
                "2. An integer, a number of bootstraps to run.\n",
                "\n",
                "It should return a *table* whose first column, `\"Slope\"`, contains the given number of bootstrapped slopes, and whose second column, `\"Intercept\"`, contains the corresponding bootstrapped intercepts.  Each slope and intercept should come from a regression line that predicts column 2 from column 1 of a resample of the given table.  The table should have 1 row for each bootstrap replication.\n",
                "\n",
                "**Hint:** Your code should look very similar to the code you wrote for question 3, with just a few key changes."
            ]
        },
        {
            "cell_type": "code",
            "execution_count": null,
            "metadata": {
                "for_assignment_type": "student"
            },
            "outputs": [],
            "source": [
                "def bootstrap_lines(tbl, num_bootstraps):\n",
                "    ...\n",
                "\n",
                "    \n",
                "\n",
                "\n",
                "# When you're done, this code should produce the slopes\n",
                "# and intercepts of 1000 regression lines computed from\n",
                "# resamples of the faithful table.\n",
                "regression_lines = bootstrap_lines(faithful, 1000)\n",
                "regression_lines"
            ]
        },
        {
            "cell_type": "code",
            "execution_count": null,
            "metadata": {},
            "outputs": [],
            "source": [
                "check1_8(regression_lines) "
            ]
        },
        {
            "cell_type": "code",
            "execution_count": null,
            "metadata": {
                "collapsed": true,
                "nbgrader": {
                    "grade": true,
                    "grade_id": "test1_8",
                    "locked": true,
                    "points": 1,
                    "schema_version": 1,
                    "solution": false
                }
            },
            "outputs": [],
            "source": [
                "#\n",
                "# AUTOGRADER TEST - DO NOT REMOVE\n",
                "#\n"
            ]
        },
        {
            "cell_type": "markdown",
            "metadata": {},
            "source": [
                "<div class=\"hide\">\\pagebreak<\/div>\n",
                "#### Question 9\n",
                "Create an array called `predictions_for_five`.  It should contain 1000 numbers.  Each number should be the predicted waiting time after an eruption with a duration of 5 minutes, using a different bootstrapped regression line. Hint: use `regression_lines` from the previous questions."
            ]
        },
        {
            "cell_type": "code",
            "execution_count": null,
            "metadata": {},
            "outputs": [],
            "source": [
                "predictions_for_five = ...\n",
                "predictions_for_five\n",
                "\n",
                "# This will make a histogram of your predictions:\n",
                "# Please uncomment the code below once you have completed the code above.\n",
                "# table_of_predictions = Table().with_column('Predictions at eruptions=5', predictions_for_five)\n",
                "# table_of_predictions.hist('Predictions at eruptions=5', bins=20)"
            ]
        },
        {
            "cell_type": "code",
            "execution_count": null,
            "metadata": {},
            "outputs": [],
            "source": [
                "check1_9(predictions_for_five) "
            ]
        },
        {
            "cell_type": "code",
            "execution_count": null,
            "metadata": {
                "collapsed": true,
                "nbgrader": {
                    "grade": true,
                    "grade_id": "test1_9",
                    "locked": true,
                    "points": 1,
                    "schema_version": 1,
                    "solution": false
                }
            },
            "outputs": [],
            "source": [
                "#\n",
                "# AUTOGRADER TEST - DO NOT REMOVE\n",
                "#\n"
            ]
        },
        {
            "cell_type": "markdown",
            "metadata": {},
            "source": [
                "<div class=\"hide\">\\pagebreak<\/div>\n",
                "#### Question 10\n",
                "Create a 95 percent confidence interval for these predictions."
            ]
        },
        {
            "cell_type": "code",
            "execution_count": null,
            "metadata": {},
            "outputs": [],
            "source": [
                "lower_bound = ...\n",
                "lower_bound\n",
                "\n",
                "upper_bound = ...\n",
                "upper_bound\n",
                "\n",
                "print('95% Confidence interval for predictions for x=5: (', lower_bound,\",\", upper_bound, ')')"
            ]
        },
        {
            "cell_type": "code",
            "execution_count": null,
            "metadata": {},
            "outputs": [],
            "source": [
                "check1_10(lower_bound, upper_bound)"
            ]
        },
        {
            "cell_type": "code",
            "execution_count": null,
            "metadata": {
                "collapsed": true,
                "nbgrader": {
                    "grade": true,
                    "grade_id": "test1_10",
                    "locked": true,
                    "points": 1,
                    "schema_version": 1,
                    "solution": false
                }
            },
            "outputs": [],
            "source": [
                "#\n",
                "# AUTOGRADER TEST - DO NOT REMOVE\n",
                "#\n"
            ]
        },
        {
            "cell_type": "markdown",
            "metadata": {},
            "source": [
                "<div class=\"hide\">\\pagebreak<\/div>\n",
                "#### Question 11\n",
                "Look at the scatter plot of the data at the start of this exercise.  Does your confidence interval cover around 95 percent of eruptions in `faithful` that had an eruption duration of 5 minutes? If not, what does this confidence interval mean?"
            ]
        },
        {
            "cell_type": "markdown",
            "metadata": {
                "nbgrader": {
                    "grade": true,
                    "grade_id": "manual1_11",
                    "locked": false,
                    "points": 1,
                    "schema_version": 1,
                    "solution": true
                }
            },
            "source": [
                "*Write your answer here, replacing this text.*"
            ]
        },
        {
            "cell_type": "code",
            "execution_count": null,
            "metadata": {
                "collapsed": true
            },
            "outputs": [],
            "source": [
                "# DO NOT DELETE THIS CELL\n"
            ]
        },
        {
            "cell_type": "markdown",
            "metadata": {},
            "source": [
                "## 2. Visual Diagnostics for Linear Regression\n"
            ]
        },
        {
            "cell_type": "markdown",
            "metadata": {},
            "source": [
                "### Regression Model Diagnostics\n",
                "Linear regression isn't always the best way to describe the relationship between two variables. We'd like to develop techniques that will help us decide whether or not to use a linear model to predict one variable based on another.\n",
                "\n",
                "We will use the insight that if a regression fits a set of points well, then the residuals from that regression line will show no pattern when plotted against the predictor variable. \n",
                "\n",
                "The table below contains information about crime rates and median home values in suburbs of Boston. We will attempt to use linear regression to predict median home value in terms of crime rate.\n",
                "\n",
                "#### About the dataset\n",
                "All data are from 1970.  Crime rates are per capita per year; home values are in thousands of dollars.  The crime data come from the FBI, and home values are from the US Census Bureau.  \n",
                "\n",
                "Run the next cell to load the data and see a scatter plot."
            ]
        },
        {
            "cell_type": "code",
            "execution_count": null,
            "metadata": {},
            "outputs": [],
            "source": [
                "boston = Table.read_table('boston_housing.csv')\n",
                "boston.scatter('Crime Rate')"
            ]
        },
        {
            "cell_type": "markdown",
            "metadata": {},
            "source": [
                "<div class=\"hide\">\\pagebreak<\/div>\n",
                "#### Question 1: Finding Residuals\n",
                "Write a function called `residuals`.  It should take a single argument, a table.  It should first compute the slope and intercept of the regression line that predicts the second column of that table (accessible as `tbl.column(1)`) using the first column (`tbl.column(0)`).  `residuals` should return an array containing the *residuals* for that regression line. Recall that residuals are given by \n",
                "\n",
                "$$\\texttt{residual} = \\texttt{observed value} - \\texttt{regression estimate}.$$\n",
                "\n",
                "Hint: You may want to use your function fit_line from earlier"
            ]
        },
        {
            "cell_type": "code",
            "execution_count": null,
            "metadata": {
                "collapsed": true,
                "for_assignment_type": "student"
            },
            "outputs": [],
            "source": [
                "def residuals(tbl):\n",
                "    ...\n"
            ]
        },
        {
            "cell_type": "code",
            "execution_count": null,
            "metadata": {},
            "outputs": [],
            "source": [
                "check2_1(residuals(boston))"
            ]
        },
        {
            "cell_type": "code",
            "execution_count": null,
            "metadata": {
                "collapsed": true,
                "nbgrader": {
                    "grade": true,
                    "grade_id": "test2_1",
                    "locked": true,
                    "points": 1,
                    "schema_version": 1,
                    "solution": false
                }
            },
            "outputs": [],
            "source": [
                "#\n",
                "# AUTOGRADER TEST - DO NOT REMOVE\n",
                "#\n"
            ]
        },
        {
            "cell_type": "markdown",
            "metadata": {},
            "source": [
                "<div class=\"hide\">\\pagebreak<\/div>\n",
                "#### Question 2:  Plotting a Residual Plot\n",
                "Make a scatter plot of the residuals for the Boston housing dataset against crime rate. Crime rate should be on the horizontal axis."
            ]
        },
        {
            "cell_type": "code",
            "execution_count": null,
            "metadata": {
                "nbgrader": {
                    "grade": true,
                    "grade_id": "manual2_2",
                    "locked": false,
                    "points": 1,
                    "schema_version": 1,
                    "solution": true
                }
            },
            "outputs": [],
            "source": [
                "...\n"
            ]
        },
        {
            "cell_type": "code",
            "execution_count": null,
            "metadata": {
                "collapsed": true
            },
            "outputs": [],
            "source": [
                "# DO NOT DELETE THIS CELL\n"
            ]
        },
        {
            "cell_type": "code",
            "execution_count": null,
            "metadata": {
                "collapsed": true
            },
            "outputs": [],
            "source": []
        },
        {
            "cell_type": "markdown",
            "metadata": {},
            "source": [
                "<div class=\"hide\">\\pagebreak<\/div>\n",
                "#### Question 3: Interpreting the Residual Plot\n",
                "Does the plot of residuals look roughly like a formless cloud? Or is there some kind of pattern in them? Are they centered around 0? Choose one of the choices below and set the variable interpret_residual equal to that value.\n",
                "\n",
                "1. The residuals **do** look like a formless cloud. They seem to be **high** for towns with very large or very small crime rates, and **low** for intermediate crime rates. They **should** be centered around zero horizontally.\n",
                "2. The residuals **don't** look like a formless cloud. They seem to be **low** for towns with very large or very small crime rates, and **high** for intermediate crime rates. They **should** be centered around zero horizontally. \n",
                "3. The residuals **don't** look like a formless cloud. They seem to be **high** for towns with very large or very small crime rates, and **low** for intermediate crime rates. They **should** be centered around zero horizontally.\n",
                "4. The residuals **don't** look like a formless cloud. They seem to be **high** for towns with very large or very small crime rates, and **low** for intermediate crime rates. They **shouldn't** be centered around zero horizontally. "
            ]
        },
        {
            "cell_type": "code",
            "execution_count": null,
            "metadata": {},
            "outputs": [],
            "source": [
                "interpret_residual = ...\n",
                "interpret_residual"
            ]
        },
        {
            "cell_type": "code",
            "execution_count": null,
            "metadata": {},
            "outputs": [],
            "source": [
                "check2_3(interpret_residual)"
            ]
        },
        {
            "cell_type": "code",
            "execution_count": null,
            "metadata": {
                "collapsed": true,
                "nbgrader": {
                    "grade": true,
                    "grade_id": "test2_3",
                    "locked": true,
                    "points": 1,
                    "schema_version": 1,
                    "solution": false
                }
            },
            "outputs": [],
            "source": [
                "#\n",
                "# AUTOGRADER TEST - DO NOT REMOVE\n",
                "#\n"
            ]
        },
        {
            "cell_type": "markdown",
            "metadata": {},
            "source": [
                "<div class=\"hide\">\\pagebreak<\/div>\n",
                "#### Question 4: Is Linear Regression a good fit?\n",
                "Does it seem like a linear model is appropriate for describing the relationship between crime and median home value?"
            ]
        },
        {
            "cell_type": "markdown",
            "metadata": {
                "nbgrader": {
                    "grade": true,
                    "grade_id": "manual2_4",
                    "locked": false,
                    "points": 1,
                    "schema_version": 1,
                    "solution": true
                }
            },
            "source": [
                "*Write your answer here, replacing this text.*"
            ]
        },
        {
            "cell_type": "code",
            "execution_count": null,
            "metadata": {
                "collapsed": true
            },
            "outputs": [],
            "source": [
                "# DO NOT DELETE THIS CELL\n"
            ]
        },
        {
            "cell_type": "markdown",
            "metadata": {},
            "source": [
                "[Section 13.6](http:\/\/www.cs.cornell.edu\/courses\/cs1380\/2018sp\/textbook\/chapters\/13\/6\/numerical-diagnostics.html) of the textbook describes some mathematical facts that hold for all regression estimates, regardless of goodness of fit.  One fact is that there is a relationship between the standard deviation of the residuals, the standard deviation of the response variable, and the correlation.  Let us test this.\n",
                "\n",
                "Below, we have imported a new table, the Old Faithful data."
            ]
        },
        {
            "cell_type": "code",
            "execution_count": null,
            "metadata": {},
            "outputs": [],
            "source": [
                "old_faithful = Table.read_table('faithful.csv')\n",
                "old_faithful"
            ]
        },
        {
            "cell_type": "markdown",
            "metadata": {},
            "source": [
                "The following cell makes a residual plot for this new dataset."
            ]
        },
        {
            "cell_type": "code",
            "execution_count": null,
            "metadata": {
                "collapsed": true
            },
            "outputs": [],
            "source": [
                "# Please uncomment the code below once you have completed the residuals function\n",
                "# Table().with_columns('Residual', residuals(old_faithful), 'Duration', old_faithful.column('duration')).scatter('Duration')"
            ]
        },
        {
            "cell_type": "markdown",
            "metadata": {},
            "source": [
                "<div class=\"hide\">\\pagebreak<\/div>\n",
                "#### Question 5: Finding the Standard Deviation of Residuals for Boston dataset\n",
                "Directly compute the standard deviation of the residuals from the Boston data.  Then compute the same quantity without using the residuals, using the formula described in section 13.6 instead."
            ]
        },
        {
            "cell_type": "code",
            "execution_count": null,
            "metadata": {},
            "outputs": [],
            "source": [
                "boston_residual_sd = ...\n",
                "boston_residual_sd\n",
                "\n",
                "boston_residual_sd_from_formula = ...\n",
                "boston_residual_sd_from_formula \n",
                "\n",
                "\n",
                "\n",
                "\n",
                "\n",
                "print(\"Residual SD: {0}\".format(boston_residual_sd))\n",
                "print(\"Residual SD from the formula: {0}\".format(boston_residual_sd_from_formula))"
            ]
        },
        {
            "cell_type": "code",
            "execution_count": null,
            "metadata": {},
            "outputs": [],
            "source": [
                "check2_5(boston_residual_sd, boston_residual_sd_from_formula)"
            ]
        },
        {
            "cell_type": "code",
            "execution_count": null,
            "metadata": {
                "collapsed": true,
                "nbgrader": {
                    "grade": true,
                    "grade_id": "test2_5",
                    "locked": true,
                    "points": 1,
                    "schema_version": 1,
                    "solution": false
                }
            },
            "outputs": [],
            "source": [
                "#\n",
                "# AUTOGRADER TEST - DO NOT REMOVE\n",
                "#\n"
            ]
        },
        {
            "cell_type": "markdown",
            "metadata": {},
            "source": [
                "<div class=\"hide\">\\pagebreak<\/div>\n",
                "#### Question 6: Finding the Standard Deviation of Residuals for 'Old_Faithful' dataset\n",
                "Repeat the procedure from Question 5 for the `old_faithful` dataset."
            ]
        },
        {
            "cell_type": "code",
            "execution_count": null,
            "metadata": {},
            "outputs": [],
            "source": [
                "faithful_residual_sd = ...\n",
                "faithful_residual_sd\n",
                "\n",
                "faithful_residual_sd_from_formula = ...\n",
                "faithful_residual_sd_from_formula\n",
                "\n",
                "print(\"Residual SD: {0}\".format(faithful_residual_sd))\n",
                "print(\"Residual SD from the formula: {0}\".format(faithful_residual_sd_from_formula))"
            ]
        },
        {
            "cell_type": "code",
            "execution_count": null,
            "metadata": {},
            "outputs": [],
            "source": [
                "check2_6(faithful_residual_sd, faithful_residual_sd_from_formula)"
            ]
        },
        {
            "cell_type": "code",
            "execution_count": null,
            "metadata": {
                "collapsed": true,
                "nbgrader": {
                    "grade": true,
                    "grade_id": "test2_6",
                    "locked": true,
                    "points": 1,
                    "schema_version": 1,
                    "solution": false
                }
            },
            "outputs": [],
            "source": [
                "\n",
                "#\n",
                "# AUTOGRADER TEST - DO NOT REMOVE\n",
                "#\n"
            ]
        },
        {
            "cell_type": "markdown",
            "metadata": {},
            "source": [
                "## 3. Submission"
            ]
        },
        {
            "cell_type": "markdown",
            "metadata": {
                "collapsed": true
            },
            "source": [
                "To submit your assignment, click the red Submit button above. You may submit as many times as you wish before the deadline. Only your final submission will be graded. No late work will be accepted, so please make sure you submit something before the deadline!\n",
                "\n",
                "Before you submit, it would be wise to click on the menu item Kernel -> Restart & Run All. That will re-run all your cells from scratch. Take a second look to make sure all your answers are passing the checks. Doing this will help catch any errors in your homework that result from running cells in a strange order."
            ]
        }
    ],
    "metadata": {
        "celltoolbar": "Create Assignment",
        "kernelspec": {
            "display_name": "Python 3",
            "language": "python",
            "name": "python3"
        },
        "language_info": {
            "codemirror_mode": {
                "name": "ipython",
                "version": 3
            },
            "file_extension": ".py",
            "mimetype": "text\/x-python",
            "name": "python",
            "nbconvert_exporter": "python",
            "pygments_lexer": "ipython3",
            "version": "3.6.3"
        }
    },
    "nbformat": 4,
    "nbformat_minor": 1
}