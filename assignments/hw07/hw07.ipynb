{
    "cells": [
        {
            "cell_type": "markdown",
            "metadata": {},
            "source": [
                "# Homework 7: Correlation, Regression, and Least Squares\n",
                "\n",
                "Please complete this notebook by filling in the cells provided. Before you begin, execute the following cell to load the provided tests. Each time you start your server, you will need to execute this cell again to load the tests.\n",
                "\n",
                "Reading:\n",
                "- Textbook chapter [12]( http:\/\/www.cs.cornell.edu\/courses\/cs1380\/2018sp\/textbook\/chapters\/12\/why-the-mean-matters.html) (for review)\n",
                "- Textbook chapter [13]( http:\/\/www.cs.cornell.edu\/courses\/cs1380\/2018sp\/textbook\/chapters\/13\/prediction.html)"
            ]
        },
        {
            "cell_type": "code",
            "execution_count": null,
            "metadata": {
                "collapsed": true
            },
            "outputs": [],
            "source": [
                "# Run this cell to set up the notebook, but please don't change it.\n",
                "import numpy as np\n",
                "from datascience import *\n",
                "\n",
                "# These lines do some fancy plotting magic.\n",
                "import matplotlib\n",
                "%matplotlib inline\n",
                "import matplotlib.pyplot as plt\n",
                "plt.style.use('fivethirtyeight')\n",
                "from matplotlib import patches\n",
                "from ipywidgets import interact, interactive, fixed\n",
                "import ipywidgets as widgets\n",
                "\n",
                "from test import *"
            ]
        },
        {
            "cell_type": "markdown",
            "metadata": {},
            "source": [
                "## 1. Evaluating NBA Game Predictions\n"
            ]
        },
        {
            "cell_type": "markdown",
            "metadata": {},
            "source": [
                "#### A brief introduction to sports betting\n",
                "In a basketball game, each team scores some number of points.  Conventionally, the team playing at its own arena is called the \"home team,\" and the other team is called the \"away team.\"  The winner is the team with the most points.\n",
                "\n",
                "We can summarize what happened in a game by the \"**outcome**\", defined as the **the away team's score minus the home team's score**:\n",
                "\n",
                "$$\\text{outcome} = \\text{points scored by the away team} - \\text{points scored by the home team}$$\n",
                "\n",
                "If this number is positive, the away team won.  If it's negative, the home team won. \n",
                "\n",
                "Casinos in Las Vegas offer bets on the outcomes of NBA games.  One kind of bet works like this:\n",
                "\n",
                "1. The casino decides on a \"spread.\"\n",
                "2. You can bet \\$11 that the outcome will be above the spread, or \\$11 that the outcome will be below the spread.\n",
                "3. After the game, you end up with \\$21 if you guessed correctly, and \\$0 if you guessed incorrectly.\n",
                "\n",
                "The analysts at the casino try to choose the spread so that (according to their analysis of the teams) there is a 50% chance that the outcome will be below that amount, and a 50% chance that the outcome will be above that amount.\n",
                "\n",
                "**[tl;dr](https:\/\/en.wikipedia.org\/wiki\/Wikipedia:Too_long;_didn%27t_read): The spread is the casino's best guess at the outcome (the away team's score minus the home team's score).**\n",
                "\n",
                "The table `spreads` contains spreads from the betting website [Covers](http:\/\/www.covers.com) from every game in the 2014 NBA season, plus actual game outcomes.  "
            ]
        },
        {
            "cell_type": "code",
            "execution_count": null,
            "metadata": {},
            "outputs": [],
            "source": [
                "spreads = Table.read_table(\"spreads.csv\")\n",
                "spreads"
            ]
        },
        {
            "cell_type": "markdown",
            "metadata": {},
            "source": [
                "Here's a scatter plot of the outcomes and spreads, with the spreads on the horizontal axis."
            ]
        },
        {
            "cell_type": "code",
            "execution_count": null,
            "metadata": {},
            "outputs": [],
            "source": [
                "spreads.scatter(\"Spread\", \"Outcome\")"
            ]
        },
        {
            "cell_type": "markdown",
            "metadata": {},
            "source": [
                "#### Question 1\n",
                "Why do you think that the spread and outcome are never 0 (aside from 1 case of the spread being 0)? "
            ]
        },
        {
            "cell_type": "markdown",
            "metadata": {
                "manual_problem_id": "nba_1",
                "nbgrader": {
                    "grade": true,
                    "grade_id": "manual1_1",
                    "locked": false,
                    "points": 1,
                    "schema_version": 1,
                    "solution": true
                }
            },
            "source": [
                "*Write your answer here, replacing this text.*"
            ]
        },
        {
            "cell_type": "code",
            "execution_count": null,
            "metadata": {
                "collapsed": true
            },
            "outputs": [],
            "source": [
                "# DO NOT DELETE THIS CELL\n"
            ]
        },
        {
            "cell_type": "markdown",
            "metadata": {},
            "source": [
                "Let's investigate how well the casinos are predicting game outcomes.\n",
                "\n",
                "One question we can ask is: Is the casino's prediction correct on average? In other words, for every value of the spread, is the average outcome of games assigned that spread equal to the spread? If not, the casino would apparently be making a systematic error in its predictions."
            ]
        },
        {
            "cell_type": "markdown",
            "metadata": {},
            "source": [
                "#### Question 2\n",
                "Among games with a spread between 3.5 and 6.5 (including both 3.5 and 6.5), what was the average outcome? \n",
                "\n",
                "*Hint:* Read the [documentation for the predicate `are.between_or_equal_to`](http:\/\/data8.org\/datascience\/predicates.html#datascience.predicates.are.between_or_equal_to)."
            ]
        },
        {
            "cell_type": "code",
            "execution_count": null,
            "metadata": {},
            "outputs": [],
            "source": [
                "spreads_around_5 = ...\n",
                "spread_5_outcome_average = ...\n",
                "print(\"Average outcome for spreads around 5:\", spread_5_outcome_average)"
            ]
        },
        {
            "cell_type": "code",
            "execution_count": null,
            "metadata": {},
            "outputs": [],
            "source": [
                "check1_2(spreads_around_5, spread_5_outcome_average)"
            ]
        },
        {
            "cell_type": "code",
            "execution_count": null,
            "metadata": {
                "collapsed": true,
                "nbgrader": {
                    "grade": true,
                    "grade_id": "test1_2",
                    "locked": true,
                    "points": 1,
                    "schema_version": 1,
                    "solution": false
                }
            },
            "outputs": [],
            "source": [
                "#\n",
                "# AUTOGRADER TEST - DO NOT REMOVE\n",
                "#\n"
            ]
        },
        {
            "cell_type": "markdown",
            "metadata": {},
            "source": [
                "#### Question 3\n",
                "If the average outcome for games with any given spread turned out to be exactly equal to that spread, what would the slope and intercept of the linear regression line be, in original units? Hint: If you're stuck, try drawing a picture!"
            ]
        },
        {
            "cell_type": "code",
            "execution_count": null,
            "metadata": {
                "collapsed": true
            },
            "outputs": [],
            "source": [
                "expected_slope_for_equal_spread = ...\n",
                "expected_intercept_for_equal_spread = ...\n"
            ]
        },
        {
            "cell_type": "code",
            "execution_count": null,
            "metadata": {},
            "outputs": [],
            "source": [
                "check1_3(expected_slope_for_equal_spread, expected_intercept_for_equal_spread)"
            ]
        },
        {
            "cell_type": "code",
            "execution_count": null,
            "metadata": {
                "collapsed": true,
                "nbgrader": {
                    "grade": true,
                    "grade_id": "test1_3",
                    "locked": true,
                    "points": 1,
                    "schema_version": 1,
                    "solution": false
                }
            },
            "outputs": [],
            "source": [
                "#\n",
                "# AUTOGRADER TEST - DO NOT REMOVE\n",
                "#\n"
            ]
        },
        {
            "cell_type": "markdown",
            "metadata": {},
            "source": [
                "#### Question 4\n",
                "Fix the `standard_units` function below.  It should take an array of numbers as its argument and return an array of those numbers in standard units."
            ]
        },
        {
            "cell_type": "code",
            "execution_count": null,
            "metadata": {
                "collapsed": true,
                "for_assignment_type": "student"
            },
            "outputs": [],
            "source": [
                "def standard_units(nums):\n",
                "    \"\"\"Return an array where every value in nums is converted to standard units.\"\"\"\n",
                "    return nums\/np.std(nums) - np.mean(nums)\n",
                "\n"
            ]
        },
        {
            "cell_type": "code",
            "execution_count": null,
            "metadata": {},
            "outputs": [],
            "source": [
                "check1_4(standard_units)"
            ]
        },
        {
            "cell_type": "code",
            "execution_count": null,
            "metadata": {
                "collapsed": true,
                "nbgrader": {
                    "grade": true,
                    "grade_id": "test1_4",
                    "locked": true,
                    "points": 1,
                    "schema_version": 1,
                    "solution": false
                }
            },
            "outputs": [],
            "source": [
                "#\n",
                "# AUTOGRADER TEST - DO NOT REMOVE\n",
                "#\n"
            ]
        },
        {
            "cell_type": "markdown",
            "metadata": {},
            "source": [
                "#### Question 5\n",
                "Compute the correlation between outcomes and spreads using the `standard_units` function."
            ]
        },
        {
            "cell_type": "code",
            "execution_count": null,
            "metadata": {},
            "outputs": [],
            "source": [
                "spread_r = ...\n",
                "spread_r"
            ]
        },
        {
            "cell_type": "code",
            "execution_count": null,
            "metadata": {},
            "outputs": [],
            "source": [
                "check1_5(spread_r)"
            ]
        },
        {
            "cell_type": "code",
            "execution_count": null,
            "metadata": {
                "collapsed": true,
                "nbgrader": {
                    "grade": true,
                    "grade_id": "test1_5",
                    "locked": true,
                    "points": 1,
                    "schema_version": 1,
                    "solution": false
                }
            },
            "outputs": [],
            "source": [
                "#\n",
                "# AUTOGRADER TEST - DO NOT REMOVE\n",
                "#\n"
            ]
        },
        {
            "cell_type": "markdown",
            "metadata": {},
            "source": [
                "#### Question 6\n",
                "Compute the slope of the least-squares linear regression line that predicts outcomes from spreads, in original units."
            ]
        },
        {
            "cell_type": "code",
            "execution_count": null,
            "metadata": {},
            "outputs": [],
            "source": [
                "spread_slope = ...\n",
                "spread_slope"
            ]
        },
        {
            "cell_type": "code",
            "execution_count": null,
            "metadata": {},
            "outputs": [],
            "source": [
                "check1_6(spread_slope)"
            ]
        },
        {
            "cell_type": "code",
            "execution_count": null,
            "metadata": {
                "collapsed": true,
                "nbgrader": {
                    "grade": true,
                    "grade_id": "test1_6",
                    "locked": true,
                    "points": 1,
                    "schema_version": 1,
                    "solution": false
                }
            },
            "outputs": [],
            "source": [
                "#\n",
                "# AUTOGRADER TEST - DO NOT REMOVE\n",
                "#\n"
            ]
        },
        {
            "cell_type": "markdown",
            "metadata": {},
            "source": [
                "#### Question 7\n",
                "For the \"best fit\" line that estimates the average outcome from the spread, the slope is less than 1. Does knowing the slope alone tell you whether the average spread was higher than the average outcome? If so, set the variable name below to `True`. If you think you need more information than just the slope of the regression line to answer that question, then respond `False`. Briefly justify your answer below. (HINT: Does the intercept matter?)"
            ]
        },
        {
            "cell_type": "code",
            "execution_count": null,
            "metadata": {
                "collapsed": true
            },
            "outputs": [],
            "source": [
                "slope_implies_average_spread_above_average_outcome = ...\n"
            ]
        },
        {
            "cell_type": "markdown",
            "metadata": {
                "manual_problem_id": "nba_7",
                "nbgrader": {
                    "grade": true,
                    "grade_id": "manual1_7",
                    "locked": false,
                    "points": 1,
                    "schema_version": 1,
                    "solution": true
                }
            },
            "source": [
                "*Write your answer here, replacing this text.*"
            ]
        },
        {
            "cell_type": "code",
            "execution_count": null,
            "metadata": {
                "collapsed": true
            },
            "outputs": [],
            "source": [
                "# DO NOT DELETE THIS CELL\n"
            ]
        },
        {
            "cell_type": "code",
            "execution_count": null,
            "metadata": {},
            "outputs": [],
            "source": [
                "check1_7(slope_implies_average_spread_above_average_outcome)"
            ]
        },
        {
            "cell_type": "code",
            "execution_count": null,
            "metadata": {
                "collapsed": true,
                "nbgrader": {
                    "grade": true,
                    "grade_id": "test1_7",
                    "locked": true,
                    "points": 1,
                    "schema_version": 1,
                    "solution": false
                }
            },
            "outputs": [],
            "source": [
                "#\n",
                "# AUTOGRADER TEST - DO NOT REMOVE\n",
                "#\n"
            ]
        },
        {
            "cell_type": "markdown",
            "metadata": {},
            "source": [
                "## 2. Finding the Least Squares Regression Line\n"
            ]
        },
        {
            "cell_type": "markdown",
            "metadata": {},
            "source": [
                "In this exercise, you'll work with a small invented data set.  Run the next cell to generate the dataset `d` and see a scatter plot."
            ]
        },
        {
            "cell_type": "code",
            "execution_count": null,
            "metadata": {},
            "outputs": [],
            "source": [
                "d = Table().with_columns(\n",
                "    'x', make_array(0,  1,  2,  3,  4),\n",
                "    'y', make_array(1, .5, -1,  2, -3))\n",
                "d.scatter('x')"
            ]
        },
        {
            "cell_type": "markdown",
            "metadata": {},
            "source": [
                "\n",
                "#### Question 1 (Ungraded, but you'll need the result later)\n",
                "Running the cell below will generate sliders that control the slope and intercept of a line through the scatter plot.  When you adjust a slider, the line will move.\n",
                "\n",
                "By moving the line around, make your best guess at the least-squares regression line.  (It's okay if your line isn't exactly right, as long as it's reasonable.)\n",
                "\n",
                "**Note:** Python will probably take about a second to redraw the plot each time you adjust the slider.  We suggest clicking the place on the slider you want to try and waiting for the plot to be drawn; dragging the slider handle around will cause a long lag."
            ]
        },
        {
            "cell_type": "code",
            "execution_count": null,
            "metadata": {},
            "outputs": [],
            "source": [
                "def plot_line(slope, intercept):\n",
                "    plt.figure(figsize=(5,5))\n",
                "    \n",
                "    endpoints = make_array(-2, 7)\n",
                "    p = plt.plot(endpoints, slope*endpoints + intercept, color='orange', label='Proposed line')\n",
                "    \n",
                "    plt.scatter(d.column('x'), d.column('y'), color='blue', label='Points')\n",
                "    \n",
                "    plt.xlim(-4, 8)\n",
                "    plt.ylim(-6, 6)\n",
                "    plt.gca().set_aspect('equal', adjustable='box')\n",
                "    \n",
                "    plt.legend(bbox_to_anchor=(1.8, .8))\n",
                "    plt.show()\n",
                "\n",
                "interact(plot_line, slope=widgets.FloatSlider(min=-4, max=4, step=.1), intercept=widgets.FloatSlider(min=-4, max=4, step=.1));"
            ]
        },
        {
            "cell_type": "markdown",
            "metadata": {},
            "source": [
                "<div class=\"hide\">\\pagebreak<\/div>\n",
                "\n",
                "You can probably find a reasonable-looking line by just eyeballing it.  But remember: the least-squares regression line minimizes the mean of the squared errors made by the line for each point.  Your eye might not be able to judge squared errors very well.\n",
                "\n",
                "#### A note on mean and total squared error\n",
                "\n",
                "It is common to think of the least-squares line as the line with the least *mean* squared error (or the square root of the mean squared error), as the textbook does.\n",
                "\n",
                "But it turns out that it doesn't matter whether you minimize the mean squared error or the *total* squared error.  You'll get the same best line in either case.\n",
                "\n",
                "That's because the total squared error is just the mean squared error multipled by the number of points (`d.num_rows`).  So if one line gets a better total squared error than another line, then it also gets a better mean squared error.  In particular, the line with the smallest total squared error is also better than every other line in terms of mean squared error.  That makes it the least squares line.\n",
                "\n",
                "**tl; dr:** Minimizing the mean squared error minimizes the total squared error as well."
            ]
        },
        {
            "cell_type": "markdown",
            "metadata": {
                "collapsed": true
            },
            "source": [
                "#### Question 2 (Ungraded, but you'll need the result later)\n",
                "The next cell produces a more useful plot.  Use it to find a line that's closer to the least-squares regression line, keeping the above note in mind."
            ]
        },
        {
            "cell_type": "code",
            "execution_count": null,
            "metadata": {},
            "outputs": [],
            "source": [
                "def plot_line_and_errors(slope, intercept):\n",
                "    plt.figure(figsize=(5,5))\n",
                "    points = make_array(-2, 7)\n",
                "    p = plt.plot(points, slope*points + intercept, color='orange', label='Proposed line')\n",
                "    ax = p[0].axes\n",
                "    \n",
                "    predicted_ys = slope*d.column('x') + intercept\n",
                "    diffs = predicted_ys - d.column('y')\n",
                "    for i in np.arange(d.num_rows):\n",
                "        x = d.column('x').item(i)\n",
                "        y = d.column('y').item(i)\n",
                "        diff = diffs.item(i)\n",
                "        \n",
                "        if diff > 0:\n",
                "            bottom_left_x = x\n",
                "            bottom_left_y = y\n",
                "        else:\n",
                "            bottom_left_x = x + diff\n",
                "            bottom_left_y = y + diff\n",
                "        \n",
                "        ax.add_patch(patches.Rectangle(make_array(bottom_left_x, bottom_left_y), abs(diff), abs(diff), color='red', alpha=.3, label=('Squared error' if i == 0 else None)))\n",
                "        plt.plot(make_array(x, x), make_array(y, y + diff), color='red', alpha=.6, label=('Error' if i == 0 else None))\n",
                "    \n",
                "    plt.scatter(d.column('x'), d.column('y'), color='blue', label='Points')\n",
                "    \n",
                "    plt.xlim(-4, 8)\n",
                "    plt.ylim(-6, 6)\n",
                "    plt.gca().set_aspect('equal', adjustable='box')\n",
                "    \n",
                "    plt.legend(bbox_to_anchor=(1.8, .8))\n",
                "    plt.show()\n",
                "\n",
                "interact(plot_line_and_errors, slope=widgets.FloatSlider(min=-4, max=4, step=.1), intercept=widgets.FloatSlider(min=-4, max=4, step=.1));"
            ]
        },
        {
            "cell_type": "markdown",
            "metadata": {},
            "source": [
                "#### Question 3\n",
                "Describe the visual criterion you used to find a line in question 2.  (For example, a possible (but incorrect) answer is, \"I tried to make the red line for the bottom-right point as small as possible.\")"
            ]
        },
        {
            "cell_type": "markdown",
            "metadata": {
                "manual_problem_id": "least_squares_3",
                "nbgrader": {
                    "grade": true,
                    "grade_id": "manual2_3",
                    "locked": false,
                    "points": 1,
                    "schema_version": 1,
                    "solution": true
                }
            },
            "source": [
                "*Write your answer here, replacing this text.*"
            ]
        },
        {
            "cell_type": "code",
            "execution_count": null,
            "metadata": {
                "collapsed": true
            },
            "outputs": [],
            "source": [
                "# DO NOT DELETE THIS CELL\n"
            ]
        },
        {
            "cell_type": "markdown",
            "metadata": {},
            "source": [
                "#### Question 4\n",
                "We can say that a point influences the line by how much the line would move if the point were removed from the data set. Does the point at (3, 2) have more or less influence than any other point on the location of the line? \n",
                "\n",
                "1. more\n",
                "2. less\n",
                "\n",
                "Assign `point_influence` to an **int** that corresponds to your choice.\n",
                "\n",
                "\n"
            ]
        },
        {
            "cell_type": "code",
            "execution_count": null,
            "metadata": {},
            "outputs": [],
            "source": [
                "point_influence = ...\n",
                "point_influence"
            ]
        },
        {
            "cell_type": "code",
            "execution_count": null,
            "metadata": {},
            "outputs": [],
            "source": [
                "check2_4(point_influence)"
            ]
        },
        {
            "cell_type": "code",
            "execution_count": null,
            "metadata": {
                "collapsed": true,
                "nbgrader": {
                    "grade": true,
                    "grade_id": "test2_4",
                    "locked": true,
                    "points": 1,
                    "schema_version": 1,
                    "solution": false
                }
            },
            "outputs": [],
            "source": [
                "#\n",
                "# AUTOGRADER TEST - DO NOT REMOVE\n",
                "#\n"
            ]
        },
        {
            "cell_type": "markdown",
            "metadata": {},
            "source": [
                "Now, let's have Python find this line for us.  When we use `minimize`, Python goes through a process similar to the one you might have used in question 2.\n",
                "\n",
                "But Python can't look at a plot that displays errors!  Instead, we tell it how to find the total squared error for a line with a given slope and intercept."
            ]
        },
        {
            "cell_type": "markdown",
            "metadata": {},
            "source": [
                "#### Question 5\n",
                "Define a function called `total_squared_error`.  It should take two numbers as arguments:\n",
                "\n",
                "1. the slope of some potential line\n",
                "2. the intercept of some potential line\n",
                "\n",
                "It should return the total squared error when we use that line to make predictions for the dataset `d`."
            ]
        },
        {
            "cell_type": "code",
            "execution_count": null,
            "metadata": {
                "collapsed": true
            },
            "outputs": [],
            "source": [
                "def total_squared_error(slope, intercept):\n",
                "    # Hint: The staff answer computed an array called predictions\n",
                "    # and an array called errors first.\n",
                "    predictions = ...\n",
                "    errors = ...\n",
                "    return 0\n",
                "    \n"
            ]
        },
        {
            "cell_type": "code",
            "execution_count": null,
            "metadata": {},
            "outputs": [],
            "source": [
                "check2_5(total_squared_error)"
            ]
        },
        {
            "cell_type": "code",
            "execution_count": null,
            "metadata": {
                "collapsed": true,
                "nbgrader": {
                    "grade": true,
                    "grade_id": "test2_5",
                    "locked": true,
                    "points": 1,
                    "schema_version": 1,
                    "solution": false
                }
            },
            "outputs": [],
            "source": [
                "#\n",
                "# AUTOGRADER TEST - DO NOT REMOVE\n",
                "#\n"
            ]
        },
        {
            "cell_type": "markdown",
            "metadata": {},
            "source": [
                "#### Question 6\n",
                "What is the total squared error for the line you found by \"eyeballing\" the errors in Question 1?  What about Question 2, where you made a guess that was \"aided\" by a visualization of the squared error?  (It's okay if the error went up, but for many students, the error will go down when using the visual aid.)"
            ]
        },
        {
            "cell_type": "code",
            "execution_count": null,
            "metadata": {
                "for_assignment_type": "student",
                "manual_problem_id": "least_squares_6"
            },
            "outputs": [],
            "source": [
                "eyeballed_error = ...\n",
                "aided_error = ...\n",
                "print(\"Eyeballed error:\",eyeballed_error, \"\\nAided error:\", aided_error)"
            ]
        },
        {
            "cell_type": "code",
            "execution_count": null,
            "metadata": {},
            "outputs": [],
            "source": [
                "check2_6(eyeballed_error, aided_error)"
            ]
        },
        {
            "cell_type": "code",
            "execution_count": null,
            "metadata": {
                "collapsed": true,
                "nbgrader": {
                    "grade": true,
                    "grade_id": "test2_6",
                    "locked": true,
                    "points": 1,
                    "schema_version": 1,
                    "solution": false
                }
            },
            "outputs": [],
            "source": [
                "#\n",
                "# AUTOGRADER TEST - DO NOT REMOVE\n",
                "#\n"
            ]
        },
        {
            "cell_type": "markdown",
            "metadata": {},
            "source": [
                "#### Question 7\n",
                "Use `minimize` to find the slope and intercept for the line that minimizes the total squared error. This is the definition of a least-squares regression line. \n",
                "\n",
                "**Note:** `minimize` will return a single array containing the slope as the first element and intercept as the second. Read more of its documentation [here](http:\/\/data8.org\/datascience\/util.html?highlight=minimize#datascience.util.minimize)."
            ]
        },
        {
            "cell_type": "code",
            "execution_count": null,
            "metadata": {
                "for_assignment_type": "student"
            },
            "outputs": [],
            "source": [
                "# The staff solution used 1 line of code above here.\n",
                "slope_from_minimize = 0 # change to your solution\n",
                "intercept_from_minimize = 0 # change to your solution\n",
                "print(\"Least-squares regression line: predicted_y = \", slope_from_minimize,\n",
                "      \"* x + \", intercept_from_minimize)\n"
            ]
        },
        {
            "cell_type": "code",
            "execution_count": null,
            "metadata": {},
            "outputs": [],
            "source": [
                "check2_7(slope_from_minimize, intercept_from_minimize)"
            ]
        },
        {
            "cell_type": "code",
            "execution_count": null,
            "metadata": {
                "collapsed": true,
                "nbgrader": {
                    "grade": true,
                    "grade_id": "test2_7",
                    "locked": true,
                    "points": 1,
                    "schema_version": 1,
                    "solution": false
                }
            },
            "outputs": [],
            "source": [
                "#\n",
                "# AUTOGRADER TEST - DO NOT REMOVE\n",
                "#\n"
            ]
        },
        {
            "cell_type": "markdown",
            "metadata": {},
            "source": [
                "#### Question 8\n",
                "What was the total squared error for that line?"
            ]
        },
        {
            "cell_type": "code",
            "execution_count": null,
            "metadata": {},
            "outputs": [],
            "source": [
                "best_total_squared_error = ...\n",
                "best_total_squared_error"
            ]
        },
        {
            "cell_type": "code",
            "execution_count": null,
            "metadata": {},
            "outputs": [],
            "source": [
                "check2_8(best_total_squared_error)"
            ]
        },
        {
            "cell_type": "code",
            "execution_count": null,
            "metadata": {
                "collapsed": true,
                "nbgrader": {
                    "grade": true,
                    "grade_id": "test2_8",
                    "locked": true,
                    "points": 1,
                    "schema_version": 1,
                    "solution": false
                }
            },
            "outputs": [],
            "source": [
                "#\n",
                "# AUTOGRADER TEST - DO NOT REMOVE\n",
                "#\n"
            ]
        },
        {
            "cell_type": "markdown",
            "metadata": {},
            "source": [
                "Finally, run the following cell to plot this \"best fit\" line and its errors:"
            ]
        },
        {
            "cell_type": "code",
            "execution_count": null,
            "metadata": {},
            "outputs": [],
            "source": [
                "plot_line_and_errors(slope_from_minimize, intercept_from_minimize)"
            ]
        },
        {
            "cell_type": "markdown",
            "metadata": {},
            "source": [
                "## 3. Triple Jump Distances vs. Vertical Jump Heights\n"
            ]
        },
        {
            "cell_type": "markdown",
            "metadata": {},
            "source": [
                "Does skill in one sport imply skill in a related sport?  The answer might be different for different activities.  Let us find out whether it's true for the [triple jump](https:\/\/en.wikipedia.org\/wiki\/Triple_jump) (an horizontal jump similar to a long jump) and the vertical jump.  Since we're learning about linear regression, we will look specifically for a *linear* association between skill in the two sports.\n",
                "\n",
                "The following data was collected by observing 40 collegiate level soccer players.  Each athlete's distance in both jump activities was measured in centimeters. Run the cell below to load the data."
            ]
        },
        {
            "cell_type": "code",
            "execution_count": null,
            "metadata": {},
            "outputs": [],
            "source": [
                "# Run this cell to load the data\n",
                "jumps = Table.read_table('triple_vertical.csv')\n",
                "jumps"
            ]
        },
        {
            "cell_type": "markdown",
            "metadata": {},
            "source": [
                "#### Question 1\n",
                "Before running a regression, it's important to see what the data look like, because our eyes are good at picking out unusual patterns in data.  Draw a scatter plot with the triple jump distances on the horizontal axis and the vertical jump heights on vertical axis **that also shows the regression line**. \n",
                "\n",
                "See the [documentation for `scatter`](http:\/\/data8.org\/datascience\/_autosummary\/datascience.tables.Table.scatter.html#datascience.tables.Table.scatter) for instructions on how to have Python draw the regression line automatically."
            ]
        },
        {
            "cell_type": "code",
            "execution_count": null,
            "metadata": {
                "manual_problem_id": "jumping_1",
                "nbgrader": {
                    "grade": true,
                    "grade_id": "manual3_1",
                    "locked": false,
                    "points": 1,
                    "schema_version": 1,
                    "solution": true
                },
                "scrolled": false
            },
            "outputs": [],
            "source": [
                "... # change this line to your solution\n"
            ]
        },
        {
            "cell_type": "markdown",
            "metadata": {},
            "source": [
                "**Question 2** Does the correlation coefficient `r` look closer to 0, .5, or -.5?\n",
                "\n",
                "1. closer to 0\n",
                "1. closer to 0.5\n",
                "1. closer to -0.5\n",
                "\n",
                "Assign `correlation_coefficient_choice` to an **int** that corresponds to your choice."
            ]
        },
        {
            "cell_type": "code",
            "execution_count": null,
            "metadata": {
                "collapsed": true
            },
            "outputs": [],
            "source": [
                "correlation_coefficient_choice = ...\n"
            ]
        },
        {
            "cell_type": "code",
            "execution_count": null,
            "metadata": {},
            "outputs": [],
            "source": [
                "check3_2(correlation_coefficient_choice)"
            ]
        },
        {
            "cell_type": "code",
            "execution_count": null,
            "metadata": {
                "collapsed": true,
                "nbgrader": {
                    "grade": true,
                    "grade_id": "test3_2",
                    "locked": true,
                    "points": 1,
                    "schema_version": 1,
                    "solution": false
                }
            },
            "outputs": [],
            "source": [
                "#\n",
                "# AUTOGRADER TEST - DO NOT REMOVE\n",
                "#\n"
            ]
        },
        {
            "cell_type": "markdown",
            "metadata": {},
            "source": [
                "#### Question 3\n",
                "Create a function called `regression_parameters`. It takes as its argument a table with two columns.  The first column is the x-axis, and the second column is the y-axis.  It should compute the correlation between the two columns, then compute the slope and intercept of the regression line that predicts the second column from the first, in original units (centimeters).  It should return an array with three elements: the correlation coefficient of the two columns, the slope of the regression line, and the intercept of the regression line."
            ]
        },
        {
            "cell_type": "code",
            "execution_count": null,
            "metadata": {
                "for_assignment_type": "student"
            },
            "outputs": [],
            "source": [
                "def regression_parameters(t):\n",
                "    ...\n",
                "    # Our solution had 4 lines above this one; you may use more than that\n",
                "    r = ...\n",
                "    slope = ...\n",
                "    intercept = ...\n",
                "    return make_array(r, slope, intercept)\n",
                "\n",
                "\n",
                "# When your function is finished, the next lines should\n",
                "# compute the regression line predicting vertical jump \n",
                "# distances from triple jump distances.\n",
                "parameters = regression_parameters(jumps)\n",
                "print('r:', parameters.item(0), '; slope:', parameters.item(1), '; intercept:', parameters.item(2))"
            ]
        },
        {
            "cell_type": "code",
            "execution_count": null,
            "metadata": {},
            "outputs": [],
            "source": [
                "check3_3(parameters)"
            ]
        },
        {
            "cell_type": "code",
            "execution_count": null,
            "metadata": {
                "collapsed": true,
                "nbgrader": {
                    "grade": true,
                    "grade_id": "test3_3",
                    "locked": true,
                    "points": 1,
                    "schema_version": 1,
                    "solution": false
                }
            },
            "outputs": [],
            "source": [
                "#\n",
                "# AUTOGRADER TEST - DO NOT REMOVE\n",
                "#\n"
            ]
        },
        {
            "cell_type": "markdown",
            "metadata": {},
            "source": [
                "#### Question 4\n",
                "Let's use `regression_parameters` to predict what certain athletes' vertical jump heights would be given their triple jump distances.\n",
                "\n",
                "The world record for the triple jump distance is 18.29 *meters* by Johnathan Edwards. What's our prediction for what Edwards' vertical jump would be?"
            ]
        },
        {
            "cell_type": "code",
            "execution_count": null,
            "metadata": {},
            "outputs": [],
            "source": [
                "triple_record_vert_est = 0 # change to your solution \n",
                "print(\"Predicted vertical jump distance: {:f} centimeters\".format(triple_record_vert_est))"
            ]
        },
        {
            "cell_type": "code",
            "execution_count": null,
            "metadata": {},
            "outputs": [],
            "source": [
                "check3_4(triple_record_vert_est)"
            ]
        },
        {
            "cell_type": "code",
            "execution_count": null,
            "metadata": {
                "collapsed": true,
                "nbgrader": {
                    "grade": true,
                    "grade_id": "test3_4",
                    "locked": true,
                    "points": 1,
                    "schema_version": 1,
                    "solution": false
                }
            },
            "outputs": [],
            "source": [
                "#\n",
                "# AUTOGRADER TEST - DO NOT REMOVE\n",
                "#\n"
            ]
        },
        {
            "cell_type": "markdown",
            "metadata": {},
            "source": [
                "#### Question 5\n",
                "Do you expect this estimate to be accurate within a few centimeters? (Hint: compare Edwards' triple jump distance to the triple jump distances in `jumps`. Is it relatively similar to the rest of the data?) Why or why not?"
            ]
        },
        {
            "cell_type": "markdown",
            "metadata": {
                "manual_problem_id": "jumping_5",
                "nbgrader": {
                    "grade": true,
                    "grade_id": "manual3_5",
                    "locked": false,
                    "points": 1,
                    "schema_version": 1,
                    "solution": true
                }
            },
            "source": [
                "*Write your answer here, replacing this text.*"
            ]
        },
        {
            "cell_type": "code",
            "execution_count": null,
            "metadata": {
                "collapsed": true
            },
            "outputs": [],
            "source": [
                "# DO NOT DELETE THIS CELL\n"
            ]
        },
        {
            "cell_type": "markdown",
            "metadata": {},
            "source": [
                "## 4. The Bootstrap and The Normal Curve\n"
            ]
        },
        {
            "cell_type": "markdown",
            "metadata": {},
            "source": [
                "In this exercise, we will explore a dataset that includes the safety inspection scores for restauraunts in the city of Austin, Texas.  We will be interested in determining the average restaurant score (out of 100) for the city from a random sample of the scores.  We'll compare two methods for computing a confidence interval for that quantity: the bootstrap resampling method, and an approximation based on the Central Limit Theorem."
            ]
        },
        {
            "cell_type": "code",
            "execution_count": null,
            "metadata": {},
            "outputs": [],
            "source": [
                "# Just run this cell.\n",
                "pop_restaurants = Table.read_table('restaurant_inspection_scores.csv').drop(5,6)\n",
                "pop_restaurants"
            ]
        },
        {
            "cell_type": "markdown",
            "metadata": {},
            "source": [
                "#### Question 1 (Ungraded)\n",
                "Plot a histogram of the scores."
            ]
        },
        {
            "cell_type": "code",
            "execution_count": null,
            "metadata": {},
            "outputs": [],
            "source": [
                "# Write your code here.\n",
                "...\n"
            ]
        },
        {
            "cell_type": "markdown",
            "metadata": {},
            "source": [
                "This is the population mean:"
            ]
        },
        {
            "cell_type": "code",
            "execution_count": null,
            "metadata": {},
            "outputs": [],
            "source": [
                "pop_mean = np.mean(pop_restaurants.column(3))\n",
                "pop_mean"
            ]
        },
        {
            "cell_type": "markdown",
            "metadata": {},
            "source": [
                "Often it is impossible to find complete datasets like this.  Imagine we instead had access only to a random sample of 100 restaurants, called `restaurant_sample`.  That table is created below. We are interested in using this sample to estimate the population mean."
            ]
        },
        {
            "cell_type": "code",
            "execution_count": null,
            "metadata": {},
            "outputs": [],
            "source": [
                "restaurant_sample = pop_restaurants.sample(100, with_replacement=False)\n",
                "restaurant_sample"
            ]
        },
        {
            "cell_type": "markdown",
            "metadata": {},
            "source": [
                "#### Question 2 (Ungraded)\n",
                "Plot a histogram of the **sample** scores. "
            ]
        },
        {
            "cell_type": "code",
            "execution_count": null,
            "metadata": {},
            "outputs": [],
            "source": [
                "# Write your code here:\n",
                "...\n"
            ]
        },
        {
            "cell_type": "markdown",
            "metadata": {},
            "source": [
                "This is the **sample mean**:"
            ]
        },
        {
            "cell_type": "code",
            "execution_count": null,
            "metadata": {},
            "outputs": [],
            "source": [
                "sample_mean = np.mean(restaurant_sample.column(3))\n",
                "sample_mean"
            ]
        },
        {
            "cell_type": "markdown",
            "metadata": {},
            "source": [
                "#### Question 3\n",
                "Complete the function `bootstrap_scores` below. It should take no arguments. It should simulate drawing 5000 resamples from `restaurant_sample` and computing the mean restaurant score in each resample.  It should return an array of those 5000 resample means."
            ]
        },
        {
            "cell_type": "code",
            "execution_count": null,
            "metadata": {},
            "outputs": [],
            "source": [
                "def bootstrap_scores():\n",
                "    resampled_means = ...\n",
                "    for i in range(5000):\n",
                "        resampled_mean = ...\n",
                "        resampled_means = ...\n",
                "    return make_array() # change this to your solution\n",
                " \n",
                "\n",
                "resampled_means = bootstrap_scores()\n",
                "resampled_means"
            ]
        },
        {
            "cell_type": "code",
            "execution_count": null,
            "metadata": {},
            "outputs": [],
            "source": [
                "check4_3(resampled_means)"
            ]
        },
        {
            "cell_type": "code",
            "execution_count": null,
            "metadata": {
                "collapsed": true,
                "nbgrader": {
                    "grade": true,
                    "grade_id": "test4_3",
                    "locked": true,
                    "points": 1,
                    "schema_version": 1,
                    "solution": false
                }
            },
            "outputs": [],
            "source": [
                "#\n",
                "# AUTOGRADER TEST - DO NOT REMOVE\n",
                "#\n"
            ]
        },
        {
            "cell_type": "markdown",
            "metadata": {},
            "source": [
                "Take a look at the histogram of the **resampled means**."
            ]
        },
        {
            "cell_type": "code",
            "execution_count": null,
            "metadata": {},
            "outputs": [],
            "source": [
                "Table().with_column('Resampled Means',resampled_means).hist()"
            ]
        },
        {
            "cell_type": "markdown",
            "metadata": {},
            "source": [
                "#### Question 4\n",
                "Compute a 95 percent confidence interval for the average restaurant score using the array `resampled_means`."
            ]
        },
        {
            "cell_type": "code",
            "execution_count": null,
            "metadata": {
                "manual_problem_id": "bootstrap_4"
            },
            "outputs": [],
            "source": [
                "lower_bound = ...\n",
                "upper_bound = ...\n",
                "\n",
                "print(\"95% confidence interval for the average restaurant score, computed by bootstrapping:\\n(\",lower_bound, \",\", upper_bound, \")\")"
            ]
        },
        {
            "cell_type": "code",
            "execution_count": null,
            "metadata": {},
            "outputs": [],
            "source": [
                "check4_4(lower_bound,upper_bound)"
            ]
        },
        {
            "cell_type": "code",
            "execution_count": null,
            "metadata": {
                "collapsed": true,
                "nbgrader": {
                    "grade": true,
                    "grade_id": "test4_4",
                    "locked": true,
                    "points": 1,
                    "schema_version": 1,
                    "solution": false
                }
            },
            "outputs": [],
            "source": [
                "#\n",
                "# AUTOGRADER TEST - DO NOT REMOVE\n",
                "#\n"
            ]
        },
        {
            "cell_type": "markdown",
            "metadata": {},
            "source": [
                "#### Question 5\n",
                "Does the distribution of the resampled mean scores look normally distributed? State \"yes\" or \"no\" and describe in one sentence why you should expect this result."
            ]
        },
        {
            "cell_type": "markdown",
            "metadata": {
                "manual_problem_id": "bootstrap_6",
                "nbgrader": {
                    "grade": true,
                    "grade_id": "manual4_5",
                    "locked": false,
                    "points": 1,
                    "schema_version": 1,
                    "solution": true
                }
            },
            "source": [
                "*Write your answer here, replacing this text.*"
            ]
        },
        {
            "cell_type": "code",
            "execution_count": null,
            "metadata": {
                "collapsed": true
            },
            "outputs": [],
            "source": [
                "# DO NOT DELETE THIS CELL\n"
            ]
        },
        {
            "cell_type": "markdown",
            "metadata": {},
            "source": [
                "#### Question 6\n",
                "Does the distribution of the **sample scores** (notice we're no longer talking about the resampled means) look normally distributed? State \"yes\" or \"no\" and describe in one sentence why you should expect this result."
            ]
        },
        {
            "cell_type": "markdown",
            "metadata": {
                "manual_problem_id": "bootstrap_5",
                "nbgrader": {
                    "grade": true,
                    "grade_id": "manual4_6",
                    "locked": false,
                    "points": 1,
                    "schema_version": 1,
                    "solution": true
                }
            },
            "source": [
                "*Write your answer here, replacing this text.*"
            ]
        },
        {
            "cell_type": "code",
            "execution_count": null,
            "metadata": {
                "collapsed": true
            },
            "outputs": [],
            "source": [
                "# DO NOT DELETE THIS CELL\n"
            ]
        },
        {
            "cell_type": "markdown",
            "metadata": {},
            "source": [
                "For the last question, you'll need to recall two facts.\n",
                "1. If a group of numbers has a normal distribution, around 95% of them lie within 2 standard deviations of their mean.\n",
                "2. The Central Limit Theorem tells us the quantitative relationship between\n",
                "    * the standard deviation of an array of numbers and\n",
                "    * the standard deviation of an array of means of samples taken from those numbers."
            ]
        },
        {
            "cell_type": "markdown",
            "metadata": {},
            "source": [
                "#### Question 7\n",
                "Without referencing the array `resampled_means` or performing any new simulations, calculate an interval around the `sample_mean` that covers approximately 95% of the numbers in the `resampled_means` array.  **You may use the following values to compute your result, but you should not perform additional resampling** - think about how you can use the CLT to accomplish this."
            ]
        },
        {
            "cell_type": "code",
            "execution_count": null,
            "metadata": {
                "for_assignment_type": "student",
                "manual_problem_id": "bootstrap_7"
            },
            "outputs": [],
            "source": [
                "sample_mean = np.mean(restaurant_sample.column(3))\n",
                "sample_sd = np.std(restaurant_sample.column(3))\n",
                "sample_size = restaurant_sample.num_rows\n",
                "\n",
                "# change below to your solution\n",
                "lower_bound_normal = ...\n",
                "upper_bound_normal = ...\n",
                "\n",
                "\n",
                "print(\"95% confidence interval for the average restaurant score, computed by a normal approximation:\\n(\",lower_bound_normal, \",\", upper_bound_normal, \")\")"
            ]
        },
        {
            "cell_type": "code",
            "execution_count": null,
            "metadata": {},
            "outputs": [],
            "source": [
                "check4_7(lower_bound_normal, upper_bound_normal)"
            ]
        },
        {
            "cell_type": "code",
            "execution_count": null,
            "metadata": {
                "collapsed": true,
                "nbgrader": {
                    "grade": true,
                    "grade_id": "test4_7",
                    "locked": true,
                    "points": 1,
                    "schema_version": 1,
                    "solution": false
                }
            },
            "outputs": [],
            "source": [
                "#\n",
                "# AUTOGRADER TEST - DO NOT REMOVE\n",
                "#\n"
            ]
        },
        {
            "cell_type": "markdown",
            "metadata": {},
            "source": [
                "This confidence interval should look very similar to the one you computed in question 5. If not, try calculating the inner 95 percent using 1.96 standard deviations instead of 2, for a more precise calculation. If they are still very different, there may be an error in your code."
            ]
        },
        {
            "cell_type": "markdown",
            "metadata": {},
            "source": [
                "## 5. Submission\n"
            ]
        },
        {
            "cell_type": "markdown",
            "metadata": {
                "collapsed": true
            },
            "source": [
                "To submit your assignment, click the red Submit button above. You may submit as many times as you wish before the deadline. Only your final submission will be graded. No late work will be accepted, so please make sure you submit something before the deadline!\n",
                "\n",
                "Before you submit, it would be wise to click on the menu item Kernel -> Restart & Run All. That will re-run all your cells from scratch. Take a second look to make sure all your answers are passing the checks. Doing this will help catch any errors in your homework that result from running cells in a strange order."
            ]
        }
    ],
    "metadata": {
        "celltoolbar": "Create Assignment",
        "kernelspec": {
            "display_name": "Python 3",
            "language": "python",
            "name": "python3"
        },
        "language_info": {
            "codemirror_mode": {
                "name": "ipython",
                "version": 3
            },
            "file_extension": ".py",
            "mimetype": "text\/x-python",
            "name": "python",
            "nbconvert_exporter": "python",
            "pygments_lexer": "ipython3",
            "version": "3.6.4"
        }
    },
    "nbformat": 4,
    "nbformat_minor": 1
}