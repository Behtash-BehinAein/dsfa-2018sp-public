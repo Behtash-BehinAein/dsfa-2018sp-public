{
 "cells": [
  {
   "cell_type": "code",
   "execution_count": null,
   "metadata": {
    "collapsed": true
   },
   "outputs": [],
   "source": [
    "from datascience import *\n",
    "import numpy as np\n",
    "\n",
    "import matplotlib.pyplot as plots\n",
    "plots.style.use('fivethirtyeight')\n",
    "%matplotlib inline"
   ]
  },
  {
   "cell_type": "markdown",
   "metadata": {},
   "source": [
    "## More Examples"
   ]
  },
  {
   "cell_type": "code",
   "execution_count": null,
   "metadata": {},
   "outputs": [],
   "source": [
    "births = Table.read_table('baby.csv')\n",
    "births"
   ]
  },
  {
   "cell_type": "code",
   "execution_count": null,
   "metadata": {},
   "outputs": [],
   "source": [
    "births.hist(\"Gestational Days\")\n",
    "plots.scatter(258, 0, color='red', s=400)"
   ]
  },
  {
   "cell_type": "code",
   "execution_count": null,
   "metadata": {},
   "outputs": [],
   "source": [
    "births.with_column(\n",
    "    'Birth Weight (lbs)', births.column('Birth Weight')/16\n",
    ").hist('Birth Weight (lbs)')"
   ]
  },
  {
   "cell_type": "code",
   "execution_count": null,
   "metadata": {},
   "outputs": [],
   "source": [
    "babies = births.select('Birth Weight', 'Gestational Days')\n",
    "babies"
   ]
  },
  {
   "cell_type": "code",
   "execution_count": null,
   "metadata": {},
   "outputs": [],
   "source": [
    "ratios = babies.with_column(\n",
    "    'Ratio BW/GD', babies.column(0)/babies.column(1)\n",
    ")\n",
    "ratios"
   ]
  },
  {
   "cell_type": "code",
   "execution_count": null,
   "metadata": {},
   "outputs": [],
   "source": [
    "ratios.hist('Ratio BW/GD')"
   ]
  },
  {
   "cell_type": "code",
   "execution_count": null,
   "metadata": {},
   "outputs": [],
   "source": [
    "pop_median = np.median(ratios.column('Ratio BW/GD'))\n",
    "pop_median"
   ]
  },
  {
   "cell_type": "code",
   "execution_count": null,
   "metadata": {},
   "outputs": [],
   "source": [
    "pop_median*258 / 16"
   ]
  },
  {
   "cell_type": "code",
   "execution_count": null,
   "metadata": {},
   "outputs": [],
   "source": [
    "# use bootstrap to estimate 95% confidence interval\n",
    "# for median BW/GD in population\n",
    "\n",
    "resampled_medians = make_array()\n",
    "for i in np.arange(1000):\n",
    "    resample = ratios.sample()\n",
    "    median = np.median(resample.column('Ratio BW/GD'))\n",
    "    resampled_medians = np.append(resampled_medians, median)\n",
    "    \n",
    "interval_95 = [percentile(2.5, resampled_medians),\n",
    "               percentile(97.5, resampled_medians)]"
   ]
  },
  {
   "cell_type": "code",
   "execution_count": null,
   "metadata": {},
   "outputs": [],
   "source": [
    "Table().with_column('Resampled median', resampled_medians).hist('Resampled median')\n",
    "plots.plot(interval_95, [0, 0], color='gold', lw=5)\n",
    "plots.scatter(pop_median, 0, color='red', s=400)"
   ]
  },
  {
   "cell_type": "markdown",
   "metadata": {},
   "source": [
    "# Maternal Ages"
   ]
  },
  {
   "cell_type": "code",
   "execution_count": null,
   "metadata": {},
   "outputs": [],
   "source": [
    "# how old are mothers in the sample?\n",
    "births.hist(\"Maternal Age\")"
   ]
  },
  {
   "cell_type": "code",
   "execution_count": null,
   "metadata": {},
   "outputs": [],
   "source": [
    "pop_mean = np.mean(births.column(\"Maternal Age\"))\n",
    "pop_mean"
   ]
  },
  {
   "cell_type": "code",
   "execution_count": null,
   "metadata": {},
   "outputs": [],
   "source": [
    "# use bootstrap to estimate 95% confidence interval\n",
    "# for mean age of mothers in population\n",
    "\n",
    "resampled_means = make_array()\n",
    "for i in np.arange(1000):\n",
    "    resample = births.sample()\n",
    "    mean = np.mean(resample.column('Maternal Age'))\n",
    "    resampled_means = np.append(resampled_means, mean)\n",
    "    \n",
    "interval_95 = [percentile(2.5, resampled_means),\n",
    "               percentile(97.5, resampled_means)]\n",
    "\n",
    "Table().with_column('Resampled mean', resampled_means).hist('Resampled mean')\n",
    "plots.plot(interval_95, [0, 0], color='gold', lw=5)\n",
    "plots.scatter(pop_mean, 0, color='red', s=400)"
   ]
  },
  {
   "cell_type": "markdown",
   "metadata": {},
   "source": [
    "* **Null:** Population mean is 28\n",
    "* **Alternative:** Population mean is not 28"
   ]
  },
  {
   "cell_type": "markdown",
   "metadata": {},
   "source": [
    "# Does smoking affect fetal growth?"
   ]
  },
  {
   "cell_type": "markdown",
   "metadata": {},
   "source": [
    "* **Null:** There is no difference in growth rates for smokers vs nonsmokers\n",
    "* **Alternative:** Growth rate is different for smokers"
   ]
  },
  {
   "cell_type": "code",
   "execution_count": null,
   "metadata": {
    "collapsed": true
   },
   "outputs": [],
   "source": [
    "def growth_rate(bw, gd):\n",
    "    return bw/gd"
   ]
  },
  {
   "cell_type": "code",
   "execution_count": null,
   "metadata": {},
   "outputs": [],
   "source": [
    "bw_per_gd = births.apply(growth_rate, \"Birth Weight\", \"Gestational Days\")\n",
    "births = births.with_column(\"Ratio BW/GD\", bw_per_gd)\n",
    "births"
   ]
  },
  {
   "cell_type": "code",
   "execution_count": null,
   "metadata": {},
   "outputs": [],
   "source": [
    "smoker_median = np.median(births.where(\"Maternal Smoker\", True).column(\"Ratio BW/GD\"))\n",
    "nonsmoker_median = np.median(births.where(\"Maternal Smoker\", False).column(\"Ratio BW/GD\"))\n",
    "print(\"Median BW/GD for smokers is\", smoker_median)\n",
    "print(\"Median BW/GD for nonsmokers is\", nonsmoker_median)"
   ]
  },
  {
   "cell_type": "code",
   "execution_count": null,
   "metadata": {},
   "outputs": [],
   "source": [
    "nonsmoker_median*258/16"
   ]
  },
  {
   "cell_type": "code",
   "execution_count": null,
   "metadata": {
    "collapsed": true
   },
   "outputs": [],
   "source": [
    "def test_statistic(sample):\n",
    "    smoker_median = np.median(sample.where(\"Maternal Smoker\", True).column(\"Ratio BW/GD\"))\n",
    "    nonsmoker_median = np.median(sample.where(\"Maternal Smoker\", False).column(\"Ratio BW/GD\"))\n",
    "    return nonsmoker_median - smoker_median"
   ]
  },
  {
   "cell_type": "code",
   "execution_count": null,
   "metadata": {},
   "outputs": [],
   "source": [
    "observed = test_statistic(births)\n",
    "observed"
   ]
  },
  {
   "cell_type": "code",
   "execution_count": null,
   "metadata": {},
   "outputs": [],
   "source": [
    "# use bootstrap to estimate 95% confidence interval\n",
    "# for test statistic\n",
    "\n",
    "sample_stats = make_array()\n",
    "for i in np.arange(1000):\n",
    "    resample = births.sample()\n",
    "    sample_stat = test_statistic(resample)\n",
    "    sample_stats = np.append(sample_stats, sample_stat)\n",
    "    \n",
    "interval_95 = [percentile(2.5, sample_stats),\n",
    "               percentile(97.5, sample_stats)]\n",
    "\n",
    "Table().with_column('Difference in growth ratio', sample_stats).hist('Difference in growth ratio')\n",
    "plots.plot(interval_95, [0, 0], color='gold', lw=5)\n",
    "plots.scatter(observed, 0, color='red', s=400)"
   ]
  },
  {
   "cell_type": "markdown",
   "metadata": {},
   "source": [
    "Conclusion of hypothesis test?"
   ]
  }
 ],
 "metadata": {
  "kernelspec": {
   "display_name": "Python 3",
   "language": "python",
   "name": "python3"
  },
  "language_info": {
   "codemirror_mode": {
    "name": "ipython",
    "version": 3
   },
   "file_extension": ".py",
   "mimetype": "text/x-python",
   "name": "python",
   "nbconvert_exporter": "python",
   "pygments_lexer": "ipython3",
   "version": "3.6.3"
  }
 },
 "nbformat": 4,
 "nbformat_minor": 2
}
