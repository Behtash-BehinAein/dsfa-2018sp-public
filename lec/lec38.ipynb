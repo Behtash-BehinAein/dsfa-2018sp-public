{
 "cells": [
  {
   "cell_type": "markdown",
   "metadata": {},
   "source": [
    "# Lecture 38: Multiple Regression"
   ]
  },
  {
   "cell_type": "code",
   "execution_count": null,
   "metadata": {},
   "outputs": [],
   "source": [
    "from datascience import *\n",
    "import numpy as np\n",
    "\n",
    "import matplotlib.pyplot as plots\n",
    "from mpl_toolkits.mplot3d import Axes3D\n",
    "plots.style.use('fivethirtyeight')\n",
    "%matplotlib inline\n",
    "np.set_printoptions(legacy='1.13')\n",
    "import time"
   ]
  },
  {
   "cell_type": "markdown",
   "metadata": {},
   "source": [
    "**All the usual regression functions.**"
   ]
  },
  {
   "cell_type": "code",
   "execution_count": null,
   "metadata": {},
   "outputs": [],
   "source": [
    "def standard_units(any_numbers):\n",
    "    \"Convert any array of numbers to standard units.\"\n",
    "    return (any_numbers - np.mean(any_numbers))/np.std(any_numbers)  \n",
    "\n",
    "def correlation(t, x, y):\n",
    "    return np.mean(standard_units(t.column(x))*standard_units(t.column(y)))\n",
    "\n",
    "def slope(t, x, y):\n",
    "    \"\"\"The slope of the regression line (original units).\"\"\"\n",
    "    r = correlation(t, x, y)\n",
    "    return r * np.std(t.column(y)) / np.std(t.column(x))\n",
    "\n",
    "def intercept(t, x, y):\n",
    "    \"\"\"The intercept of the regression line (original units).\"\"\"\n",
    "    return np.mean(t.column(y)) - slope(t, x, y) * np.mean(t.column(x))\n",
    "\n",
    "def rmse(t, x, y):\n",
    "    \"\"\"The RMSE of predicting y based on x.\"\"\"\n",
    "    r = correlation(t, x, y)\n",
    "    return np.std(t.column(y)) * np.sqrt(1 - r**2)"
   ]
  },
  {
   "cell_type": "markdown",
   "metadata": {},
   "source": [
    "## House sales"
   ]
  },
  {
   "cell_type": "code",
   "execution_count": null,
   "metadata": {},
   "outputs": [],
   "source": [
    "# House sales in Ames, Iowa, 2006-2010\n",
    "all_sales = Table.read_table('house.csv')\n",
    "sales = all_sales.where('Bldg Type', '1Fam').where('Sale Condition', 'Normal').select(\n",
    "    'SalePrice', '1st Flr SF', '2nd Flr SF', \n",
    "    'Total Bsmt SF', 'Garage Area', \n",
    "    'Wood Deck SF', 'Open Porch SF', 'Lot Area', \n",
    "    'Year Built', 'Yr Sold')\n",
    "sales.sort('SalePrice')"
   ]
  },
  {
   "cell_type": "markdown",
   "metadata": {},
   "source": [
    "**Q:** Suppose you wanted to predict the sale price of a house.  What do you think would be the best attribute to use?\n",
    "\n",
    "A. The size of the house  \n",
    "B. The age of the house  \n",
    "C. The location of the house  \n",
    "D. The year of the sale  \n",
    "E. Something else  \n",
    "\n",
    "<br/><br/><br/><br/><br/><br/><br/>"
   ]
  },
  {
   "cell_type": "code",
   "execution_count": null,
   "metadata": {},
   "outputs": [],
   "source": [
    "def plot_and_correlate(table, x, y):\n",
    "    table.scatter(x, y, fit_line=True)\n",
    "    print('r:    ', correlation(table, x, y))\n",
    "    print('RMSE: ', rmse(table, x, y))\n",
    "\n",
    "plot_and_correlate(sales, '1st Flr SF', 'SalePrice')"
   ]
  },
  {
   "cell_type": "code",
   "execution_count": null,
   "metadata": {},
   "outputs": [],
   "source": [
    "plot_and_correlate(sales, '2nd Flr SF', 'SalePrice')"
   ]
  },
  {
   "cell_type": "code",
   "execution_count": null,
   "metadata": {},
   "outputs": [],
   "source": [
    "has_2nd_flr = sales.where('2nd Flr SF', are.above(0))\n",
    "plot_and_correlate(has_2nd_flr, '2nd Flr SF', 'SalePrice')"
   ]
  },
  {
   "cell_type": "code",
   "execution_count": null,
   "metadata": {},
   "outputs": [],
   "source": [
    "combined_floor_sf = sales.with_column(\n",
    "    'Combined 1st 2nd Flr SF', \n",
    "    sales.column('1st Flr SF') + sales.column('2nd Flr SF')\n",
    ")\n",
    "plot_and_correlate(combined_floor_sf, \n",
    "                   'Combined 1st 2nd Flr SF', 'SalePrice')"
   ]
  },
  {
   "cell_type": "code",
   "execution_count": null,
   "metadata": {},
   "outputs": [],
   "source": [
    "total_sf = sales.with_column(\n",
    "    'Total SF', \n",
    "    sales.column('1st Flr SF') + sales.column('2nd Flr SF')\n",
    "    + sales.column('Total Bsmt SF') + sales.column('Garage Area')\n",
    "    + sales.column('Wood Deck SF') + sales.column('Open Porch SF')\n",
    ")\n",
    "plot_and_correlate(total_sf, \n",
    "                   'Total SF', 'SalePrice')"
   ]
  },
  {
   "cell_type": "markdown",
   "metadata": {},
   "source": [
    "Harder to incorporate into sum:  lot area.  Maybe we should weight it differently than SF?  What about year built and year sold?"
   ]
  },
  {
   "cell_type": "markdown",
   "metadata": {},
   "source": [
    "## Weighted sum of attributes"
   ]
  },
  {
   "cell_type": "markdown",
   "metadata": {},
   "source": [
    "Given $n$ attributes \n",
    "$$x_1, x_2, \\ldots, x_n$$\n",
    "predict $y$ by weighting each attribute with its own coefficient:\n",
    "$$y = a_1 \\cdot x_1 + a_2 \\cdot x_2 + \\ldots + a_n \\cdot x_n + b \\cdot 1$$"
   ]
  },
  {
   "cell_type": "code",
   "execution_count": null,
   "metadata": {},
   "outputs": [],
   "source": [
    "first_house = np.array(sales.drop('SalePrice').row(0))\n",
    "first_house"
   ]
  },
  {
   "cell_type": "code",
   "execution_count": null,
   "metadata": {},
   "outputs": [],
   "source": [
    "len(first_house)"
   ]
  },
  {
   "cell_type": "markdown",
   "metadata": {},
   "source": [
    "**Q:** How many coefficients (a's and b's) do we need to predict $y$ for this set of attributes?\n",
    "\n",
    "A. 8  \n",
    "B. 9  \n",
    "C. 10  \n",
    "D. 11  \n",
    "E. None of the above\n",
    "\n",
    "<br/><br/><br/><br/><br/>"
   ]
  },
  {
   "cell_type": "code",
   "execution_count": null,
   "metadata": {},
   "outputs": [],
   "source": [
    "some_dumb_weights = make_array(0, 1, 2, 3, 4, 5, 6, 7, 8, 9)\n",
    "some_dumb_weights"
   ]
  },
  {
   "cell_type": "code",
   "execution_count": null,
   "metadata": {},
   "outputs": [],
   "source": [
    "#some_dumb_weights * first_house"
   ]
  },
  {
   "cell_type": "code",
   "execution_count": null,
   "metadata": {},
   "outputs": [],
   "source": [
    "np.sum(some_dumb_weights * np.append(first_house, make_array(1)))"
   ]
  },
  {
   "cell_type": "code",
   "execution_count": null,
   "metadata": {},
   "outputs": [],
   "source": [
    "def predict(weights, attributes):\n",
    "    \"\"\"Use multiple linear regression to predict a value.\n",
    "    The weights array contains the coefficients to use for\n",
    "    prediction:  a1, a2, ..., an, b.\n",
    "    The attributes array contains the attributes to use\n",
    "    for prediction:  x1, x2, ..., xn.\n",
    "    \"\"\"\n",
    "    attributes_with_extra_1 = np.append(attributes, make_array(1))\n",
    "    return np.sum(weights * attributes_with_extra_1)\n",
    "\n",
    "predict(some_dumb_weights, first_house)"
   ]
  },
  {
   "cell_type": "code",
   "execution_count": null,
   "metadata": {},
   "outputs": [],
   "source": [
    "sales.column('SalePrice').item(0)"
   ]
  },
  {
   "cell_type": "code",
   "execution_count": null,
   "metadata": {},
   "outputs": [],
   "source": [
    "def sales_rmse(weights):\n",
    "    \"\"\"The RMSE that results from using the weights array\n",
    "    to predict the sale prices for the houses in the sales table.\n",
    "    \"\"\"\n",
    "    def predict_row(row):\n",
    "        return predict(weights, np.array(row))\n",
    "    predicted_prices = sales.drop('SalePrice').apply(predict_row)\n",
    "    actual_prices = sales.column('SalePrice')\n",
    "    errors = actual_prices - predicted_prices\n",
    "    return np.sqrt(np.mean(errors**2))\n",
    "\n",
    "sales_rmse(some_dumb_weights)"
   ]
  },
  {
   "cell_type": "markdown",
   "metadata": {},
   "source": [
    "**Q:** What technique could we use to find the best weights?\n",
    "\n",
    "A. Resampling  \n",
    "B. Hypothesis testing  \n",
    "C. Minimization  \n",
    "\n",
    "<br/><br/><br/><br/><br/>"
   ]
  },
  {
   "cell_type": "markdown",
   "metadata": {},
   "source": [
    "## Minimizing a function"
   ]
  },
  {
   "cell_type": "markdown",
   "metadata": {},
   "source": [
    "$$f(x) = x^2 + 10$$"
   ]
  },
  {
   "cell_type": "code",
   "execution_count": null,
   "metadata": {},
   "outputs": [],
   "source": [
    "def f(x):\n",
    "    \"\"\"f(x) = x**2 + 10\"\"\"\n",
    "    return x**2 + 10"
   ]
  },
  {
   "cell_type": "code",
   "execution_count": null,
   "metadata": {},
   "outputs": [],
   "source": [
    "f_table = Table(['x', 'y'])\n",
    "\n",
    "for x in np.arange(-10, 10.1, .1):\n",
    "    y = f(x)\n",
    "    f_table.append([x, y])\n",
    "\n",
    "f_table.scatter('x', 'y')"
   ]
  },
  {
   "cell_type": "code",
   "execution_count": null,
   "metadata": {},
   "outputs": [],
   "source": [
    "best_x = minimize(f)\n",
    "best_x"
   ]
  },
  {
   "cell_type": "code",
   "execution_count": null,
   "metadata": {},
   "outputs": [],
   "source": [
    "f(best_x)"
   ]
  },
  {
   "cell_type": "markdown",
   "metadata": {},
   "source": [
    "*Note to self: start running RMSE computation below.*"
   ]
  },
  {
   "cell_type": "markdown",
   "metadata": {},
   "source": [
    "$$g(x_1, x_2) = x_1^2 + x_2^2 + 10$$"
   ]
  },
  {
   "cell_type": "code",
   "execution_count": null,
   "metadata": {},
   "outputs": [],
   "source": [
    "def g(xs):\n",
    "    \"\"\"g([x1,x2]) = x1**2 + x2**2 + 10\"\"\"\n",
    "    return xs.item(0) ** 2 + xs.item(1) ** 2 + 10"
   ]
  },
  {
   "cell_type": "code",
   "execution_count": null,
   "metadata": {},
   "outputs": [],
   "source": [
    "g_table = Table(['x1', 'x2', 'y'])\n",
    "\n",
    "for x1 in np.arange(-10, 10.1, 1):\n",
    "    for x2 in np.arange(-10, 10.1, 1):\n",
    "        y = g(make_array(x1, x2))\n",
    "        g_table.append([x1, x2, y])"
   ]
  },
  {
   "cell_type": "code",
   "execution_count": null,
   "metadata": {},
   "outputs": [],
   "source": [
    "fig = plots.figure()\n",
    "ax = plots.axes(projection='3d')\n",
    "ax.plot_trisurf(g_table.column('x1'), \n",
    "           g_table.column('x2'), \n",
    "           g_table.column('y'));"
   ]
  },
  {
   "cell_type": "code",
   "execution_count": null,
   "metadata": {},
   "outputs": [],
   "source": [
    "best_xs = minimize(g, array=True, start=make_array(1,1))\n",
    "best_xs"
   ]
  },
  {
   "cell_type": "code",
   "execution_count": null,
   "metadata": {},
   "outputs": [],
   "source": [
    "g(best_xs)"
   ]
  },
  {
   "cell_type": "markdown",
   "metadata": {},
   "source": [
    "**Minimizing RMSE.**"
   ]
  },
  {
   "cell_type": "code",
   "execution_count": null,
   "metadata": {},
   "outputs": [],
   "source": [
    "# long computation (2 minutes)\n",
    "print(time.ctime())\n",
    "best_weights = minimize(sales_rmse, start=np.ones(10), array=True)\n",
    "print(time.ctime())\n",
    "best_weights"
   ]
  },
  {
   "cell_type": "code",
   "execution_count": null,
   "metadata": {},
   "outputs": [],
   "source": [
    "weight_labels = list(sales.labels[1:]) + ['b']\n",
    "weights = Table().with_columns(\n",
    "    'Attribute', weight_labels,\n",
    "    'Weight', list(best_weights)\n",
    ")\n",
    "weights.show()"
   ]
  },
  {
   "cell_type": "code",
   "execution_count": null,
   "metadata": {},
   "outputs": [],
   "source": [
    "slope(sales, '1st Flr SF', 'SalePrice')"
   ]
  },
  {
   "cell_type": "code",
   "execution_count": null,
   "metadata": {},
   "outputs": [],
   "source": [
    "sales.scatter('1st Flr SF', 'SalePrice', fit_line=True)"
   ]
  },
  {
   "cell_type": "markdown",
   "metadata": {},
   "source": [
    "**Caution:** tempting to conclude \"buyers pay $72/SF on the first floor,\" but that might not be true."
   ]
  },
  {
   "cell_type": "code",
   "execution_count": null,
   "metadata": {},
   "outputs": [],
   "source": [
    "sales_rmse(best_weights)"
   ]
  },
  {
   "cell_type": "markdown",
   "metadata": {},
   "source": [
    "## Nearest neighbors"
   ]
  },
  {
   "cell_type": "markdown",
   "metadata": {},
   "source": [
    "*Note to self: start running prediction computation below.*"
   ]
  },
  {
   "cell_type": "code",
   "execution_count": null,
   "metadata": {},
   "outputs": [],
   "source": [
    "def standard_units(array):\n",
    "    \"\"\"Convert array to standard units.\n",
    "    \"\"\"\n",
    "    return (array - array.mean()) / array.std()\n",
    "    \n",
    "def standardize(t):\n",
    "    \"\"\"Convert table t to standard units.\n",
    "    \"\"\"\n",
    "    su = Table()\n",
    "    for label in t.labels:\n",
    "        su = su.with_column(\n",
    "            label + ' (su)', standard_units(t.column(label))\n",
    "        )\n",
    "    return su\n",
    "\n",
    "def in_su(value, array):\n",
    "    \"\"\"Return value in standard units according to \n",
    "    the distribution of array.\n",
    "    \"\"\"\n",
    "    return (value - array.mean()) / array.std()\n",
    "\n",
    "def new_point_in_su(new_point, table):\n",
    "    \"\"\"Return the new point, with all its coordinates converted\n",
    "    to standard units, according to the distribution given by\n",
    "    the table.  The first element of the new_point array \n",
    "    corresponds to the first column of the table, and so forth.\n",
    "    \"\"\"\n",
    "    new_point_su = make_array()\n",
    "    num_dimensions = len(new_point)\n",
    "    for i in np.arange(num_dimensions):\n",
    "        coord_su = in_su(new_point.item(i), table.column(i))\n",
    "        new_point_su = np.append(new_point_su, coord_su)\n",
    "    return new_point_su\n",
    "\n",
    "def distance(a, b):\n",
    "    \"\"\"Returns the distance between a and b, where a and b\n",
    "    are both arrays representing points.\n",
    "    \"\"\"\n",
    "    return np.sqrt(np.sum((a - b)**2))\n",
    "\n",
    "def all_distances(new_point, table):\n",
    "    \"\"\"Returns a table with two columns labeled Distance and Class.  \n",
    "    The first column contains the distance from new_point to each \n",
    "    point in table.  The second column contains the label of the \n",
    "    point in table.  The classes should be in the final column of \n",
    "    table.  The table that is returned is sorted in ascending order\n",
    "    by Distance.\n",
    "    \"\"\"\n",
    "\n",
    "    def distance_from_new(row):\n",
    "        \"\"\"Return the distance between row and new_point.\n",
    "        \"\"\"\n",
    "        return distance(np.array(row), new_point)\n",
    "\n",
    "    last_column_index = table.num_columns - 1\n",
    "    table_without_classes = table.drop(last_column_index)\n",
    "    classes = table.column(last_column_index)\n",
    "    \n",
    "    distances = Table().with_columns(\n",
    "        'Distance', table_without_classes.apply(distance_from_new),\n",
    "        'Class', classes\n",
    "    ).sort('Distance')\n",
    "\n",
    "    return distances\n",
    "\n",
    "def train_knn_su_predictor(train, k):\n",
    "    \"\"\"Create a k-nearest-neighbor predictor.  The last column \n",
    "    of the training table should be the response variable, \n",
    "    and the preceeding columns should be the attributes.  \n",
    "    The names of the columns do not matter.  The predictor\n",
    "    will work in standard units; but, the training table should \n",
    "    be in original units.    \n",
    "    \n",
    "    Returns a function.  That function takes as input a \n",
    "    new point in original units. The function returns the \n",
    "    prediction as output.\"\"\"\n",
    "\n",
    "    last_column_index = train.num_columns-1\n",
    "    train_su = standardize(train.drop(last_column_index)).with_column(\n",
    "        train.labels[last_column_index], train.column(last_column_index)\n",
    "    )\n",
    "    \n",
    "    def predict_new_point(new_point):\n",
    "        \"\"\"Return the prediction for new_point, which\n",
    "        should still be in original units.\n",
    "        \"\"\"\n",
    "        new_point_su = new_point_in_su(new_point, train)\n",
    "        distances = all_distances(new_point_su, train_su)\n",
    "        top_k = distances.take(np.arange(k)).column('Class')\n",
    "        #####################################################\n",
    "        return np.mean(top_k)  \n",
    "        # THE LINE ABOVE IS THE ONLY THING THAT CHANGED\n",
    "        #####################################################\n",
    "    \n",
    "    return predict_new_point"
   ]
  },
  {
   "cell_type": "code",
   "execution_count": null,
   "metadata": {},
   "outputs": [],
   "source": [
    "# long computation (3 min)\n",
    "\n",
    "print(time.ctime())\n",
    "training_sales = sales.drop('SalePrice').with_column(\n",
    "    'SalePrice', sales.column('SalePrice')\n",
    ")  # move SalePrice to be the last column\n",
    "\n",
    "price_predictor = train_knn_su_predictor(training_sales, 5)\n",
    "nn_predictions = training_sales.drop('SalePrice').apply(price_predictor)\n",
    "sales_and_nn_predictions = training_sales.with_column(\n",
    "    'Predicted', nn_predictions\n",
    ")\n",
    "print(time.ctime())\n",
    "\n",
    "sales_and_nn_predictions"
   ]
  },
  {
   "cell_type": "code",
   "execution_count": null,
   "metadata": {},
   "outputs": [],
   "source": [
    "nn_residuals = sales_and_nn_predictions.column('SalePrice') - sales_and_nn_predictions.column('Predicted')\n",
    "nn_rmse = np.sqrt(np.mean(nn_residuals ** 2))\n",
    "nn_rmse"
   ]
  },
  {
   "cell_type": "code",
   "execution_count": null,
   "metadata": {},
   "outputs": [],
   "source": [
    "Table().with_columns(\n",
    "    'Actual Sale Price', sales_and_nn_predictions.column('SalePrice'),\n",
    "    'Residual', nn_residuals\n",
    ").scatter('Actual Sale Price', 'Residual')"
   ]
  },
  {
   "cell_type": "markdown",
   "metadata": {},
   "source": [
    "**Next step to compare models:** Bootstrap to estimate their accuracies on randomly split training/test tests."
   ]
  },
  {
   "cell_type": "code",
   "execution_count": null,
   "metadata": {},
   "outputs": [],
   "source": []
  }
 ],
 "metadata": {
  "anaconda-cloud": {},
  "kernelspec": {
   "display_name": "Python 3",
   "language": "python",
   "name": "python3"
  },
  "language_info": {
   "codemirror_mode": {
    "name": "ipython",
    "version": 3
   },
   "file_extension": ".py",
   "mimetype": "text/x-python",
   "name": "python",
   "nbconvert_exporter": "python",
   "pygments_lexer": "ipython3",
   "version": "3.6.4"
  }
 },
 "nbformat": 4,
 "nbformat_minor": 1
}
