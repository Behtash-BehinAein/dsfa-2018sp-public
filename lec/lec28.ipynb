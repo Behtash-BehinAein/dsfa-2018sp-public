{
 "cells": [
  {
   "cell_type": "markdown",
   "metadata": {},
   "source": [
    "# Lecture 28 - Sample Size Examples"
   ]
  },
  {
   "cell_type": "code",
   "execution_count": null,
   "metadata": {
    "collapsed": true
   },
   "outputs": [],
   "source": [
    "import matplotlib\n",
    "from datascience import *\n",
    "%matplotlib inline\n",
    "import matplotlib.pyplot as plots\n",
    "import numpy as np\n",
    "plots.style.use('fivethirtyeight')"
   ]
  },
  {
   "cell_type": "code",
   "execution_count": null,
   "metadata": {},
   "outputs": [],
   "source": [
    "baby = Table.read_table(\"baby.csv\")\n",
    "baby"
   ]
  },
  {
   "cell_type": "code",
   "execution_count": null,
   "metadata": {},
   "outputs": [],
   "source": [
    "smoker = baby.where(\"Maternal Smoker\", True)\n",
    "smoker.hist(\"Birth Weight\")"
   ]
  },
  {
   "cell_type": "code",
   "execution_count": null,
   "metadata": {},
   "outputs": [],
   "source": [
    "nonsmoker = baby.where(\"Maternal Smoker\", False)\n",
    "nonsmoker.hist(\"Birth Weight\")"
   ]
  },
  {
   "cell_type": "code",
   "execution_count": null,
   "metadata": {},
   "outputs": [],
   "source": [
    "print(\"Mean smoker birth weight:\", np.mean(smoker.column(\"Birth Weight\")))\n",
    "print(\"Mean nonsmoker birth weight:\", np.mean(nonsmoker.column(\"Birth Weight\")))\n",
    "print(\"Birth weight std:\", np.std(baby.column(\"Birth Weight\")))"
   ]
  },
  {
   "cell_type": "code",
   "execution_count": null,
   "metadata": {},
   "outputs": [],
   "source": [
    "N = 500\n",
    "smoker_samp = smoker.sample(N).column(\"Birth Weight\")\n",
    "nonsmoker_samp = nonsmoker.sample(N).column(\"Birth Weight\")\n",
    "Table().with_columns(\n",
    "\"smoker sample\", smoker_samp,\n",
    "\"nonsmoker sample\", nonsmoker_samp).hist(bins=np.arange(50, 190, 10))"
   ]
  },
  {
   "cell_type": "markdown",
   "metadata": {},
   "source": [
    "## Confidence interval\n",
    "\n",
    "Assuming normality, 95% confidence interval = [mean - 2std, mean + 2std]"
   ]
  },
  {
   "cell_type": "code",
   "execution_count": null,
   "metadata": {
    "collapsed": true
   },
   "outputs": [],
   "source": [
    "smoker_mean = np.mean(smoker.column(\"Birth Weight\"))\n",
    "smoker_std = np.std(smoker.column(\"Birth Weight\"))\n",
    "nonsmoker_mean = np.mean(nonsmoker.column(\"Birth Weight\"))\n",
    "nonsmoker_std = np.std(nonsmoker.column(\"Birth Weight\"))"
   ]
  },
  {
   "cell_type": "code",
   "execution_count": null,
   "metadata": {},
   "outputs": [],
   "source": [
    "print(\"95% of ___ are in the range:\")\n",
    "print(\"  smoker birth weight:   \", [smoker_mean - 2*smoker_std, smoker_mean + 2*smoker_std])\n",
    "print(\"  nonsmoker birth weight:\", [nonsmoker_mean - 2*nonsmoker_std, nonsmoker_mean + 2*nonsmoker_std])"
   ]
  },
  {
   "cell_type": "code",
   "execution_count": null,
   "metadata": {},
   "outputs": [],
   "source": [
    "print(\"95% confidence interval for:\")\n",
    "smoker_mean_sample_std = smoker_std / np.sqrt(smoker.num_rows)\n",
    "nonsmoker_mean_sample_std = nonsmoker_std / np.sqrt(nonsmoker.num_rows)\n",
    "print(\"  mean smoker birth weight:\", [smoker_mean - 2*smoker_mean_sample_std, smoker_mean + 2*smoker_mean_sample_std])\n",
    "print(\"  mean nonsmoker birth weight:\", [nonsmoker_mean - 2*nonsmoker_mean_sample_std, nonsmoker_mean + 2*nonsmoker_mean_sample_std])"
   ]
  },
  {
   "cell_type": "markdown",
   "metadata": {},
   "source": [
    "# What if our sample size were smaller?"
   ]
  },
  {
   "cell_type": "code",
   "execution_count": null,
   "metadata": {},
   "outputs": [],
   "source": [
    "N = 60\n",
    "print(\"Predicted 95% confidence interval for:\")\n",
    "print(\"  mean smoker birth weight ( N =\", N,\"):   \", [smoker_mean - 2*smoker_std/np.sqrt(N), smoker_mean + 2*smoker_std/np.sqrt(N)])\n",
    "print(\"  mean nonsmoker birth weight ( N =\", N,\"):\", [nonsmoker_mean - 2*nonsmoker_std/np.sqrt(N), nonsmoker_mean + 2*nonsmoker_std/np.sqrt(N)])"
   ]
  },
  {
   "cell_type": "markdown",
   "metadata": {},
   "source": [
    "What does this mean? Supposing that the population mean and std we are using are correct,\n",
    "\n",
    "* If we take a sample of 60 smokers, 97.5% of time, sample mean will be < 118.55\n",
    "* If we take a sample of 60 nonsmokers, 97.5% of time, sample mean will be > 118.55\n",
    "* So if smoker interval < nonsmoker interval, then at least 95% of time, smoker sample mean < nonsmoker sample mean"
   ]
  },
  {
   "cell_type": "markdown",
   "metadata": {},
   "source": [
    "# Let's check that these estimates are about right\n",
    "\n",
    "Why might they not be right?\n",
    "* Distribution might not be normal\n",
    "* Formulas from class might be wrong\n",
    "* We might not be applying formulas correctly\n",
    "\n",
    "How to check?\n",
    "* Resample!"
   ]
  },
  {
   "cell_type": "code",
   "execution_count": null,
   "metadata": {
    "collapsed": true
   },
   "outputs": [],
   "source": [
    "def sample_means(arr, N, rep=300):\n",
    "    \"\"\"Sample N samples from the array arr and compute the sample mean. \n",
    "       Do this rep times and return the list of means.\"\"\"\n",
    "    means = []\n",
    "    for i in range(rep):\n",
    "        sample_mean = np.mean(np.random.choice(arr, size=N))\n",
    "        means = np.append(sample_mean, means)\n",
    "    return means\n",
    "\n",
    "def conf_int(arr, p=95):\n",
    "    \"\"\"Return a 95% confidence interval for the empirical distribution of values in array arr\"\"\"\n",
    "    return [percentile((100-p)/2, arr), percentile(p-(100-p)/2, arr)]"
   ]
  },
  {
   "cell_type": "code",
   "execution_count": null,
   "metadata": {},
   "outputs": [],
   "source": [
    "N = 60\n",
    "smoker_means = sample_means(smoker.column(\"Birth Weight\"), N)\n",
    "nonsmoker_means = sample_means(nonsmoker.column(\"Birth Weight\"), N)\n",
    "Table().with_columns(\n",
    "\"smoker means\", smoker_means,\n",
    "\"nonsmoker means\", nonsmoker_means).hist(bins=np.arange(105, 135))"
   ]
  },
  {
   "cell_type": "code",
   "execution_count": null,
   "metadata": {},
   "outputs": [],
   "source": [
    "N = 60\n",
    "smoker_conf_int = conf_int(smoker_means, 95)\n",
    "nonsmoker_conf_int = conf_int(nonsmoker_means, 95)\n",
    "print(\"Empirical 95% confidence interval for:\")\n",
    "print(\"  mean smoker birth weight (N =\", N,\"):   \", smoker_conf_int)\n",
    "print(\"  mean nonsmoker birth weight (N =\", N,\"):\", nonsmoker_conf_int)"
   ]
  },
  {
   "cell_type": "code",
   "execution_count": null,
   "metadata": {},
   "outputs": [],
   "source": [
    "# Compare with predictions\n",
    "print(\"Predicted 95% confidence interval for:\")\n",
    "print(\"  mean smoker birth weight (N =\", N,\"):   \", [smoker_mean - 2*smoker_std/np.sqrt(N), smoker_mean + 2*smoker_std/np.sqrt(N)])\n",
    "print(\"  mean nonsmoker birth weight (N =\", N,\"):\", [nonsmoker_mean - 2*nonsmoker_std/np.sqrt(N), nonsmoker_mean + 2*nonsmoker_std/np.sqrt(N)])"
   ]
  }
 ],
 "metadata": {
  "kernelspec": {
   "display_name": "Python 3",
   "language": "python",
   "name": "python3"
  },
  "language_info": {
   "codemirror_mode": {
    "name": "ipython",
    "version": 3
   },
   "file_extension": ".py",
   "mimetype": "text/x-python",
   "name": "python",
   "nbconvert_exporter": "python",
   "pygments_lexer": "ipython3",
   "version": "3.6.3"
  }
 },
 "nbformat": 4,
 "nbformat_minor": 2
}
