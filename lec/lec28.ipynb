{
 "cells": [
  {
   "cell_type": "markdown",
   "metadata": {},
   "source": [
    "# Lecture 28 - Sample Size Examples"
   ]
  },
  {
   "cell_type": "code",
   "execution_count": 1,
   "metadata": {
    "collapsed": true
   },
   "outputs": [],
   "source": [
    "import matplotlib\n",
    "from datascience import *\n",
    "%matplotlib inline\n",
    "import matplotlib.pyplot as plots\n",
    "import numpy as np\n",
    "plots.style.use('fivethirtyeight')"
   ]
  },
  {
   "cell_type": "code",
   "execution_count": 2,
   "metadata": {},
   "outputs": [
    {
     "data": {
      "text/html": [
       "<table border=\"1\" class=\"dataframe\">\n",
       "    <thead>\n",
       "        <tr>\n",
       "            <th>Birth Weight</th> <th>Gestational Days</th> <th>Maternal Age</th> <th>Maternal Height</th> <th>Maternal Pregnancy Weight</th> <th>Maternal Smoker</th>\n",
       "        </tr>\n",
       "    </thead>\n",
       "    <tbody>\n",
       "        <tr>\n",
       "            <td>120         </td> <td>284             </td> <td>27          </td> <td>62             </td> <td>100                      </td> <td>False          </td>\n",
       "        </tr>\n",
       "    </tbody>\n",
       "        <tr>\n",
       "            <td>113         </td> <td>282             </td> <td>33          </td> <td>64             </td> <td>135                      </td> <td>False          </td>\n",
       "        </tr>\n",
       "    </tbody>\n",
       "        <tr>\n",
       "            <td>128         </td> <td>279             </td> <td>28          </td> <td>64             </td> <td>115                      </td> <td>True           </td>\n",
       "        </tr>\n",
       "    </tbody>\n",
       "        <tr>\n",
       "            <td>108         </td> <td>282             </td> <td>23          </td> <td>67             </td> <td>125                      </td> <td>True           </td>\n",
       "        </tr>\n",
       "    </tbody>\n",
       "        <tr>\n",
       "            <td>136         </td> <td>286             </td> <td>25          </td> <td>62             </td> <td>93                       </td> <td>False          </td>\n",
       "        </tr>\n",
       "    </tbody>\n",
       "        <tr>\n",
       "            <td>138         </td> <td>244             </td> <td>33          </td> <td>62             </td> <td>178                      </td> <td>False          </td>\n",
       "        </tr>\n",
       "    </tbody>\n",
       "        <tr>\n",
       "            <td>132         </td> <td>245             </td> <td>23          </td> <td>65             </td> <td>140                      </td> <td>False          </td>\n",
       "        </tr>\n",
       "    </tbody>\n",
       "        <tr>\n",
       "            <td>120         </td> <td>289             </td> <td>25          </td> <td>62             </td> <td>125                      </td> <td>False          </td>\n",
       "        </tr>\n",
       "    </tbody>\n",
       "        <tr>\n",
       "            <td>143         </td> <td>299             </td> <td>30          </td> <td>66             </td> <td>136                      </td> <td>True           </td>\n",
       "        </tr>\n",
       "    </tbody>\n",
       "        <tr>\n",
       "            <td>140         </td> <td>351             </td> <td>27          </td> <td>68             </td> <td>120                      </td> <td>False          </td>\n",
       "        </tr>\n",
       "    </tbody>\n",
       "</table>\n",
       "<p>... (1164 rows omitted)</p>"
      ],
      "text/plain": [
       "Birth Weight | Gestational Days | Maternal Age | Maternal Height | Maternal Pregnancy Weight | Maternal Smoker\n",
       "120          | 284              | 27           | 62              | 100                       | False\n",
       "113          | 282              | 33           | 64              | 135                       | False\n",
       "128          | 279              | 28           | 64              | 115                       | True\n",
       "108          | 282              | 23           | 67              | 125                       | True\n",
       "136          | 286              | 25           | 62              | 93                        | False\n",
       "138          | 244              | 33           | 62              | 178                       | False\n",
       "132          | 245              | 23           | 65              | 140                       | False\n",
       "120          | 289              | 25           | 62              | 125                       | False\n",
       "143          | 299              | 30           | 66              | 136                       | True\n",
       "140          | 351              | 27           | 68              | 120                       | False\n",
       "... (1164 rows omitted)"
      ]
     },
     "execution_count": 2,
     "metadata": {},
     "output_type": "execute_result"
    }
   ],
   "source": [
    "baby = Table.read_table(\"baby.csv\")\n",
    "baby"
   ]
  },
  {
   "cell_type": "code",
   "execution_count": 3,
   "metadata": {},
   "outputs": [
    {
     "data": {
      "image/png": "[encoded data removed]",
      "text/plain": [
       "<matplotlib.figure.Figure at 0x10e0e3d30>"
      ]
     },
     "metadata": {},
     "output_type": "display_data"
    }
   ],
   "source": [
    "smoker = baby.where(\"Maternal Smoker\", True)\n",
    "smoker.hist(\"Birth Weight\")"
   ]
  },
  {
   "cell_type": "code",
   "execution_count": 4,
   "metadata": {},
   "outputs": [
    {
     "data": {
      "image/png": "[encoded data removed]",
      "text/plain": [
       "<matplotlib.figure.Figure at 0x10e14a9e8>"
      ]
     },
     "metadata": {},
     "output_type": "display_data"
    }
   ],
   "source": [
    "nonsmoker = baby.where(\"Maternal Smoker\", False)\n",
    "nonsmoker.hist(\"Birth Weight\")"
   ]
  },
  {
   "cell_type": "code",
   "execution_count": 5,
   "metadata": {},
   "outputs": [
    {
     "name": "stdout",
     "output_type": "stream",
     "text": [
      "Mean smoker birth weight: 113.81917211328977\n",
      "Mean nonsmoker birth weight: 123.08531468531469\n",
      "Birth weight std: 18.32086370220278\n"
     ]
    }
   ],
   "source": [
    "print(\"Mean smoker birth weight:\", np.mean(smoker.column(\"Birth Weight\")))\n",
    "print(\"Mean nonsmoker birth weight:\", np.mean(nonsmoker.column(\"Birth Weight\")))\n",
    "print(\"Birth weight std:\", np.std(baby.column(\"Birth Weight\")))"
   ]
  },
  {
   "cell_type": "code",
   "execution_count": 6,
   "metadata": {},
   "outputs": [
    {
     "data": {
      "image/png": "[encoded data removed]",
      "text/plain": [
       "<matplotlib.figure.Figure at 0x10e1d7be0>"
      ]
     },
     "metadata": {},
     "output_type": "display_data"
    }
   ],
   "source": [
    "N = 500\n",
    "smoker_samp = smoker.sample(N).column(\"Birth Weight\")\n",
    "nonsmoker_samp = nonsmoker.sample(N).column(\"Birth Weight\")\n",
    "Table().with_columns(\n",
    "\"smoker sample\", smoker_samp,\n",
    "\"nonsmoker sample\", nonsmoker_samp).hist(bins=np.arange(50, 190, 10))"
   ]
  },
  {
   "cell_type": "markdown",
   "metadata": {},
   "source": [
    "## Confidence interval\n",
    "\n",
    "Assuming normality, 95% confidence interval = [mean - 2std, mean + 2std]"
   ]
  },
  {
   "cell_type": "code",
   "execution_count": 7,
   "metadata": {
    "collapsed": true
   },
   "outputs": [],
   "source": [
    "smoker_mean = np.mean(smoker.column(\"Birth Weight\"))\n",
    "smoker_std = np.std(smoker.column(\"Birth Weight\"))\n",
    "nonsmoker_mean = np.mean(nonsmoker.column(\"Birth Weight\"))\n",
    "nonsmoker_std = np.std(nonsmoker.column(\"Birth Weight\"))"
   ]
  },
  {
   "cell_type": "code",
   "execution_count": 8,
   "metadata": {},
   "outputs": [
    {
     "name": "stdout",
     "output_type": "stream",
     "text": [
      "95% of ___ are in the range:\n",
      "  smoker birth weight:    [77.26903151046443, 150.3693127161151]\n",
      "  nonsmoker birth weight: [88.26230197404561, 157.90832739658376]\n"
     ]
    }
   ],
   "source": [
    "print(\"95% of ___ are in the range:\")\n",
    "print(\"  smoker birth weight:   \", [smoker_mean - 2*smoker_std, smoker_mean + 2*smoker_std])\n",
    "print(\"  nonsmoker birth weight:\", [nonsmoker_mean - 2*nonsmoker_std, nonsmoker_mean + 2*nonsmoker_std])"
   ]
  },
  {
   "cell_type": "code",
   "execution_count": 9,
   "metadata": {},
   "outputs": [
    {
     "name": "stdout",
     "output_type": "stream",
     "text": [
      "95% confidence interval for:\n",
      "  mean smoker birth weight: [112.11315764813777, 115.52518657844176]\n",
      "  mean nonsmoker birth weight: [121.7830078486176, 124.38762152201177]\n"
     ]
    }
   ],
   "source": [
    "print(\"95% confidence interval for:\")\n",
    "smoker_mean_sample_std = smoker_std / np.sqrt(smoker.num_rows)\n",
    "nonsmoker_mean_sample_std = nonsmoker_std / np.sqrt(nonsmoker.num_rows)\n",
    "print(\"  mean smoker birth weight:\", [smoker_mean - 2*smoker_mean_sample_std, smoker_mean + 2*smoker_mean_sample_std])\n",
    "print(\"  mean nonsmoker birth weight:\", [nonsmoker_mean - 2*nonsmoker_mean_sample_std, nonsmoker_mean + 2*nonsmoker_mean_sample_std])"
   ]
  },
  {
   "cell_type": "markdown",
   "metadata": {},
   "source": [
    "# What if our sample size were smaller?"
   ]
  },
  {
   "cell_type": "code",
   "execution_count": 10,
   "metadata": {},
   "outputs": [
    {
     "name": "stdout",
     "output_type": "stream",
     "text": [
      "Predicted 95% confidence interval for:\n",
      "  mean smoker birth weight ( N = 60 ):    [109.1005692514137, 118.53777497516583]\n",
      "  mean nonsmoker birth weight ( N = 60 ): [118.58968307546421, 127.58094629516516]\n"
     ]
    }
   ],
   "source": [
    "N = 60\n",
    "print(\"Predicted 95% confidence interval for:\")\n",
    "print(\"  mean smoker birth weight ( N =\", N,\"):   \", [smoker_mean - 2*smoker_std/np.sqrt(N), smoker_mean + 2*smoker_std/np.sqrt(N)])\n",
    "print(\"  mean nonsmoker birth weight ( N =\", N,\"):\", [nonsmoker_mean - 2*nonsmoker_std/np.sqrt(N), nonsmoker_mean + 2*nonsmoker_std/np.sqrt(N)])"
   ]
  },
  {
   "cell_type": "markdown",
   "metadata": {},
   "source": [
    "What does this mean? Supposing that the population mean and std we are using are correct,\n",
    "\n",
    "* If we take a sample of 60 smokers, 97.5% of time, sample mean will be < 118.55\n",
    "* If we take a sample of 60 nonsmokers, 97.5% of time, sample mean will be > 118.55\n",
    "* So if smoker interval < nonsmoker interval, then at least 95% of time, smoker sample mean < nonsmoker sample mean"
   ]
  },
  {
   "cell_type": "markdown",
   "metadata": {},
   "source": [
    "# Let's check that these estimates are about right\n",
    "\n",
    "Why might they not be right?\n",
    "* Distribution might not be normal\n",
    "* Formulas from class might be wrong\n",
    "* We might not be applying formulas correctly\n",
    "\n",
    "How to check?\n",
    "* Resample!"
   ]
  },
  {
   "cell_type": "code",
   "execution_count": 11,
   "metadata": {
    "collapsed": true
   },
   "outputs": [],
   "source": [
    "def sample_means(arr, N, rep=300):\n",
    "    \"\"\"Sample N samples from the array arr and compute the sample mean. \n",
    "       Do this rep times and return the list of means.\"\"\"\n",
    "    means = []\n",
    "    for i in range(rep):\n",
    "        sample_mean = np.mean(np.random.choice(arr, size=N))\n",
    "        means = np.append(sample_mean, means)\n",
    "    return means\n",
    "\n",
    "def conf_int(arr, p=95):\n",
    "    \"\"\"Return a 95% confidence interval for the empirical distribution of values in array arr\"\"\"\n",
    "    return [percentile((100-p)/2, arr), percentile(p-(100-p)/2, arr)]"
   ]
  },
  {
   "cell_type": "code",
   "execution_count": 12,
   "metadata": {},
   "outputs": [
    {
     "data": {
      "image/png": "[encoded data removed]",
      "text/plain": [
       "<matplotlib.figure.Figure at 0x1114c4c88>"
      ]
     },
     "metadata": {},
     "output_type": "display_data"
    }
   ],
   "source": [
    "N = 60\n",
    "smoker_means = sample_means(smoker.column(\"Birth Weight\"), N)\n",
    "nonsmoker_means = sample_means(nonsmoker.column(\"Birth Weight\"), N)\n",
    "Table().with_columns(\n",
    "\"smoker means\", smoker_means,\n",
    "\"nonsmoker means\", nonsmoker_means).hist(bins=np.arange(105, 135))"
   ]
  },
  {
   "cell_type": "code",
   "execution_count": 13,
   "metadata": {},
   "outputs": [
    {
     "name": "stdout",
     "output_type": "stream",
     "text": [
      "Empirical 95% confidence interval for:\n",
      "  mean smoker birth weight (N = 60 ):    [109.45, 117.08333333333333]\n",
      "  mean nonsmoker birth weight (N = 60 ): [118.51666666666667, 126.13333333333334]\n"
     ]
    }
   ],
   "source": [
    "N = 60\n",
    "smoker_conf_int = conf_int(smoker_means, 95)\n",
    "nonsmoker_conf_int = conf_int(nonsmoker_means, 95)\n",
    "print(\"Empirical 95% confidence interval for:\")\n",
    "print(\"  mean smoker birth weight (N =\", N,\"):   \", smoker_conf_int)\n",
    "print(\"  mean nonsmoker birth weight (N =\", N,\"):\", nonsmoker_conf_int)"
   ]
  },
  {
   "cell_type": "code",
   "execution_count": 14,
   "metadata": {},
   "outputs": [
    {
     "name": "stdout",
     "output_type": "stream",
     "text": [
      "Predicted 95% confidence interval for:\n",
      "  mean smoker birth weight (N = 60 ):    [109.1005692514137, 118.53777497516583]\n",
      "  mean nonsmoker birth weight (N = 60 ): [118.58968307546421, 127.58094629516516]\n"
     ]
    }
   ],
   "source": [
    "# Compare with predictions\n",
    "print(\"Predicted 95% confidence interval for:\")\n",
    "print(\"  mean smoker birth weight (N =\", N,\"):   \", [smoker_mean - 2*smoker_std/np.sqrt(N), smoker_mean + 2*smoker_std/np.sqrt(N)])\n",
    "print(\"  mean nonsmoker birth weight (N =\", N,\"):\", [nonsmoker_mean - 2*nonsmoker_std/np.sqrt(N), nonsmoker_mean + 2*nonsmoker_std/np.sqrt(N)])"
   ]
  }
 ],
 "metadata": {
  "kernelspec": {
   "display_name": "Python 3",
   "language": "python",
   "name": "python3"
  },
  "language_info": {
   "codemirror_mode": {
    "name": "ipython",
    "version": 3
   },
   "file_extension": ".py",
   "mimetype": "text/x-python",
   "name": "python",
   "nbconvert_exporter": "python",
   "pygments_lexer": "ipython3",
   "version": "3.6.3"
  }
 },
 "nbformat": 4,
 "nbformat_minor": 2
}
