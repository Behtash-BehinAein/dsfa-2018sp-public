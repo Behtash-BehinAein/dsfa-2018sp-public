{
 "cells": [
  {
   "cell_type": "markdown",
   "metadata": {},
   "source": [
    "# Lecture 17: Simulation"
   ]
  },
  {
   "cell_type": "code",
   "execution_count": null,
   "metadata": {},
   "outputs": [],
   "source": [
    "from datascience import *\n",
    "import numpy as np\n",
    "\n",
    "import matplotlib.pyplot as plots\n",
    "plots.style.use('fivethirtyeight')\n",
    "%matplotlib inline"
   ]
  },
  {
   "cell_type": "markdown",
   "metadata": {},
   "source": [
    "### Structure of simulation\n",
    "\n",
    "**Purpose:** simulate sampling from a population, computing a statistic, and visualizing the bias and variability of that statistic"
   ]
  },
  {
   "cell_type": "code",
   "execution_count": null,
   "metadata": {},
   "outputs": [],
   "source": [
    "# ###########################\n",
    "# # Template for a simulation\n",
    "# # (This cell won't run.)\n",
    "# ###########################\n",
    "\n",
    "# # Create table to represent population\n",
    "# population = Table().with_column('data', make_array(...))\n",
    "\n",
    "# # Create empty array to accumulate statistics\n",
    "# statistics = make_array()\n",
    "\n",
    "# # \"Tuning knobs\" for simulation\n",
    "# repetitions = ...\n",
    "# sample_size = ...\n",
    "\n",
    "# for _ in np.arange(repetitions):\n",
    "#     sample = population.sample(sample_size).column('data')\n",
    "#     statistic = ... # computed from sample\n",
    "#     statistics = np.append(statistics, statistic)\n",
    "\n",
    "# statistics"
   ]
  },
  {
   "cell_type": "markdown",
   "metadata": {},
   "source": [
    "## Pea Flowers"
   ]
  },
  {
   "cell_type": "code",
   "execution_count": null,
   "metadata": {},
   "outputs": [],
   "source": [
    "pea_colors = make_array('Purple', 'Purple', 'Purple', 'White')\n",
    "pea_colors"
   ]
  },
  {
   "cell_type": "markdown",
   "metadata": {},
   "source": [
    "**Question.** Assume Mendel's theories are correct.  The proportion of purple plants is .75.  What kind of number is that?\n",
    "\n",
    "A. Population parameter  \n",
    "B. Population statistic  \n",
    "C. Sample parameter  \n",
    "D. Sample statistic  \n",
    "E. I don't know\n",
    "\n",
    "<br/><br/><br/><br/><br/>"
   ]
  },
  {
   "cell_type": "code",
   "execution_count": null,
   "metadata": {},
   "outputs": [],
   "source": [
    "sample_size = 929\n",
    "\n",
    "def get_sample():\n",
    "    return Table().with_column('color', pea_colors).sample(sample_size).column('color')"
   ]
  },
  {
   "cell_type": "code",
   "execution_count": null,
   "metadata": {},
   "outputs": [],
   "source": [
    "get_sample()"
   ]
  },
  {
   "cell_type": "code",
   "execution_count": null,
   "metadata": {},
   "outputs": [],
   "source": [
    "def proportion_purple(sample):\n",
    "    return np.sum(sample == 'Purple') / len(sample)"
   ]
  },
  {
   "cell_type": "code",
   "execution_count": null,
   "metadata": {},
   "outputs": [],
   "source": [
    "proportion_purple(get_sample())  # sample statistic"
   ]
  },
  {
   "cell_type": "markdown",
   "metadata": {},
   "source": [
    "**Discussion question.** Every time we run the cell above, we get a different statistic.  How variable is that statistic?  \n",
    "\n",
    "<br/><br/><br/><br/><br/><br/><br/><br/>"
   ]
  },
  {
   "cell_type": "markdown",
   "metadata": {},
   "source": [
    "### Another way to sample"
   ]
  },
  {
   "cell_type": "code",
   "execution_count": null,
   "metadata": {},
   "outputs": [],
   "source": [
    "pea_colors = Table().with_column('color', make_array('Purple', 'White'))\n",
    "pea_colors"
   ]
  },
  {
   "cell_type": "code",
   "execution_count": null,
   "metadata": {},
   "outputs": [],
   "source": [
    "sample = pea_colors.sample(929, weights = make_array(.75, .25))\n",
    "proportion_purple(sample.column('color'))"
   ]
  },
  {
   "cell_type": "markdown",
   "metadata": {},
   "source": [
    "### Simulation"
   ]
  },
  {
   "cell_type": "code",
   "execution_count": null,
   "metadata": {},
   "outputs": [],
   "source": [
    "# Create table to represent population\n",
    "peas = Table().with_columns(\n",
    "    'color', make_array('Purple', 'White'),\n",
    "    'chance', make_array(.75, .25)\n",
    ")\n",
    "peas"
   ]
  },
  {
   "cell_type": "code",
   "execution_count": null,
   "metadata": {},
   "outputs": [],
   "source": [
    "# Create empty array to accumulate statistics\n",
    "proportions = make_array()\n",
    "\n",
    "# \"Tuning knobs\" for simulation\n",
    "repetitions = 5000\n",
    "sample_size = 929\n",
    "\n",
    "for _ in np.arange(repetitions):\n",
    "    sample = peas.sample(sample_size, weights=peas.column('chance')).column('color')\n",
    "    statistic = proportion_purple(sample)\n",
    "    proportions = np.append(proportions, statistic)\n",
    "\n",
    "proportions"
   ]
  },
  {
   "cell_type": "code",
   "execution_count": null,
   "metadata": {},
   "outputs": [],
   "source": [
    "percents = Table().with_column('Plants', proportions * 100)\n",
    "percents.hist(bins=np.arange(70, 80, 1), unit='percent that are purple')"
   ]
  },
  {
   "cell_type": "markdown",
   "metadata": {},
   "source": [
    "## Comparing to observed data"
   ]
  },
  {
   "cell_type": "code",
   "execution_count": null,
   "metadata": {},
   "outputs": [],
   "source": [
    "observed_purples = 705\n",
    "total_plants = 929\n",
    "observed_percent_purple = 100 * observed_purples / total_plants\n",
    "observed_percent_purple"
   ]
  },
  {
   "cell_type": "code",
   "execution_count": null,
   "metadata": {},
   "outputs": [],
   "source": [
    "percents.hist(bins=np.arange(70, 80, 1), unit='percent that are purple')\n",
    "plots.scatter(observed_percent_purple, 0, color='red', s=100);"
   ]
  },
  {
   "cell_type": "markdown",
   "metadata": {},
   "source": [
    "## A different statistic"
   ]
  },
  {
   "cell_type": "code",
   "execution_count": null,
   "metadata": {},
   "outputs": [],
   "source": [
    "def mystery_statistic(sample):\n",
    "    return abs(np.sum(sample == 'Purple') / len(sample) - 0.75)"
   ]
  },
  {
   "cell_type": "markdown",
   "metadata": {},
   "source": [
    "**Question.** Describe that statistic in your own words.\n",
    "\n",
    "<br/><br/><br/><br/><br/>"
   ]
  },
  {
   "cell_type": "code",
   "execution_count": null,
   "metadata": {},
   "outputs": [],
   "source": [
    "repetitions = 5000\n",
    "sample_size = 929\n",
    "\n",
    "statistics = make_array()\n",
    "\n",
    "for _ in np.arange(repetitions):\n",
    "    sample = peas.sample(sample_size, weights=peas.column('chance')).column('color')\n",
    "    statistic = mystery_statistic(sample)\n",
    "    statistics = np.append(statistics, statistic)\n",
    "\n",
    "statistics"
   ]
  },
  {
   "cell_type": "code",
   "execution_count": null,
   "metadata": {},
   "outputs": [],
   "source": [
    "observed_statistic = abs(observed_purples / total_plants - 0.75)\n",
    "observed_statistic"
   ]
  },
  {
   "cell_type": "code",
   "execution_count": null,
   "metadata": {},
   "outputs": [],
   "source": [
    "pred = Table().with_column('Statistic', statistics)\n",
    "pred.hist()\n",
    "plots.scatter(observed_statistic, 0, color='red', s=100);"
   ]
  },
  {
   "cell_type": "markdown",
   "metadata": {},
   "source": [
    "## Yet another statistic"
   ]
  },
  {
   "cell_type": "markdown",
   "metadata": {},
   "source": [
    "**Question.** What do you expect the histogram produced by the simulation below to look like?"
   ]
  },
  {
   "cell_type": "code",
   "execution_count": null,
   "metadata": {},
   "outputs": [],
   "source": [
    "###############################################################\n",
    "# A new statistic\n",
    "\n",
    "def number_of_different_colors(sample):\n",
    "    \"\"\"\n",
    "    Returns the number of different colors in sample.\n",
    "    For example, would return 2 on the input \n",
    "      make_array('Purple', 'White').\n",
    "    \"\"\"\n",
    "    return Table().with_column('color', sample).group('color').num_rows\n",
    "\n",
    "###############################################################\n",
    "# Everything below here is the same simulation we've been doing \n",
    "\n",
    "repetitions = 5000\n",
    "sample_size = 929\n",
    "\n",
    "statistics = make_array()\n",
    "\n",
    "for _ in np.arange(repetitions):\n",
    "    sample = peas.sample(sample_size, weights=peas.column('chance')).column('color')\n",
    "    statistic = number_of_different_colors(sample)\n",
    "    statistics = np.append(statistics, statistic)\n",
    "\n",
    "###############################################################\n",
    "# Plot a histogram of the simulated statistic\n",
    "Table().with_column('Statistic', statistics).hist()"
   ]
  },
  {
   "cell_type": "markdown",
   "metadata": {},
   "source": [
    "## Swain v. Alabama"
   ]
  },
  {
   "cell_type": "code",
   "execution_count": null,
   "metadata": {},
   "outputs": [],
   "source": [
    "swain = Table().with_columns(\n",
    "    'Race', make_array('Black', 'Other'),\n",
    "    'Eligible', make_array(0.26, 0.74),\n",
    "    'Panel', make_array(0.08, 0.92)\n",
    ")\n",
    "\n",
    "swain.set_format([1, 2], PercentFormatter(0))"
   ]
  },
  {
   "cell_type": "code",
   "execution_count": null,
   "metadata": {},
   "outputs": [],
   "source": [
    "swain.barh('Race')"
   ]
  },
  {
   "cell_type": "markdown",
   "metadata": {},
   "source": [
    "## Simulating"
   ]
  },
  {
   "cell_type": "code",
   "execution_count": null,
   "metadata": {},
   "outputs": [],
   "source": [
    "swain"
   ]
  },
  {
   "cell_type": "markdown",
   "metadata": {},
   "source": [
    "**Question.** How could we write code to produce a new randomly sampled panel of 100 jurors?  Specifically, their race?  E.g., `array(['Black', 'Other', ..., 'Black'])`, with 100 elements in that array?\n",
    "\n",
    "<br/><br/><br/><br/><br/>"
   ]
  },
  {
   "cell_type": "code",
   "execution_count": null,
   "metadata": {},
   "outputs": [],
   "source": [
    "random_panel = swain.select('Race').sample(100, weights=swain.column('Eligible'))\n",
    "random_panel.column('Race')"
   ]
  },
  {
   "cell_type": "code",
   "execution_count": null,
   "metadata": {},
   "outputs": [],
   "source": [
    "# Let's summarize that panel\n",
    "counts = random_panel.group('Race')\n",
    "counts"
   ]
  },
  {
   "cell_type": "code",
   "execution_count": null,
   "metadata": {},
   "outputs": [],
   "source": [
    "proportions = counts.select('Race').with_column(\n",
    "    'Random Panel', counts.column('count') / 100\n",
    ")\n",
    "proportions.set_format('Random Panel', PercentFormatter(0))"
   ]
  },
  {
   "cell_type": "code",
   "execution_count": null,
   "metadata": {},
   "outputs": [],
   "source": [
    "# For sake of comparison\n",
    "swain.join('Race', proportions).barh('Race')"
   ]
  },
  {
   "cell_type": "markdown",
   "metadata": {},
   "source": [
    "**Question.** Does the random panel look more like the actual panel?  Or more like the eligible population?"
   ]
  },
  {
   "cell_type": "code",
   "execution_count": null,
   "metadata": {},
   "outputs": [],
   "source": [
    "def random_jury_panel():   \n",
    "    panel_size = 100\n",
    "    panel = swain.select('Race').sample(panel_size, weights=swain.column('Eligible'))\n",
    "    counts = panel.group('Race')\n",
    "    proportions = counts.select('Race').with_column(\n",
    "        'Random Panel', counts.column('count') / panel_size\n",
    "    )\n",
    "    proportions.set_format('Random Panel', PercentFormatter(0))\n",
    "    return proportions\n",
    "\n",
    "random_jury_panel()"
   ]
  },
  {
   "cell_type": "code",
   "execution_count": null,
   "metadata": {},
   "outputs": [],
   "source": [
    "# Simulate \n",
    "\n",
    "proportion_black = make_array()\n",
    "\n",
    "for _ in np.arange(1000): \n",
    "    sample = random_jury_panel()\n",
    "    p = sample.where('Race', 'Black').column('Random Panel').item(0)\n",
    "    proportion_black = np.append(proportion_black, p)\n",
    "\n",
    "results = Table().with_column('Proportion black', proportion_black)\n",
    "results"
   ]
  },
  {
   "cell_type": "code",
   "execution_count": null,
   "metadata": {},
   "outputs": [],
   "source": [
    "np.set_printoptions(legacy='1.13')\n",
    "\n",
    "results.hist(bins = np.arange(0, .51, .01))\n",
    "plots.scatter(.08, 0, color='red', s=100);"
   ]
  }
 ],
 "metadata": {
  "kernelspec": {
   "display_name": "Python 3",
   "language": "python",
   "name": "python3"
  },
  "language_info": {
   "codemirror_mode": {
    "name": "ipython",
    "version": 3
   },
   "file_extension": ".py",
   "mimetype": "text/x-python",
   "name": "python",
   "nbconvert_exporter": "python",
   "pygments_lexer": "ipython3",
   "version": "3.6.4"
  }
 },
 "nbformat": 4,
 "nbformat_minor": 2
}
