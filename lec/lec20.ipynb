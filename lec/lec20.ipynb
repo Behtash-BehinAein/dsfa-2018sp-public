{
 "cells": [
  {
   "cell_type": "code",
   "execution_count": 1,
   "metadata": {
    "collapsed": true
   },
   "outputs": [],
   "source": [
    "from datascience import *\n",
    "import numpy as np\n",
    "\n",
    "import matplotlib.pyplot as plots\n",
    "plots.style.use('fivethirtyeight')\n",
    "%matplotlib inline"
   ]
  },
  {
   "cell_type": "markdown",
   "metadata": {},
   "source": [
    "# Mendel"
   ]
  },
  {
   "cell_type": "markdown",
   "metadata": {},
   "source": [
    "## 1. Select two hypotheses\n",
    "\n",
    "* **Null:** For every plant, there is a 75% chance that it will have purple flowers, and a 25% chance that the flowers will be white, regardless of the colors in all the other plants.\n",
    "* **Alternative:** Something else"
   ]
  },
  {
   "cell_type": "code",
   "execution_count": 2,
   "metadata": {},
   "outputs": [
    {
     "data": {
      "text/html": [
       "<table border=\"1\" class=\"dataframe\">\n",
       "    <thead>\n",
       "        <tr>\n",
       "            <th>Color</th> <th>Model Proportion</th> <th>Plants</th>\n",
       "        </tr>\n",
       "    </thead>\n",
       "    <tbody>\n",
       "        <tr>\n",
       "            <td>Purple</td> <td>0.75            </td> <td>705   </td>\n",
       "        </tr>\n",
       "    </tbody>\n",
       "        <tr>\n",
       "            <td>White </td> <td>0.25            </td> <td>224   </td>\n",
       "        </tr>\n",
       "    </tbody>\n",
       "</table>"
      ],
      "text/plain": [
       "Color  | Model Proportion | Plants\n",
       "Purple | 0.75             | 705\n",
       "White  | 0.25             | 224"
      ]
     },
     "execution_count": 2,
     "metadata": {},
     "output_type": "execute_result"
    }
   ],
   "source": [
    "flowers = Table().with_columns(\n",
    "    'Color', make_array('Purple', 'White'),\n",
    "    'Model Proportion', make_array(0.75, 0.25),\n",
    "    'Plants', make_array(705, 224)\n",
    ")\n",
    "\n",
    "flowers"
   ]
  },
  {
   "cell_type": "code",
   "execution_count": 3,
   "metadata": {},
   "outputs": [
    {
     "data": {
      "text/plain": [
       "929"
      ]
     },
     "execution_count": 3,
     "metadata": {},
     "output_type": "execute_result"
    }
   ],
   "source": [
    "total_plants = flowers.column('Plants').sum()\n",
    "total_plants"
   ]
  },
  {
   "cell_type": "code",
   "execution_count": 4,
   "metadata": {},
   "outputs": [
    {
     "data": {
      "text/plain": [
       "0.7588805166846071"
      ]
     },
     "execution_count": 4,
     "metadata": {},
     "output_type": "execute_result"
    }
   ],
   "source": [
    "observed_proportion = flowers.column('Plants').item(0)/total_plants\n",
    "observed_proportion"
   ]
  },
  {
   "cell_type": "markdown",
   "metadata": {},
   "source": [
    "## 2. Choose a test statistic"
   ]
  },
  {
   "cell_type": "code",
   "execution_count": 5,
   "metadata": {},
   "outputs": [
    {
     "data": {
      "text/plain": [
       "0.008880516684607098"
      ]
     },
     "execution_count": 5,
     "metadata": {},
     "output_type": "execute_result"
    }
   ],
   "source": [
    "observed_statistic = abs(observed_proportion - 0.75)\n",
    "observed_statistic"
   ]
  },
  {
   "cell_type": "markdown",
   "metadata": {},
   "source": [
    "## 3. Compute the Distribution of the Test Statistic under the Null Hypothesis"
   ]
  },
  {
   "cell_type": "code",
   "execution_count": 6,
   "metadata": {},
   "outputs": [
    {
     "data": {
      "image/png": "[encoded data removed]",
      "text/plain": [
       "<matplotlib.figure.Figure at 0x1a17a1e550>"
      ]
     },
     "metadata": {},
     "output_type": "display_data"
    }
   ],
   "source": [
    "model_colors = make_array('Purple', 'Purple', 'Purple', 'White')\n",
    "\n",
    "repetitions = 5000\n",
    "\n",
    "sampled_stats = make_array()\n",
    "\n",
    "for i in np.arange(repetitions):\n",
    "    new_sample = np.random.choice(model_colors, total_plants)\n",
    "    proportion_purple = np.count_nonzero(new_sample == 'Purple')/total_plants\n",
    "    sampled_stats = np.append(sampled_stats, abs(proportion_purple - 0.75))\n",
    "\n",
    "results = Table().with_column('Distance from 0.75', sampled_stats)\n",
    "results.hist()"
   ]
  },
  {
   "cell_type": "code",
   "execution_count": 7,
   "metadata": {
    "collapsed": true
   },
   "outputs": [],
   "source": [
    "## 4. Compare the Prediction to the Observed Data"
   ]
  },
  {
   "cell_type": "code",
   "execution_count": 8,
   "metadata": {},
   "outputs": [
    {
     "data": {
      "image/png": "[encoded data removed]",
      "text/plain": [
       "<matplotlib.figure.Figure at 0x1a17a06c18>"
      ]
     },
     "metadata": {},
     "output_type": "display_data"
    }
   ],
   "source": [
    "results.hist()\n",
    "\n",
    "#Plot the observed statistic as a large red point on the horizontal axis\n",
    "plots.scatter(observed_statistic, 0, color='red', s=30);"
   ]
  },
  {
   "cell_type": "code",
   "execution_count": 9,
   "metadata": {},
   "outputs": [
    {
     "data": {
      "text/plain": [
       "0.5392"
      ]
     },
     "execution_count": 9,
     "metadata": {},
     "output_type": "execute_result"
    }
   ],
   "source": [
    "# use p value for quantitative comparison \n",
    "# between observed statistic and null distribution\n",
    "empirical_P = np.count_nonzero(sampled_stats >= observed_statistic)/repetitions\n",
    "empirical_P"
   ]
  },
  {
   "cell_type": "markdown",
   "metadata": {},
   "source": [
    "# Birth months"
   ]
  },
  {
   "cell_type": "markdown",
   "metadata": {},
   "source": [
    "What month were you born in?\n",
    "\n",
    "* A) Jan-Mar\n",
    "* B) Apr-Jun\n",
    "* C) Jul-Sep\n",
    "* D) Oct-Dec"
   ]
  },
  {
   "cell_type": "code",
   "execution_count": 10,
   "metadata": {},
   "outputs": [
    {
     "data": {
      "text/html": [
       "<table border=\"1\" class=\"dataframe\">\n",
       "    <thead>\n",
       "        <tr>\n",
       "            <th>Month</th> <th>Count</th>\n",
       "        </tr>\n",
       "    </thead>\n",
       "    <tbody>\n",
       "        <tr>\n",
       "            <td>Jan-Mar</td> <td>5    </td>\n",
       "        </tr>\n",
       "    </tbody>\n",
       "        <tr>\n",
       "            <td>Apr-Jun</td> <td>6    </td>\n",
       "        </tr>\n",
       "    </tbody>\n",
       "        <tr>\n",
       "            <td>Jul-Sep</td> <td>5    </td>\n",
       "        </tr>\n",
       "    </tbody>\n",
       "        <tr>\n",
       "            <td>Oct-Dec</td> <td>7    </td>\n",
       "        </tr>\n",
       "    </tbody>\n",
       "</table>"
      ],
      "text/plain": [
       "Month   | Count\n",
       "Jan-Mar | 5\n",
       "Apr-Jun | 6\n",
       "Jul-Sep | 5\n",
       "Oct-Dec | 7"
      ]
     },
     "execution_count": 10,
     "metadata": {},
     "output_type": "execute_result"
    }
   ],
   "source": [
    "birth_month = Table().with_columns(\n",
    "    \"Month\", make_array(\"Jan-Mar\", \"Apr-Jun\", \"Jul-Sep\", \"Oct-Dec\"),\n",
    "    \"Count\", make_array(5,6,5,7))\n",
    "birth_month"
   ]
  },
  {
   "cell_type": "code",
   "execution_count": 11,
   "metadata": {},
   "outputs": [
    {
     "data": {
      "text/plain": [
       "0.13043478260869568"
      ]
     },
     "execution_count": 11,
     "metadata": {},
     "output_type": "execute_result"
    }
   ],
   "source": [
    "size_of_class = sum(birth_month.column(\"Count\"))\n",
    "observed_statistic = sum(abs(birth_month.column(\"Count\")/size_of_class - .25))\n",
    "observed_statistic"
   ]
  },
  {
   "cell_type": "markdown",
   "metadata": {},
   "source": [
    "How likely is this distribution of birth months?"
   ]
  },
  {
   "cell_type": "code",
   "execution_count": 12,
   "metadata": {},
   "outputs": [
    {
     "data": {
      "text/html": [
       "<table border=\"1\" class=\"dataframe\">\n",
       "    <thead>\n",
       "        <tr>\n",
       "            <th>TVD</th>\n",
       "        </tr>\n",
       "    </thead>\n",
       "    <tbody>\n",
       "        <tr>\n",
       "            <td>0.23913 </td>\n",
       "        </tr>\n",
       "    </tbody>\n",
       "        <tr>\n",
       "            <td>0.130435</td>\n",
       "        </tr>\n",
       "    </tbody>\n",
       "        <tr>\n",
       "            <td>0.23913 </td>\n",
       "        </tr>\n",
       "    </tbody>\n",
       "        <tr>\n",
       "            <td>0.326087</td>\n",
       "        </tr>\n",
       "    </tbody>\n",
       "        <tr>\n",
       "            <td>0.217391</td>\n",
       "        </tr>\n",
       "    </tbody>\n",
       "        <tr>\n",
       "            <td>0.304348</td>\n",
       "        </tr>\n",
       "    </tbody>\n",
       "        <tr>\n",
       "            <td>0.478261</td>\n",
       "        </tr>\n",
       "    </tbody>\n",
       "        <tr>\n",
       "            <td>0.152174</td>\n",
       "        </tr>\n",
       "    </tbody>\n",
       "        <tr>\n",
       "            <td>0.456522</td>\n",
       "        </tr>\n",
       "    </tbody>\n",
       "        <tr>\n",
       "            <td>0.217391</td>\n",
       "        </tr>\n",
       "    </tbody>\n",
       "</table>\n",
       "<p>... (9990 rows omitted)</p>"
      ],
      "text/plain": [
       "TVD\n",
       "0.23913\n",
       "0.130435\n",
       "0.23913\n",
       "0.326087\n",
       "0.217391\n",
       "0.304348\n",
       "0.478261\n",
       "0.152174\n",
       "0.456522\n",
       "0.217391\n",
       "... (9990 rows omitted)"
      ]
     },
     "execution_count": 12,
     "metadata": {},
     "output_type": "execute_result"
    }
   ],
   "source": [
    "random_counts = birth_month.select(\"Month\").sample(size_of_class).group(\"Month\")\n",
    "random_counts\n",
    "\n",
    "tvds = make_array()\n",
    "for i in np.arange(10000): # 10000 repetitions\n",
    "    random_counts = birth_month.select(\"Month\").sample(size_of_class).group(\"Month\").column(\"count\")\n",
    "    tvd = sum(abs(random_counts/sum(random_counts) - .25))\n",
    "    tvds = np.append(tvds, tvd)\n",
    "    \n",
    "results = Table().with_column('TVD', tvds)\n",
    "\n",
    "results"
   ]
  },
  {
   "cell_type": "code",
   "execution_count": 13,
   "metadata": {},
   "outputs": [
    {
     "data": {
      "image/png": "[encoded data removed]",
      "text/plain": [
       "<matplotlib.figure.Figure at 0x11297bf28>"
      ]
     },
     "metadata": {},
     "output_type": "display_data"
    }
   ],
   "source": [
    "results.hist()\n",
    "\n",
    "#Plot the observed statistic as a large red point on the horizontal axis\n",
    "plots.scatter(observed_statistic, 0, color='red', s=30);"
   ]
  },
  {
   "cell_type": "code",
   "execution_count": 14,
   "metadata": {},
   "outputs": [
    {
     "ename": "NameError",
     "evalue": "name 'observed' is not defined",
     "output_type": "error",
     "traceback": [
      "\u001b[0;31m---------------------------------------------------------------------------\u001b[0m",
      "\u001b[0;31mNameError\u001b[0m                                 Traceback (most recent call last)",
      "\u001b[0;32m<ipython-input-14-6245cd0f6397>\u001b[0m in \u001b[0;36m<module>\u001b[0;34m()\u001b[0m\n\u001b[0;32m----> 1\u001b[0;31m \u001b[0mresults\u001b[0m\u001b[0;34m.\u001b[0m\u001b[0mwhere\u001b[0m\u001b[0;34m(\u001b[0m\u001b[0;34m'TVD'\u001b[0m\u001b[0;34m,\u001b[0m \u001b[0mare\u001b[0m\u001b[0;34m.\u001b[0m\u001b[0mabove_or_equal_to\u001b[0m\u001b[0;34m(\u001b[0m\u001b[0mobserved\u001b[0m\u001b[0;34m)\u001b[0m\u001b[0;34m)\u001b[0m\u001b[0;34m.\u001b[0m\u001b[0mnum_rows\u001b[0m \u001b[0;34m/\u001b[0m \u001b[0;36m10000\u001b[0m\u001b[0;34m\u001b[0m\u001b[0m\n\u001b[0m",
      "\u001b[0;31mNameError\u001b[0m: name 'observed' is not defined"
     ]
    }
   ],
   "source": [
    "results.where('TVD', are.above_or_equal_to(observed)).num_rows / 10000"
   ]
  },
  {
   "cell_type": "markdown",
   "metadata": {},
   "source": [
    "# Jelly beans\n",
    "\n",
    "![jelly](https://imgs.xkcd.com/comics/significant.png)"
   ]
  },
  {
   "cell_type": "code",
   "execution_count": 15,
   "metadata": {},
   "outputs": [],
   "source": [
    "def test_stat(sample):\n",
    "    return sum(sample=='Some') / len(sample)\n",
    "\n",
    "def simulate_once(n_patients):\n",
    "    acne_levels = make_array('Some', 'None')\n",
    "    sample = np.random.choice(acne_levels, n_patients, p=make_array(.2, .8))\n",
    "    return test_stat(sample)"
   ]
  },
  {
   "cell_type": "code",
   "execution_count": 16,
   "metadata": {},
   "outputs": [
    {
     "data": {
      "text/plain": [
       "0.0"
      ]
     },
     "execution_count": 16,
     "metadata": {},
     "output_type": "execute_result"
    }
   ],
   "source": [
    "simulate_once(10)"
   ]
  },
  {
   "cell_type": "code",
   "execution_count": 17,
   "metadata": {},
   "outputs": [
    {
     "data": {
      "text/plain": [
       "array([0.195, 0.202, 0.2  , ..., 0.209, 0.195, 0.193])"
      ]
     },
     "execution_count": 17,
     "metadata": {},
     "output_type": "execute_result"
    }
   ],
   "source": [
    "n = 1000\n",
    "nrep = 10000\n",
    "acne_fractions = make_array()\n",
    "for i in range(nrep):\n",
    "    acne_fractions = np.append(acne_fractions, simulate_once(n))\n",
    "    \n",
    "acne_fractions"
   ]
  },
  {
   "cell_type": "code",
   "execution_count": 18,
   "metadata": {},
   "outputs": [
    {
     "data": {
      "image/png": "[encoded data removed]",
      "text/plain": [
       "<matplotlib.figure.Figure at 0x1a2095c438>"
      ]
     },
     "metadata": {},
     "output_type": "display_data"
    }
   ],
   "source": [
    "Table().with_column(\"Acne fraction\", acne_fractions).hist()"
   ]
  },
  {
   "cell_type": "code",
   "execution_count": 19,
   "metadata": {},
   "outputs": [
    {
     "name": "stdout",
     "output_type": "stream",
     "text": [
      "22.3 % of people eating  Dr Pepper jelly bean had acne\n",
      "P value is 0.0412\n",
      "Publish!  Dr Pepper flavor jelly causes acne.\n",
      "22.7 % of people eating  Sunkist Pink Grapefruit jelly bean had acne\n",
      "P value is 0.0211\n",
      "Publish!  Sunkist Pink Grapefruit flavor jelly causes acne.\n"
     ]
    }
   ],
   "source": [
    "# for each color jellybean, count fraction of jellybean eaters with acne:\n",
    "s = \"A&W Cream Soda, A&W Root Beer, Berry Blue, Blueberry, Bubble Gum, Buttered Popcorn, Cantaloupe, Cappuccino, Caramel Corn, Chili Mango, Chocolate Pudding, Cinnamon, Coconut, Cotton Candy, Crushed Pineapple, Dr Pepper, French Vanilla, Green Apple, Island Punch, Juicy Pear, Kiwi, Lemon Drop, Lemon Lime, Sunkist Lemon, Licorice, Sunkist Lime, Mango, Margarita, Mixed Berry Smoothie, Orange Sherbet, Sunkist Orange, Peach, Sunkist Pink Grapefruit, Piña Colada, Plum, Pomegranate, Raspberry, Red Apple, Sizzling Cinnamon, Sour Cherry, Strawberry Cheesecake, Strawberry Daiquiri, Strawberry Jam, Sunkist Tangerine, Toasted Marshmallow, Top Banana, Tutti-Fruitti, Very Cherry, Watermelon, Wild Blackberry\"\n",
    "flavors = s.split(\",\")\n",
    "# (there are 50 flavors)\n",
    "\n",
    "for jelly in flavors:\n",
    "    observed_statistic = simulate_once(1000)\n",
    "\n",
    "    # and compute the P-value (an approximation based on the simulation)\n",
    "    pval = sum(acne_fractions>=observed_statistic) / len(acne_fractions)\n",
    "    if pval < .05:\n",
    "        print(observed_statistic*100,\"% of people eating\", jelly, \"jelly bean had acne\")\n",
    "        print(\"P value is\", pval)\n",
    "        print(\"Publish!\", jelly, \"flavor jelly causes acne.\")\n",
    "    else:\n",
    "        continue"
   ]
  }
 ],
 "metadata": {
  "kernelspec": {
   "display_name": "Python 3",
   "language": "python",
   "name": "python3"
  },
  "language_info": {
   "codemirror_mode": {
    "name": "ipython",
    "version": 3
   },
   "file_extension": ".py",
   "mimetype": "text/x-python",
   "name": "python",
   "nbconvert_exporter": "python",
   "pygments_lexer": "ipython3",
   "version": "3.6.3"
  }
 },
 "nbformat": 4,
 "nbformat_minor": 2
}
