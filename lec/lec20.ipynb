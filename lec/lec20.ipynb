{
 "cells": [
  {
   "cell_type": "code",
   "execution_count": null,
   "metadata": {
    "collapsed": true
   },
   "outputs": [],
   "source": [
    "from datascience import *\n",
    "import numpy as np\n",
    "\n",
    "import matplotlib.pyplot as plots\n",
    "plots.style.use('fivethirtyeight')\n",
    "%matplotlib inline"
   ]
  },
  {
   "cell_type": "markdown",
   "metadata": {},
   "source": [
    "# Mendel"
   ]
  },
  {
   "cell_type": "markdown",
   "metadata": {},
   "source": [
    "## 1. Select two hypotheses\n",
    "\n",
    "* **Null:** For every plant, there is a 75% chance that it will have purple flowers, and a 25% chance that the flowers will be white, regardless of the colors in all the other plants.\n",
    "* **Alternative:** Something else"
   ]
  },
  {
   "cell_type": "code",
   "execution_count": null,
   "metadata": {},
   "outputs": [],
   "source": [
    "flowers = Table().with_columns(\n",
    "    'Color', make_array('Purple', 'White'),\n",
    "    'Model Proportion', make_array(0.75, 0.25),\n",
    "    'Plants', make_array(705, 224)\n",
    ")\n",
    "\n",
    "flowers"
   ]
  },
  {
   "cell_type": "code",
   "execution_count": null,
   "metadata": {},
   "outputs": [],
   "source": [
    "total_plants = flowers.column('Plants').sum()\n",
    "total_plants"
   ]
  },
  {
   "cell_type": "code",
   "execution_count": null,
   "metadata": {},
   "outputs": [],
   "source": [
    "observed_proportion = flowers.column('Plants').item(0)/total_plants\n",
    "observed_proportion"
   ]
  },
  {
   "cell_type": "markdown",
   "metadata": {},
   "source": [
    "## 2. Choose a test statistic"
   ]
  },
  {
   "cell_type": "code",
   "execution_count": null,
   "metadata": {},
   "outputs": [],
   "source": [
    "observed_statistic = abs(observed_proportion - 0.75)\n",
    "observed_statistic"
   ]
  },
  {
   "cell_type": "markdown",
   "metadata": {},
   "source": [
    "## 3. Compute the Distribution of the Test Statistic under the Null Hypothesis"
   ]
  },
  {
   "cell_type": "code",
   "execution_count": null,
   "metadata": {},
   "outputs": [],
   "source": [
    "model_colors = make_array('Purple', 'Purple', 'Purple', 'White')\n",
    "\n",
    "repetitions = 5000\n",
    "\n",
    "sampled_stats = make_array()\n",
    "\n",
    "for i in np.arange(repetitions):\n",
    "    new_sample = np.random.choice(model_colors, total_plants)\n",
    "    proportion_purple = np.count_nonzero(new_sample == 'Purple')/total_plants\n",
    "    sampled_stats = np.append(sampled_stats, abs(proportion_purple - 0.75))\n",
    "\n",
    "results = Table().with_column('Distance from 0.75', sampled_stats)\n",
    "results.hist()"
   ]
  },
  {
   "cell_type": "code",
   "execution_count": null,
   "metadata": {
    "collapsed": true
   },
   "outputs": [],
   "source": [
    "## 4. Compare the Prediction to the Observed Data"
   ]
  },
  {
   "cell_type": "code",
   "execution_count": null,
   "metadata": {},
   "outputs": [],
   "source": [
    "results.hist()\n",
    "\n",
    "#Plot the observed statistic as a large red point on the horizontal axis\n",
    "plots.scatter(observed_statistic, 0, color='red', s=30);"
   ]
  },
  {
   "cell_type": "code",
   "execution_count": null,
   "metadata": {},
   "outputs": [],
   "source": [
    "# use p value for quantitative comparison \n",
    "# between observed statistic and null distribution\n",
    "empirical_P = np.count_nonzero(sampled_stats >= observed_statistic)/repetitions\n",
    "empirical_P"
   ]
  },
  {
   "cell_type": "markdown",
   "metadata": {},
   "source": [
    "# Birth months"
   ]
  },
  {
   "cell_type": "markdown",
   "metadata": {},
   "source": [
    "What month were you born in?\n",
    "\n",
    "* A) Jan-Mar\n",
    "* B) Apr-Jun\n",
    "* C) Jul-Sep\n",
    "* D) Oct-Dec"
   ]
  },
  {
   "cell_type": "code",
   "execution_count": null,
   "metadata": {},
   "outputs": [],
   "source": [
    "birth_month = Table().with_columns(\n",
    "    \"Month\", make_array(\"Jan-Mar\", \"Apr-Jun\", \"Jul-Sep\", \"Oct-Dec\"),\n",
    "    \"Count\", make_array(5,6,5,7))\n",
    "birth_month"
   ]
  },
  {
   "cell_type": "code",
   "execution_count": null,
   "metadata": {},
   "outputs": [],
   "source": [
    "size_of_class = sum(birth_month.column(\"Count\"))\n",
    "observed_statistic = sum(abs(birth_month.column(\"Count\")/size_of_class - .25))\n",
    "observed_statistic"
   ]
  },
  {
   "cell_type": "markdown",
   "metadata": {},
   "source": [
    "How likely is this distribution of birth months?"
   ]
  },
  {
   "cell_type": "code",
   "execution_count": null,
   "metadata": {},
   "outputs": [],
   "source": [
    "random_counts = birth_month.select(\"Month\").sample(size_of_class).group(\"Month\")\n",
    "random_counts\n",
    "\n",
    "tvds = make_array()\n",
    "for i in np.arange(10000): # 10000 repetitions\n",
    "    random_counts = birth_month.select(\"Month\").sample(size_of_class).group(\"Month\").column(\"count\")\n",
    "    tvd = sum(abs(random_counts/sum(random_counts) - .25))\n",
    "    tvds = np.append(tvds, tvd)\n",
    "    \n",
    "results = Table().with_column('TVD', tvds)\n",
    "\n",
    "results"
   ]
  },
  {
   "cell_type": "code",
   "execution_count": null,
   "metadata": {},
   "outputs": [],
   "source": [
    "results.hist()\n",
    "\n",
    "#Plot the observed statistic as a large red point on the horizontal axis\n",
    "plots.scatter(observed_statistic, 0, color='red', s=30);"
   ]
  },
  {
   "cell_type": "code",
   "execution_count": null,
   "metadata": {},
   "outputs": [],
   "source": [
    "results.where('TVD', are.above_or_equal_to(observed)).num_rows / 10000"
   ]
  },
  {
   "cell_type": "markdown",
   "metadata": {},
   "source": [
    "# Jelly beans\n",
    "\n",
    "![jelly](https://imgs.xkcd.com/comics/significant.png)"
   ]
  },
  {
   "cell_type": "code",
   "execution_count": null,
   "metadata": {},
   "outputs": [],
   "source": [
    "def test_stat(sample):\n",
    "    return sum(sample=='Some') / len(sample)\n",
    "\n",
    "def simulate_once(n_patients):\n",
    "    acne_levels = make_array('Some', 'None')\n",
    "    sample = np.random.choice(acne_levels, n_patients, p=make_array(.2, .8))\n",
    "    return test_stat(sample)"
   ]
  },
  {
   "cell_type": "code",
   "execution_count": null,
   "metadata": {},
   "outputs": [],
   "source": [
    "simulate_once(10)"
   ]
  },
  {
   "cell_type": "code",
   "execution_count": null,
   "metadata": {},
   "outputs": [],
   "source": [
    "n = 1000\n",
    "nrep = 10000\n",
    "acne_fractions = make_array()\n",
    "for i in range(nrep):\n",
    "    acne_fractions = np.append(acne_fractions, simulate_once(n))\n",
    "    \n",
    "acne_fractions"
   ]
  },
  {
   "cell_type": "code",
   "execution_count": null,
   "metadata": {},
   "outputs": [],
   "source": [
    "Table().with_column(\"Acne fraction\", acne_fractions).hist()"
   ]
  },
  {
   "cell_type": "code",
   "execution_count": null,
   "metadata": {},
   "outputs": [],
   "source": [
    "# for each color jellybean, count fraction of jellybean eaters with acne:\n",
    "s = \"A&W Cream Soda, A&W Root Beer, Berry Blue, Blueberry, Bubble Gum, Buttered Popcorn, Cantaloupe, Cappuccino, Caramel Corn, Chili Mango, Chocolate Pudding, Cinnamon, Coconut, Cotton Candy, Crushed Pineapple, Dr Pepper, French Vanilla, Green Apple, Island Punch, Juicy Pear, Kiwi, Lemon Drop, Lemon Lime, Sunkist Lemon, Licorice, Sunkist Lime, Mango, Margarita, Mixed Berry Smoothie, Orange Sherbet, Sunkist Orange, Peach, Sunkist Pink Grapefruit, Piña Colada, Plum, Pomegranate, Raspberry, Red Apple, Sizzling Cinnamon, Sour Cherry, Strawberry Cheesecake, Strawberry Daiquiri, Strawberry Jam, Sunkist Tangerine, Toasted Marshmallow, Top Banana, Tutti-Fruitti, Very Cherry, Watermelon, Wild Blackberry\"\n",
    "flavors = s.split(\",\")\n",
    "# (there are 50 flavors)\n",
    "\n",
    "for jelly in flavors:\n",
    "    observed_statistic = simulate_once(1000)\n",
    "\n",
    "    # and compute the P-value (an approximation based on the simulation)\n",
    "    pval = sum(acne_fractions>=observed_statistic) / len(acne_fractions)\n",
    "    if pval < .05:\n",
    "        print(observed_statistic*100,\"% of people eating\", jelly, \"jelly bean had acne\")\n",
    "        print(\"P value is\", pval)\n",
    "        print(\"Publish!\", jelly, \"flavor jelly causes acne.\")\n",
    "    else:\n",
    "        continue"
   ]
  }
 ],
 "metadata": {
  "kernelspec": {
   "display_name": "Python 3",
   "language": "python",
   "name": "python3"
  },
  "language_info": {
   "codemirror_mode": {
    "name": "ipython",
    "version": 3
   },
   "file_extension": ".py",
   "mimetype": "text/x-python",
   "name": "python",
   "nbconvert_exporter": "python",
   "pygments_lexer": "ipython3",
   "version": "3.6.3"
  }
 },
 "nbformat": 4,
 "nbformat_minor": 2
}
