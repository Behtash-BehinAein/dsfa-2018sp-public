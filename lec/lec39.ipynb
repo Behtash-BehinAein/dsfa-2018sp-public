{
 "cells": [
  {
   "cell_type": "markdown",
   "metadata": {},
   "source": [
    "# Lecture 39: Privacy"
   ]
  },
  {
   "cell_type": "code",
   "execution_count": null,
   "metadata": {},
   "outputs": [],
   "source": [
    "from datascience import *\n",
    "import numpy as np\n",
    "\n",
    "import matplotlib.pyplot as plots\n",
    "plots.style.use('fivethirtyeight')\n",
    "%matplotlib inline\n",
    "np.set_printoptions(legacy='1.13')\n",
    "\n",
    "import datetime\n",
    "import re"
   ]
  },
  {
   "cell_type": "markdown",
   "metadata": {},
   "source": [
    "## Automated license plate readers in Oakland, CA"
   ]
  },
  {
   "cell_type": "code",
   "execution_count": null,
   "metadata": {},
   "outputs": [],
   "source": [
    "# source: https://data.oaklandnet.com/browse?q=alpr\n",
    "alpr = Table.read_table('alpr_all.csv.gz', sep=',')\\\n",
    "  .relabeled('red_VRM', 'plate')\\\n",
    "  .relabeled('red_Timestamp', 'time')\n",
    "alpr"
   ]
  },
  {
   "cell_type": "code",
   "execution_count": null,
   "metadata": {},
   "outputs": [],
   "source": [
    "p = re.compile('\\((.*),(.*)\\)')\n",
    "\n",
    "def parse_latitude(s):\n",
    "    m = p.match(s)\n",
    "    return float(m.group(1))\n",
    "\n",
    "def parse_longitude(s):\n",
    "    m = p.match(s)\n",
    "    return float(m.group(2))\n",
    "\n",
    "alpr_latlon = alpr.with_columns(\n",
    "    'latitude',  alpr.apply(parse_latitude,  'Location 1'),\n",
    "    'longitude', alpr.apply(parse_longitude, 'Location 1')\n",
    ").drop('Location 1')\n",
    "\n",
    "alpr_latlon"
   ]
  },
  {
   "cell_type": "code",
   "execution_count": null,
   "metadata": {},
   "outputs": [],
   "source": [
    "def color_for_time(time):\n",
    "    t = datetime.datetime.strptime(time, '%m/%d/%Y %I:%M:%S %p')\n",
    "    if t.weekday() >= 6:\n",
    "        return 'red' #weekend\n",
    "    elif t.hour >= 6 and t.hour <= 17:\n",
    "        return 'lightblue' #weekday daytime\n",
    "    else:\n",
    "        return 'darkblue' #weekday evening\n",
    "    \n",
    "alpr_latlon_color = alpr_latlon.with_column(\n",
    "    'color', alpr.apply(color_for_time, 'time')\n",
    ")\n",
    "alpr_latlon_color"
   ]
  },
  {
   "cell_type": "code",
   "execution_count": null,
   "metadata": {},
   "outputs": [],
   "source": [
    "def map_plate(plate):\n",
    "    sightings = alpr_latlon_color.where('plate', plate)\n",
    "    t = sightings.select('latitude', 'longitude', 'time', 'color')\n",
    "    return Marker.map_table(t)\n",
    "    \n",
    "most_seen = alpr_latlon_color.group('plate').sort('count', descending=True).column('plate').item(0)    \n",
    "map_plate(most_seen)"
   ]
  },
  {
   "cell_type": "code",
   "execution_count": null,
   "metadata": {},
   "outputs": [],
   "source": [
    "the_mayor = '6FCH845'\n",
    "map_plate(the_mayor)  "
   ]
  },
  {
   "cell_type": "code",
   "execution_count": null,
   "metadata": {},
   "outputs": [],
   "source": [
    "the_fire_chief = '1328354'\n",
    "map_plate(the_fire_chief)"
   ]
  },
  {
   "cell_type": "code",
   "execution_count": null,
   "metadata": {},
   "outputs": [],
   "source": [
    "# unknown person\n",
    "map_plate('6UZA652')"
   ]
  },
  {
   "cell_type": "markdown",
   "metadata": {},
   "source": [
    "Is that kind of exploration ethical?\n",
    "\n",
    "* For purposes of education?\n",
    "* For purposes of curiousity?\n",
    "* ..."
   ]
  },
  {
   "cell_type": "markdown",
   "metadata": {},
   "source": [
    "## Voter Registration in Washington, DC"
   ]
  },
  {
   "cell_type": "code",
   "execution_count": null,
   "metadata": {},
   "outputs": [],
   "source": [
    "# source: https://github.com/ajschumacher/dc_voter_reg\n",
    "dcvoters = Table.read_table('dcvoters.csv.zip', sep=',', na_filter=False, low_memory=False)\n",
    "dcvoters"
   ]
  },
  {
   "cell_type": "code",
   "execution_count": null,
   "metadata": {
    "scrolled": true
   },
   "outputs": [],
   "source": [
    "clarksons = dcvoters.where('LASTNAME', 'CLARKSON')\n",
    "clarksons"
   ]
  },
  {
   "cell_type": "markdown",
   "metadata": {},
   "source": [
    "Just learned address.  How about age?"
   ]
  },
  {
   "cell_type": "code",
   "execution_count": null,
   "metadata": {},
   "outputs": [],
   "source": [
    "pop = Table.read_table('population_by_zip_2010.csv.zip', sep=',', dtype={'zipcode':str})\\\n",
    "  .relabeled('population', 'count').drop('geo_id')\n",
    "pop"
   ]
  },
  {
   "cell_type": "code",
   "execution_count": null,
   "metadata": {},
   "outputs": [],
   "source": [
    "ages = pop.where('zipcode', '20036')\\\n",
    "  .where('gender', 'male')\\\n",
    "  .where('minimum_age', are.above(0))\\\n",
    "  .select('minimum_age', 'count')\n",
    "\n",
    "ages.sort('minimum_age').barh('minimum_age')"
   ]
  },
  {
   "cell_type": "code",
   "execution_count": null,
   "metadata": {},
   "outputs": [],
   "source": [
    "dcvoters.where('RES_ZIP', '20052')"
   ]
  },
  {
   "cell_type": "markdown",
   "metadata": {},
   "source": [
    "Steven Knapp (Cornell PhD 1981):  President of GWU 2007-2017\n",
    "\n",
    "<hr/>\n",
    "\n",
    "Does political party ever uniquely identify someone?"
   ]
  },
  {
   "cell_type": "code",
   "execution_count": null,
   "metadata": {},
   "outputs": [],
   "source": [
    "zip_party = dcvoters.group(['RES_ZIP','PARTY']).sort('count')\n",
    "zip_party.where('count', 1).show()"
   ]
  },
  {
   "cell_type": "markdown",
   "metadata": {},
   "source": [
    "## Linking"
   ]
  },
  {
   "cell_type": "markdown",
   "metadata": {},
   "source": [
    "Some synthetic data."
   ]
  },
  {
   "cell_type": "code",
   "execution_count": null,
   "metadata": {},
   "outputs": [],
   "source": [
    "voters = Table.read_table('kanon_voter.csv.zip', sep=',', dtype={'Zip':str})\n",
    "voters"
   ]
  },
  {
   "cell_type": "code",
   "execution_count": null,
   "metadata": {},
   "outputs": [],
   "source": [
    "hospital = Table.read_table('kanon_hospital.csv.zip', sep=',', dtype={'Zip':str})\n",
    "hospital"
   ]
  },
  {
   "cell_type": "code",
   "execution_count": null,
   "metadata": {},
   "outputs": [],
   "source": [
    "unique_voters = voters.group(['Zip','DOB','Sex']).where('count', 1)\n",
    "unique_voters"
   ]
  },
  {
   "cell_type": "code",
   "execution_count": null,
   "metadata": {},
   "outputs": [],
   "source": [
    "def de_anonymize_row(row):\n",
    "    zip_code = row.item('Zip')\n",
    "    dob = row.item('DOB')\n",
    "    sex = row.item('Sex')\n",
    "    matching = voters.where('Zip', zip_code).where('DOB', dob).where('Sex', sex)\n",
    "    if matching.num_rows == 1:\n",
    "        return matching.column('Name').item(0)\n",
    "    else:\n",
    "        return 'Not unique'\n",
    "    \n",
    "def de_anonymize_table(table):\n",
    "    patients = table.with_column(\n",
    "        'Name', table.apply(de_anonymize_row)\n",
    "    ).where('Name', are.not_equal_to('Not unique'))\n",
    "    return patients"
   ]
  },
  {
   "cell_type": "code",
   "execution_count": null,
   "metadata": {},
   "outputs": [],
   "source": [
    "first_10 = hospital.take(np.arange(0, 10))\n",
    "de_anonymize_table(first_10)"
   ]
  },
  {
   "cell_type": "code",
   "execution_count": null,
   "metadata": {},
   "outputs": [],
   "source": [
    "last_10 = hospital.take(np.arange(9990, 10000))\n",
    "de_anonymize_table(last_10)"
   ]
  },
  {
   "cell_type": "markdown",
   "metadata": {},
   "source": [
    "## k-anonymity"
   ]
  },
  {
   "cell_type": "code",
   "execution_count": null,
   "metadata": {},
   "outputs": [],
   "source": [
    "def anonymity_size(table, attributes):\n",
    "    t = table.group(attributes).sort('count')\n",
    "    return t\n",
    "\n",
    "anonymity_size(hospital, ['Zip','DOB','Sex'])"
   ]
  },
  {
   "cell_type": "code",
   "execution_count": null,
   "metadata": {},
   "outputs": [],
   "source": [
    "anonymity_size(hospital, ['DOB','Sex'])"
   ]
  },
  {
   "cell_type": "code",
   "execution_count": null,
   "metadata": {},
   "outputs": [],
   "source": [
    "def extract_year(s):\n",
    "    return s[0:4]\n",
    "\n",
    "hospital_birthyear = hospital.with_column(\n",
    "    'DOB', hospital.apply(extract_year, 'DOB')\n",
    ")\n",
    "\n",
    "anonymity_size(hospital_birthyear, ['DOB','Sex'])"
   ]
  },
  {
   "cell_type": "code",
   "execution_count": null,
   "metadata": {},
   "outputs": [],
   "source": [
    "anonymized_hospital = hospital_birthyear.drop('Zip')\n",
    "anonymized_hospital"
   ]
  },
  {
   "cell_type": "code",
   "execution_count": null,
   "metadata": {},
   "outputs": [],
   "source": [
    "voters_birthyear = voters.with_column(\n",
    "    'DOB', voters.apply(extract_year, 'DOB')\n",
    ")\n",
    "\n",
    "def de_anonymize_row_nozip(row):\n",
    "    dob = row.item('DOB')\n",
    "    sex = row.item('Sex')\n",
    "    matching = voters_birthyear.where('DOB', dob).where('Sex', sex)\n",
    "    if matching.num_rows == 1:\n",
    "        return matching.column('Name').item(0)\n",
    "    else:\n",
    "        return 'Not unique'\n",
    "    \n",
    "def de_anonymize_table_nozip(table):\n",
    "    patients = table.with_column(\n",
    "        'Name', table.apply(de_anonymize_row_nozip)\n",
    "    ).where('Name', are.not_equal_to('Not unique'))\n",
    "    return patients\n",
    "\n",
    "last_10_nozip = anonymized_hospital.take(np.arange(9990, 10000))\n",
    "de_anonymize_table_nozip(last_10_nozip)"
   ]
  },
  {
   "cell_type": "code",
   "execution_count": null,
   "metadata": {},
   "outputs": [],
   "source": []
  }
 ],
 "metadata": {
  "anaconda-cloud": {},
  "kernelspec": {
   "display_name": "Python 3",
   "language": "python",
   "name": "python3"
  },
  "language_info": {
   "codemirror_mode": {
    "name": "ipython",
    "version": 3
   },
   "file_extension": ".py",
   "mimetype": "text/x-python",
   "name": "python",
   "nbconvert_exporter": "python",
   "pygments_lexer": "ipython3",
   "version": "3.6.4"
  }
 },
 "nbformat": 4,
 "nbformat_minor": 1
}
