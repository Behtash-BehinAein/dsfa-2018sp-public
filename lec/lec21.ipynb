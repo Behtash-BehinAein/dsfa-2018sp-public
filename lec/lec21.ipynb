{
 "cells": [
  {
   "cell_type": "code",
   "execution_count": 1,
   "metadata": {
    "collapsed": true
   },
   "outputs": [],
   "source": [
    "from datascience import *\n",
    "import numpy as np\n",
    "\n",
    "import matplotlib.pyplot as plots\n",
    "plots.style.use('fivethirtyeight')\n",
    "%matplotlib inline"
   ]
  },
  {
   "cell_type": "markdown",
   "metadata": {},
   "source": [
    "## Deflategate"
   ]
  },
  {
   "cell_type": "code",
   "execution_count": 2,
   "metadata": {},
   "outputs": [
    {
     "data": {
      "text/html": [
       "<table border=\"1\" class=\"dataframe\">\n",
       "    <thead>\n",
       "        <tr>\n",
       "            <th>Ball</th> <th>Blakeman</th> <th>Prioleau</th>\n",
       "        </tr>\n",
       "    </thead>\n",
       "    <tbody>\n",
       "        <tr>\n",
       "            <td>Patriots 1 </td> <td>11.5    </td> <td>11.8    </td>\n",
       "        </tr>\n",
       "    </tbody>\n",
       "        <tr>\n",
       "            <td>Patriots 2 </td> <td>10.85   </td> <td>11.2    </td>\n",
       "        </tr>\n",
       "    </tbody>\n",
       "        <tr>\n",
       "            <td>Patriots 3 </td> <td>11.15   </td> <td>11.5    </td>\n",
       "        </tr>\n",
       "    </tbody>\n",
       "        <tr>\n",
       "            <td>Patriots 4 </td> <td>10.7    </td> <td>11      </td>\n",
       "        </tr>\n",
       "    </tbody>\n",
       "        <tr>\n",
       "            <td>Patriots 5 </td> <td>11.1    </td> <td>11.45   </td>\n",
       "        </tr>\n",
       "    </tbody>\n",
       "        <tr>\n",
       "            <td>Patriots 6 </td> <td>11.6    </td> <td>11.95   </td>\n",
       "        </tr>\n",
       "    </tbody>\n",
       "        <tr>\n",
       "            <td>Patriots 7 </td> <td>11.85   </td> <td>12.3    </td>\n",
       "        </tr>\n",
       "    </tbody>\n",
       "        <tr>\n",
       "            <td>Patriots 8 </td> <td>11.1    </td> <td>11.55   </td>\n",
       "        </tr>\n",
       "    </tbody>\n",
       "        <tr>\n",
       "            <td>Patriots 9 </td> <td>10.95   </td> <td>11.35   </td>\n",
       "        </tr>\n",
       "    </tbody>\n",
       "        <tr>\n",
       "            <td>Patriots 10</td> <td>10.5    </td> <td>10.9    </td>\n",
       "        </tr>\n",
       "    </tbody>\n",
       "        <tr>\n",
       "            <td>Patriots 11</td> <td>10.9    </td> <td>11.35   </td>\n",
       "        </tr>\n",
       "    </tbody>\n",
       "        <tr>\n",
       "            <td>Colts 1    </td> <td>12.7    </td> <td>12.35   </td>\n",
       "        </tr>\n",
       "    </tbody>\n",
       "        <tr>\n",
       "            <td>Colts 2    </td> <td>12.75   </td> <td>12.3    </td>\n",
       "        </tr>\n",
       "    </tbody>\n",
       "        <tr>\n",
       "            <td>Colts 3    </td> <td>12.5    </td> <td>12.95   </td>\n",
       "        </tr>\n",
       "    </tbody>\n",
       "        <tr>\n",
       "            <td>Colts 4    </td> <td>12.55   </td> <td>12.15   </td>\n",
       "        </tr>\n",
       "    </tbody>\n",
       "</table>"
      ],
      "text/plain": [
       "<IPython.core.display.HTML object>"
      ]
     },
     "metadata": {},
     "output_type": "display_data"
    }
   ],
   "source": [
    "football = Table.read_table('football.csv')\n",
    "football = football.drop('Team')\n",
    "football.show()"
   ]
  },
  {
   "cell_type": "code",
   "execution_count": 3,
   "metadata": {},
   "outputs": [
    {
     "data": {
      "text/html": [
       "<table border=\"1\" class=\"dataframe\">\n",
       "    <thead>\n",
       "        <tr>\n",
       "            <th>Ball</th> <th>Blakeman</th> <th>Prioleau</th> <th>Team</th> <th>Weight at Halftime</th> <th>Estimate at Start</th> <th>Drop</th>\n",
       "        </tr>\n",
       "    </thead>\n",
       "    <tbody>\n",
       "        <tr>\n",
       "            <td>Patriots 1 </td> <td>11.5    </td> <td>11.8    </td> <td>Patriots</td> <td>11.65             </td> <td>12.5             </td> <td>0.85 </td>\n",
       "        </tr>\n",
       "    </tbody>\n",
       "        <tr>\n",
       "            <td>Patriots 2 </td> <td>10.85   </td> <td>11.2    </td> <td>Patriots</td> <td>11.025            </td> <td>12.5             </td> <td>1.475</td>\n",
       "        </tr>\n",
       "    </tbody>\n",
       "        <tr>\n",
       "            <td>Patriots 3 </td> <td>11.15   </td> <td>11.5    </td> <td>Patriots</td> <td>11.325            </td> <td>12.5             </td> <td>1.175</td>\n",
       "        </tr>\n",
       "    </tbody>\n",
       "        <tr>\n",
       "            <td>Patriots 4 </td> <td>10.7    </td> <td>11      </td> <td>Patriots</td> <td>10.85             </td> <td>12.5             </td> <td>1.65 </td>\n",
       "        </tr>\n",
       "    </tbody>\n",
       "        <tr>\n",
       "            <td>Patriots 5 </td> <td>11.1    </td> <td>11.45   </td> <td>Patriots</td> <td>11.275            </td> <td>12.5             </td> <td>1.225</td>\n",
       "        </tr>\n",
       "    </tbody>\n",
       "        <tr>\n",
       "            <td>Patriots 6 </td> <td>11.6    </td> <td>11.95   </td> <td>Patriots</td> <td>11.775            </td> <td>12.5             </td> <td>0.725</td>\n",
       "        </tr>\n",
       "    </tbody>\n",
       "        <tr>\n",
       "            <td>Patriots 7 </td> <td>11.85   </td> <td>12.3    </td> <td>Patriots</td> <td>12.075            </td> <td>12.5             </td> <td>0.425</td>\n",
       "        </tr>\n",
       "    </tbody>\n",
       "        <tr>\n",
       "            <td>Patriots 8 </td> <td>11.1    </td> <td>11.55   </td> <td>Patriots</td> <td>11.325            </td> <td>12.5             </td> <td>1.175</td>\n",
       "        </tr>\n",
       "    </tbody>\n",
       "        <tr>\n",
       "            <td>Patriots 9 </td> <td>10.95   </td> <td>11.35   </td> <td>Patriots</td> <td>11.15             </td> <td>12.5             </td> <td>1.35 </td>\n",
       "        </tr>\n",
       "    </tbody>\n",
       "        <tr>\n",
       "            <td>Patriots 10</td> <td>10.5    </td> <td>10.9    </td> <td>Patriots</td> <td>10.7              </td> <td>12.5             </td> <td>1.8  </td>\n",
       "        </tr>\n",
       "    </tbody>\n",
       "        <tr>\n",
       "            <td>Patriots 11</td> <td>10.9    </td> <td>11.35   </td> <td>Patriots</td> <td>11.125            </td> <td>12.5             </td> <td>1.375</td>\n",
       "        </tr>\n",
       "    </tbody>\n",
       "        <tr>\n",
       "            <td>Colts 1    </td> <td>12.7    </td> <td>12.35   </td> <td>Colts   </td> <td>12.525            </td> <td>13               </td> <td>0.475</td>\n",
       "        </tr>\n",
       "    </tbody>\n",
       "        <tr>\n",
       "            <td>Colts 2    </td> <td>12.75   </td> <td>12.3    </td> <td>Colts   </td> <td>12.525            </td> <td>13               </td> <td>0.475</td>\n",
       "        </tr>\n",
       "    </tbody>\n",
       "        <tr>\n",
       "            <td>Colts 3    </td> <td>12.5    </td> <td>12.95   </td> <td>Colts   </td> <td>12.725            </td> <td>13               </td> <td>0.275</td>\n",
       "        </tr>\n",
       "    </tbody>\n",
       "        <tr>\n",
       "            <td>Colts 4    </td> <td>12.55   </td> <td>12.15   </td> <td>Colts   </td> <td>12.35             </td> <td>13               </td> <td>0.65 </td>\n",
       "        </tr>\n",
       "    </tbody>\n",
       "</table>"
      ],
      "text/plain": [
       "<IPython.core.display.HTML object>"
      ]
     },
     "metadata": {},
     "output_type": "display_data"
    }
   ],
   "source": [
    "initials = np.append(np.ones(11) * 12.5, np.ones(4) * 13)\n",
    "halftime_wts = (football.column('Blakeman')+football.column('Prioleau'))/2\n",
    "football = football.with_column(\n",
    "    'Team', np.char.strip(football.column('Ball'), [' 1234567890']),\n",
    "    'Weight at Halftime', halftime_wts,\n",
    "    'Estimate at Start', initials,\n",
    "    'Drop', initials - halftime_wts\n",
    ")\n",
    "football.show()"
   ]
  },
  {
   "cell_type": "code",
   "execution_count": 4,
   "metadata": {},
   "outputs": [
    {
     "data": {
      "text/plain": [
       "0.733522727272728"
      ]
     },
     "execution_count": 4,
     "metadata": {},
     "output_type": "execute_result"
    }
   ],
   "source": [
    "# test statistic\n",
    "def difference_in_average_drop(t):\n",
    "    averages = t.select('Team', 'Drop').group('Team', np.average).column(1)\n",
    "    return averages.item(1) - averages.item(0)\n",
    "\n",
    "observed = difference_in_average_drop(football)\n",
    "observed"
   ]
  },
  {
   "cell_type": "code",
   "execution_count": 5,
   "metadata": {},
   "outputs": [
    {
     "data": {
      "text/html": [
       "<table border=\"1\" class=\"dataframe\">\n",
       "    <thead>\n",
       "        <tr>\n",
       "            <th>Drop</th>\n",
       "        </tr>\n",
       "    </thead>\n",
       "    <tbody>\n",
       "        <tr>\n",
       "            <td>0.85 </td>\n",
       "        </tr>\n",
       "    </tbody>\n",
       "        <tr>\n",
       "            <td>1.475</td>\n",
       "        </tr>\n",
       "    </tbody>\n",
       "        <tr>\n",
       "            <td>1.175</td>\n",
       "        </tr>\n",
       "    </tbody>\n",
       "        <tr>\n",
       "            <td>1.65 </td>\n",
       "        </tr>\n",
       "    </tbody>\n",
       "        <tr>\n",
       "            <td>1.225</td>\n",
       "        </tr>\n",
       "    </tbody>\n",
       "        <tr>\n",
       "            <td>0.725</td>\n",
       "        </tr>\n",
       "    </tbody>\n",
       "        <tr>\n",
       "            <td>0.425</td>\n",
       "        </tr>\n",
       "    </tbody>\n",
       "        <tr>\n",
       "            <td>1.175</td>\n",
       "        </tr>\n",
       "    </tbody>\n",
       "        <tr>\n",
       "            <td>1.35 </td>\n",
       "        </tr>\n",
       "    </tbody>\n",
       "        <tr>\n",
       "            <td>1.8  </td>\n",
       "        </tr>\n",
       "    </tbody>\n",
       "        <tr>\n",
       "            <td>1.375</td>\n",
       "        </tr>\n",
       "    </tbody>\n",
       "        <tr>\n",
       "            <td>0.475</td>\n",
       "        </tr>\n",
       "    </tbody>\n",
       "        <tr>\n",
       "            <td>0.475</td>\n",
       "        </tr>\n",
       "    </tbody>\n",
       "        <tr>\n",
       "            <td>0.275</td>\n",
       "        </tr>\n",
       "    </tbody>\n",
       "        <tr>\n",
       "            <td>0.65 </td>\n",
       "        </tr>\n",
       "    </tbody>\n",
       "</table>"
      ],
      "text/plain": [
       "<IPython.core.display.HTML object>"
      ]
     },
     "metadata": {},
     "output_type": "display_data"
    }
   ],
   "source": [
    "football.select('Drop').show()"
   ]
  },
  {
   "cell_type": "code",
   "execution_count": 6,
   "metadata": {},
   "outputs": [
    {
     "data": {
      "text/html": [
       "<table border=\"1\" class=\"dataframe\">\n",
       "    <thead>\n",
       "        <tr>\n",
       "            <th>Team</th> <th>Drop</th>\n",
       "        </tr>\n",
       "    </thead>\n",
       "    <tbody>\n",
       "        <tr>\n",
       "            <td>Patriots</td> <td>1.35 </td>\n",
       "        </tr>\n",
       "    </tbody>\n",
       "        <tr>\n",
       "            <td>Patriots</td> <td>0.65 </td>\n",
       "        </tr>\n",
       "    </tbody>\n",
       "        <tr>\n",
       "            <td>Patriots</td> <td>0.475</td>\n",
       "        </tr>\n",
       "    </tbody>\n",
       "        <tr>\n",
       "            <td>Patriots</td> <td>0.85 </td>\n",
       "        </tr>\n",
       "    </tbody>\n",
       "        <tr>\n",
       "            <td>Patriots</td> <td>1.225</td>\n",
       "        </tr>\n",
       "    </tbody>\n",
       "        <tr>\n",
       "            <td>Patriots</td> <td>1.475</td>\n",
       "        </tr>\n",
       "    </tbody>\n",
       "        <tr>\n",
       "            <td>Patriots</td> <td>1.65 </td>\n",
       "        </tr>\n",
       "    </tbody>\n",
       "        <tr>\n",
       "            <td>Patriots</td> <td>1.375</td>\n",
       "        </tr>\n",
       "    </tbody>\n",
       "        <tr>\n",
       "            <td>Patriots</td> <td>0.275</td>\n",
       "        </tr>\n",
       "    </tbody>\n",
       "        <tr>\n",
       "            <td>Patriots</td> <td>1.175</td>\n",
       "        </tr>\n",
       "    </tbody>\n",
       "</table>\n",
       "<p>... (5 rows omitted)</p>"
      ],
      "text/plain": [
       "Team     | Drop\n",
       "Patriots | 1.35\n",
       "Patriots | 0.65\n",
       "Patriots | 0.475\n",
       "Patriots | 0.85\n",
       "Patriots | 1.225\n",
       "Patriots | 1.475\n",
       "Patriots | 1.65\n",
       "Patriots | 1.375\n",
       "Patriots | 0.275\n",
       "Patriots | 1.175\n",
       "... (5 rows omitted)"
      ]
     },
     "execution_count": 6,
     "metadata": {},
     "output_type": "execute_result"
    }
   ],
   "source": [
    "shuffled = football.select('Drop').sample(15, with_replacement=False)\n",
    "football.select('Team').with_column('Drop', shuffled.column(0))"
   ]
  },
  {
   "cell_type": "code",
   "execution_count": 7,
   "metadata": {
    "collapsed": true
   },
   "outputs": [],
   "source": [
    "sampled_stats = make_array()\n",
    "\n",
    "for i in np.arange(10000):\n",
    "    shuffled = football.select('Drop').sample(15, with_replacement=False)\n",
    "    sample = football.select('Team').with_column('Drop', shuffled.column(0))    \n",
    "    sampled_stats = np.append(sampled_stats, difference_in_average_drop(sample))"
   ]
  },
  {
   "cell_type": "code",
   "execution_count": 8,
   "metadata": {},
   "outputs": [
    {
     "data": {
      "image/png": "[encoded data removed]",
      "text/plain": [
       "<matplotlib.figure.Figure at 0x113349d30>"
      ]
     },
     "metadata": {},
     "output_type": "display_data"
    }
   ],
   "source": [
    "Table().with_column('Null distribution', sampled_stats).hist()\n",
    "_ = plots.plot([observed, observed], [0, 1.4])"
   ]
  },
  {
   "cell_type": "code",
   "execution_count": 9,
   "metadata": {},
   "outputs": [
    {
     "data": {
      "text/plain": [
       "0.0031"
      ]
     },
     "execution_count": 9,
     "metadata": {},
     "output_type": "execute_result"
    }
   ],
   "source": [
    "np.count_nonzero(sampled_stats >= observed)/len(sampled_stats)"
   ]
  }
 ],
 "metadata": {
  "kernelspec": {
   "display_name": "Python 3",
   "language": "python",
   "name": "python3"
  },
  "language_info": {
   "codemirror_mode": {
    "name": "ipython",
    "version": 3
   },
   "file_extension": ".py",
   "mimetype": "text/x-python",
   "name": "python",
   "nbconvert_exporter": "python",
   "pygments_lexer": "ipython3",
   "version": "3.6.3"
  }
 },
 "nbformat": 4,
 "nbformat_minor": 2
}
