{
 "cells": [
  {
   "cell_type": "markdown",
   "metadata": {},
   "source": [
    "# Lecture 36: Implementing Nearest Neighbor"
   ]
  },
  {
   "cell_type": "code",
   "execution_count": 1,
   "metadata": {},
   "outputs": [],
   "source": [
    "from datascience import *\n",
    "import numpy as np\n",
    "\n",
    "import matplotlib.pyplot as plots\n",
    "from mpl_toolkits.mplot3d import Axes3D\n",
    "plots.style.use('fivethirtyeight')\n",
    "%matplotlib inline\n",
    "np.set_printoptions(legacy='1.13')\n",
    "\n",
    "NUM_REPETITIONS = 5"
   ]
  },
  {
   "cell_type": "markdown",
   "metadata": {},
   "source": [
    "## Recap and rewrite of nearest neighbor"
   ]
  },
  {
   "cell_type": "code",
   "execution_count": 2,
   "metadata": {},
   "outputs": [
    {
     "data": {
      "text/html": [
       "<table border=\"1\" class=\"dataframe\">\n",
       "    <thead>\n",
       "        <tr>\n",
       "            <th>Age</th> <th>Blood Pressure</th> <th>Specific Gravity</th> <th>Albumin</th> <th>Sugar</th> <th>Red Blood Cells</th> <th>Pus Cell</th> <th>Pus Cell clumps</th> <th>Bacteria</th> <th>Glucose</th> <th>Blood Urea</th> <th>Serum Creatinine</th> <th>Sodium</th> <th>Potassium</th> <th>Hemoglobin</th> <th>Packed Cell Volume</th> <th>White Blood Cell Count</th> <th>Red Blood Cell Count</th> <th>Hypertension</th> <th>Diabetes Mellitus</th> <th>Coronary Artery Disease</th> <th>Appetite</th> <th>Pedal Edema</th> <th>Anemia</th> <th>Class</th>\n",
       "        </tr>\n",
       "    </thead>\n",
       "    <tbody>\n",
       "        <tr>\n",
       "            <td>48  </td> <td>70            </td> <td>1.005           </td> <td>4      </td> <td>0    </td> <td>normal         </td> <td>abnormal</td> <td>present        </td> <td>notpresent</td> <td>117    </td> <td>56        </td> <td>3.8             </td> <td>111   </td> <td>2.5      </td> <td>11.2      </td> <td>32                </td> <td>6700                  </td> <td>3.9                 </td> <td>yes         </td> <td>no               </td> <td>no                     </td> <td>poor    </td> <td>yes        </td> <td>yes   </td> <td>ckd  </td>\n",
       "        </tr>\n",
       "    </tbody>\n",
       "        <tr>\n",
       "            <td>53  </td> <td>90            </td> <td>1.02            </td> <td>2      </td> <td>0    </td> <td>abnormal       </td> <td>abnormal</td> <td>present        </td> <td>notpresent</td> <td>70     </td> <td>107       </td> <td>7.2             </td> <td>114   </td> <td>3.7      </td> <td>9.5       </td> <td>29                </td> <td>12100                 </td> <td>3.7                 </td> <td>yes         </td> <td>yes              </td> <td>no                     </td> <td>poor    </td> <td>no         </td> <td>yes   </td> <td>ckd  </td>\n",
       "        </tr>\n",
       "    </tbody>\n",
       "        <tr>\n",
       "            <td>63  </td> <td>70            </td> <td>1.01            </td> <td>3      </td> <td>0    </td> <td>abnormal       </td> <td>abnormal</td> <td>present        </td> <td>notpresent</td> <td>380    </td> <td>60        </td> <td>2.7             </td> <td>131   </td> <td>4.2      </td> <td>10.8      </td> <td>32                </td> <td>4500                  </td> <td>3.8                 </td> <td>yes         </td> <td>yes              </td> <td>no                     </td> <td>poor    </td> <td>yes        </td> <td>no    </td> <td>ckd  </td>\n",
       "        </tr>\n",
       "    </tbody>\n",
       "</table>\n",
       "<p>... (155 rows omitted)</p>"
      ],
      "text/plain": [
       "<IPython.core.display.HTML object>"
      ]
     },
     "metadata": {},
     "output_type": "display_data"
    }
   ],
   "source": [
    "raw_ckd = Table.read_table('ckd.csv').relabeled('Blood Glucose Random', 'Glucose')\n",
    "    \n",
    "def ckd_label(number):\n",
    "    if number == 0:\n",
    "        return \"notckd\"\n",
    "    elif number == 1:\n",
    "        return \"ckd\"\n",
    "    else:\n",
    "        return \"unknown\"\n",
    "  \n",
    "ckd = raw_ckd.with_column(\n",
    "    'Class', raw_ckd.apply(ckd_label, 'Class')\n",
    ")    \n",
    "ckd.show(3)"
   ]
  },
  {
   "cell_type": "code",
   "execution_count": 3,
   "metadata": {},
   "outputs": [
    {
     "data": {
      "image/png": "[encoded data removed]",
      "text/plain": [
       "<matplotlib.figure.Figure at 0x109978a90>"
      ]
     },
     "metadata": {},
     "output_type": "display_data"
    }
   ],
   "source": [
    "hgb_glc = ckd.select('Hemoglobin', 'Glucose', 'Class')\n",
    "hgb_glc.scatter('Hemoglobin', 'Glucose', colors='Class')"
   ]
  },
  {
   "cell_type": "markdown",
   "metadata": {},
   "source": [
    "**Functions for standard units.**"
   ]
  },
  {
   "cell_type": "code",
   "execution_count": 4,
   "metadata": {},
   "outputs": [],
   "source": [
    "def standard_units(array):\n",
    "    \"\"\"Convert array to standard units.\n",
    "    \"\"\"\n",
    "    return (array - array.mean()) / array.std()\n",
    "    \n",
    "def standardize(t):\n",
    "    \"\"\"Convert table t to standard units.\n",
    "    \"\"\"\n",
    "    su = Table()\n",
    "    for label in t.labels:\n",
    "        su = su.with_column(\n",
    "            label + ' (su)', standard_units(t.column(label))\n",
    "        )\n",
    "    return su"
   ]
  },
  {
   "cell_type": "code",
   "execution_count": 5,
   "metadata": {},
   "outputs": [
    {
     "data": {
      "text/html": [
       "<table border=\"1\" class=\"dataframe\">\n",
       "    <thead>\n",
       "        <tr>\n",
       "            <th>Hemoglobin (su)</th> <th>Glucose (su)</th>\n",
       "        </tr>\n",
       "    </thead>\n",
       "    <tbody>\n",
       "        <tr>\n",
       "            <td>-0.865744      </td> <td>-0.221549   </td>\n",
       "        </tr>\n",
       "    </tbody>\n",
       "        <tr>\n",
       "            <td>-1.45745       </td> <td>-0.947597   </td>\n",
       "        </tr>\n",
       "    </tbody>\n",
       "        <tr>\n",
       "            <td>-1.00497       </td> <td>3.84123     </td>\n",
       "        </tr>\n",
       "    </tbody>\n",
       "        <tr>\n",
       "            <td>-2.81488       </td> <td>0.396364    </td>\n",
       "        </tr>\n",
       "    </tbody>\n",
       "        <tr>\n",
       "            <td>-2.08395       </td> <td>0.643529    </td>\n",
       "        </tr>\n",
       "    </tbody>\n",
       "        <tr>\n",
       "            <td>-1.35303       </td> <td>-0.561402   </td>\n",
       "        </tr>\n",
       "    </tbody>\n",
       "        <tr>\n",
       "            <td>-0.413266      </td> <td>2.04928     </td>\n",
       "        </tr>\n",
       "    </tbody>\n",
       "        <tr>\n",
       "            <td>-1.28342       </td> <td>-0.947597   </td>\n",
       "        </tr>\n",
       "    </tbody>\n",
       "        <tr>\n",
       "            <td>-1.10939       </td> <td>1.87936     </td>\n",
       "        </tr>\n",
       "    </tbody>\n",
       "        <tr>\n",
       "            <td>-1.35303       </td> <td>0.489051    </td>\n",
       "        </tr>\n",
       "    </tbody>\n",
       "</table>\n",
       "<p>... (148 rows omitted)</p>"
      ],
      "text/plain": [
       "Hemoglobin (su) | Glucose (su)\n",
       "-0.865744       | -0.221549\n",
       "-1.45745        | -0.947597\n",
       "-1.00497        | 3.84123\n",
       "-2.81488        | 0.396364\n",
       "-2.08395        | 0.643529\n",
       "-1.35303        | -0.561402\n",
       "-0.413266       | 2.04928\n",
       "-1.28342        | -0.947597\n",
       "-1.10939        | 1.87936\n",
       "-1.35303        | 0.489051\n",
       "... (148 rows omitted)"
      ]
     },
     "execution_count": 5,
     "metadata": {},
     "output_type": "execute_result"
    }
   ],
   "source": [
    "standardize(hgb_glc.drop('Class'))"
   ]
  },
  {
   "cell_type": "code",
   "execution_count": 6,
   "metadata": {},
   "outputs": [],
   "source": [
    "def convert_table_with_classes_to_su(table):\n",
    "    \"\"\"Convert table to standard units.  The last column\n",
    "    of the table is assumed to be a non-quantitative \n",
    "    variable (i.e., a class) that should not be standardized.\n",
    "    \"\"\"\n",
    "    last_column_index = ...\n",
    "    table_without_classes = ...\n",
    "    table_without_classes_su = ...\n",
    "    classes = ...\n",
    "\n",
    "    table_su = table_without_classes_su.with_column(\n",
    "        ..., ...\n",
    "    )\n",
    "\n",
    "    return table_su"
   ]
  },
  {
   "cell_type": "code",
   "execution_count": 7,
   "metadata": {},
   "outputs": [],
   "source": [
    "def in_su(value, array):\n",
    "    \"\"\"Return value in standard units according to \n",
    "    the distribution of array.\n",
    "    \"\"\"\n",
    "    return ..."
   ]
  },
  {
   "cell_type": "code",
   "execution_count": 8,
   "metadata": {},
   "outputs": [],
   "source": [
    "def new_point_in_su(new_point, table):\n",
    "    \"\"\"Return the new point, with all its coordinates converted\n",
    "    to standard units, according to the distribution given by\n",
    "    the table.  The first element of the new_point array \n",
    "    corresponds to the first column of the table, and so forth.\n",
    "    If table has extra columns, they will be ignored.\n",
    "    \"\"\"\n",
    "    new_point_su = make_array()\n",
    "    num_dimensions = ...\n",
    "    for i in np.arange(num_dimensions):\n",
    "        coord_su = ...  # hint: in_su\n",
    "        new_point_su = np.append(new_point_su, coord_su)\n",
    "    return new_point_su"
   ]
  },
  {
   "cell_type": "code",
   "execution_count": 9,
   "metadata": {},
   "outputs": [],
   "source": [
    "# SOLUTIONS\n",
    "\n",
    "def convert_table_with_classes_to_su(table):\n",
    "    \"\"\"Convert table to standard units.  The last column\n",
    "    of the table is assumed to be a non-quantitative \n",
    "    variable (i.e., a class) that should not be standardized.\n",
    "    \"\"\"\n",
    "    last_column_index = table.num_columns - 1\n",
    "    table_without_classes = table.drop(last_column_index)\n",
    "    table_without_classes_su = standardize(table_without_classes)\n",
    "    classes = table.column(last_column_index)\n",
    "\n",
    "    table_su = table_without_classes_su.with_column(\n",
    "        np.array(table.labels).item(last_column_index), classes\n",
    "    )\n",
    "\n",
    "    return table_su\n",
    "\n",
    "def in_su(value, array):\n",
    "    \"\"\"Return value in standard units according to \n",
    "    the distribution of array.\n",
    "    \"\"\"\n",
    "    return (value - array.mean()) / array.std()\n",
    "\n",
    "def new_point_in_su(new_point, table):\n",
    "    \"\"\"Return the new point, with all its coordinates converted\n",
    "    to standard units, according to the distribution given by\n",
    "    the table.  The first element of the new_point array \n",
    "    corresponds to the first column of the table, and so forth.\n",
    "    If table has extra columns, they will be ignored.\n",
    "    \"\"\"\n",
    "    new_point_su = make_array()\n",
    "    num_dimensions = len(new_point)\n",
    "    for i in np.arange(num_dimensions):\n",
    "        coord_su = in_su(new_point.item(i), table.column(i))\n",
    "        new_point_su = np.append(new_point_su, coord_su)\n",
    "    return new_point_su"
   ]
  },
  {
   "cell_type": "markdown",
   "metadata": {},
   "source": [
    "**Functions to classify using the nearest-neighbor algorithm.**"
   ]
  },
  {
   "cell_type": "code",
   "execution_count": 10,
   "metadata": {},
   "outputs": [],
   "source": [
    "def distance(a, b):\n",
    "    \"\"\"Returns the distance between a and b, where a and b\n",
    "    are both arrays representing points.\n",
    "    \"\"\"\n",
    "    return ..."
   ]
  },
  {
   "cell_type": "code",
   "execution_count": 11,
   "metadata": {},
   "outputs": [],
   "source": [
    "def all_distances(new_point, table):\n",
    "    \"\"\"Returns a table with two columns labeled Distance and Class.  \n",
    "    The first column contains the distance from new_point to each \n",
    "    point in table.  The second column contains the label of the \n",
    "    corresponding point in table.  The classes should be in the \n",
    "    final column of table.  The table that is returned is sorted in \n",
    "    ascending order by Distance.\n",
    "    \"\"\"\n",
    "\n",
    "    def distance_from_new(row):\n",
    "        \"\"\"Return the distance between row and new_point.\n",
    "        \"\"\"\n",
    "        return ...\n",
    "\n",
    "    last_column_index = table.num_columns - 1\n",
    "    table_without_classes = table.drop(last_column_index)\n",
    "    classes = table.column(last_column_index)\n",
    "    \n",
    "    distances = Table().with_columns(\n",
    "        'Distance', ..., # hint: apply\n",
    "        'Class', classes\n",
    "    ).sort(...)\n",
    "\n",
    "    return distances"
   ]
  },
  {
   "cell_type": "code",
   "execution_count": 12,
   "metadata": {},
   "outputs": [],
   "source": [
    "def train_nn_su_classifier(train):\n",
    "    \"\"\"Create a nearest-neighbor classifier.  The last column \n",
    "    of the training table should be the labels, and the preceeding\n",
    "    columns should be the attributes.  The names of the columns do not\n",
    "    matter.  The classifier will work in standard units; but,\n",
    "    the training table should be in original units.\n",
    "    \n",
    "    Returns a function.  That function takes as input a \n",
    "    new point in original units. The function returns the \n",
    "    classification of the new point as output.\n",
    "    \"\"\"\n",
    "    \n",
    "    train_su = ...  # hint: convert_table_with_classes_to_su\n",
    "    \n",
    "    def classify_new_point(new_point):\n",
    "        \"\"\"Return the classification of new_point, which\n",
    "        should still be in original units.\n",
    "        \"\"\"\n",
    "        new_point_su = ...  # hint: new_point_in_su\n",
    "        distances = ...  # hint: all_distances\n",
    "        return ...\n",
    "    \n",
    "    return classify_new_point"
   ]
  },
  {
   "cell_type": "code",
   "execution_count": 13,
   "metadata": {},
   "outputs": [],
   "source": [
    "# SOLUTIONS\n",
    "\n",
    "def distance(a, b):\n",
    "    \"\"\"Returns the distance between a and b, where a and b\n",
    "    are both arrays representing points.\n",
    "    \"\"\"\n",
    "    return np.sqrt(np.sum((a - b)**2))\n",
    "\n",
    "def all_distances(new_point, table):\n",
    "    \"\"\"Returns a table with two columns labeled Distance and Class.  \n",
    "    The first column contains the distance from new_point to each \n",
    "    point in table.  The second column contains the label of the \n",
    "    corresponding point in table.  The classes should be in the \n",
    "    final column of table.  The table that is returned is sorted in \n",
    "    ascending order by Distance.\n",
    "    \"\"\"\n",
    "\n",
    "    def distance_from_new(row):\n",
    "        \"\"\"Return the distance between row and new_point.\n",
    "        \"\"\"\n",
    "        return distance(np.array(row), new_point)\n",
    "\n",
    "    last_column_index = table.num_columns - 1\n",
    "    table_without_classes = table.drop(last_column_index)\n",
    "    classes = table.column(last_column_index)\n",
    "    \n",
    "    distances = Table().with_columns(\n",
    "        'Distance', table_without_classes.apply(distance_from_new),\n",
    "        'Class', classes\n",
    "    ).sort('Distance')\n",
    "\n",
    "    return distances\n",
    "\n",
    "def train_nn_su_classifier(train):\n",
    "    \"\"\"Create a nearest-neighbor classifier.  The last column \n",
    "    of the training table should be the labels, and the preceeding\n",
    "    columns should be the attributes.  The names of the columns do not\n",
    "    matter.  The classifier will work in standard units; but,\n",
    "    the training table should be in original units.\n",
    "    \n",
    "    Returns a function.  That function takes as input a \n",
    "    new point in original units. The function returns the \n",
    "    classification of the new point as output.\n",
    "    \"\"\"\n",
    "    \n",
    "    train_su = convert_table_with_classes_to_su(train)\n",
    "    \n",
    "    def classify_new_point(new_point):\n",
    "        \"\"\"Return the classification of new_point, which\n",
    "        should still be in original units.\n",
    "        \"\"\"\n",
    "        new_point_su = new_point_in_su(new_point, train)\n",
    "        distances = all_distances(new_point_su, train_su)\n",
    "        return distances.column('Class').item(0)\n",
    "    \n",
    "    return classify_new_point"
   ]
  },
  {
   "cell_type": "markdown",
   "metadata": {},
   "source": [
    "**Functions to analyze classifier accuracy.**"
   ]
  },
  {
   "cell_type": "code",
   "execution_count": 14,
   "metadata": {},
   "outputs": [],
   "source": [
    "def visualize_boundary(known_points, classifier, x_range, y_range):\n",
    "    \"\"\"Visualize the boundary region of a classifier.\n",
    "    The visualization is in original units.\"\"\"\n",
    "    decisions = Table(known_points.labels)\n",
    "    for x in x_range:\n",
    "        for y in y_range:\n",
    "            predicted = classifier(make_array(x, y))\n",
    "            decisions.append([x, y, predicted])\n",
    "    decisions.scatter(0, 1, colors='Class', alpha=0.4)\n",
    "    plots.xlim(x_range.min(), x_range.max())\n",
    "    plots.ylim(y_range.min(), y_range.max())\n",
    "    notckd_pts = known_points.where('Class', 'notckd')\n",
    "    ckd_pts = known_points.where('Class', 'ckd')\n",
    "    plots.scatter(notckd_pts.column(0), notckd_pts.column(1), c='gold', edgecolor='k');\n",
    "    plots.scatter(ckd_pts.column(0), ckd_pts.column(1), c='darkblue', edgecolor='k');\n",
    "\n",
    "def classifier_accuracy(test, classifier):\n",
    "    \"\"\"Evaluate the accuracy of the classifier using the\n",
    "    provided test table, whose last column should be\n",
    "    the labels.  The names of the columns are irrelevant.\"\"\"\n",
    "    \n",
    "    last_column = test.num_columns - 1\n",
    "    actual_labels = test.column(last_column)\n",
    "    predicted_labels = test.drop(last_column).apply(classifier)\n",
    "    \n",
    "    return np.mean(actual_labels == predicted_labels) \n",
    "\n",
    "def histogram_nn_classifier_accuracy(data, classifier_trainer, num_repetitions=NUM_REPETITIONS):\n",
    "    \"\"\"Visualize the empirical distribution of the accuracy\n",
    "    of a classifier.  The data input is a table that will\n",
    "    be split into test and training tables for each iteration\n",
    "    The classifier_trainer is a function that takes a training \n",
    "    table as input, and returns a classifier function.  That \n",
    "    classifier function itself should take a new point as input \n",
    "    and return the classification of that point.\"\"\"\n",
    "\n",
    "    accuracies = make_array()\n",
    "    \n",
    "    for _ in np.arange(num_repetitions):\n",
    "        half = int(data.num_rows / 2)\n",
    "        train, test = data.split(half) \n",
    "        \n",
    "        trained_classifier = classifier_trainer(train)\n",
    "        acc = classifier_accuracy(test, trained_classifier)\n",
    "        accuracies = np.append(accuracies, acc)\n",
    "    \n",
    "    Table().with_column(\n",
    "        'Accuracy', accuracies\n",
    "    ).hist()\n"
   ]
  },
  {
   "cell_type": "markdown",
   "metadata": {},
   "source": [
    "**Done!** How well did we do?"
   ]
  },
  {
   "cell_type": "code",
   "execution_count": 15,
   "metadata": {},
   "outputs": [
    {
     "data": {
      "image/png": "[encoded data removed]",
      "text/plain": [
       "<matplotlib.figure.Figure at 0x1164534e0>"
      ]
     },
     "metadata": {},
     "output_type": "display_data"
    }
   ],
   "source": [
    "histogram_nn_classifier_accuracy(hgb_glc, train_nn_su_classifier,\n",
    "                                 num_repetitions=50)"
   ]
  },
  {
   "cell_type": "code",
   "execution_count": 16,
   "metadata": {},
   "outputs": [],
   "source": []
  }
 ],
 "metadata": {
  "anaconda-cloud": {},
  "kernelspec": {
   "display_name": "Python 3",
   "language": "python",
   "name": "python3"
  },
  "language_info": {
   "codemirror_mode": {
    "name": "ipython",
    "version": 3
   },
   "file_extension": ".py",
   "mimetype": "text/x-python",
   "name": "python",
   "nbconvert_exporter": "python",
   "pygments_lexer": "ipython3",
   "version": "3.6.4"
  }
 },
 "nbformat": 4,
 "nbformat_minor": 1
}
