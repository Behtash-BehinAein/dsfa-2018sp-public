{
 "cells": [
  {
   "cell_type": "markdown",
   "metadata": {},
   "source": [
    "# Lecture 32: Residuals"
   ]
  },
  {
   "cell_type": "code",
   "execution_count": null,
   "metadata": {},
   "outputs": [],
   "source": [
    "from datascience import *\n",
    "import numpy as np\n",
    "%matplotlib inline\n",
    "import matplotlib.pyplot as plots\n",
    "plots.style.use('fivethirtyeight')"
   ]
  },
  {
   "cell_type": "markdown",
   "metadata": {},
   "source": [
    "## Non-linear regression"
   ]
  },
  {
   "cell_type": "code",
   "execution_count": null,
   "metadata": {},
   "outputs": [],
   "source": [
    "hybrid = Table.read_table('hybrid.csv')\n",
    "hybrid"
   ]
  },
  {
   "cell_type": "code",
   "execution_count": null,
   "metadata": {},
   "outputs": [],
   "source": [
    "msrp_mpg = hybrid.select('mpg', 'msrp')\n",
    "msrp_mpg.scatter('mpg', fit_line=True)"
   ]
  },
  {
   "cell_type": "markdown",
   "metadata": {},
   "source": [
    "**Q:** Does linear regression look appropriate?\n",
    "\n",
    "A.  Yes  \n",
    "B.  No  \n",
    "C.  I don't know  "
   ]
  },
  {
   "cell_type": "code",
   "execution_count": null,
   "metadata": {},
   "outputs": [],
   "source": [
    "def msrp_mpg_linear_rmse(any_slope, any_intercept):\n",
    "    x = msrp_mpg.column('mpg')\n",
    "    y = msrp_mpg.column('msrp')\n",
    "    predicted = any_slope*x + any_intercept\n",
    "    return np.sqrt(np.mean((y - predicted) ** 2))"
   ]
  },
  {
   "cell_type": "code",
   "execution_count": null,
   "metadata": {},
   "outputs": [],
   "source": [
    "best_linear = minimize(msrp_mpg_linear_rmse)\n",
    "best_linear"
   ]
  },
  {
   "cell_type": "code",
   "execution_count": null,
   "metadata": {},
   "outputs": [],
   "source": [
    "msrp_mpg_linear_rmse(best_linear.item(0), best_linear.item(1))"
   ]
  },
  {
   "cell_type": "code",
   "execution_count": null,
   "metadata": {},
   "outputs": [],
   "source": [
    "def msrp_mpg_quadratic_mse(a, b, c):\n",
    "    x = msrp_mpg.column('mpg')\n",
    "    y = msrp_mpg.column('msrp')\n",
    "    predicted = a*(x**2) + b*x + c\n",
    "    return np.sqrt(np.mean((y - predicted) ** 2))"
   ]
  },
  {
   "cell_type": "code",
   "execution_count": null,
   "metadata": {},
   "outputs": [],
   "source": [
    "best_quadratic = minimize(msrp_mpg_quadratic_mse)\n",
    "best_quadratic"
   ]
  },
  {
   "cell_type": "code",
   "execution_count": null,
   "metadata": {},
   "outputs": [],
   "source": [
    "msrp_mpg_quadratic_mse(best_quadratic.item(0), \n",
    "                       best_quadratic.item(1), \n",
    "                       best_quadratic.item(2))"
   ]
  },
  {
   "cell_type": "code",
   "execution_count": null,
   "metadata": {},
   "outputs": [],
   "source": [
    "x = msrp_mpg.column('mpg')\n",
    "quadratic_curve = best_quadratic.item(0)*(x**2) \\\n",
    "                  + best_quadratic.item(1)*x \\\n",
    "                  + best_quadratic.item(2)\n",
    "msrp_mpg.with_column(\n",
    "    'Best Quadratic Curve', \n",
    "    quadratic_curve\n",
    ").scatter('mpg')"
   ]
  },
  {
   "cell_type": "markdown",
   "metadata": {},
   "source": [
    "## Residuals"
   ]
  },
  {
   "cell_type": "code",
   "execution_count": null,
   "metadata": {},
   "outputs": [],
   "source": [
    "galton = Table.read_table('galton.csv')\n",
    "\n",
    "heights = Table().with_columns(\n",
    "    'MidParent', galton.column('midparentHeight'),\n",
    "    'Child', galton.column('childHeight')\n",
    ")\n",
    "\n",
    "heights"
   ]
  },
  {
   "cell_type": "code",
   "execution_count": null,
   "metadata": {},
   "outputs": [],
   "source": [
    "def standard_units(any_numbers):\n",
    "    return (any_numbers - np.mean(any_numbers))/np.std(any_numbers)  \n",
    "\n",
    "# t is a table; x and y are column labels\n",
    "\n",
    "def correlation(t, x, y):\n",
    "    return np.mean(standard_units(t.column(x))*standard_units(t.column(y)))\n",
    "\n",
    "def slope(t, x, y):\n",
    "    r = correlation(t, x, y)\n",
    "    return r * np.std(t.column(y))/np.std(t.column(x))\n",
    "\n",
    "def intercept(t, x, y):\n",
    "    a = slope(t, x, y)\n",
    "    return np.mean(t.column(y)) - a * np.mean(t.column(x))\n",
    "\n",
    "def prediction(t, x, y):\n",
    "    a = slope(t, x, y)\n",
    "    b = intercept(t, x, y)\n",
    "    return a*t.column(x) + b"
   ]
  },
  {
   "cell_type": "code",
   "execution_count": null,
   "metadata": {},
   "outputs": [],
   "source": [
    "heights = heights.with_columns('Prediction', prediction(heights, 'MidParent', 'Child'))\n",
    "heights"
   ]
  },
  {
   "cell_type": "code",
   "execution_count": null,
   "metadata": {},
   "outputs": [],
   "source": [
    "heights.scatter('MidParent')"
   ]
  },
  {
   "cell_type": "markdown",
   "metadata": {},
   "source": [
    "**Q:** What is the minimum and maximum residual for a midparent height of about 70?\n",
    "\n",
    "A.  min 60, max 78   \n",
    "B.  min 67, max 67  \n",
    "C.  min 7, max 12  \n",
    "D.  min -7, max 12  \n",
    "\n",
    "<br/><br/><br/><br/><br/><br/>"
   ]
  },
  {
   "cell_type": "code",
   "execution_count": null,
   "metadata": {},
   "outputs": [],
   "source": [
    "def residuals(t, x, y):\n",
    "    return t.column(y) - prediction(t, x, y)"
   ]
  },
  {
   "cell_type": "code",
   "execution_count": null,
   "metadata": {},
   "outputs": [],
   "source": [
    "heights = heights.with_columns('Residual', residuals(heights, 'MidParent', 'Child'))\n",
    "heights"
   ]
  },
  {
   "cell_type": "code",
   "execution_count": null,
   "metadata": {},
   "outputs": [],
   "source": [
    "heights_residuals = heights.where('MidParent', are.between(69.5, 70.5)).sort('Residual').column('Residual')\n",
    "heights_residuals.min(), heights_residuals.max()"
   ]
  },
  {
   "cell_type": "markdown",
   "metadata": {},
   "source": [
    "## Residuals as regression diagnostics"
   ]
  },
  {
   "cell_type": "code",
   "execution_count": null,
   "metadata": {},
   "outputs": [],
   "source": [
    "heights.scatter('MidParent')"
   ]
  },
  {
   "cell_type": "code",
   "execution_count": null,
   "metadata": {},
   "outputs": [],
   "source": [
    "def plot_residuals(t, x, y):\n",
    "    tbl = t.with_columns(\n",
    "        'Fitted', prediction(t, x, y),\n",
    "        'Residual', residuals(t, x, y)\n",
    "    )\n",
    "    tbl.select(x, y, 'Fitted').scatter(0)\n",
    "    tbl.scatter(x, 'Residual')"
   ]
  },
  {
   "cell_type": "code",
   "execution_count": null,
   "metadata": {},
   "outputs": [],
   "source": [
    "plot_residuals(heights, 'MidParent', 'Child')"
   ]
  },
  {
   "cell_type": "markdown",
   "metadata": {},
   "source": [
    "**Q:** Do you see any pattern in the residuals?\n",
    "\n",
    "A.  Yes  \n",
    "B.  No  \n",
    "\n",
    "<br/><br/><br/><br/>"
   ]
  },
  {
   "cell_type": "code",
   "execution_count": null,
   "metadata": {},
   "outputs": [],
   "source": [
    "plot_residuals(msrp_mpg, 'mpg', 'msrp')"
   ]
  },
  {
   "cell_type": "markdown",
   "metadata": {},
   "source": [
    "**Q:** Do you see any pattern in the residuals?\n",
    "\n",
    "A.  Yes  \n",
    "B.  No  \n",
    "\n",
    "<br/><br/><br/><br/>"
   ]
  },
  {
   "cell_type": "markdown",
   "metadata": {},
   "source": [
    "## Dugongs"
   ]
  },
  {
   "cell_type": "code",
   "execution_count": null,
   "metadata": {},
   "outputs": [],
   "source": [
    "# length in meters, age in years as estimated by physical characteristics such as teeth\n",
    "dugong = Table.read_table('dugong.csv')\n",
    "dugong"
   ]
  },
  {
   "cell_type": "code",
   "execution_count": null,
   "metadata": {},
   "outputs": [],
   "source": [
    "correlation(dugong, 'Length', 'Age')"
   ]
  },
  {
   "cell_type": "code",
   "execution_count": null,
   "metadata": {},
   "outputs": [],
   "source": [
    "plot_residuals(dugong, 'Length', 'Age')"
   ]
  },
  {
   "cell_type": "markdown",
   "metadata": {},
   "source": [
    "**Q:** Do you see any pattern in the residuals?\n",
    "\n",
    "A.  Yes  \n",
    "B.  No  \n",
    "\n",
    "<br/><br/><br/><br/>"
   ]
  },
  {
   "cell_type": "code",
   "execution_count": null,
   "metadata": {},
   "outputs": [],
   "source": [
    "def dugong_quadratic_rmse(a, b, c):\n",
    "    x = dugong.column('Length')\n",
    "    y = dugong.column('Age')\n",
    "    predicted = a*(x**2) + b*x + c\n",
    "    return np.sqrt(np.mean((y - predicted) ** 2))\n",
    "\n",
    "dugong_best_quadratic = minimize(dugong_quadratic_rmse)\n",
    "x = dugong.column('Length')\n",
    "dugong_quadratic_curve = dugong_best_quadratic.item(0)*(x**2) \\\n",
    "                  + dugong_best_quadratic.item(1)*x \\\n",
    "                  + dugong_best_quadratic.item(2)\n",
    "dugong.with_column(\n",
    "    'Best Quadratic Curve', \n",
    "    dugong_quadratic_curve\n",
    ").scatter('Length')\n",
    "dugong.with_column(\n",
    "    'Residual', dugong.column('Age') - dugong_quadratic_curve\n",
    ").scatter('Length', 'Residual')"
   ]
  },
  {
   "cell_type": "markdown",
   "metadata": {},
   "source": [
    "**Q:** Do you see any pattern in the residuals?\n",
    "\n",
    "A.  Yes  \n",
    "B.  No  \n",
    "\n",
    "<br/><br/><br/><br/>"
   ]
  },
  {
   "cell_type": "markdown",
   "metadata": {},
   "source": [
    "## Mean and SD of Residuals"
   ]
  },
  {
   "cell_type": "markdown",
   "metadata": {},
   "source": [
    "On average, deviation from mean (a value in the middle) is 0."
   ]
  },
  {
   "cell_type": "code",
   "execution_count": null,
   "metadata": {},
   "outputs": [],
   "source": [
    "x = make_array(4, 8, 15, 16, 23, 42)\n",
    "mean = np.mean(x)\n",
    "np.mean(x - mean)"
   ]
  },
  {
   "cell_type": "markdown",
   "metadata": {},
   "source": [
    "On average, deviation from prediction (a line drawn through the middle) is 0."
   ]
  },
  {
   "cell_type": "code",
   "execution_count": null,
   "metadata": {},
   "outputs": [],
   "source": [
    "np.mean(residuals(dugong, 'Length', 'Age'))"
   ]
  },
  {
   "cell_type": "code",
   "execution_count": null,
   "metadata": {},
   "outputs": [],
   "source": [
    "np.mean(residuals(heights, 'MidParent', 'Child'))"
   ]
  },
  {
   "cell_type": "code",
   "execution_count": null,
   "metadata": {},
   "outputs": [],
   "source": [
    "np.mean(residuals(msrp_mpg, 'mpg', 'msrp'))"
   ]
  },
  {
   "cell_type": "markdown",
   "metadata": {},
   "source": [
    "No matter what the shape of the scatter plot, the SD of the residuals is a fraction of the SD of the observed values of $y$. The fraction is  $\\sqrt{1-r^2}$.\n",
    "\n",
    "$$\n",
    "\\mbox{SD of residuals} ~=~ \\sqrt{1 - r^2} \\cdot \\mbox{SD of }y\n",
    "$$"
   ]
  },
  {
   "cell_type": "code",
   "execution_count": null,
   "metadata": {},
   "outputs": [],
   "source": [
    "np.std(residuals(heights, 'MidParent', 'Child'))"
   ]
  },
  {
   "cell_type": "code",
   "execution_count": null,
   "metadata": {},
   "outputs": [],
   "source": [
    "r = correlation(heights, 'MidParent', 'Child')\n",
    "r"
   ]
  },
  {
   "cell_type": "code",
   "execution_count": null,
   "metadata": {},
   "outputs": [],
   "source": [
    "np.sqrt(1 - r**2) * np.std(heights.column('Child'))"
   ]
  },
  {
   "cell_type": "code",
   "execution_count": null,
   "metadata": {},
   "outputs": [],
   "source": [
    "np.std(residuals(hybrid, 'acceleration', 'mpg'))"
   ]
  },
  {
   "cell_type": "code",
   "execution_count": null,
   "metadata": {},
   "outputs": [],
   "source": [
    "r = correlation(hybrid, 'acceleration', 'mpg')\n",
    "r"
   ]
  },
  {
   "cell_type": "code",
   "execution_count": null,
   "metadata": {},
   "outputs": [],
   "source": [
    "np.sqrt(1 - r**2)*np.std(hybrid.column('mpg'))"
   ]
  },
  {
   "cell_type": "markdown",
   "metadata": {},
   "source": [
    "## Clustering"
   ]
  },
  {
   "cell_type": "code",
   "execution_count": null,
   "metadata": {},
   "outputs": [],
   "source": [
    "def rmse(t, x, y):\n",
    "    return np.std(t.column(y)) * (1 - correlation(t, x, y) ** 2)\n",
    "\n",
    "def plot_predictions(t, x, y):\n",
    "    tbl = t.select(x, y)\n",
    "    tbl.with_columns('Prediction', prediction(t, x, y)).scatter(0)\n",
    "    err = rmse(tbl, x, y)\n",
    "    print('r          :', correlation(t, x, y))\n",
    "    print('RMSE       :', err )    \n",
    "    print('RMSE/std(y):', err / np.std(tbl.column(y)) )"
   ]
  },
  {
   "cell_type": "code",
   "execution_count": null,
   "metadata": {},
   "outputs": [],
   "source": [
    "plot_predictions(heights, 'MidParent', 'Child')"
   ]
  },
  {
   "cell_type": "code",
   "execution_count": null,
   "metadata": {},
   "outputs": [],
   "source": [
    "def random_r(r):\n",
    "    \"Generate a table of random values with correlation approximately r\"\n",
    "    x = np.random.normal(0, 1, 1000)\n",
    "    z = np.random.normal(0, 1, 1000)\n",
    "    y = r*x + (np.sqrt(1-r**2))*z\n",
    "    return Table().with_columns('x', x, 'y', y)"
   ]
  },
  {
   "cell_type": "code",
   "execution_count": null,
   "metadata": {},
   "outputs": [],
   "source": [
    "plot_predictions(random_r(correlation(heights, 'MidParent', 'Child')), 'x', 'y')"
   ]
  },
  {
   "cell_type": "code",
   "execution_count": null,
   "metadata": {},
   "outputs": [],
   "source": [
    "exams = Table.read_table('exams.csv')\n",
    "plot_predictions(exams, 'prelim', 'final')"
   ]
  },
  {
   "cell_type": "code",
   "execution_count": null,
   "metadata": {},
   "outputs": [],
   "source": [
    "plot_predictions(random_r(correlation(exams, 'prelim', 'final')), 'x', 'y')"
   ]
  },
  {
   "cell_type": "code",
   "execution_count": null,
   "metadata": {},
   "outputs": [],
   "source": [
    "plot_predictions(random_r(.999), 'x', 'y')"
   ]
  },
  {
   "cell_type": "code",
   "execution_count": null,
   "metadata": {},
   "outputs": [],
   "source": [
    "plot_predictions(random_r(.5), 'x', 'y')"
   ]
  },
  {
   "cell_type": "code",
   "execution_count": null,
   "metadata": {},
   "outputs": [],
   "source": [
    "plot_predictions(random_r(0), 'x', 'y')"
   ]
  },
  {
   "cell_type": "markdown",
   "metadata": {},
   "source": [
    "## Bounds"
   ]
  },
  {
   "cell_type": "code",
   "execution_count": null,
   "metadata": {},
   "outputs": [],
   "source": [
    "plot_predictions(heights, 'MidParent', 'Child')"
   ]
  },
  {
   "cell_type": "code",
   "execution_count": null,
   "metadata": {},
   "outputs": [],
   "source": [
    "heights"
   ]
  },
  {
   "cell_type": "code",
   "execution_count": null,
   "metadata": {},
   "outputs": [],
   "source": [
    "rmse_heights = rmse(heights, 'MidParent', 'Child')\n",
    "heights = heights.with_column(\n",
    "    'Residual / RMSE', heights.column('Residual') / rmse_heights\n",
    ")\n",
    "heights"
   ]
  },
  {
   "cell_type": "code",
   "execution_count": null,
   "metadata": {},
   "outputs": [],
   "source": [
    "heights.hist('Residual / RMSE', bins=np.arange(-3, 4, 1))"
   ]
  },
  {
   "cell_type": "markdown",
   "metadata": {},
   "source": [
    "Rule of thumb:\n",
    "* About 68% of actual y values within 1 RMSE of regression line prediction\n",
    "* About 95% of actual y values within 2 RMSE of regression line prediction"
   ]
  },
  {
   "cell_type": "code",
   "execution_count": null,
   "metadata": {},
   "outputs": [],
   "source": [
    "def predict_height(mp):\n",
    "    return slope(heights, 'MidParent', 'Child') * mp + intercept(heights, 'MidParent', 'Child')\n",
    "\n",
    "min_x = heights.column('MidParent').min()\n",
    "max_x = heights.column('MidParent').max()\n",
    "\n",
    "pred_y_min_x = predict_height(min_x)\n",
    "pred_y_max_x = predict_height(max_x)\n",
    "\n",
    "plot_predictions(heights, 'MidParent', 'Child')\n",
    "plots.plot(make_array(min_x, max_x), make_array(pred_y_min_x, pred_y_max_x)-rmse_heights, color='green');\n",
    "plots.plot(make_array(min_x, max_x), make_array(pred_y_min_x, pred_y_max_x)+rmse_heights, color='green');\n",
    "plots.plot(make_array(min_x, max_x), make_array(pred_y_min_x, pred_y_max_x)-2*rmse_heights, color='blue');\n",
    "plots.plot(make_array(min_x, max_x), make_array(pred_y_min_x, pred_y_max_x)+2*rmse_heights, color='blue');"
   ]
  }
 ],
 "metadata": {
  "anaconda-cloud": {},
  "kernelspec": {
   "display_name": "Python 3",
   "language": "python",
   "name": "python3"
  },
  "language_info": {
   "codemirror_mode": {
    "name": "ipython",
    "version": 3
   },
   "file_extension": ".py",
   "mimetype": "text/x-python",
   "name": "python",
   "nbconvert_exporter": "python",
   "pygments_lexer": "ipython3",
   "version": "3.6.4"
  }
 },
 "nbformat": 4,
 "nbformat_minor": 1
}
