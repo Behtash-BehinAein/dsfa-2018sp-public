{
 "cells": [
  {
   "cell_type": "markdown",
   "metadata": {},
   "source": [
    "# Lecture 38: Comparing Samples"
   ]
  },
  {
   "cell_type": "code",
   "execution_count": null,
   "metadata": {},
   "outputs": [],
   "source": [
    "from datascience import *\n",
    "import numpy as np\n",
    "\n",
    "import matplotlib.pyplot as plots\n",
    "plots.style.use('fivethirtyeight')\n",
    "%matplotlib inline\n",
    "np.set_printoptions(legacy='1.13')"
   ]
  },
  {
   "cell_type": "markdown",
   "metadata": {},
   "source": [
    "## Categorical Association"
   ]
  },
  {
   "cell_type": "code",
   "execution_count": null,
   "metadata": {},
   "outputs": [],
   "source": [
    "patients = Table.read_table('breast-cancer.csv').drop('ID')"
   ]
  },
  {
   "cell_type": "code",
   "execution_count": null,
   "metadata": {},
   "outputs": [],
   "source": [
    "shuffled = patients.sample(with_replacement=False) \n",
    "training = shuffled.take(np.arange(341))\n",
    "test  = shuffled.take(np.arange(341, 683))"
   ]
  },
  {
   "cell_type": "code",
   "execution_count": null,
   "metadata": {},
   "outputs": [],
   "source": [
    "training"
   ]
  },
  {
   "cell_type": "code",
   "execution_count": null,
   "metadata": {},
   "outputs": [],
   "source": [
    "training_uniformity = training_set.select('Class', 'Uniformity of Cell Size').relabel(1, 'Uniformity')\n",
    "training_uniformity"
   ]
  },
  {
   "cell_type": "code",
   "execution_count": null,
   "metadata": {},
   "outputs": [],
   "source": [
    "training_counts = training_uniformity.pivot('Class', 'Uniformity')\n",
    "training_counts"
   ]
  },
  {
   "cell_type": "code",
   "execution_count": null,
   "metadata": {},
   "outputs": [],
   "source": [
    "def proportions(array):\n",
    "    \"\"\"Return an array of proportions.\"\"\"\n",
    "    return array/np.sum(array)\n",
    "\n",
    "def compare(t):\n",
    "    return t.select(0).with_columns(\n",
    "        'Benign',    proportions(t.column(1)),\n",
    "        'Malignant', proportions(t.column(2))    \n",
    "    ).set_format([1, 2], PercentFormatter)"
   ]
  },
  {
   "cell_type": "code",
   "execution_count": null,
   "metadata": {},
   "outputs": [],
   "source": [
    "compare(training_counts)"
   ]
  },
  {
   "cell_type": "code",
   "execution_count": null,
   "metadata": {},
   "outputs": [],
   "source": [
    "compare(training_counts).barh(0)"
   ]
  },
  {
   "cell_type": "code",
   "execution_count": null,
   "metadata": {},
   "outputs": [],
   "source": [
    "test_set.take(np.arange(4)).column('Uniformity of Cell Size') > 3"
   ]
  },
  {
   "cell_type": "code",
   "execution_count": null,
   "metadata": {},
   "outputs": [],
   "source": [
    "classification = test_set.column('Uniformity of Cell Size') > 3\n",
    "\n",
    "np.count_nonzero(classification == test_set.column('Class'))/test_set.num_rows"
   ]
  },
  {
   "cell_type": "code",
   "execution_count": null,
   "metadata": {},
   "outputs": [],
   "source": [
    "False == 0"
   ]
  },
  {
   "cell_type": "code",
   "execution_count": null,
   "metadata": {},
   "outputs": [],
   "source": [
    "True == 1"
   ]
  },
  {
   "cell_type": "code",
   "execution_count": null,
   "metadata": {},
   "outputs": [],
   "source": [
    "classification = test_set.column('Uniformity of Cell Size') > 0\n",
    "\n",
    "np.count_nonzero(classification == test_set.column('Class'))/test_set.num_rows"
   ]
  },
  {
   "cell_type": "code",
   "execution_count": null,
   "metadata": {},
   "outputs": [],
   "source": [
    "classification = test_set.column('Uniformity of Cell Size') > 10\n",
    "\n",
    "np.count_nonzero(classification == test_set.column('Class'))/test_set.num_rows"
   ]
  },
  {
   "cell_type": "markdown",
   "metadata": {},
   "source": [
    "## Comparing two samples"
   ]
  },
  {
   "cell_type": "code",
   "execution_count": null,
   "metadata": {},
   "outputs": [],
   "source": [
    "patients.show(3)"
   ]
  },
  {
   "cell_type": "code",
   "execution_count": null,
   "metadata": {},
   "outputs": [],
   "source": [
    "mitoses = patients.select('Class', 'Mitoses')"
   ]
  },
  {
   "cell_type": "code",
   "execution_count": null,
   "metadata": {},
   "outputs": [],
   "source": [
    "counts = patients.pivot('Class', 'Mitoses')\n",
    "counts"
   ]
  },
  {
   "cell_type": "code",
   "execution_count": null,
   "metadata": {},
   "outputs": [],
   "source": [
    "compare(counts)"
   ]
  },
  {
   "cell_type": "code",
   "execution_count": null,
   "metadata": {},
   "outputs": [],
   "source": [
    "compare(counts).barh(0)"
   ]
  },
  {
   "cell_type": "code",
   "execution_count": null,
   "metadata": {},
   "outputs": [],
   "source": [
    "def total_variation_distance(distribution_1, distribution_2):\n",
    "    \"\"\"Each distribution is an array of proportions that sums to 1.\"\"\"\n",
    "    return np.abs(distribution_1 - distribution_2).sum()/2\n",
    "\n",
    "def table_tvd(table, label_1, label_2):\n",
    "    return total_variation_distance(table.column(label_1), table.column(label_2))"
   ]
  },
  {
   "cell_type": "code",
   "execution_count": null,
   "metadata": {},
   "outputs": [],
   "source": [
    "table_tvd(compare(counts), 1, 2)"
   ]
  },
  {
   "cell_type": "code",
   "execution_count": null,
   "metadata": {},
   "outputs": [],
   "source": [
    "mitoses"
   ]
  },
  {
   "cell_type": "code",
   "execution_count": null,
   "metadata": {},
   "outputs": [],
   "source": [
    "shuffled_mitoses = mitoses.sample(with_replacement=False).column(1) # Permuted"
   ]
  },
  {
   "cell_type": "code",
   "execution_count": null,
   "metadata": {},
   "outputs": [],
   "source": [
    "mitoses.select(0).with_column('Shuffled', shuffled_mitoses) # Paired class with permuted values"
   ]
  },
  {
   "cell_type": "code",
   "execution_count": null,
   "metadata": {},
   "outputs": [],
   "source": [
    "shuffled_counts = mitoses.select(0).with_column('Shuffled', shuffled_mitoses).pivot(0, 1)\n",
    "shuffled_counts"
   ]
  },
  {
   "cell_type": "code",
   "execution_count": null,
   "metadata": {},
   "outputs": [],
   "source": [
    "compare(shuffled_counts).barh(0)"
   ]
  },
  {
   "cell_type": "code",
   "execution_count": null,
   "metadata": {},
   "outputs": [],
   "source": [
    "table_tvd(compare(shuffled_counts), 1, 2)"
   ]
  },
  {
   "cell_type": "code",
   "execution_count": null,
   "metadata": {},
   "outputs": [],
   "source": [
    "repetitions = 5000\n",
    "tvds = []\n",
    "for i in np.arange(repetitions):\n",
    "    shuffled_mitoses = mitoses.sample(with_replacement=False).column(1)\n",
    "    shuffled_counts = mitoses.select(0).with_column('Shuffled', shuffled_mitoses).pivot(0, 1)\n",
    "    shuffled_tvd = table_tvd(compare(shuffled_counts), 1, 2)\n",
    "    tvds.append(shuffled_tvd)\n",
    "\n",
    "Table().with_column('TVD', tvds).hist(bins=20)\n",
    "plots.title('Empirical Distribution Under the Null')\n",
    "print('Observed TVD:', table_tvd(compare(counts), 1, 2))"
   ]
  },
  {
   "cell_type": "markdown",
   "metadata": {},
   "source": [
    "## Deflategate"
   ]
  },
  {
   "cell_type": "code",
   "execution_count": null,
   "metadata": {},
   "outputs": [],
   "source": [
    "football = Table.read_table('football.csv')\n",
    "football = football.drop('Team')\n",
    "football.show()"
   ]
  },
  {
   "cell_type": "code",
   "execution_count": null,
   "metadata": {},
   "outputs": [],
   "source": [
    "football = football.with_column(\n",
    "    'Combined', (football.column(1)+football.column(2))/2\n",
    "    )\n",
    "football.show()"
   ]
  },
  {
   "cell_type": "code",
   "execution_count": null,
   "metadata": {},
   "outputs": [],
   "source": [
    "patriots = football.where('Ball', are.containing('Patriots'))\n",
    "patriots = patriots.with_column('Drop', 12.5-patriots.column('Combined'))\n",
    "patriots.show()"
   ]
  },
  {
   "cell_type": "code",
   "execution_count": null,
   "metadata": {},
   "outputs": [],
   "source": [
    "colts = football.where('Ball', are.containing('Colts'))\n",
    "colts = colts.with_column('Drop', 13.0-colts.column('Combined'))\n",
    "colts"
   ]
  },
  {
   "cell_type": "code",
   "execution_count": null,
   "metadata": {},
   "outputs": [],
   "source": [
    "patriots_mean = patriots.column('Drop').mean()\n",
    "colts_mean = colts.column('Drop').mean()\n",
    "\n",
    "observed_statistic = patriots_mean - colts_mean\n",
    "observed_statistic"
   ]
  },
  {
   "cell_type": "code",
   "execution_count": null,
   "metadata": {},
   "outputs": [],
   "source": [
    "drops = Table().with_column(\n",
    "    'Drop', np.append(patriots.column('Drop'), colts.column('Drop'))\n",
    ")\n",
    "drops.show()"
   ]
  },
  {
   "cell_type": "code",
   "execution_count": null,
   "metadata": {},
   "outputs": [],
   "source": [
    "drops.sample(with_replacement=False).show()"
   ]
  },
  {
   "cell_type": "code",
   "execution_count": null,
   "metadata": {},
   "outputs": [],
   "source": [
    "simulated_statistics = []\n",
    "repetitions = 10000\n",
    "\n",
    "for i in np.arange(repetitions):\n",
    "    shuffled = drops.sample(with_replacement=False)\n",
    "    new_patriots_mean = shuffled.take(np.arange(11)).column(0).mean()\n",
    "    new_colts_mean = shuffled.take(np.arange(11, drops.num_rows)).column(0).mean()\n",
    "    new_statistic = new_patriots_mean - new_colts_mean\n",
    "    simulated_statistics.append(new_statistic)\n",
    "    \n",
    "empirical_P = np.count_nonzero(simulated_statistics >= observed_statistic)/repetitions\n",
    "empirical_P\n",
    "\n",
    "print('Observed Statistic:', observed_statistic)\n",
    "print('Empirical P:', empirical_P)\n",
    "results = Table().with_column('Simulated Statistic', simulated_statistics)\n",
    "results.hist()\n",
    "plots.scatter(observed_statistic, 0, color='red', s=30);"
   ]
  },
  {
   "cell_type": "code",
   "execution_count": null,
   "metadata": {},
   "outputs": [],
   "source": []
  },
  {
   "cell_type": "markdown",
   "metadata": {},
   "source": [
    "## A/B Testing"
   ]
  },
  {
   "cell_type": "code",
   "execution_count": null,
   "metadata": {},
   "outputs": [],
   "source": [
    "baby = Table.read_table('baby.csv')\n",
    "baby"
   ]
  },
  {
   "cell_type": "code",
   "execution_count": null,
   "metadata": {},
   "outputs": [],
   "source": [
    "baby.group('Maternal Smoker')"
   ]
  },
  {
   "cell_type": "code",
   "execution_count": null,
   "metadata": {},
   "outputs": [],
   "source": [
    "weight_bins = np.arange(40, 181, 5)\n",
    "baby.where('Maternal Smoker', False).hist('Birth Weight', bins=weight_bins, unit='ounce')"
   ]
  },
  {
   "cell_type": "code",
   "execution_count": null,
   "metadata": {},
   "outputs": [],
   "source": [
    "baby.where('Maternal Smoker', True).hist('Birth Weight', bins=weight_bins, unit='ounce')"
   ]
  },
  {
   "cell_type": "code",
   "execution_count": null,
   "metadata": {},
   "outputs": [],
   "source": [
    "baby.where('Maternal Smoker', False).bin('Birth Weight', bins=weight_bins).join(\n",
    "    'bin', baby.where('Maternal Smoker', True).bin('Birth Weight', bins=weight_bins)\n",
    ").relabeled(1, 'Non-Smoker').relabeled(2, 'Smoker').hist(bin_column='bin')"
   ]
  },
  {
   "cell_type": "code",
   "execution_count": null,
   "metadata": {},
   "outputs": [],
   "source": [
    "smoke_weight = baby.select('Maternal Smoker', 'Birth Weight')\n",
    "means = smoke_weight.group(0, np.mean)\n",
    "means"
   ]
  },
  {
   "cell_type": "code",
   "execution_count": null,
   "metadata": {},
   "outputs": [],
   "source": [
    "def difference_in_means(t):\n",
    "    means = t.group(0, np.mean)\n",
    "    return means.column(1).item(0) - means.column(1).item(1)\n",
    "\n",
    "difference_in_means(smoke_weight)"
   ]
  },
  {
   "cell_type": "code",
   "execution_count": null,
   "metadata": {
    "collapsed": true
   },
   "outputs": [],
   "source": [
    "def permutation_test_means(table, variable, classes, repetitions, unit=None):\n",
    "    \"\"\"Test whether two numerical samples \n",
    "    come from the same underlying distribution, \n",
    "    using the absolute difference between the means.\n",
    "    table: name of table containing the sample\n",
    "    variable: label of column containing the numerical variable \n",
    "    classes: label of column containing names of the two samples\n",
    "    repetitions: number of random permutations\n",
    "    \n",
    "    variable -- Label for a numerical variable in table\n",
    "    classes -- Label for a two-category (A & B) variable in table\n",
    "    \"\"\"\n",
    "    \n",
    "    t = table.select(classes, variable)\n",
    "    observed = abs(difference_in_means(t))\n",
    "    \n",
    "    # Assuming the null is true, randomly permute the variable \n",
    "    # and collect all the generated test statistics\n",
    "    stats = make_array()\n",
    "    for i in np.arange(repetitions):\n",
    "        shuffled_var = t.select(variable).sample(with_replacement=False).column(0)\n",
    "        shuffled = t.select(classes).with_column('Shuffled Variable', shuffled_var)\n",
    "        new_stat = abs(difference_in_means(shuffled))\n",
    "        stats = np.append(stats, new_stat)\n",
    "    \n",
    "    # Find the empirical P-value:\n",
    "    p = np.count_nonzero(stats >= observed) / repetitions\n",
    "\n",
    "    # Draw the empirical histogram of the tvd's generated under the null, \n",
    "    # and compare with the value observed in the original sample\n",
    "    Table().with_column('Test Statistic', stats).hist(unit=unit)\n",
    "    plots.title('Empirical Distribution Under the Null')\n",
    "    print('Observed statistic:', observed)\n",
    "    print('Empirical P-value:', p)"
   ]
  },
  {
   "cell_type": "code",
   "execution_count": null,
   "metadata": {},
   "outputs": [],
   "source": [
    "permutation_test_means(baby, 'Birth Weight', 'Maternal Smoker', 1000, 'ounce')"
   ]
  },
  {
   "cell_type": "markdown",
   "metadata": {},
   "source": [
    "## Effect Size"
   ]
  },
  {
   "cell_type": "code",
   "execution_count": null,
   "metadata": {
    "collapsed": true
   },
   "outputs": [],
   "source": [
    "def bootstrap_ci_means(table, variable, classes, repetitions, unit=None):\n",
    "    \"\"\"Bootstrap approximate 95% confidence interval\n",
    "    for the difference between the means of the two classes\n",
    "    in the population\n",
    "    \"\"\"\n",
    "    \n",
    "    t = table.select(classes, variable)\n",
    "    \n",
    "    stats = make_array()\n",
    "    for i in np.arange(repetitions):\n",
    "        bootstrap_sample = t.sample()\n",
    "        new_stat = difference_in_means(bootstrap_sample)\n",
    "        stats = np.append(stats, new_stat)\n",
    "        \n",
    "    left = percentile(2.5, stats)\n",
    "    right = percentile(97.5, stats)\n",
    "    \n",
    "    Table().with_column('Difference Between Means', stats).hist(unit=unit)\n",
    "    plots.plot(make_array(left, right), make_array(0, 0), color='yellow', lw=8)\n",
    "    print('Approximate 95% CI for the difference between means:')\n",
    "    print(left, 'to', right)"
   ]
  },
  {
   "cell_type": "code",
   "execution_count": null,
   "metadata": {},
   "outputs": [],
   "source": [
    "bootstrap_ci_means(baby, 'Birth Weight', 'Maternal Smoker', 1000, 'ounce')"
   ]
  },
  {
   "cell_type": "code",
   "execution_count": null,
   "metadata": {},
   "outputs": [],
   "source": [
    "bootstrap_ci_means(baby, 'Maternal Age', 'Maternal Smoker', 1000, 'year')"
   ]
  },
  {
   "cell_type": "code",
   "execution_count": null,
   "metadata": {},
   "outputs": [],
   "source": [
    "bootstrap_ci_means(baby, 'Maternal Height', 'Maternal Smoker', 1000, 'inch')"
   ]
  },
  {
   "cell_type": "markdown",
   "metadata": {},
   "source": [
    "## RCTs"
   ]
  },
  {
   "cell_type": "code",
   "execution_count": null,
   "metadata": {},
   "outputs": [],
   "source": [
    "bta = Table.read_table('bta.csv')\n",
    "bta"
   ]
  },
  {
   "cell_type": "code",
   "execution_count": null,
   "metadata": {},
   "outputs": [],
   "source": [
    "bta.group('Group', np.mean)"
   ]
  },
  {
   "cell_type": "code",
   "execution_count": null,
   "metadata": {},
   "outputs": [],
   "source": [
    "permutation_test_means(bta, 'Result', 'Group', 1000)"
   ]
  },
  {
   "cell_type": "code",
   "execution_count": null,
   "metadata": {},
   "outputs": [],
   "source": [
    "bootstrap_ci_means(bta, 'Result', 'Group', 1000)"
   ]
  }
 ],
 "metadata": {
  "kernelspec": {
   "display_name": "Python 3",
   "language": "python",
   "name": "python3"
  },
  "language_info": {
   "codemirror_mode": {
    "name": "ipython",
    "version": 3
   },
   "file_extension": ".py",
   "mimetype": "text/x-python",
   "name": "python",
   "nbconvert_exporter": "python",
   "pygments_lexer": "ipython3",
   "version": "3.6.4"
  }
 },
 "nbformat": 4,
 "nbformat_minor": 2
}
