{
 "cells": [
  {
   "cell_type": "markdown",
   "metadata": {},
   "source": [
    "# Lecture 14: Probability"
   ]
  },
  {
   "cell_type": "code",
   "execution_count": null,
   "metadata": {},
   "outputs": [],
   "source": [
    "from datascience import *\n",
    "import numpy as np\n",
    "\n",
    "import matplotlib.pyplot as plots\n",
    "plots.style.use('fivethirtyeight')\n",
    "%matplotlib inline"
   ]
  },
  {
   "cell_type": "markdown",
   "metadata": {},
   "source": [
    "## Monty Hall"
   ]
  },
  {
   "cell_type": "code",
   "execution_count": null,
   "metadata": {},
   "outputs": [],
   "source": [
    "doors = make_array(1, 2, 3)\n",
    "doors"
   ]
  },
  {
   "cell_type": "code",
   "execution_count": null,
   "metadata": {},
   "outputs": [],
   "source": [
    "prizes = make_array('car', 'first goat', 'second goat')\n",
    "prizes"
   ]
  },
  {
   "cell_type": "code",
   "execution_count": null,
   "metadata": {},
   "outputs": [],
   "source": [
    "np.random.choice(prizes, 3, replace=False)"
   ]
  },
  {
   "cell_type": "code",
   "execution_count": null,
   "metadata": {},
   "outputs": [],
   "source": [
    "def setup():\n",
    "    \"\"\"Return a random game of Let's Make a Deal.\"\"\"\n",
    "    return Table().with_columns(\n",
    "        'Door', doors,\n",
    "        'Prize', np.random.choice(prizes, 3, replace=False)\n",
    "    )\n",
    "\n",
    "a_game = setup()\n",
    "a_game"
   ]
  },
  {
   "cell_type": "code",
   "execution_count": null,
   "metadata": {},
   "outputs": [],
   "source": [
    "def behind(game, door):\n",
    "    \"\"\"Return the prize behind a door.\"\"\"\n",
    "    return game.where('Door', door).column('Prize').item(0)\n",
    "\n",
    "for door in doors:\n",
    "    print('Behind door number', door, 'is the', behind(a_game, door))"
   ]
  },
  {
   "cell_type": "code",
   "execution_count": null,
   "metadata": {},
   "outputs": [],
   "source": [
    "def location(game, prize):\n",
    "    \"\"\"Return the door that hides a prize.\"\"\"\n",
    "    return game.where('Prize', prize).column('Door').item(0)\n",
    "\n",
    "for prize in prizes:\n",
    "    print('The', prize, 'is behind door number', location(a_game, prize))"
   ]
  },
  {
   "cell_type": "code",
   "execution_count": null,
   "metadata": {},
   "outputs": [],
   "source": [
    "a_guess = np.random.choice(doors)\n",
    "a_guess"
   ]
  },
  {
   "cell_type": "code",
   "execution_count": null,
   "metadata": {},
   "outputs": [],
   "source": [
    "def expose(game, guess):\n",
    "    \"\"\"Return the door that Monty Hall opens to expose a goat.\"\"\"\n",
    "    guessed_prize = behind(game, guess)\n",
    "    if guessed_prize == 'first goat':\n",
    "        reveal = 'second goat'\n",
    "    elif guessed_prize == 'second goat':\n",
    "        reveal = 'first goat'\n",
    "    else:\n",
    "        reveal = np.random.choice(['first goat', 'second goat'])\n",
    "    return location(game, reveal)\n",
    "\n",
    "an_exposed_door = expose(a_game, a_guess)\n",
    "print('The contestant picked door', a_guess, 'which hides the', behind(a_game, a_guess))\n",
    "print('Monty Hall opens door', an_exposed_door, 'to expose the', behind(a_game, an_exposed_door))"
   ]
  },
  {
   "cell_type": "code",
   "execution_count": null,
   "metadata": {},
   "outputs": [],
   "source": [
    "def other(game, guess, exposed):\n",
    "    \"\"\"Return the door that is not the guess or the exposed.\"\"\"\n",
    "    return (1 + 2 + 3) - guess - exposed\n",
    "\n",
    "the_remaining_door = other(a_game, a_guess, an_exposed_door)\n",
    "print('The remaining door', the_remaining_door, 'hides the', behind(a_game, the_remaining_door))"
   ]
  },
  {
   "cell_type": "code",
   "execution_count": null,
   "metadata": {},
   "outputs": [],
   "source": [
    "# A different way to create a table: provide the labels as a list\n",
    "trials = Table(['trial', 'guess', 'exposed', 'remaining'])\n",
    "for i in np.arange(1, 10000+1):\n",
    "    game = setup()\n",
    "    guess = np.random.choice(doors)\n",
    "    exposed = expose(game, guess)\n",
    "    remaining = other(game, guess, exposed)\n",
    "    # Append one row to the table\n",
    "    trials.append([i, behind(game, guess), behind(game, exposed), behind(game, remaining)])\n",
    "    \n",
    "trials"
   ]
  },
  {
   "cell_type": "code",
   "execution_count": null,
   "metadata": {},
   "outputs": [],
   "source": [
    "trials.group('guess')"
   ]
  },
  {
   "cell_type": "code",
   "execution_count": null,
   "metadata": {},
   "outputs": [],
   "source": [
    "trials.group('exposed')"
   ]
  },
  {
   "cell_type": "code",
   "execution_count": null,
   "metadata": {},
   "outputs": [],
   "source": [
    "trials.group('remaining')"
   ]
  },
  {
   "cell_type": "code",
   "execution_count": null,
   "metadata": {},
   "outputs": [],
   "source": [
    "compare = trials.group('guess')\\\n",
    "                .relabeled('count', 'Guess Count')\\\n",
    "                .join('guess', trials.group('remaining'), 'remaining')\\\n",
    "                .relabeled('count', 'Remaining Count')\\\n",
    "                .relabeled('guess', 'Prize')\n",
    "compare"
   ]
  },
  {
   "cell_type": "code",
   "execution_count": null,
   "metadata": {},
   "outputs": [],
   "source": [
    "compare.barh('Prize')"
   ]
  },
  {
   "cell_type": "markdown",
   "metadata": {},
   "source": [
    "## Probability"
   ]
  },
  {
   "cell_type": "markdown",
   "metadata": {},
   "source": [
    "A. 1/6  \n",
    "B. 1/3  \n",
    "C. 1/2  \n",
    "D. something else"
   ]
  },
  {
   "cell_type": "markdown",
   "metadata": {},
   "source": [
    "#### Cards\n",
    "\n",
    "Red Green Blue\n",
    "\n",
    "What's the chance of GR (first G, second R) when sampling two cards without replacement?\n",
    "\n",
    "<br/><br/><br/><br/><br/><br/><br/><br/><br/><br/><br/>\n",
    "\n",
    "Outcomes are: RB RG BR BG GR GB\n",
    "\n",
    "P(GR) = 1/6"
   ]
  },
  {
   "cell_type": "markdown",
   "metadata": {},
   "source": [
    "#### Counting outcomes\n",
    "\n",
    "What's the chance of drawing the red card (either first or second) when sampling two cards without replacement?\n",
    "\n",
    "<br/><br/><br/><br/><br/><br/><br/><br/><br/><br/><br/>\n",
    "\n",
    "Outcomes are: RB RG BR BG GR GB\n",
    "\n",
    "P(drew the red card) = 4/6"
   ]
  },
  {
   "cell_type": "markdown",
   "metadata": {},
   "source": [
    "#### Multiplication rule\n",
    "\n",
    "P(GR) = P(drew G first) $\\times$ P(drew R second given that drew G first) = 1/3 $\\times$ 1/2"
   ]
  },
  {
   "cell_type": "markdown",
   "metadata": {},
   "source": [
    "#### Addition rule\n",
    "\n",
    "What's the chance of one R and one G in any order when sampling two cards without replacement?\n",
    "\n",
    "<br/><br/><br/><br/><br/><br/><br/><br/><br/><br/><br/>\n",
    "\n",
    "P(one R and one G in any order) = P(GR) + P(RG) = 1/6 + 1/6"
   ]
  },
  {
   "cell_type": "markdown",
   "metadata": {},
   "source": [
    "#### Example: Flipping coin ten times\n",
    "\n",
    "P(at least one H) = 1 - P(not one H) = 1 - P(TTTTTTTTTT) = 1 - (1/2)**10"
   ]
  },
  {
   "cell_type": "code",
   "execution_count": null,
   "metadata": {},
   "outputs": [],
   "source": [
    "1 - (1/2)**10"
   ]
  }
 ],
 "metadata": {
  "kernelspec": {
   "display_name": "Python 3",
   "language": "python",
   "name": "python3"
  },
  "language_info": {
   "codemirror_mode": {
    "name": "ipython",
    "version": 3
   },
   "file_extension": ".py",
   "mimetype": "text/x-python",
   "name": "python",
   "nbconvert_exporter": "python",
   "pygments_lexer": "ipython3",
   "version": "3.6.4"
  }
 },
 "nbformat": 4,
 "nbformat_minor": 2
}
