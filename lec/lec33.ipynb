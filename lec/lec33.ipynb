{
 "cells": [
  {
   "cell_type": "markdown",
   "metadata": {},
   "source": [
    "# Lecture 33: Regression Inference"
   ]
  },
  {
   "cell_type": "code",
   "execution_count": null,
   "metadata": {},
   "outputs": [],
   "source": [
    "from datascience import *\n",
    "import numpy as np\n",
    "\n",
    "import matplotlib.pyplot as plots\n",
    "plots.style.use('fivethirtyeight')\n",
    "%matplotlib inline\n",
    "np.set_printoptions(legacy='1.13')"
   ]
  },
  {
   "cell_type": "markdown",
   "metadata": {},
   "source": [
    "## Linear regression"
   ]
  },
  {
   "cell_type": "code",
   "execution_count": null,
   "metadata": {},
   "outputs": [],
   "source": [
    "def standard_units(any_numbers):\n",
    "    \"Convert any array of numbers to standard units.\"\n",
    "    return (any_numbers - np.mean(any_numbers)) / np.std(any_numbers)  \n",
    "\n",
    "def correlation(t, x, y):\n",
    "    \"\"\"Return the correlation coefficient (r) of two variables.\"\"\"\n",
    "    return np.mean(standard_units(t.column(x)) * standard_units(t.column(y)))\n",
    "\n",
    "def slope(t, x, y):\n",
    "    \"\"\"The slope of ther regression line (original units).\"\"\"\n",
    "    r = correlation(t, x, y)\n",
    "    return r * np.std(t.column(y)) / np.std(t.column(x))\n",
    "\n",
    "def intercept(t, x, y):\n",
    "    \"\"\"The intercept of the regression line (original units).\"\"\"\n",
    "    return np.mean(t.column(y)) - slope(t, x, y) * np.mean(t.column(x))\n",
    "\n",
    "def fit(table, x, y):\n",
    "    \"\"\"Return the height of the regression line at each x value.\"\"\"\n",
    "    a = slope(table, x, y)\n",
    "    b = intercept(table, x, y)\n",
    "    return a * table.column(x) + b\n",
    "\n",
    "def predict(table, x, y, new_x):\n",
    "    \"\"\"Return the prediction for new_x using linear regression.\"\"\"\n",
    "    a = slope(table, x, y)\n",
    "    b = intercept(table, x, y)\n",
    "    return a * new_x + b    \n",
    "\n",
    "def plot_residuals(t, x, y):\n",
    "    \"\"\"Plot a scatter diagram and residuals.\"\"\"\n",
    "    t.scatter(x, y, fit_line=True)\n",
    "    actual = t.column(y)\n",
    "    fitted = fit(t, x, y)\n",
    "    residuals = actual - fitted\n",
    "    print('r:   ', correlation(t, x, y))\n",
    "    print('RMSE:', np.mean(residuals**2)**0.5)\n",
    "    t.select(x).with_column('Residual', residuals).scatter(0, 1)"
   ]
  },
  {
   "cell_type": "markdown",
   "metadata": {},
   "source": [
    "## Prediction from a sample, not a population"
   ]
  },
  {
   "cell_type": "code",
   "execution_count": null,
   "metadata": {},
   "outputs": [],
   "source": [
    "# We've been treating this table as a population.  It's not really.\n",
    "galton = Table.read_table('galton.csv')\n",
    "\n",
    "heights = Table().with_columns(\n",
    "    'MidParent', galton.column('midparentHeight'),\n",
    "    'Child', galton.column('childHeight')\n",
    ")\n",
    "\n",
    "heights_pred = heights.with_column(\n",
    "    'Predicted', fit(heights, 'MidParent', 'Child')\n",
    ")\n",
    "\n",
    "plot_residuals(heights_pred, 'MidParent', 'Child')"
   ]
  },
  {
   "cell_type": "code",
   "execution_count": null,
   "metadata": {},
   "outputs": [],
   "source": [
    "# How differently could the prediction have come out?\n",
    "sample_heights = heights.sample()\n",
    "sample_heights_pred = sample_heights.with_column(\n",
    "    'Predicted', fit(sample_heights, 'MidParent', 'Child')\n",
    ")\n",
    "\n",
    "plot_residuals(sample_heights_pred, 'MidParent', 'Child')\n",
    "print('Prediction for MidParent=70 is Child=', predict(sample_heights_pred, 'MidParent', 'Child', 70))"
   ]
  },
  {
   "cell_type": "markdown",
   "metadata": {},
   "source": [
    "## Bootstrap CI for prediction"
   ]
  },
  {
   "cell_type": "code",
   "execution_count": null,
   "metadata": {},
   "outputs": [],
   "source": [
    "# Bootstrap the predicted height at midparent = 70\n",
    "predicted_heights = make_array()\n",
    "\n",
    "for i in np.arange(5000):\n",
    "    sample_heights = heights.sample()\n",
    "    pred_height = predict(sample_heights, 'MidParent', 'Child', 70)\n",
    "    predicted_heights = np.append(predicted_heights, pred_height)\n",
    "\n",
    "# Compute CI    \n",
    "left = percentile(2.5, predicted_heights)\n",
    "right = percentile(97.5, predicted_heights)\n",
    "\n",
    "# Visualize\n",
    "Table().with_column('Prediction', predicted_heights).hist(bins=np.arange(66.8, 67.8, 0.1), unit='tenth inch')\n",
    "plots.xlabel('predicted child height for midparent=70')\n",
    "plots.plot([left, right], [0, 0], color='yellow', lw=8);\n",
    "print('Approximate 95%-confidence interval of regression height:')\n",
    "print('(', left, ',', right, ')')"
   ]
  },
  {
   "cell_type": "markdown",
   "metadata": {},
   "source": [
    "## Prediction intervals"
   ]
  },
  {
   "cell_type": "markdown",
   "metadata": {},
   "source": [
    "As of Monday, someone was at 286 gestational days, and will max out at 293.  Can we predict the birth weight for each day, as a 95% CI?"
   ]
  },
  {
   "cell_type": "code",
   "execution_count": null,
   "metadata": {},
   "outputs": [],
   "source": [
    "baby = Table.read_table('baby.csv')\n",
    "baby.show(3)"
   ]
  },
  {
   "cell_type": "code",
   "execution_count": null,
   "metadata": {
    "scrolled": true
   },
   "outputs": [],
   "source": [
    "# Does linear regression look appropriate?\n",
    "plot_residuals(baby, 'Gestational Days', 'Birth Weight')"
   ]
  },
  {
   "cell_type": "markdown",
   "metadata": {},
   "source": [
    "**Note:** RMSE is about 1 lb!  So our predictions could still be off by a sizable amount."
   ]
  },
  {
   "cell_type": "code",
   "execution_count": null,
   "metadata": {},
   "outputs": [],
   "source": [
    "# A prediction for x=288\n",
    "x = 288\n",
    "a = slope(baby, 'Gestational Days', 'Birth Weight')\n",
    "b = intercept(baby, 'Gestational Days', 'Birth Weight')\n",
    "predicted_y = a * x + b\n",
    "baby.scatter('Gestational Days', 'Birth Weight', fit_line=True)\n",
    "plots.scatter(x, predicted_y, color='gold', s=200);"
   ]
  },
  {
   "cell_type": "code",
   "execution_count": null,
   "metadata": {},
   "outputs": [],
   "source": [
    "predicted_y"
   ]
  },
  {
   "cell_type": "code",
   "execution_count": null,
   "metadata": {},
   "outputs": [],
   "source": [
    "print(int(predicted_y // 16), 'lbs,', int(round(predicted_y % 16,0)), 'oz')"
   ]
  },
  {
   "cell_type": "code",
   "execution_count": null,
   "metadata": {},
   "outputs": [],
   "source": [
    "# Could those outliers have a big effect?\n",
    "x = 288\n",
    "\n",
    "baby_wo_outliers = baby.where('Gestational Days', are.above(200))\n",
    "a = slope(baby_wo_outliers, 'Gestational Days', 'Birth Weight')\n",
    "b = intercept(baby_wo_outliers, 'Gestational Days', 'Birth Weight')\n",
    "r = correlation(baby_wo_outliers, 'Gestational Days', 'Birth Weight')\n",
    "predicted_y = a * x + b\n",
    "baby_wo_outliers.scatter('Gestational Days', 'Birth Weight', fit_line=True)\n",
    "plots.scatter(x, predicted_y, color='gold', s=200);\n",
    "print('r:', r)"
   ]
  },
  {
   "cell_type": "code",
   "execution_count": null,
   "metadata": {},
   "outputs": [],
   "source": [
    "for i in np.arange(4):\n",
    "    baby_resample = baby.sample()\n",
    "    a = slope(baby_resample, 'Gestational Days', 'Birth Weight')\n",
    "    b = intercept(baby_resample, 'Gestational Days', 'Birth Weight')\n",
    "    r = correlation(baby_resample, 'Gestational Days', 'Birth Weight')\n",
    "    predicted_y = a * x + b\n",
    "    baby_resample.scatter('Gestational Days', 'Birth Weight', fit_line=True)\n",
    "    plots.scatter(x, predicted_y, color='gold', s=200);\n",
    "    print('r:', r)"
   ]
  },
  {
   "cell_type": "markdown",
   "metadata": {},
   "source": [
    "Outliers do have an effect on line and prediction, but absent a good reason (e.g., known errors) we can't exclude them just to get a better fitting line.  "
   ]
  },
  {
   "cell_type": "code",
   "execution_count": null,
   "metadata": {},
   "outputs": [],
   "source": [
    "def bootstrap_prediction(table, x, y, new_xs):\n",
    "    \"\"\"Bootstrap a 95% CI for a prediction of each new_x in\n",
    "    the array new_xs.  Return a table with all the CIs.\"\"\"\n",
    "\n",
    "    lefts = make_array()\n",
    "    rights = make_array()\n",
    "    \n",
    "    for new_x in new_xs:\n",
    "        # Bootstrap resampling\n",
    "        predictions = make_array()\n",
    "        for i in np.arange(5000):\n",
    "            resample = table.sample()\n",
    "            a = slope(resample, x, y)\n",
    "            b = intercept(resample, x, y)\n",
    "            predicted_y = a * new_x + b\n",
    "            predictions = np.append(predictions, predicted_y)\n",
    "\n",
    "        # 95% CI\n",
    "        left = percentile(2.5, predictions)\n",
    "        right = percentile(97.5, predictions)\n",
    "        lefts = np.append(lefts, left)\n",
    "        rights = np.append(rights, right)\n",
    "        \n",
    "    intervals = Table().with_columns(\n",
    "        'new x', new_xs,\n",
    "        'left', lefts,\n",
    "        'right', rights\n",
    "    )\n",
    "    \n",
    "    return intervals"
   ]
  },
  {
   "cell_type": "code",
   "execution_count": null,
   "metadata": {},
   "outputs": [],
   "source": [
    "bootstrap_prediction(baby, 'Gestational Days', 'Birth Weight', \n",
    "                     make_array(288))"
   ]
  },
  {
   "cell_type": "code",
   "execution_count": null,
   "metadata": {},
   "outputs": [],
   "source": [
    "bootstrap_prediction(baby, 'Gestational Days', 'Birth Weight', \n",
    "                     np.arange(286, 286+8))"
   ]
  },
  {
   "cell_type": "code",
   "execution_count": null,
   "metadata": {},
   "outputs": [],
   "source": [
    "# We could report CIs with and without outliers, though, and let\n",
    "# reader draw their own conclusion\n",
    "bootstrap_prediction(baby.where('Gestational Days', are.above(200)), \n",
    "                     'Gestational Days', 'Birth Weight', np.arange(286, 286+8))"
   ]
  },
  {
   "cell_type": "markdown",
   "metadata": {},
   "source": [
    "**Q:** Is there a 95% chance that the birth weight of a baby born at 288 gestational days is about 122-125?\n",
    "\n",
    "A. Yes  \n",
    "B. No  \n",
    "\n",
    "<br/><br/><br/><br/><br/>"
   ]
  },
  {
   "cell_type": "markdown",
   "metadata": {},
   "source": [
    "## A Hypothesis Test"
   ]
  },
  {
   "cell_type": "code",
   "execution_count": null,
   "metadata": {},
   "outputs": [],
   "source": [
    "plot_residuals(baby, 'Maternal Age', 'Birth Weight')"
   ]
  },
  {
   "cell_type": "markdown",
   "metadata": {},
   "source": [
    "**Q:** Should we attempt to use maternal age to predict birth weight?\n",
    "\n",
    "A. Yes  \n",
    "B. No  \n",
    "\n",
    "<br/><br/><br/><br/><br/>"
   ]
  },
  {
   "cell_type": "markdown",
   "metadata": {},
   "source": [
    "**Null Hypothesis:** The correlation of Maternal Age to Birth Weight is 0.   \n",
    "**Alternative Hypothesis:** Not 0.    \n",
    "**Test statistic:** $|r|$  \n",
    "\n",
    "How would we simulate under the null hypothesis?  We need to generate data sets whose actual population parameter of $r$ is 0, but might randomly vary a little.  Those data sets need to have same number of rows as our `baby` table.  \n",
    "\n",
    "We could try to do that by resampling from `baby`, but that would be wrong! We don't actually know what its population $r$ value is.\n",
    "\n",
    "Luckily, we have the function `r_scatter`, which had code in it for producing data sets with a given correlation.  From it, we'll extract the code we need."
   ]
  },
  {
   "cell_type": "code",
   "execution_count": null,
   "metadata": {},
   "outputs": [],
   "source": [
    "def r_scatter(r):\n",
    "    \"Generate a scatter plot with a correlation approximately r\"\n",
    "    plots.figure(figsize=(5,5))\n",
    "    x = np.random.normal(0, 1, 1000)\n",
    "    z = np.random.normal(0, 1, 1000)\n",
    "    y = r*x + (np.sqrt(1-r**2))*z\n",
    "    plots.scatter(x, y)\n",
    "    plots.xlim(-4, 4)\n",
    "    plots.ylim(-4, 4)"
   ]
  },
  {
   "cell_type": "code",
   "execution_count": null,
   "metadata": {},
   "outputs": [],
   "source": [
    "r_scatter(0)"
   ]
  },
  {
   "cell_type": "code",
   "execution_count": null,
   "metadata": {},
   "outputs": [],
   "source": [
    "def simulate_r(r, size):\n",
    "    x = np.random.normal(0, 1, size)\n",
    "    z = np.random.normal(0, 1, size)\n",
    "    y = r*x + (np.sqrt(1-r**2))*z\n",
    "    return Table().with_columns('x', x, 'y', y)"
   ]
  },
  {
   "cell_type": "code",
   "execution_count": null,
   "metadata": {},
   "outputs": [],
   "source": [
    "t = simulate_r(0, 10)\n",
    "t"
   ]
  },
  {
   "cell_type": "code",
   "execution_count": null,
   "metadata": {},
   "outputs": [],
   "source": [
    "correlation(t, 'x', 'y')"
   ]
  },
  {
   "cell_type": "code",
   "execution_count": null,
   "metadata": {},
   "outputs": [],
   "source": [
    "num_repetitions = 5000\n",
    "\n",
    "def test_statistic(obs_r, hyp_r):\n",
    "    return np.abs(obs_r - hyp_r)\n",
    "\n",
    "def bootstrap_test_correlation(table, x, y, hyp_r):\n",
    "    \"\"\"Hypothesis test for whether correlation of x and y is hyp_r.\"\"\"\n",
    "    statistics = make_array()\n",
    "    for i in np.arange(num_repetitions):\n",
    "        resample = simulate_r(hyp_r, table.num_rows)  # corrected\n",
    "        resample_r = correlation(resample, 'x', 'y')\n",
    "        statistics = np.append(statistics, test_statistic(resample_r, hyp_r))\n",
    "\n",
    "    observed = test_statistic(correlation(table, x, y), hyp_r)\n",
    "\n",
    "    Table().with_column('Test statistic', statistics).hist()\n",
    "    plots.scatter(observed, 0, color='red', s=80);\n",
    "    \n",
    "    p = np.sum(statistics > observed) / num_repetitions  # corrected\n",
    "    print('p =', p)"
   ]
  },
  {
   "cell_type": "code",
   "execution_count": null,
   "metadata": {},
   "outputs": [],
   "source": [
    "bootstrap_test_correlation(baby, 'Maternal Age', 'Birth Weight', 0)"
   ]
  },
  {
   "cell_type": "markdown",
   "metadata": {},
   "source": [
    "**Outcome:** Do not reject null hypothesis.  \n",
    "**Conclusion:**  Maternal Age not a good variable to use in predicting Birth Weight.\n",
    "\n",
    "**Follow up question:** What is the correlation, if not 0?"
   ]
  },
  {
   "cell_type": "code",
   "execution_count": null,
   "metadata": {},
   "outputs": [],
   "source": [
    "num_repetitions = 5000\n",
    "\n",
    "def bootstrap_ci_correlation(table, x, y):\n",
    "    \"\"\"95% confidence interval for the correlation of x and y.\"\"\"\n",
    "    correlations = make_array()\n",
    "    for i in np.arange(num_repetitions):\n",
    "        resample = table.sample()\n",
    "        resample_r = correlation(resample, x, y)\n",
    "        correlations = np.append(correlations, resample_r)\n",
    "\n",
    "    left = percentile(2.5, correlations)\n",
    "    right = percentile(97.5, correlations)\n",
    "\n",
    "    Table().with_column('Correlation', correlations).hist()\n",
    "    plots.plot([left,right], [0,0], color='yellow', lw=8);\n",
    "\n",
    "    print(\"95% confidence interval is (\", left, \", \", right, \")\")"
   ]
  },
  {
   "cell_type": "code",
   "execution_count": null,
   "metadata": {},
   "outputs": [],
   "source": [
    "bootstrap_ci_correlation(baby, 'Maternal Age', 'Birth Weight')"
   ]
  },
  {
   "cell_type": "markdown",
   "metadata": {},
   "source": [
    "95% CI contains 0.0, so we cannot reject the null hypothesis at a p-value of 0.05."
   ]
  },
  {
   "cell_type": "markdown",
   "metadata": {},
   "source": [
    "## Update on our prediction"
   ]
  },
  {
   "cell_type": "code",
   "execution_count": null,
   "metadata": {},
   "outputs": [],
   "source": [
    "# A prediction for x=288\n",
    "x = 288\n",
    "r = correlation(baby, 'Gestational Days', 'Birth Weight')\n",
    "rmse = np.std(baby.column('Birth Weight')) * np.sqrt(1 - r**2)\n",
    "a = slope(baby, 'Gestational Days', 'Birth Weight')\n",
    "b = intercept(baby, 'Gestational Days', 'Birth Weight')\n",
    "predicted_y = a * x + b\n",
    "baby.scatter('Gestational Days', 'Birth Weight', fit_line=True)\n",
    "plots.scatter(x, predicted_y, color='gold', s=200);\n",
    "laurence = 111 # 6 lbs 15 oz\n",
    "plots.scatter(x, laurence, color='dodgerblue', s=200);\n",
    "print('We predicted: ', predicted_y)\n",
    "print('Actual:       ', laurence)\n",
    "print('RMSE:         ', rmse)"
   ]
  },
  {
   "cell_type": "code",
   "execution_count": null,
   "metadata": {},
   "outputs": [],
   "source": []
  }
 ],
 "metadata": {
  "anaconda-cloud": {},
  "kernelspec": {
   "display_name": "Python 3",
   "language": "python",
   "name": "python3"
  },
  "language_info": {
   "codemirror_mode": {
    "name": "ipython",
    "version": 3
   },
   "file_extension": ".py",
   "mimetype": "text/x-python",
   "name": "python",
   "nbconvert_exporter": "python",
   "pygments_lexer": "ipython3",
   "version": "3.6.4"
  }
 },
 "nbformat": 4,
 "nbformat_minor": 1
}
