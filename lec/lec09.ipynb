{
 "cells": [
  {
   "cell_type": "code",
   "execution_count": 1,
   "metadata": {
    "collapsed": true
   },
   "outputs": [],
   "source": [
    "from datascience import *\n",
    "import numpy as np\n",
    "\n",
    "%matplotlib inline\n",
    "import matplotlib.pyplot as plots\n",
    "plots.style.use('fivethirtyeight')"
   ]
  },
  {
   "cell_type": "markdown",
   "metadata": {},
   "source": [
    "## Overlaid Histograms"
   ]
  },
  {
   "cell_type": "code",
   "execution_count": 2,
   "metadata": {},
   "outputs": [
    {
     "data": {
      "text/html": [
       "<table border=\"1\" class=\"dataframe\">\n",
       "    <thead>\n",
       "        <tr>\n",
       "            <th>family</th> <th>father</th> <th>mother</th> <th>midparentHeight</th> <th>children</th> <th>childNum</th> <th>gender</th> <th>childHeight</th>\n",
       "        </tr>\n",
       "    </thead>\n",
       "    <tbody>\n",
       "        <tr>\n",
       "            <td>1     </td> <td>78.5  </td> <td>67    </td> <td>75.43          </td> <td>4       </td> <td>1       </td> <td>male  </td> <td>73.2       </td>\n",
       "        </tr>\n",
       "    </tbody>\n",
       "        <tr>\n",
       "            <td>1     </td> <td>78.5  </td> <td>67    </td> <td>75.43          </td> <td>4       </td> <td>2       </td> <td>female</td> <td>69.2       </td>\n",
       "        </tr>\n",
       "    </tbody>\n",
       "        <tr>\n",
       "            <td>1     </td> <td>78.5  </td> <td>67    </td> <td>75.43          </td> <td>4       </td> <td>3       </td> <td>female</td> <td>69         </td>\n",
       "        </tr>\n",
       "    </tbody>\n",
       "</table>\n",
       "<p>... (931 rows omitted)</p>"
      ],
      "text/plain": [
       "<IPython.core.display.HTML object>"
      ]
     },
     "metadata": {},
     "output_type": "display_data"
    }
   ],
   "source": [
    "galton = Table.read_table('galton.csv')\n",
    "galton.show(3)"
   ]
  },
  {
   "cell_type": "code",
   "execution_count": 3,
   "metadata": {},
   "outputs": [
    {
     "data": {
      "text/html": [
       "<table border=\"1\" class=\"dataframe\">\n",
       "    <thead>\n",
       "        <tr>\n",
       "            <th>father</th> <th>mother</th> <th>child</th>\n",
       "        </tr>\n",
       "    </thead>\n",
       "    <tbody>\n",
       "        <tr>\n",
       "            <td>78.5  </td> <td>67    </td> <td>73.2 </td>\n",
       "        </tr>\n",
       "    </tbody>\n",
       "        <tr>\n",
       "            <td>78.5  </td> <td>67    </td> <td>69.2 </td>\n",
       "        </tr>\n",
       "    </tbody>\n",
       "        <tr>\n",
       "            <td>78.5  </td> <td>67    </td> <td>69   </td>\n",
       "        </tr>\n",
       "    </tbody>\n",
       "        <tr>\n",
       "            <td>78.5  </td> <td>67    </td> <td>69   </td>\n",
       "        </tr>\n",
       "    </tbody>\n",
       "        <tr>\n",
       "            <td>75.5  </td> <td>66.5  </td> <td>73.5 </td>\n",
       "        </tr>\n",
       "    </tbody>\n",
       "        <tr>\n",
       "            <td>75.5  </td> <td>66.5  </td> <td>72.5 </td>\n",
       "        </tr>\n",
       "    </tbody>\n",
       "        <tr>\n",
       "            <td>75.5  </td> <td>66.5  </td> <td>65.5 </td>\n",
       "        </tr>\n",
       "    </tbody>\n",
       "        <tr>\n",
       "            <td>75.5  </td> <td>66.5  </td> <td>65.5 </td>\n",
       "        </tr>\n",
       "    </tbody>\n",
       "        <tr>\n",
       "            <td>75    </td> <td>64    </td> <td>71   </td>\n",
       "        </tr>\n",
       "    </tbody>\n",
       "        <tr>\n",
       "            <td>75    </td> <td>64    </td> <td>68   </td>\n",
       "        </tr>\n",
       "    </tbody>\n",
       "</table>\n",
       "<p>... (924 rows omitted)</p>"
      ],
      "text/plain": [
       "father | mother | child\n",
       "78.5   | 67     | 73.2\n",
       "78.5   | 67     | 69.2\n",
       "78.5   | 67     | 69\n",
       "78.5   | 67     | 69\n",
       "75.5   | 66.5   | 73.5\n",
       "75.5   | 66.5   | 72.5\n",
       "75.5   | 66.5   | 65.5\n",
       "75.5   | 66.5   | 65.5\n",
       "75     | 64     | 71\n",
       "75     | 64     | 68\n",
       "... (924 rows omitted)"
      ]
     },
     "execution_count": 3,
     "metadata": {},
     "output_type": "execute_result"
    }
   ],
   "source": [
    "height = galton.select('father', 'mother', 'childHeight').relabeled(2, 'child')\n",
    "height"
   ]
  },
  {
   "cell_type": "code",
   "execution_count": 4,
   "metadata": {},
   "outputs": [
    {
     "data": {
      "image/png": "[encoded data removed]",
      "text/plain": [
       "<matplotlib.figure.Figure at 0x10a545cf8>"
      ]
     },
     "metadata": {},
     "output_type": "display_data"
    }
   ],
   "source": [
    "height.hist('child', unit='inch')"
   ]
  },
  {
   "cell_type": "code",
   "execution_count": 5,
   "metadata": {},
   "outputs": [
    {
     "data": {
      "image/png": "[encoded data removed]",
      "text/plain": [
       "<matplotlib.figure.Figure at 0x10a5c5748>"
      ]
     },
     "metadata": {},
     "output_type": "display_data"
    }
   ],
   "source": [
    "height.hist('father', unit='inch')"
   ]
  },
  {
   "cell_type": "code",
   "execution_count": 6,
   "metadata": {},
   "outputs": [
    {
     "data": {
      "image/png": "[encoded data removed]",
      "text/plain": [
       "<matplotlib.figure.Figure at 0x10a62eba8>"
      ]
     },
     "metadata": {},
     "output_type": "display_data"
    }
   ],
   "source": [
    "height.hist(unit='inch', bins=np.arange(55, 80, 2))"
   ]
  },
  {
   "cell_type": "markdown",
   "metadata": {},
   "source": [
    "Question: why is the maximum height of a bar for child smaller than that for mother or father?\n",
    "* A) mothers and fathers are adult height; kids might be kid heights\n",
    "* B) kids could be either gender, leading to a wider distribution"
   ]
  },
  {
   "cell_type": "markdown",
   "metadata": {},
   "source": [
    "## Functions"
   ]
  },
  {
   "cell_type": "code",
   "execution_count": 7,
   "metadata": {
    "collapsed": true
   },
   "outputs": [],
   "source": [
    "def double(x):\n",
    "    \"\"\" Double x \"\"\"\n",
    "    return 2*x"
   ]
  },
  {
   "cell_type": "code",
   "execution_count": 8,
   "metadata": {},
   "outputs": [
    {
     "name": "stdout",
     "output_type": "stream",
     "text": [
      "Help on function double in module __main__:\n",
      "\n",
      "double(x)\n",
      "    Double x\n",
      "\n"
     ]
    }
   ],
   "source": [
    "help(double)"
   ]
  },
  {
   "cell_type": "code",
   "execution_count": 9,
   "metadata": {},
   "outputs": [
    {
     "data": {
      "text/plain": [
       "10"
      ]
     },
     "execution_count": 9,
     "metadata": {},
     "output_type": "execute_result"
    }
   ],
   "source": [
    "double(5)"
   ]
  },
  {
   "cell_type": "code",
   "execution_count": 10,
   "metadata": {},
   "outputs": [
    {
     "ename": "NameError",
     "evalue": "name 'x' is not defined",
     "output_type": "error",
     "traceback": [
      "\u001b[0;31m---------------------------------------------------------------------------\u001b[0m",
      "\u001b[0;31mNameError\u001b[0m                                 Traceback (most recent call last)",
      "\u001b[0;32m<ipython-input-10-6fcf9dfbd479>\u001b[0m in \u001b[0;36m<module>\u001b[0;34m()\u001b[0m\n\u001b[0;32m----> 1\u001b[0;31m \u001b[0mx\u001b[0m\u001b[0;34m\u001b[0m\u001b[0m\n\u001b[0m",
      "\u001b[0;31mNameError\u001b[0m: name 'x' is not defined"
     ]
    }
   ],
   "source": [
    "x"
   ]
  },
  {
   "cell_type": "code",
   "execution_count": 11,
   "metadata": {},
   "outputs": [
    {
     "data": {
      "text/plain": [
       "2.5"
      ]
     },
     "execution_count": 11,
     "metadata": {},
     "output_type": "execute_result"
    }
   ],
   "source": [
    "double(5/4)"
   ]
  },
  {
   "cell_type": "code",
   "execution_count": 12,
   "metadata": {},
   "outputs": [
    {
     "data": {
      "text/plain": [
       "2.5"
      ]
     },
     "execution_count": 12,
     "metadata": {},
     "output_type": "execute_result"
    }
   ],
   "source": [
    "y = 5\n",
    "double(y/4)"
   ]
  },
  {
   "cell_type": "code",
   "execution_count": 13,
   "metadata": {},
   "outputs": [
    {
     "ename": "NameError",
     "evalue": "name 'x' is not defined",
     "output_type": "error",
     "traceback": [
      "\u001b[0;31m---------------------------------------------------------------------------\u001b[0m",
      "\u001b[0;31mNameError\u001b[0m                                 Traceback (most recent call last)",
      "\u001b[0;32m<ipython-input-13-6fcf9dfbd479>\u001b[0m in \u001b[0;36m<module>\u001b[0;34m()\u001b[0m\n\u001b[0;32m----> 1\u001b[0;31m \u001b[0mx\u001b[0m\u001b[0;34m\u001b[0m\u001b[0m\n\u001b[0m",
      "\u001b[0;31mNameError\u001b[0m: name 'x' is not defined"
     ]
    }
   ],
   "source": [
    "x"
   ]
  },
  {
   "cell_type": "code",
   "execution_count": 14,
   "metadata": {},
   "outputs": [
    {
     "data": {
      "text/plain": [
       "3.0"
      ]
     },
     "execution_count": 14,
     "metadata": {},
     "output_type": "execute_result"
    }
   ],
   "source": [
    "x = 1.5\n",
    "double(x)"
   ]
  },
  {
   "cell_type": "code",
   "execution_count": 15,
   "metadata": {},
   "outputs": [
    {
     "data": {
      "text/plain": [
       "1.5"
      ]
     },
     "execution_count": 15,
     "metadata": {},
     "output_type": "execute_result"
    }
   ],
   "source": [
    "x"
   ]
  },
  {
   "cell_type": "markdown",
   "metadata": {},
   "source": [
    "What happens if I double an array?"
   ]
  },
  {
   "cell_type": "code",
   "execution_count": 16,
   "metadata": {},
   "outputs": [
    {
     "data": {
      "text/plain": [
       "array([ 6,  8, 10])"
      ]
     },
     "execution_count": 16,
     "metadata": {},
     "output_type": "execute_result"
    }
   ],
   "source": [
    "double(make_array(3,4,5))"
   ]
  },
  {
   "cell_type": "markdown",
   "metadata": {},
   "source": [
    "What happens if I double a string?"
   ]
  },
  {
   "cell_type": "code",
   "execution_count": 17,
   "metadata": {},
   "outputs": [
    {
     "data": {
      "text/plain": [
       "'stringstring'"
      ]
     },
     "execution_count": 17,
     "metadata": {},
     "output_type": "execute_result"
    }
   ],
   "source": [
    "double(\"string\")"
   ]
  },
  {
   "cell_type": "code",
   "execution_count": 18,
   "metadata": {},
   "outputs": [
    {
     "data": {
      "text/plain": [
       "'stringstringstringstringstring'"
      ]
     },
     "execution_count": 18,
     "metadata": {},
     "output_type": "execute_result"
    }
   ],
   "source": [
    "5*\"string\""
   ]
  },
  {
   "cell_type": "markdown",
   "metadata": {},
   "source": [
    "What does this code do?"
   ]
  },
  {
   "cell_type": "code",
   "execution_count": 19,
   "metadata": {},
   "outputs": [
    {
     "data": {
      "text/plain": [
       "array([16.67, 33.33, 50.  ])"
      ]
     },
     "execution_count": 19,
     "metadata": {},
     "output_type": "execute_result"
    }
   ],
   "source": [
    "counts = make_array(1, 2, 3)\n",
    "total = counts.sum()\n",
    "np.round((counts/total)*100, 2)"
   ]
  },
  {
   "cell_type": "code",
   "execution_count": 20,
   "metadata": {
    "collapsed": true
   },
   "outputs": [],
   "source": [
    "def percents(counts):\n",
    "    \"\"\"Convert the counts to percents out of the total.\"\"\"\n",
    "    total = counts.sum()\n",
    "    return np.round((counts/total)*100, 2)"
   ]
  },
  {
   "cell_type": "code",
   "execution_count": 21,
   "metadata": {},
   "outputs": [
    {
     "data": {
      "text/plain": [
       "array([16.67, 33.33, 50.  ])"
      ]
     },
     "execution_count": 21,
     "metadata": {},
     "output_type": "execute_result"
    }
   ],
   "source": [
    "percents(counts)"
   ]
  },
  {
   "cell_type": "code",
   "execution_count": 22,
   "metadata": {},
   "outputs": [
    {
     "data": {
      "text/plain": [
       "array([ 6.67, 13.33, 26.67, 20.  , 33.33])"
      ]
     },
     "execution_count": 22,
     "metadata": {},
     "output_type": "execute_result"
    }
   ],
   "source": [
    "percents(make_array(2, 4, 8, 6, 10))"
   ]
  },
  {
   "cell_type": "code",
   "execution_count": 23,
   "metadata": {
    "collapsed": true
   },
   "outputs": [
    {
     "name": "stdout",
     "output_type": "stream",
     "text": [
      "Rounded to 1 decimal place: [28.6 14.3 57.1] or [28.6 14.3 57.1]\n",
      "Rounded to the default number of decimal places: [28.57 14.29 57.14]\n",
      "Rounded to the default number of decimal places, but with extra: [20. 10. 40.]\n"
     ]
    }
   ],
   "source": [
    "def percents(counts, decimal_places=2, extra=0):\n",
    "    \"\"\"Convert the counts to percents out of the total + extra.\"\"\"\n",
    "    total = counts.sum() + extra\n",
    "    return np.round((counts/total)*100, decimal_places)\n",
    "\n",
    "parts = make_array(2, 1, 4)\n",
    "print(\"Rounded to 1 decimal place:\", percents(parts, 1), \"or\", percents(parts, decimal_places=1))\n",
    "print(\"Rounded to the default number of decimal places:\", percents(parts))\n",
    "print(\"Rounded to the default number of decimal places, but with extra:\", percents(parts, extra=3))"
   ]
  },
  {
   "cell_type": "markdown",
   "metadata": {},
   "source": [
    "# Scope"
   ]
  },
  {
   "cell_type": "code",
   "execution_count": 24,
   "metadata": {
    "collapsed": true
   },
   "outputs": [],
   "source": [
    "def tell_me_arg_value(arg):\n",
    "    return arg"
   ]
  },
  {
   "cell_type": "code",
   "execution_count": 25,
   "metadata": {},
   "outputs": [
    {
     "data": {
      "text/plain": [
       "8"
      ]
     },
     "execution_count": 25,
     "metadata": {},
     "output_type": "execute_result"
    }
   ],
   "source": [
    "tell_me_arg_value(8)"
   ]
  },
  {
   "cell_type": "code",
   "execution_count": 26,
   "metadata": {},
   "outputs": [
    {
     "data": {
      "text/plain": [
       "5"
      ]
     },
     "execution_count": 26,
     "metadata": {},
     "output_type": "execute_result"
    }
   ],
   "source": [
    "tell_me_arg_value(5)"
   ]
  },
  {
   "cell_type": "code",
   "execution_count": 27,
   "metadata": {
    "collapsed": true
   },
   "outputs": [],
   "source": [
    "def tell_me_another_arg_value(arg):\n",
    "    return another_arg"
   ]
  },
  {
   "cell_type": "code",
   "execution_count": 28,
   "metadata": {},
   "outputs": [
    {
     "ename": "NameError",
     "evalue": "name 'another_arg' is not defined",
     "output_type": "error",
     "traceback": [
      "\u001b[0;31m---------------------------------------------------------------------------\u001b[0m",
      "\u001b[0;31mNameError\u001b[0m                                 Traceback (most recent call last)",
      "\u001b[0;32m<ipython-input-28-ffa96e24d58e>\u001b[0m in \u001b[0;36m<module>\u001b[0;34m()\u001b[0m\n\u001b[0;32m----> 1\u001b[0;31m \u001b[0mtell_me_another_arg_value\u001b[0m\u001b[0;34m(\u001b[0m\u001b[0;36m8\u001b[0m\u001b[0;34m)\u001b[0m\u001b[0;34m\u001b[0m\u001b[0m\n\u001b[0m",
      "\u001b[0;32m<ipython-input-27-88a00a3ec25b>\u001b[0m in \u001b[0;36mtell_me_another_arg_value\u001b[0;34m(arg)\u001b[0m\n\u001b[1;32m      1\u001b[0m \u001b[0;32mdef\u001b[0m \u001b[0mtell_me_another_arg_value\u001b[0m\u001b[0;34m(\u001b[0m\u001b[0marg\u001b[0m\u001b[0;34m)\u001b[0m\u001b[0;34m:\u001b[0m\u001b[0;34m\u001b[0m\u001b[0m\n\u001b[0;32m----> 2\u001b[0;31m     \u001b[0;32mreturn\u001b[0m \u001b[0manother_arg\u001b[0m\u001b[0;34m\u001b[0m\u001b[0m\n\u001b[0m",
      "\u001b[0;31mNameError\u001b[0m: name 'another_arg' is not defined"
     ]
    }
   ],
   "source": [
    "tell_me_another_arg_value(8)"
   ]
  },
  {
   "cell_type": "code",
   "execution_count": 29,
   "metadata": {
    "collapsed": true
   },
   "outputs": [],
   "source": [
    "another_arg = 7"
   ]
  },
  {
   "cell_type": "code",
   "execution_count": 30,
   "metadata": {},
   "outputs": [
    {
     "data": {
      "text/plain": [
       "7"
      ]
     },
     "execution_count": 30,
     "metadata": {},
     "output_type": "execute_result"
    }
   ],
   "source": [
    "tell_me_another_arg_value(8)"
   ]
  },
  {
   "cell_type": "markdown",
   "metadata": {},
   "source": [
    "## Apply"
   ]
  },
  {
   "cell_type": "code",
   "execution_count": 31,
   "metadata": {
    "collapsed": true
   },
   "outputs": [],
   "source": [
    "def cut_off_at_72(x):\n",
    "    \"\"\"The smaller of x and 72\"\"\"\n",
    "    return min(x, 72)"
   ]
  },
  {
   "cell_type": "code",
   "execution_count": 32,
   "metadata": {
    "collapsed": true
   },
   "outputs": [
    {
     "data": {
      "text/plain": [
       "62"
      ]
     },
     "execution_count": 32,
     "metadata": {},
     "output_type": "execute_result"
    }
   ],
   "source": [
    "cut_off_at_72(62)"
   ]
  },
  {
   "cell_type": "code",
   "execution_count": 33,
   "metadata": {
    "collapsed": true
   },
   "outputs": [
    {
     "data": {
      "text/plain": [
       "72"
      ]
     },
     "execution_count": 33,
     "metadata": {},
     "output_type": "execute_result"
    }
   ],
   "source": [
    "cut_off_at_72(72)"
   ]
  },
  {
   "cell_type": "code",
   "execution_count": 34,
   "metadata": {
    "collapsed": true
   },
   "outputs": [
    {
     "data": {
      "text/plain": [
       "72"
      ]
     },
     "execution_count": 34,
     "metadata": {},
     "output_type": "execute_result"
    }
   ],
   "source": [
    "cut_off_at_72(78)"
   ]
  },
  {
   "cell_type": "markdown",
   "metadata": {},
   "source": [
    "The table `apply` method applies a function to every entry in a column."
   ]
  },
  {
   "cell_type": "code",
   "execution_count": 35,
   "metadata": {},
   "outputs": [
    {
     "data": {
      "text/plain": [
       "array([72. , 69.2, 69. , 69. , 72. , 72. , 65.5, 65.5, 71. , 68. , 70.5,\n",
       "       68.5, 67. , 64.5, 63. , 72. , 69. , 68. , 66.5, 62.5, 62.5, 69.5,\n",
       "       72. , 72. , 72. , 72. , 70.5, 64. , 70.5, 68. , 66. , 66. , 65.5,\n",
       "       72. , 70. , 68. , 67. , 67. , 66. , 63.5, 63. , 65. , 71. , 62. ,\n",
       "       68. , 67. , 71. , 70.5, 66.7, 72. , 70.5, 70.2, 70.2, 69.2, 68.7,\n",
       "       66.5, 64.5, 63.5, 72. , 72. , 71.5, 62.5, 66.5, 62.3, 66. , 64.5,\n",
       "       64. , 62.7, 72. , 72. , 72. , 70. , 69. , 68.5, 68. , 66. , 72. ,\n",
       "       68.5, 68. , 72. , 71. , 67. , 72. , 70.5, 69.5, 66. , 65.5, 65. ,\n",
       "       65. , 65.5, 66. , 63. , 70.5, 70.5, 69. , 65. , 63. , 69. , 67. ,\n",
       "       63. , 72. , 67. , 70.5, 70. , 66.5, 63. , 67.5, 67.2, 66.7, 64. ,\n",
       "       71. , 70. , 70. , 66. , 65. , 65. , 72. , 72. , 69. , 67.5, 63.5,\n",
       "       72. , 71.5, 71.5, 70. , 68. , 65.7, 72. , 72. , 72. , 72. , 67. ,\n",
       "       72. , 72. , 69. , 67. , 70. , 67. , 67. , 66.5, 70. , 69. , 68.5,\n",
       "       66. , 64.5, 63. , 71. , 67. , 72. , 72. , 71. , 66. , 66. , 70.5,\n",
       "       72. , 72. , 71. , 69. , 66. , 65. , 72. , 65.2, 68.5, 67.7, 68. ,\n",
       "       68. , 62. , 68. , 68. , 67.5, 66.5, 66.5, 66. , 65.5, 65. , 72. ,\n",
       "       71. , 70.5, 67. , 68. , 68. , 68. , 72. , 71. , 70. , 66. , 64.5,\n",
       "       64.5, 62. , 72. , 62. , 67.5, 64.5, 71. , 67. , 66. , 65. , 63.5,\n",
       "       71. , 70. , 70. , 64. , 65. , 65. , 64. , 63. , 63. , 71. , 71. ,\n",
       "       70. , 63.5, 71. , 70. , 64.5, 62.5, 61.5, 72. , 70.5, 70.5, 64.5,\n",
       "       60. , 70. , 64. , 64. , 64. , 62.5, 70.5, 70. , 69. , 69. , 66. ,\n",
       "       64.5, 64. , 62. , 71.5, 69. , 71. , 70. , 69. , 69. , 70. , 68.7,\n",
       "       68. , 66. , 64. , 62. , 72. , 70. , 69. , 66. , 64. , 60. , 67.5,\n",
       "       72. , 72. , 72. , 66.5, 69.2, 67.2, 66.5, 66. , 66. , 64.2, 63.7,\n",
       "       72. , 70.2, 69. , 68.5, 68. , 65. , 61.5, 61. , 61. , 72. , 72. ,\n",
       "       70.5, 65. , 65. , 64.5, 63. , 62. , 67. , 65. , 64.5, 62.5, 62.5,\n",
       "       70. , 70. , 67. , 65. , 65. , 63. , 72. , 72. , 71. , 69. , 67. ,\n",
       "       65.7, 62. , 72. , 72. , 65. , 69. , 69. , 72. , 70. , 68.7, 66.5,\n",
       "       65.5, 64.7, 64.5, 70.7, 70. , 68. , 67. , 66. , 65. , 67. , 70. ,\n",
       "       68. , 66.7, 65.5, 72. , 70. , 62.5, 61.2, 60.1, 72. , 69.5, 69. ,\n",
       "       68. , 68. , 68. , 65.5, 65. , 60. , 68. , 65. , 64. , 62. , 71. ,\n",
       "       70. , 70. , 70. , 69.5, 68.5, 69. , 65. , 64. , 70. , 67. , 65.5,\n",
       "       63.7, 63.2, 62.5, 62.2, 61. , 70. , 68.5, 65.5, 63.5, 72. , 69. ,\n",
       "       67. , 64.5, 64. , 71. , 67.5, 67.5, 63.5, 68. , 67. , 63.7, 62. ,\n",
       "       70. , 66.5, 62. , 61. , 72. , 70. , 69.5, 69.5, 68. , 65. , 64. ,\n",
       "       63. , 70.7, 69.7, 69.2, 65.2, 64. , 63.5, 63.2, 72. , 72. , 60. ,\n",
       "       71.2, 67. , 67. , 64.5, 65. , 63. , 65. , 65. , 71.5, 64.5, 63. ,\n",
       "       72. , 66. , 66. , 65. , 63. , 72. , 71. , 70. , 66. , 66. , 65.5,\n",
       "       65. , 65. , 64. , 64. , 64. , 72. , 72. , 71.7, 71.5, 65.5, 65. ,\n",
       "       62.7, 62.5, 71.2, 71. , 70. , 72. , 72. , 72. , 68.5, 70. , 68.5,\n",
       "       68. , 65. , 63. , 62.5, 72. , 71. , 70.5, 70.5, 67. , 66. , 61. ,\n",
       "       70.5, 67.5, 64.5, 64. , 71. , 68.5, 67.5, 66. , 63. , 63. , 71. ,\n",
       "       71. , 70.5, 70.5, 66.5, 65.5, 64.5, 72. , 72. , 69. , 69. , 66.5,\n",
       "       65.5, 65.5, 65. , 64. , 70. , 68.5, 67. , 65. , 64. , 63.5, 61. ,\n",
       "       69.7, 68. , 60. , 65.2, 64.5, 63.7, 60. , 71.7, 66.5, 65. , 63.5,\n",
       "       65.5, 69. , 67.5, 63.5, 72. , 72. , 70. , 70. , 64. , 66. , 62. ,\n",
       "       70.5, 67. , 66. , 65. , 63. , 62. , 61. , 70.5, 63.7, 63. , 62.5,\n",
       "       72. , 72. , 69. , 72. , 71. , 71. , 69. , 63. , 72. , 70. , 67.8,\n",
       "       65.2, 64.7, 64.5, 63.5, 63.5, 62.5, 62. , 61.5, 71. , 70. , 70. ,\n",
       "       69. , 63.5, 62.5, 62.5, 62. , 72. , 68. , 66. , 66. , 70. , 69.5,\n",
       "       69. , 63. , 62. , 68. , 68. , 67.5, 64. , 63. , 63. , 63.5, 62. ,\n",
       "       62. , 70.5, 68. , 62.5, 69. , 66. , 61.7, 60.5, 69.5, 71. , 61.7,\n",
       "       72. , 71. , 67. , 70. , 69. , 69. , 68.7, 68.5, 68.5, 68. , 68. ,\n",
       "       68. , 66.2, 63.2, 67.5, 66. , 66. , 64. , 71.7, 71.5, 70.7, 65.5,\n",
       "       66.5, 65.2, 61.5, 72. , 72. , 68. , 66. , 69.2, 68. , 66. , 66. ,\n",
       "       62. , 61.5, 61. , 60. , 72. , 70.5, 68.7, 68.5, 67.7, 64. , 63.5,\n",
       "       63. , 71. , 68. , 68. , 67. , 65. , 64. , 63. , 63. , 62. , 61. ,\n",
       "       66. , 63. , 65.5, 62. , 71.2, 71.2, 69. , 68.5, 62.5, 62. , 69. ,\n",
       "       67. , 66. , 66. , 66. , 65. , 65. , 65. , 64. , 63. , 70.5, 70. ,\n",
       "       68. , 66. , 66. , 66. , 62. , 61.5, 72. , 70. , 69.5, 65.5, 67. ,\n",
       "       70. , 68. , 64.5, 64. , 71. , 68. , 66. , 65.5, 65. , 63. , 62. ,\n",
       "       62. , 67. , 67. , 66. , 64. , 63.5, 61. , 68.2, 70. , 70. , 69. ,\n",
       "       67. , 65.5, 64.5, 68.5, 67.7, 61.7, 66.5, 68.5, 68. , 64. , 63.5,\n",
       "       63. , 66.7, 64. , 61. , 61. , 60. , 60. , 60. , 56. , 67.5, 67. ,\n",
       "       66.5, 60. , 69. , 68. , 65. , 64.7, 64. , 64. , 63. , 65. , 65. ,\n",
       "       62. , 61. , 72. , 72. , 71.5, 65.5, 63.5, 71. , 72. , 71. , 70.7,\n",
       "       70. , 69. , 68. , 65.5, 62. , 69.7, 67.5, 65.5, 65. , 64.5, 63.5,\n",
       "       70. , 69. , 65.5, 65.5, 63. , 70. , 67.7, 63. , 60. , 65. , 62. ,\n",
       "       62. , 71. , 69. , 64. , 64. , 63. , 63. , 63. , 63. , 63. , 62.5,\n",
       "       62. , 71.5, 70. , 67. , 67. , 71. , 70.2, 69.2, 68.5, 68. , 67. ,\n",
       "       65.5, 63.5, 69. , 68. , 63. , 70. , 69.5, 69. , 68.5, 66. , 67. ,\n",
       "       70.5, 70.5, 67. , 66. , 66. , 62. , 62. , 61.5, 72. , 65. , 65. ,\n",
       "       67. , 64. , 64. , 62. , 60. , 60. , 66. , 65. , 67. , 66.5, 65.5,\n",
       "       72. , 68. , 66. , 65. , 62. , 61. , 68.7, 68.5, 66.5, 64.5, 62.5,\n",
       "       60.5, 60.5, 57.5, 72. , 71. , 67. , 66. , 65. , 70. , 64.5, 62. ,\n",
       "       67.2, 67. , 65. , 65. , 65. , 63. , 70. , 68. , 63.5, 62.5, 62.5,\n",
       "       62.5, 62.5, 70. , 68. , 67. , 65. , 60. , 65. , 68. , 67. , 66.5,\n",
       "       66. , 65.7, 65.5, 65. , 65. , 64. , 63. , 62. , 61. , 60. , 58. ,\n",
       "       57. , 66.5, 66. , 66. , 65. , 63. , 63. , 63. , 63. , 60. , 67. ,\n",
       "       66. , 65. , 65. , 61. , 69. , 68. , 68. , 65. , 65. , 62. , 62. ,\n",
       "       61. , 59. , 70.7, 65.5, 69.2, 69. , 68. , 67.7, 64.5, 60.5, 67. ,\n",
       "       67. , 64. , 64. , 62.5, 60.5, 70. , 63. , 66. , 66. , 63. , 71. ,\n",
       "       71. , 69. , 63.5, 68. , 68. , 67. , 67. , 62. , 71.5, 68. , 65.5,\n",
       "       64. , 62. , 62. , 61. , 70.5, 68. , 67. , 65. , 64. , 64. , 60. ,\n",
       "       64.5, 66. , 60. , 68.5, 63.5, 64. , 62. , 61. , 66.5, 57. ])"
      ]
     },
     "execution_count": 35,
     "metadata": {},
     "output_type": "execute_result"
    }
   ],
   "source": [
    "cut_off = height.apply(cut_off_at_72, 'child')\n",
    "cut_off"
   ]
  },
  {
   "cell_type": "code",
   "execution_count": 36,
   "metadata": {
    "collapsed": true
   },
   "outputs": [
    {
     "data": {
      "text/plain": [
       "<function __main__.cut_off_at_72>"
      ]
     },
     "execution_count": 36,
     "metadata": {},
     "output_type": "execute_result"
    }
   ],
   "source": [
    "cut_off_at_72"
   ]
  },
  {
   "cell_type": "code",
   "execution_count": 37,
   "metadata": {
    "collapsed": true
   },
   "outputs": [
    {
     "data": {
      "text/plain": [
       "function"
      ]
     },
     "execution_count": 37,
     "metadata": {},
     "output_type": "execute_result"
    }
   ],
   "source": [
    "type(cut_off_at_72)"
   ]
  },
  {
   "cell_type": "code",
   "execution_count": 38,
   "metadata": {
    "collapsed": true
   },
   "outputs": [
    {
     "name": "stdout",
     "output_type": "stream",
     "text": [
      "Help on function cut_off_at_72 in module __main__:\n",
      "\n",
      "cut_off_at_72(x)\n",
      "    The smaller of x and 72\n",
      "\n"
     ]
    }
   ],
   "source": [
    "help(cut_off_at_72)"
   ]
  },
  {
   "cell_type": "markdown",
   "metadata": {},
   "source": [
    "## Apply with multiple columns"
   ]
  },
  {
   "cell_type": "code",
   "execution_count": 39,
   "metadata": {},
   "outputs": [
    {
     "data": {
      "text/plain": [
       "array([78.5, 78.5, 78.5, 78.5, 75.5, 75.5, 75.5, 75.5, 75. , 75. , 75. ,\n",
       "       75. , 75. , 75. , 75. , 75. , 75. , 75. , 75. , 75. , 75. , 74. ,\n",
       "       74. , 74. , 74. , 74. , 74. , 74. , 74. , 74. , 74. , 74.5, 74. ,\n",
       "       74. , 74. , 74. , 74. , 74. , 74. , 74. , 74. , 74. , 73. , 73. ,\n",
       "       73. , 73. , 73. , 73. , 73. , 73. , 73. , 73. , 73. , 73. , 73. ,\n",
       "       73. , 73. , 73. , 73. , 73. , 73. , 73. , 73. , 73. , 73. , 73. ,\n",
       "       73. , 73.2, 72.7, 72.7, 72.7, 72.7, 72.7, 72.7, 72.7, 72.7, 72. ,\n",
       "       72. , 72. , 72. , 72. , 72. , 72. , 72. , 72. , 72. , 72. , 72. ,\n",
       "       72. , 72. , 72. , 72. , 72. , 72. , 72. , 72. , 72. , 72. , 72. ,\n",
       "       72. , 72. , 72. , 72. , 72. , 72. , 72. , 72.5, 72.5, 72.5, 72. ,\n",
       "       72.5, 72.5, 72.5, 72.5, 72.5, 72.5, 72. , 72. , 72. , 72. , 72. ,\n",
       "       72. , 72. , 72. , 72. , 72. , 72. , 71. , 71. , 71. , 71. , 71. ,\n",
       "       71. , 71. , 71. , 71. , 71. , 71. , 71. , 71. , 71. , 71. , 71. ,\n",
       "       71. , 71. , 71. , 71. , 71. , 71. , 71. , 71. , 71. , 71. , 71.7,\n",
       "       71. , 71. , 71. , 71. , 71. , 71. , 71.5, 71.5, 71.5, 71.5, 71. ,\n",
       "       71. , 71. , 71. , 71. , 71. , 71. , 71. , 71. , 71. , 71. , 71.7,\n",
       "       71.7, 71.7, 71.7, 71. , 71. , 71. , 71.5, 71.5, 71.5, 71.5, 71.5,\n",
       "       71.5, 71.5, 71. , 71. , 71.2, 71.2, 71. , 71. , 71. , 71. , 71. ,\n",
       "       71. , 71. , 71. , 71. , 71. , 71. , 71. , 71. , 71. , 71. , 71. ,\n",
       "       71. , 71. , 71. , 71. , 71. , 71. , 71. , 71. , 71. , 71. , 71. ,\n",
       "       71. , 71. , 71. , 71. , 71. , 71. , 71. , 71. , 71. , 71. , 71. ,\n",
       "       71. , 71. , 71. , 71. , 71. , 70. , 70. , 70. , 70. , 70. , 70. ,\n",
       "       70. , 70. , 70. , 70. , 70. , 70. , 70. , 70. , 70. , 70. , 70. ,\n",
       "       70. , 70. , 70. , 70. , 70. , 70. , 70. , 70. , 70. , 70. , 70. ,\n",
       "       70.5, 70.5, 70.5, 70.5, 70.5, 70.5, 70.5, 70.5, 70.5, 70. , 70. ,\n",
       "       70. , 70. , 70. , 70. , 70. , 70. , 70. , 70. , 70. , 70. , 70. ,\n",
       "       70. , 70. , 70. , 70. , 70. , 70. , 70. , 70. , 70. , 70. , 70. ,\n",
       "       70. , 70. , 70. , 70. , 70. , 70. , 70. , 70. , 70. , 70. , 70. ,\n",
       "       70. , 70. , 70. , 70. , 70. , 70. , 70. , 70. , 70. , 70. , 70. ,\n",
       "       70. , 70. , 70. , 70. , 70. , 70. , 70. , 70. , 70.5, 70.5, 70.5,\n",
       "       70.5, 70.5, 70.5, 70.5, 70.5, 70.5, 70. , 70. , 70. , 70. , 70. ,\n",
       "       70. , 70. , 70. , 70. , 70. , 70. , 70. , 70. , 70. , 70. , 70. ,\n",
       "       70. , 70. , 70. , 70. , 70. , 70.5, 70.5, 70.5, 70.5, 70.5, 70.5,\n",
       "       70.5, 70.5, 70.5, 70. , 70. , 70. , 70. , 70. , 70. , 70. , 70. ,\n",
       "       70. , 70. , 70. , 70. , 70.5, 70.5, 70.5, 70.5, 70.5, 70.5, 70.5,\n",
       "       70.5, 70.3, 70.3, 70.3, 70.3, 70.3, 70.3, 70.3, 70.5, 70.5, 70.5,\n",
       "       70. , 70. , 70. , 70. , 70. , 70. , 70. , 70. , 70. , 70. , 70. ,\n",
       "       70. , 70. , 70. , 70. , 70. , 69. , 69. , 69. , 69. , 69. , 69. ,\n",
       "       69. , 69. , 69. , 69. , 69. , 69. , 69. , 69. , 69. , 69. , 69. ,\n",
       "       69. , 69. , 69. , 69. , 69. , 69. , 69. , 69. , 69. , 69. , 69. ,\n",
       "       69. , 69. , 69. , 69. , 69. , 69. , 69. , 69. , 69. , 69. , 69. ,\n",
       "       69.5, 69.5, 69.5, 69.5, 69. , 69. , 69. , 69. , 69. , 69. , 69.5,\n",
       "       69.5, 69.5, 69.5, 69.5, 69.5, 69.5, 69. , 69. , 69. , 69. , 69. ,\n",
       "       69. , 69. , 69. , 69. , 69. , 69. , 69. , 69. , 69. , 69. , 69. ,\n",
       "       69.5, 69.5, 69.5, 69.5, 69.5, 69.5, 69.5, 69.2, 69.2, 69.2, 69.2,\n",
       "       69. , 69. , 69. , 69. , 69. , 69. , 69. , 69. , 69. , 69. , 69. ,\n",
       "       69. , 69. , 69. , 69. , 69. , 69. , 69. , 69. , 69. , 69. , 69.7,\n",
       "       69.5, 69.5, 69.5, 69. , 69. , 69. , 69. , 69. , 69.5, 69.5, 69.5,\n",
       "       69.5, 69.5, 69.5, 69.5, 69.5, 69.5, 69.5, 69.5, 69. , 69. , 69. ,\n",
       "       69. , 69. , 69. , 69. , 69. , 69. , 69. , 69. , 69. , 69.5, 69.5,\n",
       "       69.5, 69.5, 69.5, 69. , 69. , 69. , 69. , 69. , 69. , 69. , 69. ,\n",
       "       69. , 69. , 69. , 69. , 69. , 69. , 69. , 69. , 69. , 70.5, 70.5,\n",
       "       68.5, 68.5, 68.5, 68.5, 68.5, 68.5, 68.5, 68.5, 68.5, 68.5, 68.5,\n",
       "       68.5, 68.5, 68.5, 68. , 68. , 68. , 68. , 68. , 68. , 68. , 68. ,\n",
       "       68. , 68. , 68. , 68. , 68. , 68. , 68. , 68.5, 68.5, 68.5, 68.5,\n",
       "       68.5, 68.5, 68.5, 68.5, 68.5, 68.5, 68.5, 68.5, 68.5, 68.5, 68.5,\n",
       "       68.5, 68. , 68. , 68. , 68. , 68. , 68. , 68. , 68. , 68. , 68. ,\n",
       "       68. , 68. , 68. , 68. , 68. , 68. , 68. , 68. , 68. , 68. , 68. ,\n",
       "       68. , 68. , 68. , 68. , 68. , 68. , 68. , 68. , 68. , 68. , 68. ,\n",
       "       68. , 68. , 68. , 68. , 68. , 68. , 68.5, 68.5, 68.5, 68.5, 68. ,\n",
       "       68. , 68. , 68. , 68. , 68. , 68. , 68. , 68. , 68. , 68. , 68. ,\n",
       "       68. , 68. , 68. , 68. , 68. , 68. , 68. , 68.5, 68. , 68.2, 68.2,\n",
       "       68.2, 68.2, 68.2, 68. , 68.7, 68.7, 68. , 68. , 68. , 68. , 68. ,\n",
       "       68. , 68. , 68. , 68. , 68. , 68. , 68. , 68. , 68. , 68. , 68. ,\n",
       "       68. , 68. , 68.5, 68. , 68. , 68. , 68. , 68. , 68. , 68. , 68. ,\n",
       "       68. , 68. , 67. , 67. , 67. , 67. , 67. , 67. , 67. , 67. , 67. ,\n",
       "       67. , 67. , 67. , 67. , 67. , 67. , 67. , 67. , 67. , 67. , 67. ,\n",
       "       67. , 67. , 67. , 67. , 67. , 67. , 67. , 67. , 67. , 67. , 67. ,\n",
       "       67. , 67.5, 67.5, 67.5, 67.5, 67.5, 67.5, 67.5, 67.5, 67.5, 67.5,\n",
       "       67.5, 67. , 67. , 67. , 67. , 67. , 67. , 67. , 67. , 67. , 67. ,\n",
       "       67. , 67. , 67. , 67. , 67. , 67.5, 67.5, 67.5, 67.5, 67.5, 67. ,\n",
       "       67. , 67. , 67. , 67. , 67. , 67. , 67. , 67. , 67. , 67. , 67. ,\n",
       "       67. , 67. , 67. , 67. , 67. , 67. , 66. , 66. , 66. , 66. , 66. ,\n",
       "       66. , 66. , 66. , 66. , 66. , 66. , 66.5, 66.5, 66.5, 66.5, 66.5,\n",
       "       66.5, 66.5, 66.5, 66. , 66. , 66. , 66. , 66. , 66. , 66. , 66. ,\n",
       "       66.5, 66.5, 66.5, 66.5, 66.5, 66.5, 66.5, 66.5, 66.5, 66.5, 66.5,\n",
       "       66.5, 66.5, 66. , 66. , 66. , 66. , 66. , 66. , 66. , 66. , 66. ,\n",
       "       66. , 66. , 66. , 66. , 66. , 66. , 66. , 66. , 66. , 66. , 66. ,\n",
       "       66. , 67. , 67. , 67. , 67. , 67. , 66. , 66. , 66. , 66. , 66. ,\n",
       "       66. , 66. , 66. , 66. , 65. , 65. , 65. , 65. , 65. , 65. , 65. ,\n",
       "       65. , 65. , 65.5, 65.5, 65. , 65. , 65. , 65. , 65. , 65. , 65. ,\n",
       "       65. , 65. , 65. , 65. , 65. , 65. , 65. , 65. , 65. , 65. , 65.5,\n",
       "       65.5, 65.5, 65.5, 65.5, 65.5, 65.5, 65.5, 65.5, 64. , 64. , 64. ,\n",
       "       64. , 64. , 64. , 64. , 64. , 64. , 64. , 64. , 64. , 64. , 64. ,\n",
       "       64. , 64. , 64. , 63.5, 63.5, 66. , 66. , 66. , 63. , 63. ])"
      ]
     },
     "execution_count": 39,
     "metadata": {},
     "output_type": "execute_result"
    }
   ],
   "source": [
    "parent_max = height.apply(max, 'mother', 'father')\n",
    "parent_max"
   ]
  },
  {
   "cell_type": "code",
   "execution_count": 40,
   "metadata": {
    "collapsed": true
   },
   "outputs": [],
   "source": [
    "def avg(x, y):\n",
    "    \"\"\"Compute the average of two values\"\"\"\n",
    "    return (x+y)/2"
   ]
  },
  {
   "cell_type": "code",
   "execution_count": 41,
   "metadata": {},
   "outputs": [
    {
     "data": {
      "text/plain": [
       "array([72.75, 72.75, 72.75, 72.75, 71.  , 71.  , 71.  , 71.  , 69.5 ,\n",
       "       69.5 , 69.5 , 69.5 , 69.5 , 69.5 , 69.5 , 66.75, 66.75, 66.75,\n",
       "       66.75, 66.75, 66.75, 71.  , 71.  , 71.  , 71.  , 71.  , 71.  ,\n",
       "       71.  , 70.25, 70.25, 70.25, 70.25, 69.75, 68.  , 68.  , 68.  ,\n",
       "       68.  , 68.  , 68.  , 68.  , 68.  , 67.5 , 70.  , 70.  , 70.  ,\n",
       "       70.  , 69.75, 69.75, 69.75, 69.  , 69.  , 69.  , 69.  , 69.  ,\n",
       "       69.  , 69.  , 69.  , 69.  , 68.75, 68.75, 68.75, 68.75, 68.75,\n",
       "       68.75, 68.5 , 68.5 , 68.5 , 68.1 , 70.85, 70.85, 70.85, 70.85,\n",
       "       70.85, 70.85, 70.85, 70.85, 70.  , 70.  , 70.  , 69.5 , 69.5 ,\n",
       "       69.5 , 68.5 , 68.5 , 68.5 , 68.5 , 68.5 , 68.5 , 68.5 , 68.75,\n",
       "       68.  , 68.  , 67.5 , 67.5 , 67.5 , 67.5 , 67.5 , 67.5 , 67.5 ,\n",
       "       67.5 , 67.5 , 67.5 , 67.5 , 67.5 , 67.5 , 67.5 , 68.  , 68.  ,\n",
       "       68.  , 67.  , 67.25, 67.25, 67.25, 67.25, 67.25, 67.25, 67.  ,\n",
       "       67.  , 67.  , 67.  , 67.  , 67.  , 67.  , 67.  , 67.  , 67.  ,\n",
       "       66.5 , 70.  , 70.  , 70.  , 70.  , 70.  , 69.  , 69.  , 69.  ,\n",
       "       69.  , 68.5 , 68.5 , 68.5 , 68.5 , 68.5 , 68.5 , 68.5 , 68.5 ,\n",
       "       68.5 , 68.5 , 68.5 , 68.5 , 68.5 , 68.5 , 68.5 , 68.5 , 68.5 ,\n",
       "       68.6 , 68.25, 68.25, 68.25, 68.25, 68.25, 68.25, 68.5 , 68.5 ,\n",
       "       68.25, 68.25, 68.  , 68.  , 68.  , 67.5 , 67.5 , 67.5 , 67.5 ,\n",
       "       67.5 , 67.5 , 67.5 , 67.5 , 68.1 , 68.1 , 68.1 , 68.1 , 67.5 ,\n",
       "       67.5 , 67.5 , 68.  , 68.  , 68.  , 68.  , 68.  , 68.  , 68.  ,\n",
       "       67.75, 67.75, 67.1 , 67.1 , 67.25, 67.25, 67.25, 67.25, 67.25,\n",
       "       67.  , 67.  , 67.  , 67.  , 67.  , 67.  , 67.  , 67.  , 67.  ,\n",
       "       67.  , 67.  , 67.  , 67.  , 66.5 , 66.5 , 66.5 , 66.5 , 66.5 ,\n",
       "       66.5 , 66.5 , 66.5 , 66.5 , 66.5 , 66.75, 66.75, 66.75, 66.75,\n",
       "       66.75, 66.5 , 66.5 , 66.5 , 66.5 , 66.5 , 66.5 , 66.5 , 66.  ,\n",
       "       64.5 , 64.5 , 69.5 , 69.5 , 69.5 , 69.5 , 69.5 , 69.5 , 69.5 ,\n",
       "       69.5 , 69.5 , 69.5 , 69.  , 68.5 , 68.5 , 68.5 , 68.5 , 68.5 ,\n",
       "       68.5 , 68.25, 68.25, 68.25, 68.25, 68.25, 68.25, 68.25, 68.25,\n",
       "       68.25, 68.25, 68.25, 67.75, 67.75, 67.75, 67.75, 67.75, 67.75,\n",
       "       67.75, 67.75, 67.75, 67.5 , 67.5 , 67.5 , 67.5 , 67.5 , 67.5 ,\n",
       "       67.5 , 67.5 , 67.5 , 67.5 , 67.5 , 67.5 , 67.5 , 67.5 , 67.5 ,\n",
       "       67.5 , 67.5 , 67.5 , 67.5 , 67.5 , 67.5 , 67.5 , 67.5 , 67.5 ,\n",
       "       67.5 , 67.5 , 67.5 , 67.5 , 67.5 , 67.5 , 67.5 , 67.35, 67.35,\n",
       "       67.35, 67.35, 67.35, 67.35, 67.35, 67.  , 67.  , 67.  , 67.  ,\n",
       "       67.  , 67.  , 67.  , 67.  , 67.  , 67.  , 67.  , 67.1 , 67.1 ,\n",
       "       67.1 , 67.1 , 67.1 , 67.25, 67.25, 67.25, 67.25, 67.25, 67.25,\n",
       "       67.25, 67.25, 67.5 , 67.  , 67.  , 67.  , 67.  , 67.  , 67.  ,\n",
       "       67.  , 67.  , 67.  , 67.  , 67.  , 67.  , 67.  , 66.85, 66.85,\n",
       "       66.85, 66.85, 66.85, 66.85, 66.85, 66.85, 66.75, 66.75, 66.75,\n",
       "       66.75, 66.75, 66.75, 66.75, 66.75, 66.75, 66.75, 66.75, 66.75,\n",
       "       66.75, 66.5 , 66.5 , 66.5 , 66.5 , 66.5 , 66.5 , 66.5 , 66.5 ,\n",
       "       66.25, 66.25, 66.25, 66.25, 66.25, 66.25, 66.25, 66.25, 66.5 ,\n",
       "       66.5 , 66.5 , 66.5 , 66.5 , 66.5 , 66.5 , 66.25, 66.25, 66.25,\n",
       "       65.5 , 65.5 , 65.  , 65.  , 65.  , 65.  , 65.  , 65.  , 64.25,\n",
       "       64.25, 64.25, 64.  , 64.  , 64.  , 64.  , 64.  , 68.75, 68.75,\n",
       "       68.75, 68.75, 68.75, 68.75, 68.75, 68.75, 68.75, 68.75, 68.  ,\n",
       "       67.5 , 67.5 , 67.5 , 67.5 , 67.5 , 67.5 , 67.5 , 67.5 , 67.5 ,\n",
       "       67.5 , 67.5 , 67.85, 67.85, 67.85, 67.85, 67.5 , 67.5 , 67.5 ,\n",
       "       67.5 , 67.5 , 67.5 , 67.75, 67.75, 67.75, 67.75, 67.75, 67.75,\n",
       "       67.75, 68.  , 68.  , 68.  , 68.  , 67.75, 67.75, 67.75, 67.75,\n",
       "       67.75, 67.75, 67.75, 67.75, 67.75, 67.75, 67.75, 67.75, 67.75,\n",
       "       67.5 , 67.5 , 67.5 , 67.5 , 67.5 , 67.5 , 67.5 , 67.5 , 67.5 ,\n",
       "       67.  , 67.  , 67.  , 67.  , 67.  , 67.  , 67.  , 67.  , 67.  ,\n",
       "       67.  , 67.  , 67.  , 67.  , 67.  , 66.6 , 66.6 , 66.6 , 66.6 ,\n",
       "       66.25, 66.  , 66.  , 66.  , 66.  , 66.  , 66.  , 66.  , 66.  ,\n",
       "       66.  , 66.  , 66.25, 66.25, 66.25, 66.25, 66.25, 66.25, 66.25,\n",
       "       66.25, 66.25, 66.25, 65.85, 65.75, 65.75, 65.75, 65.5 , 65.5 ,\n",
       "       65.5 , 65.5 , 65.5 , 65.75, 65.75, 65.75, 65.75, 65.75, 65.75,\n",
       "       65.75, 65.75, 65.75, 65.75, 65.75, 65.75, 65.75, 65.75, 65.75,\n",
       "       65.75, 65.75, 65.75, 65.75, 65.5 , 65.5 , 65.5 , 65.5 , 65.25,\n",
       "       65.25, 65.25, 65.25, 65.25, 65.  , 65.  , 65.  , 65.  , 65.  ,\n",
       "       65.  , 65.  , 65.  , 65.  , 64.5 , 64.5 , 64.5 , 64.5 , 64.5 ,\n",
       "       64.5 , 64.5 , 64.75, 69.6 , 69.6 , 67.75, 67.75, 67.75, 67.5 ,\n",
       "       67.5 , 67.5 , 67.5 , 67.5 , 67.5 , 67.5 , 67.5 , 67.5 , 67.5 ,\n",
       "       67.5 , 66.5 , 66.5 , 66.75, 66.75, 66.75, 66.75, 66.75, 66.75,\n",
       "       66.75, 66.75, 66.75, 66.5 , 66.5 , 66.5 , 66.5 , 66.75, 66.75,\n",
       "       66.75, 66.75, 66.75, 66.75, 66.75, 66.75, 66.75, 66.75, 66.75,\n",
       "       66.75, 66.75, 66.75, 66.75, 66.75, 66.  , 66.  , 66.  , 66.  ,\n",
       "       66.  , 66.  , 66.  , 66.  , 66.  , 66.  , 66.  , 66.  , 66.  ,\n",
       "       66.  , 66.  , 66.  , 66.  , 66.  , 66.  , 66.25, 66.  , 66.  ,\n",
       "       66.  , 66.  , 66.  , 66.  , 66.  , 66.  , 66.  , 66.  , 65.5 ,\n",
       "       65.5 , 65.5 , 65.5 , 65.5 , 65.5 , 65.5 , 65.5 , 66.  , 66.  ,\n",
       "       66.  , 66.  , 65.5 , 65.5 , 65.5 , 65.5 , 65.5 , 65.5 , 65.5 ,\n",
       "       65.5 , 65.5 , 65.5 , 65.5 , 65.5 , 65.5 , 65.5 , 65.5 , 65.5 ,\n",
       "       65.5 , 65.5 , 65.5 , 66.  , 65.5 , 65.85, 65.85, 65.85, 65.85,\n",
       "       65.85, 65.25, 65.35, 65.35, 65.25, 64.5 , 64.5 , 64.5 , 64.5 ,\n",
       "       64.5 , 64.1 , 64.  , 64.  , 64.  , 64.  , 64.  , 64.  , 64.  ,\n",
       "       64.  , 64.  , 64.  , 64.  , 63.75, 63.5 , 63.5 , 63.5 , 63.5 ,\n",
       "       63.5 , 63.5 , 63.5 , 63.5 , 63.5 , 63.5 , 66.6 , 66.6 , 66.6 ,\n",
       "       66.6 , 66.6 , 66.75, 66.5 , 66.5 , 66.5 , 66.5 , 66.5 , 66.5 ,\n",
       "       66.5 , 66.5 , 66.  , 66.  , 66.  , 66.  , 66.  , 66.  , 66.25,\n",
       "       66.25, 66.25, 66.25, 66.25, 66.25, 66.25, 66.25, 66.25, 66.  ,\n",
       "       66.  , 66.  , 66.25, 66.25, 66.25, 66.25, 66.25, 66.25, 66.25,\n",
       "       66.25, 66.25, 66.25, 66.25, 65.5 , 65.5 , 65.5 , 65.5 , 65.25,\n",
       "       65.25, 65.25, 65.25, 65.25, 65.25, 65.25, 65.25, 65.  , 65.  ,\n",
       "       65.  , 64.75, 64.75, 64.75, 64.75, 64.75, 64.  , 66.5 , 66.5 ,\n",
       "       66.5 , 66.5 , 66.5 , 66.5 , 66.5 , 66.5 , 66.5 , 66.5 , 66.5 ,\n",
       "       66.5 , 66.5 , 66.5 , 66.5 , 66.5 , 66.5 , 66.  , 66.  , 66.  ,\n",
       "       66.  , 66.  , 66.  , 66.  , 66.  , 66.  , 66.  , 66.  , 65.75,\n",
       "       65.75, 65.75, 65.75, 65.75, 65.75, 65.75, 65.75, 65.75, 65.75,\n",
       "       65.75, 65.75, 65.75, 64.5 , 64.75, 64.75, 64.75, 64.75, 64.75,\n",
       "       64.75, 64.75, 64.75, 64.5 , 64.5 , 64.5 , 64.5 , 64.5 , 64.5 ,\n",
       "       64.5 , 63.75, 63.  , 63.  , 63.  , 63.  , 63.  , 62.5 , 62.5 ,\n",
       "       62.5 , 62.5 , 62.5 , 62.5 , 62.5 , 62.5 , 62.5 , 62.5 , 62.5 ,\n",
       "       62.5 , 62.5 , 62.5 , 62.5 , 66.  , 66.  , 66.  , 66.  , 66.  ,\n",
       "       65.5 , 65.5 , 65.5 , 65.5 , 65.5 , 65.5 , 65.5 , 65.5 , 65.5 ,\n",
       "       65.  , 65.  , 65.  , 65.  , 65.  , 65.  , 65.  , 65.  , 65.  ,\n",
       "       65.25, 65.25, 65.  , 65.  , 65.  , 65.  , 65.  , 65.  , 64.5 ,\n",
       "       64.5 , 64.5 , 64.5 , 64.5 , 64.5 , 64.  , 64.  , 64.  , 64.  ,\n",
       "       64.  , 64.25, 64.25, 64.25, 64.25, 62.75, 62.75, 62.75, 62.75,\n",
       "       62.75, 64.  , 64.  , 64.  , 64.  , 64.  , 64.  , 64.  , 64.  ,\n",
       "       64.  , 64.  , 64.  , 64.  , 64.  , 64.  , 63.5 , 62.  , 62.  ,\n",
       "       63.25, 63.25, 64.  , 64.  , 64.  , 62.75, 62.75])"
      ]
     },
     "execution_count": 41,
     "metadata": {},
     "output_type": "execute_result"
    }
   ],
   "source": [
    "parent_avg = height.apply(avg, 'mother', 'father')\n",
    "parent_avg"
   ]
  },
  {
   "cell_type": "markdown",
   "metadata": {},
   "source": [
    "## Prediction"
   ]
  },
  {
   "cell_type": "code",
   "execution_count": 42,
   "metadata": {
    "collapsed": true
   },
   "outputs": [
    {
     "data": {
      "text/html": [
       "<table border=\"1\" class=\"dataframe\">\n",
       "    <thead>\n",
       "        <tr>\n",
       "            <th>father</th> <th>mother</th> <th>child</th>\n",
       "        </tr>\n",
       "    </thead>\n",
       "    <tbody>\n",
       "        <tr>\n",
       "            <td>78.5  </td> <td>67    </td> <td>73.2 </td>\n",
       "        </tr>\n",
       "    </tbody>\n",
       "        <tr>\n",
       "            <td>78.5  </td> <td>67    </td> <td>69.2 </td>\n",
       "        </tr>\n",
       "    </tbody>\n",
       "        <tr>\n",
       "            <td>78.5  </td> <td>67    </td> <td>69   </td>\n",
       "        </tr>\n",
       "    </tbody>\n",
       "        <tr>\n",
       "            <td>78.5  </td> <td>67    </td> <td>69   </td>\n",
       "        </tr>\n",
       "    </tbody>\n",
       "        <tr>\n",
       "            <td>75.5  </td> <td>66.5  </td> <td>73.5 </td>\n",
       "        </tr>\n",
       "    </tbody>\n",
       "        <tr>\n",
       "            <td>75.5  </td> <td>66.5  </td> <td>72.5 </td>\n",
       "        </tr>\n",
       "    </tbody>\n",
       "        <tr>\n",
       "            <td>75.5  </td> <td>66.5  </td> <td>65.5 </td>\n",
       "        </tr>\n",
       "    </tbody>\n",
       "        <tr>\n",
       "            <td>75.5  </td> <td>66.5  </td> <td>65.5 </td>\n",
       "        </tr>\n",
       "    </tbody>\n",
       "        <tr>\n",
       "            <td>75    </td> <td>64    </td> <td>71   </td>\n",
       "        </tr>\n",
       "    </tbody>\n",
       "        <tr>\n",
       "            <td>75    </td> <td>64    </td> <td>68   </td>\n",
       "        </tr>\n",
       "    </tbody>\n",
       "</table>\n",
       "<p>... (924 rows omitted)</p>"
      ],
      "text/plain": [
       "father | mother | child\n",
       "78.5   | 67     | 73.2\n",
       "78.5   | 67     | 69.2\n",
       "78.5   | 67     | 69\n",
       "78.5   | 67     | 69\n",
       "75.5   | 66.5   | 73.5\n",
       "75.5   | 66.5   | 72.5\n",
       "75.5   | 66.5   | 65.5\n",
       "75.5   | 66.5   | 65.5\n",
       "75     | 64     | 71\n",
       "75     | 64     | 68\n",
       "... (924 rows omitted)"
      ]
     },
     "execution_count": 42,
     "metadata": {},
     "output_type": "execute_result"
    }
   ],
   "source": [
    "height"
   ]
  },
  {
   "cell_type": "code",
   "execution_count": 43,
   "metadata": {
    "collapsed": true
   },
   "outputs": [
    {
     "data": {
      "image/png": "[encoded data removed]",
      "text/plain": [
       "<matplotlib.figure.Figure at 0x10366da90>"
      ]
     },
     "metadata": {},
     "output_type": "display_data"
    }
   ],
   "source": [
    "height.scatter('child')"
   ]
  },
  {
   "cell_type": "markdown",
   "metadata": {},
   "source": [
    "Add a column with parents' average height to the height table"
   ]
  },
  {
   "cell_type": "code",
   "execution_count": 44,
   "metadata": {
    "collapsed": true
   },
   "outputs": [
    {
     "data": {
      "text/html": [
       "<table border=\"1\" class=\"dataframe\">\n",
       "    <thead>\n",
       "        <tr>\n",
       "            <th>father</th> <th>mother</th> <th>child</th> <th>parent average</th>\n",
       "        </tr>\n",
       "    </thead>\n",
       "    <tbody>\n",
       "        <tr>\n",
       "            <td>78.5  </td> <td>67    </td> <td>73.2 </td> <td>72.75         </td>\n",
       "        </tr>\n",
       "    </tbody>\n",
       "        <tr>\n",
       "            <td>78.5  </td> <td>67    </td> <td>69.2 </td> <td>72.75         </td>\n",
       "        </tr>\n",
       "    </tbody>\n",
       "        <tr>\n",
       "            <td>78.5  </td> <td>67    </td> <td>69   </td> <td>72.75         </td>\n",
       "        </tr>\n",
       "    </tbody>\n",
       "        <tr>\n",
       "            <td>78.5  </td> <td>67    </td> <td>69   </td> <td>72.75         </td>\n",
       "        </tr>\n",
       "    </tbody>\n",
       "        <tr>\n",
       "            <td>75.5  </td> <td>66.5  </td> <td>73.5 </td> <td>71            </td>\n",
       "        </tr>\n",
       "    </tbody>\n",
       "        <tr>\n",
       "            <td>75.5  </td> <td>66.5  </td> <td>72.5 </td> <td>71            </td>\n",
       "        </tr>\n",
       "    </tbody>\n",
       "        <tr>\n",
       "            <td>75.5  </td> <td>66.5  </td> <td>65.5 </td> <td>71            </td>\n",
       "        </tr>\n",
       "    </tbody>\n",
       "        <tr>\n",
       "            <td>75.5  </td> <td>66.5  </td> <td>65.5 </td> <td>71            </td>\n",
       "        </tr>\n",
       "    </tbody>\n",
       "        <tr>\n",
       "            <td>75    </td> <td>64    </td> <td>71   </td> <td>69.5          </td>\n",
       "        </tr>\n",
       "    </tbody>\n",
       "        <tr>\n",
       "            <td>75    </td> <td>64    </td> <td>68   </td> <td>69.5          </td>\n",
       "        </tr>\n",
       "    </tbody>\n",
       "</table>\n",
       "<p>... (924 rows omitted)</p>"
      ],
      "text/plain": [
       "father | mother | child | parent average\n",
       "78.5   | 67     | 73.2  | 72.75\n",
       "78.5   | 67     | 69.2  | 72.75\n",
       "78.5   | 67     | 69    | 72.75\n",
       "78.5   | 67     | 69    | 72.75\n",
       "75.5   | 66.5   | 73.5  | 71\n",
       "75.5   | 66.5   | 72.5  | 71\n",
       "75.5   | 66.5   | 65.5  | 71\n",
       "75.5   | 66.5   | 65.5  | 71\n",
       "75     | 64     | 71    | 69.5\n",
       "75     | 64     | 68    | 69.5\n",
       "... (924 rows omitted)"
      ]
     },
     "execution_count": 44,
     "metadata": {},
     "output_type": "execute_result"
    }
   ],
   "source": [
    "height = height.with_column(\n",
    "    'parent average', parent_avg\n",
    ")\n",
    "height"
   ]
  },
  {
   "cell_type": "code",
   "execution_count": 45,
   "metadata": {
    "collapsed": true
   },
   "outputs": [
    {
     "data": {
      "image/png": "[encoded data removed]",
      "text/plain": [
       "<matplotlib.figure.Figure at 0x10b982c18>"
      ]
     },
     "metadata": {},
     "output_type": "display_data"
    }
   ],
   "source": [
    "height.scatter('parent average', 'child')"
   ]
  },
  {
   "cell_type": "code",
   "execution_count": 46,
   "metadata": {
    "collapsed": true
   },
   "outputs": [
    {
     "data": {
      "image/png": "[encoded data removed]",
      "text/plain": [
       "<matplotlib.figure.Figure at 0x10bdd5e48>"
      ]
     },
     "metadata": {},
     "output_type": "display_data"
    }
   ],
   "source": [
    "height.scatter('parent average', 'child')\n",
    "\n",
    "# this code draws two red lines on the plot to show \n",
    "# children whose parents' average heights are around 68\n",
    "_ = plots.plot([67.5, 67.5], [50, 85], color='red', lw=2)\n",
    "_ = plots.plot([68.5, 68.5], [50, 85], color='red', lw=2)"
   ]
  },
  {
   "cell_type": "code",
   "execution_count": 47,
   "metadata": {
    "collapsed": true
   },
   "outputs": [
    {
     "data": {
      "text/html": [
       "<table border=\"1\" class=\"dataframe\">\n",
       "    <thead>\n",
       "        <tr>\n",
       "            <th>father</th> <th>mother</th> <th>child</th> <th>parent average</th>\n",
       "        </tr>\n",
       "    </thead>\n",
       "    <tbody>\n",
       "        <tr>\n",
       "            <td>74    </td> <td>62    </td> <td>74   </td> <td>68            </td>\n",
       "        </tr>\n",
       "    </tbody>\n",
       "        <tr>\n",
       "            <td>74    </td> <td>62    </td> <td>70   </td> <td>68            </td>\n",
       "        </tr>\n",
       "    </tbody>\n",
       "        <tr>\n",
       "            <td>74    </td> <td>62    </td> <td>68   </td> <td>68            </td>\n",
       "        </tr>\n",
       "    </tbody>\n",
       "        <tr>\n",
       "            <td>74    </td> <td>62    </td> <td>67   </td> <td>68            </td>\n",
       "        </tr>\n",
       "    </tbody>\n",
       "        <tr>\n",
       "            <td>74    </td> <td>62    </td> <td>67   </td> <td>68            </td>\n",
       "        </tr>\n",
       "    </tbody>\n",
       "        <tr>\n",
       "            <td>74    </td> <td>62    </td> <td>66   </td> <td>68            </td>\n",
       "        </tr>\n",
       "    </tbody>\n",
       "        <tr>\n",
       "            <td>74    </td> <td>62    </td> <td>63.5 </td> <td>68            </td>\n",
       "        </tr>\n",
       "    </tbody>\n",
       "        <tr>\n",
       "            <td>74    </td> <td>62    </td> <td>63   </td> <td>68            </td>\n",
       "        </tr>\n",
       "    </tbody>\n",
       "        <tr>\n",
       "            <td>74    </td> <td>61    </td> <td>65   </td> <td>67.5          </td>\n",
       "        </tr>\n",
       "    </tbody>\n",
       "        <tr>\n",
       "            <td>73.2  </td> <td>63    </td> <td>62.7 </td> <td>68.1          </td>\n",
       "        </tr>\n",
       "    </tbody>\n",
       "</table>\n",
       "<p>... (175 rows omitted)</p>"
      ],
      "text/plain": [
       "father | mother | child | parent average\n",
       "74     | 62     | 74    | 68\n",
       "74     | 62     | 70    | 68\n",
       "74     | 62     | 68    | 68\n",
       "74     | 62     | 67    | 68\n",
       "74     | 62     | 67    | 68\n",
       "74     | 62     | 66    | 68\n",
       "74     | 62     | 63.5  | 68\n",
       "74     | 62     | 63    | 68\n",
       "74     | 61     | 65    | 67.5\n",
       "73.2   | 63     | 62.7  | 68.1\n",
       "... (175 rows omitted)"
      ]
     },
     "execution_count": 47,
     "metadata": {},
     "output_type": "execute_result"
    }
   ],
   "source": [
    "close_to_68 = height.where('parent average', are.between(67.5, 68.5))\n",
    "close_to_68"
   ]
  },
  {
   "cell_type": "code",
   "execution_count": 48,
   "metadata": {
    "collapsed": true
   },
   "outputs": [
    {
     "data": {
      "text/plain": [
       "67.62"
      ]
     },
     "execution_count": 48,
     "metadata": {},
     "output_type": "execute_result"
    }
   ],
   "source": [
    "close_to_68.column('child').mean()"
   ]
  },
  {
   "cell_type": "code",
   "execution_count": 49,
   "metadata": {
    "collapsed": true
   },
   "outputs": [],
   "source": [
    "def predict_child(pa):\n",
    "    close_points = height.where('parent average', are.between(pa - 0.5, pa + 0.5))\n",
    "    return close_points.column('child').mean()                       "
   ]
  },
  {
   "cell_type": "code",
   "execution_count": 50,
   "metadata": {
    "collapsed": true
   },
   "outputs": [
    {
     "data": {
      "text/plain": [
       "67.62"
      ]
     },
     "execution_count": 50,
     "metadata": {},
     "output_type": "execute_result"
    }
   ],
   "source": [
    "predict_child(68)"
   ]
  },
  {
   "cell_type": "code",
   "execution_count": 51,
   "metadata": {
    "collapsed": true
   },
   "outputs": [
    {
     "data": {
      "text/plain": [
       "65.83829787234043"
      ]
     },
     "execution_count": 51,
     "metadata": {},
     "output_type": "execute_result"
    }
   ],
   "source": [
    "predict_child(65)"
   ]
  },
  {
   "cell_type": "code",
   "execution_count": 52,
   "metadata": {
    "collapsed": true
   },
   "outputs": [],
   "source": [
    "# Apply predict_child to all the parent averages\n",
    "\n",
    "height_pred = height.with_column(\n",
    "    'prediction', height.apply(predict_child, 'parent average')\n",
    ")"
   ]
  },
  {
   "cell_type": "code",
   "execution_count": 53,
   "metadata": {
    "collapsed": true
   },
   "outputs": [
    {
     "data": {
      "image/png": "[encoded data removed]",
      "text/plain": [
       "<matplotlib.figure.Figure at 0x10bdae940>"
      ]
     },
     "metadata": {},
     "output_type": "display_data"
    }
   ],
   "source": [
    "height_pred.select('child', 'parent average', 'prediction').scatter('parent average')"
   ]
  }
 ],
 "metadata": {
  "kernelspec": {
   "display_name": "Python 3",
   "language": "python",
   "name": "python3"
  },
  "language_info": {
   "codemirror_mode": {
    "name": "ipython",
    "version": 3
   },
   "file_extension": ".py",
   "mimetype": "text/x-python",
   "name": "python",
   "nbconvert_exporter": "python",
   "pygments_lexer": "ipython3",
   "version": "3.6.3"
  }
 },
 "nbformat": 4,
 "nbformat_minor": 2
}
